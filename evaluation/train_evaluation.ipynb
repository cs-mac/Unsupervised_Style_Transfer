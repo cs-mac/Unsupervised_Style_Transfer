{
  "nbformat": 4,
  "nbformat_minor": 0,
  "metadata": {
    "colab": {
      "name": "train_evaluation.ipynb",
      "provenance": [],
      "collapsed_sections": [],
      "machine_shape": "hm"
    },
    "kernelspec": {
      "name": "python3",
      "display_name": "Python 3"
    },
    "accelerator": "GPU",
    "widgets": {
      "application/vnd.jupyter.widget-state+json": {
        "38e464dbd0ad4e9ba8f1a4ad11188255": {
          "model_module": "@jupyter-widgets/controls",
          "model_name": "HBoxModel",
          "state": {
            "_view_name": "HBoxView",
            "_dom_classes": [],
            "_model_name": "HBoxModel",
            "_view_module": "@jupyter-widgets/controls",
            "_model_module_version": "1.5.0",
            "_view_count": null,
            "_view_module_version": "1.5.0",
            "box_style": "",
            "layout": "IPY_MODEL_c9778520a7a24012a09865c638c57d2c",
            "_model_module": "@jupyter-widgets/controls",
            "children": [
              "IPY_MODEL_4d4aa548187246b4930e2a3c70c93aee",
              "IPY_MODEL_a8369ad5650d4fada34e51508c6be355"
            ]
          }
        },
        "c9778520a7a24012a09865c638c57d2c": {
          "model_module": "@jupyter-widgets/base",
          "model_name": "LayoutModel",
          "state": {
            "_view_name": "LayoutView",
            "grid_template_rows": null,
            "right": null,
            "justify_content": null,
            "_view_module": "@jupyter-widgets/base",
            "overflow": null,
            "_model_module_version": "1.2.0",
            "_view_count": null,
            "flex_flow": null,
            "width": null,
            "min_width": null,
            "border": null,
            "align_items": null,
            "bottom": null,
            "_model_module": "@jupyter-widgets/base",
            "top": null,
            "grid_column": null,
            "overflow_y": null,
            "overflow_x": null,
            "grid_auto_flow": null,
            "grid_area": null,
            "grid_template_columns": null,
            "flex": null,
            "_model_name": "LayoutModel",
            "justify_items": null,
            "grid_row": null,
            "max_height": null,
            "align_content": null,
            "visibility": null,
            "align_self": null,
            "height": null,
            "min_height": null,
            "padding": null,
            "grid_auto_rows": null,
            "grid_gap": null,
            "max_width": null,
            "order": null,
            "_view_module_version": "1.2.0",
            "grid_template_areas": null,
            "object_position": null,
            "object_fit": null,
            "grid_auto_columns": null,
            "margin": null,
            "display": null,
            "left": null
          }
        },
        "4d4aa548187246b4930e2a3c70c93aee": {
          "model_module": "@jupyter-widgets/controls",
          "model_name": "IntProgressModel",
          "state": {
            "_view_name": "ProgressView",
            "style": "IPY_MODEL_63d194b98b1e4a289b05e0d0d0d8c235",
            "_dom_classes": [],
            "description": "100%",
            "_model_name": "IntProgressModel",
            "bar_style": "success",
            "max": 200000,
            "_view_module": "@jupyter-widgets/controls",
            "_model_module_version": "1.5.0",
            "value": 200000,
            "_view_count": null,
            "_view_module_version": "1.5.0",
            "orientation": "horizontal",
            "min": 0,
            "description_tooltip": null,
            "_model_module": "@jupyter-widgets/controls",
            "layout": "IPY_MODEL_c12a8cdf5cd44855a61e6c438f890061"
          }
        },
        "a8369ad5650d4fada34e51508c6be355": {
          "model_module": "@jupyter-widgets/controls",
          "model_name": "HTMLModel",
          "state": {
            "_view_name": "HTMLView",
            "style": "IPY_MODEL_d616af422ab3455dbaffc59205abb4bd",
            "_dom_classes": [],
            "description": "",
            "_model_name": "HTMLModel",
            "placeholder": "​",
            "_view_module": "@jupyter-widgets/controls",
            "_model_module_version": "1.5.0",
            "value": " 200000/200000 [04:14&lt;00:00, 785.78it/s]",
            "_view_count": null,
            "_view_module_version": "1.5.0",
            "description_tooltip": null,
            "_model_module": "@jupyter-widgets/controls",
            "layout": "IPY_MODEL_83af8eb91fcf491784c5daa7ca565287"
          }
        },
        "63d194b98b1e4a289b05e0d0d0d8c235": {
          "model_module": "@jupyter-widgets/controls",
          "model_name": "ProgressStyleModel",
          "state": {
            "_view_name": "StyleView",
            "_model_name": "ProgressStyleModel",
            "description_width": "initial",
            "_view_module": "@jupyter-widgets/base",
            "_model_module_version": "1.5.0",
            "_view_count": null,
            "_view_module_version": "1.2.0",
            "bar_color": null,
            "_model_module": "@jupyter-widgets/controls"
          }
        },
        "c12a8cdf5cd44855a61e6c438f890061": {
          "model_module": "@jupyter-widgets/base",
          "model_name": "LayoutModel",
          "state": {
            "_view_name": "LayoutView",
            "grid_template_rows": null,
            "right": null,
            "justify_content": null,
            "_view_module": "@jupyter-widgets/base",
            "overflow": null,
            "_model_module_version": "1.2.0",
            "_view_count": null,
            "flex_flow": null,
            "width": null,
            "min_width": null,
            "border": null,
            "align_items": null,
            "bottom": null,
            "_model_module": "@jupyter-widgets/base",
            "top": null,
            "grid_column": null,
            "overflow_y": null,
            "overflow_x": null,
            "grid_auto_flow": null,
            "grid_area": null,
            "grid_template_columns": null,
            "flex": null,
            "_model_name": "LayoutModel",
            "justify_items": null,
            "grid_row": null,
            "max_height": null,
            "align_content": null,
            "visibility": null,
            "align_self": null,
            "height": null,
            "min_height": null,
            "padding": null,
            "grid_auto_rows": null,
            "grid_gap": null,
            "max_width": null,
            "order": null,
            "_view_module_version": "1.2.0",
            "grid_template_areas": null,
            "object_position": null,
            "object_fit": null,
            "grid_auto_columns": null,
            "margin": null,
            "display": null,
            "left": null
          }
        },
        "d616af422ab3455dbaffc59205abb4bd": {
          "model_module": "@jupyter-widgets/controls",
          "model_name": "DescriptionStyleModel",
          "state": {
            "_view_name": "StyleView",
            "_model_name": "DescriptionStyleModel",
            "description_width": "",
            "_view_module": "@jupyter-widgets/base",
            "_model_module_version": "1.5.0",
            "_view_count": null,
            "_view_module_version": "1.2.0",
            "_model_module": "@jupyter-widgets/controls"
          }
        },
        "83af8eb91fcf491784c5daa7ca565287": {
          "model_module": "@jupyter-widgets/base",
          "model_name": "LayoutModel",
          "state": {
            "_view_name": "LayoutView",
            "grid_template_rows": null,
            "right": null,
            "justify_content": null,
            "_view_module": "@jupyter-widgets/base",
            "overflow": null,
            "_model_module_version": "1.2.0",
            "_view_count": null,
            "flex_flow": null,
            "width": null,
            "min_width": null,
            "border": null,
            "align_items": null,
            "bottom": null,
            "_model_module": "@jupyter-widgets/base",
            "top": null,
            "grid_column": null,
            "overflow_y": null,
            "overflow_x": null,
            "grid_auto_flow": null,
            "grid_area": null,
            "grid_template_columns": null,
            "flex": null,
            "_model_name": "LayoutModel",
            "justify_items": null,
            "grid_row": null,
            "max_height": null,
            "align_content": null,
            "visibility": null,
            "align_self": null,
            "height": null,
            "min_height": null,
            "padding": null,
            "grid_auto_rows": null,
            "grid_gap": null,
            "max_width": null,
            "order": null,
            "_view_module_version": "1.2.0",
            "grid_template_areas": null,
            "object_position": null,
            "object_fit": null,
            "grid_auto_columns": null,
            "margin": null,
            "display": null,
            "left": null
          }
        },
        "5f9db47a32e34930a595b124475b17fa": {
          "model_module": "@jupyter-widgets/controls",
          "model_name": "HBoxModel",
          "state": {
            "_view_name": "HBoxView",
            "_dom_classes": [],
            "_model_name": "HBoxModel",
            "_view_module": "@jupyter-widgets/controls",
            "_model_module_version": "1.5.0",
            "_view_count": null,
            "_view_module_version": "1.5.0",
            "box_style": "",
            "layout": "IPY_MODEL_ce4063a300e44089a28bce134d0da17a",
            "_model_module": "@jupyter-widgets/controls",
            "children": [
              "IPY_MODEL_450d5b4d9f594756a8e97f59c1988244",
              "IPY_MODEL_17436369f346479f899cbdb792f5a9eb"
            ]
          }
        },
        "ce4063a300e44089a28bce134d0da17a": {
          "model_module": "@jupyter-widgets/base",
          "model_name": "LayoutModel",
          "state": {
            "_view_name": "LayoutView",
            "grid_template_rows": null,
            "right": null,
            "justify_content": null,
            "_view_module": "@jupyter-widgets/base",
            "overflow": null,
            "_model_module_version": "1.2.0",
            "_view_count": null,
            "flex_flow": null,
            "width": null,
            "min_width": null,
            "border": null,
            "align_items": null,
            "bottom": null,
            "_model_module": "@jupyter-widgets/base",
            "top": null,
            "grid_column": null,
            "overflow_y": null,
            "overflow_x": null,
            "grid_auto_flow": null,
            "grid_area": null,
            "grid_template_columns": null,
            "flex": null,
            "_model_name": "LayoutModel",
            "justify_items": null,
            "grid_row": null,
            "max_height": null,
            "align_content": null,
            "visibility": null,
            "align_self": null,
            "height": null,
            "min_height": null,
            "padding": null,
            "grid_auto_rows": null,
            "grid_gap": null,
            "max_width": null,
            "order": null,
            "_view_module_version": "1.2.0",
            "grid_template_areas": null,
            "object_position": null,
            "object_fit": null,
            "grid_auto_columns": null,
            "margin": null,
            "display": null,
            "left": null
          }
        },
        "450d5b4d9f594756a8e97f59c1988244": {
          "model_module": "@jupyter-widgets/controls",
          "model_name": "IntProgressModel",
          "state": {
            "_view_name": "ProgressView",
            "style": "IPY_MODEL_45182492b5b9476a835ff686fd738d64",
            "_dom_classes": [],
            "description": "Epoch:   0%",
            "_model_name": "IntProgressModel",
            "bar_style": "danger",
            "max": 10,
            "_view_module": "@jupyter-widgets/controls",
            "_model_module_version": "1.5.0",
            "value": 0,
            "_view_count": null,
            "_view_module_version": "1.5.0",
            "orientation": "horizontal",
            "min": 0,
            "description_tooltip": null,
            "_model_module": "@jupyter-widgets/controls",
            "layout": "IPY_MODEL_a4893b8d1e7c4fda921aac4696d44605"
          }
        },
        "17436369f346479f899cbdb792f5a9eb": {
          "model_module": "@jupyter-widgets/controls",
          "model_name": "HTMLModel",
          "state": {
            "_view_name": "HTMLView",
            "style": "IPY_MODEL_e0c4a2de1c4c478e944af287750f37c0",
            "_dom_classes": [],
            "description": "",
            "_model_name": "HTMLModel",
            "placeholder": "​",
            "_view_module": "@jupyter-widgets/controls",
            "_model_module_version": "1.5.0",
            "value": " 0/10 [3:26:47&lt;?, ?it/s]",
            "_view_count": null,
            "_view_module_version": "1.5.0",
            "description_tooltip": null,
            "_model_module": "@jupyter-widgets/controls",
            "layout": "IPY_MODEL_c11d339950bb4553be86a3b6819a7439"
          }
        },
        "45182492b5b9476a835ff686fd738d64": {
          "model_module": "@jupyter-widgets/controls",
          "model_name": "ProgressStyleModel",
          "state": {
            "_view_name": "StyleView",
            "_model_name": "ProgressStyleModel",
            "description_width": "initial",
            "_view_module": "@jupyter-widgets/base",
            "_model_module_version": "1.5.0",
            "_view_count": null,
            "_view_module_version": "1.2.0",
            "bar_color": null,
            "_model_module": "@jupyter-widgets/controls"
          }
        },
        "a4893b8d1e7c4fda921aac4696d44605": {
          "model_module": "@jupyter-widgets/base",
          "model_name": "LayoutModel",
          "state": {
            "_view_name": "LayoutView",
            "grid_template_rows": null,
            "right": null,
            "justify_content": null,
            "_view_module": "@jupyter-widgets/base",
            "overflow": null,
            "_model_module_version": "1.2.0",
            "_view_count": null,
            "flex_flow": null,
            "width": null,
            "min_width": null,
            "border": null,
            "align_items": null,
            "bottom": null,
            "_model_module": "@jupyter-widgets/base",
            "top": null,
            "grid_column": null,
            "overflow_y": null,
            "overflow_x": null,
            "grid_auto_flow": null,
            "grid_area": null,
            "grid_template_columns": null,
            "flex": null,
            "_model_name": "LayoutModel",
            "justify_items": null,
            "grid_row": null,
            "max_height": null,
            "align_content": null,
            "visibility": null,
            "align_self": null,
            "height": null,
            "min_height": null,
            "padding": null,
            "grid_auto_rows": null,
            "grid_gap": null,
            "max_width": null,
            "order": null,
            "_view_module_version": "1.2.0",
            "grid_template_areas": null,
            "object_position": null,
            "object_fit": null,
            "grid_auto_columns": null,
            "margin": null,
            "display": null,
            "left": null
          }
        },
        "e0c4a2de1c4c478e944af287750f37c0": {
          "model_module": "@jupyter-widgets/controls",
          "model_name": "DescriptionStyleModel",
          "state": {
            "_view_name": "StyleView",
            "_model_name": "DescriptionStyleModel",
            "description_width": "",
            "_view_module": "@jupyter-widgets/base",
            "_model_module_version": "1.5.0",
            "_view_count": null,
            "_view_module_version": "1.2.0",
            "_model_module": "@jupyter-widgets/controls"
          }
        },
        "c11d339950bb4553be86a3b6819a7439": {
          "model_module": "@jupyter-widgets/base",
          "model_name": "LayoutModel",
          "state": {
            "_view_name": "LayoutView",
            "grid_template_rows": null,
            "right": null,
            "justify_content": null,
            "_view_module": "@jupyter-widgets/base",
            "overflow": null,
            "_model_module_version": "1.2.0",
            "_view_count": null,
            "flex_flow": null,
            "width": null,
            "min_width": null,
            "border": null,
            "align_items": null,
            "bottom": null,
            "_model_module": "@jupyter-widgets/base",
            "top": null,
            "grid_column": null,
            "overflow_y": null,
            "overflow_x": null,
            "grid_auto_flow": null,
            "grid_area": null,
            "grid_template_columns": null,
            "flex": null,
            "_model_name": "LayoutModel",
            "justify_items": null,
            "grid_row": null,
            "max_height": null,
            "align_content": null,
            "visibility": null,
            "align_self": null,
            "height": null,
            "min_height": null,
            "padding": null,
            "grid_auto_rows": null,
            "grid_gap": null,
            "max_width": null,
            "order": null,
            "_view_module_version": "1.2.0",
            "grid_template_areas": null,
            "object_position": null,
            "object_fit": null,
            "grid_auto_columns": null,
            "margin": null,
            "display": null,
            "left": null
          }
        },
        "0641a8be4140455283c7122e7b6350d5": {
          "model_module": "@jupyter-widgets/controls",
          "model_name": "HBoxModel",
          "state": {
            "_view_name": "HBoxView",
            "_dom_classes": [],
            "_model_name": "HBoxModel",
            "_view_module": "@jupyter-widgets/controls",
            "_model_module_version": "1.5.0",
            "_view_count": null,
            "_view_module_version": "1.5.0",
            "box_style": "",
            "layout": "IPY_MODEL_7581fea8a93a480bb61d46d0396b4327",
            "_model_module": "@jupyter-widgets/controls",
            "children": [
              "IPY_MODEL_d94d1db169fe4921a82524ca914a237b",
              "IPY_MODEL_94fe929bc36b4fe0a4a2890f074d1ba6"
            ]
          }
        },
        "7581fea8a93a480bb61d46d0396b4327": {
          "model_module": "@jupyter-widgets/base",
          "model_name": "LayoutModel",
          "state": {
            "_view_name": "LayoutView",
            "grid_template_rows": null,
            "right": null,
            "justify_content": null,
            "_view_module": "@jupyter-widgets/base",
            "overflow": null,
            "_model_module_version": "1.2.0",
            "_view_count": null,
            "flex_flow": null,
            "width": null,
            "min_width": null,
            "border": null,
            "align_items": null,
            "bottom": null,
            "_model_module": "@jupyter-widgets/base",
            "top": null,
            "grid_column": null,
            "overflow_y": null,
            "overflow_x": null,
            "grid_auto_flow": null,
            "grid_area": null,
            "grid_template_columns": null,
            "flex": null,
            "_model_name": "LayoutModel",
            "justify_items": null,
            "grid_row": null,
            "max_height": null,
            "align_content": null,
            "visibility": null,
            "align_self": null,
            "height": null,
            "min_height": null,
            "padding": null,
            "grid_auto_rows": null,
            "grid_gap": null,
            "max_width": null,
            "order": null,
            "_view_module_version": "1.2.0",
            "grid_template_areas": null,
            "object_position": null,
            "object_fit": null,
            "grid_auto_columns": null,
            "margin": null,
            "display": null,
            "left": null
          }
        },
        "d94d1db169fe4921a82524ca914a237b": {
          "model_module": "@jupyter-widgets/controls",
          "model_name": "IntProgressModel",
          "state": {
            "_view_name": "ProgressView",
            "style": "IPY_MODEL_d6756f62fd444ad6ad8998b5fb65fc81",
            "_dom_classes": [],
            "description": "Current iteration:  22%",
            "_model_name": "IntProgressModel",
            "bar_style": "danger",
            "max": 12500,
            "_view_module": "@jupyter-widgets/controls",
            "_model_module_version": "1.5.0",
            "value": 2799,
            "_view_count": null,
            "_view_module_version": "1.5.0",
            "orientation": "horizontal",
            "min": 0,
            "description_tooltip": null,
            "_model_module": "@jupyter-widgets/controls",
            "layout": "IPY_MODEL_2330633ccce74406a47747192ba5450f"
          }
        },
        "94fe929bc36b4fe0a4a2890f074d1ba6": {
          "model_module": "@jupyter-widgets/controls",
          "model_name": "HTMLModel",
          "state": {
            "_view_name": "HTMLView",
            "style": "IPY_MODEL_5572c6de98d443389133c384844fc1bc",
            "_dom_classes": [],
            "description": "",
            "_model_name": "HTMLModel",
            "placeholder": "​",
            "_view_module": "@jupyter-widgets/controls",
            "_model_module_version": "1.5.0",
            "value": " 2799/12500 [3:26:31&lt;2:01:28,  1.33it/s]",
            "_view_count": null,
            "_view_module_version": "1.5.0",
            "description_tooltip": null,
            "_model_module": "@jupyter-widgets/controls",
            "layout": "IPY_MODEL_4ae5a32a4d544cf7977ba3b6810809aa"
          }
        },
        "d6756f62fd444ad6ad8998b5fb65fc81": {
          "model_module": "@jupyter-widgets/controls",
          "model_name": "ProgressStyleModel",
          "state": {
            "_view_name": "StyleView",
            "_model_name": "ProgressStyleModel",
            "description_width": "initial",
            "_view_module": "@jupyter-widgets/base",
            "_model_module_version": "1.5.0",
            "_view_count": null,
            "_view_module_version": "1.2.0",
            "bar_color": null,
            "_model_module": "@jupyter-widgets/controls"
          }
        },
        "2330633ccce74406a47747192ba5450f": {
          "model_module": "@jupyter-widgets/base",
          "model_name": "LayoutModel",
          "state": {
            "_view_name": "LayoutView",
            "grid_template_rows": null,
            "right": null,
            "justify_content": null,
            "_view_module": "@jupyter-widgets/base",
            "overflow": null,
            "_model_module_version": "1.2.0",
            "_view_count": null,
            "flex_flow": null,
            "width": null,
            "min_width": null,
            "border": null,
            "align_items": null,
            "bottom": null,
            "_model_module": "@jupyter-widgets/base",
            "top": null,
            "grid_column": null,
            "overflow_y": null,
            "overflow_x": null,
            "grid_auto_flow": null,
            "grid_area": null,
            "grid_template_columns": null,
            "flex": null,
            "_model_name": "LayoutModel",
            "justify_items": null,
            "grid_row": null,
            "max_height": null,
            "align_content": null,
            "visibility": null,
            "align_self": null,
            "height": null,
            "min_height": null,
            "padding": null,
            "grid_auto_rows": null,
            "grid_gap": null,
            "max_width": null,
            "order": null,
            "_view_module_version": "1.2.0",
            "grid_template_areas": null,
            "object_position": null,
            "object_fit": null,
            "grid_auto_columns": null,
            "margin": null,
            "display": null,
            "left": null
          }
        },
        "5572c6de98d443389133c384844fc1bc": {
          "model_module": "@jupyter-widgets/controls",
          "model_name": "DescriptionStyleModel",
          "state": {
            "_view_name": "StyleView",
            "_model_name": "DescriptionStyleModel",
            "description_width": "",
            "_view_module": "@jupyter-widgets/base",
            "_model_module_version": "1.5.0",
            "_view_count": null,
            "_view_module_version": "1.2.0",
            "_model_module": "@jupyter-widgets/controls"
          }
        },
        "4ae5a32a4d544cf7977ba3b6810809aa": {
          "model_module": "@jupyter-widgets/base",
          "model_name": "LayoutModel",
          "state": {
            "_view_name": "LayoutView",
            "grid_template_rows": null,
            "right": null,
            "justify_content": null,
            "_view_module": "@jupyter-widgets/base",
            "overflow": null,
            "_model_module_version": "1.2.0",
            "_view_count": null,
            "flex_flow": null,
            "width": null,
            "min_width": null,
            "border": null,
            "align_items": null,
            "bottom": null,
            "_model_module": "@jupyter-widgets/base",
            "top": null,
            "grid_column": null,
            "overflow_y": null,
            "overflow_x": null,
            "grid_auto_flow": null,
            "grid_area": null,
            "grid_template_columns": null,
            "flex": null,
            "_model_name": "LayoutModel",
            "justify_items": null,
            "grid_row": null,
            "max_height": null,
            "align_content": null,
            "visibility": null,
            "align_self": null,
            "height": null,
            "min_height": null,
            "padding": null,
            "grid_auto_rows": null,
            "grid_gap": null,
            "max_width": null,
            "order": null,
            "_view_module_version": "1.2.0",
            "grid_template_areas": null,
            "object_position": null,
            "object_fit": null,
            "grid_auto_columns": null,
            "margin": null,
            "display": null,
            "left": null
          }
        },
        "cfac099e9cad459e80bf99b342599297": {
          "model_module": "@jupyter-widgets/controls",
          "model_name": "HBoxModel",
          "state": {
            "_view_name": "HBoxView",
            "_dom_classes": [],
            "_model_name": "HBoxModel",
            "_view_module": "@jupyter-widgets/controls",
            "_model_module_version": "1.5.0",
            "_view_count": null,
            "_view_module_version": "1.5.0",
            "box_style": "",
            "layout": "IPY_MODEL_ad761d4452524792a21e46e9091ebd5a",
            "_model_module": "@jupyter-widgets/controls",
            "children": [
              "IPY_MODEL_6e3b65f22d3c413caad3f3d5973cee90",
              "IPY_MODEL_213103fcf24b4b2c87e82f829674a33e"
            ]
          }
        },
        "ad761d4452524792a21e46e9091ebd5a": {
          "model_module": "@jupyter-widgets/base",
          "model_name": "LayoutModel",
          "state": {
            "_view_name": "LayoutView",
            "grid_template_rows": null,
            "right": null,
            "justify_content": null,
            "_view_module": "@jupyter-widgets/base",
            "overflow": null,
            "_model_module_version": "1.2.0",
            "_view_count": null,
            "flex_flow": null,
            "width": null,
            "min_width": null,
            "border": null,
            "align_items": null,
            "bottom": null,
            "_model_module": "@jupyter-widgets/base",
            "top": null,
            "grid_column": null,
            "overflow_y": null,
            "overflow_x": null,
            "grid_auto_flow": null,
            "grid_area": null,
            "grid_template_columns": null,
            "flex": null,
            "_model_name": "LayoutModel",
            "justify_items": null,
            "grid_row": null,
            "max_height": null,
            "align_content": null,
            "visibility": null,
            "align_self": null,
            "height": null,
            "min_height": null,
            "padding": null,
            "grid_auto_rows": null,
            "grid_gap": null,
            "max_width": null,
            "order": null,
            "_view_module_version": "1.2.0",
            "grid_template_areas": null,
            "object_position": null,
            "object_fit": null,
            "grid_auto_columns": null,
            "margin": null,
            "display": null,
            "left": null
          }
        },
        "6e3b65f22d3c413caad3f3d5973cee90": {
          "model_module": "@jupyter-widgets/controls",
          "model_name": "IntProgressModel",
          "state": {
            "_view_name": "ProgressView",
            "style": "IPY_MODEL_ba5613b9ca7e47719448630eeec8fe7d",
            "_dom_classes": [],
            "description": "100%",
            "_model_name": "IntProgressModel",
            "bar_style": "success",
            "max": 50000,
            "_view_module": "@jupyter-widgets/controls",
            "_model_module_version": "1.5.0",
            "value": 50000,
            "_view_count": null,
            "_view_module_version": "1.5.0",
            "orientation": "horizontal",
            "min": 0,
            "description_tooltip": null,
            "_model_module": "@jupyter-widgets/controls",
            "layout": "IPY_MODEL_56e81b11220644fcb94c7f9fe6a1336d"
          }
        },
        "213103fcf24b4b2c87e82f829674a33e": {
          "model_module": "@jupyter-widgets/controls",
          "model_name": "HTMLModel",
          "state": {
            "_view_name": "HTMLView",
            "style": "IPY_MODEL_864362fc46664b779c0c13e22f7b4114",
            "_dom_classes": [],
            "description": "",
            "_model_name": "HTMLModel",
            "placeholder": "​",
            "_view_module": "@jupyter-widgets/controls",
            "_model_module_version": "1.5.0",
            "value": " 50000/50000 [00:20&lt;00:00, 2434.39it/s]",
            "_view_count": null,
            "_view_module_version": "1.5.0",
            "description_tooltip": null,
            "_model_module": "@jupyter-widgets/controls",
            "layout": "IPY_MODEL_4be14970b5904dad9430946244c7e80b"
          }
        },
        "ba5613b9ca7e47719448630eeec8fe7d": {
          "model_module": "@jupyter-widgets/controls",
          "model_name": "ProgressStyleModel",
          "state": {
            "_view_name": "StyleView",
            "_model_name": "ProgressStyleModel",
            "description_width": "initial",
            "_view_module": "@jupyter-widgets/base",
            "_model_module_version": "1.5.0",
            "_view_count": null,
            "_view_module_version": "1.2.0",
            "bar_color": null,
            "_model_module": "@jupyter-widgets/controls"
          }
        },
        "56e81b11220644fcb94c7f9fe6a1336d": {
          "model_module": "@jupyter-widgets/base",
          "model_name": "LayoutModel",
          "state": {
            "_view_name": "LayoutView",
            "grid_template_rows": null,
            "right": null,
            "justify_content": null,
            "_view_module": "@jupyter-widgets/base",
            "overflow": null,
            "_model_module_version": "1.2.0",
            "_view_count": null,
            "flex_flow": null,
            "width": null,
            "min_width": null,
            "border": null,
            "align_items": null,
            "bottom": null,
            "_model_module": "@jupyter-widgets/base",
            "top": null,
            "grid_column": null,
            "overflow_y": null,
            "overflow_x": null,
            "grid_auto_flow": null,
            "grid_area": null,
            "grid_template_columns": null,
            "flex": null,
            "_model_name": "LayoutModel",
            "justify_items": null,
            "grid_row": null,
            "max_height": null,
            "align_content": null,
            "visibility": null,
            "align_self": null,
            "height": null,
            "min_height": null,
            "padding": null,
            "grid_auto_rows": null,
            "grid_gap": null,
            "max_width": null,
            "order": null,
            "_view_module_version": "1.2.0",
            "grid_template_areas": null,
            "object_position": null,
            "object_fit": null,
            "grid_auto_columns": null,
            "margin": null,
            "display": null,
            "left": null
          }
        },
        "864362fc46664b779c0c13e22f7b4114": {
          "model_module": "@jupyter-widgets/controls",
          "model_name": "DescriptionStyleModel",
          "state": {
            "_view_name": "StyleView",
            "_model_name": "DescriptionStyleModel",
            "description_width": "",
            "_view_module": "@jupyter-widgets/base",
            "_model_module_version": "1.5.0",
            "_view_count": null,
            "_view_module_version": "1.2.0",
            "_model_module": "@jupyter-widgets/controls"
          }
        },
        "4be14970b5904dad9430946244c7e80b": {
          "model_module": "@jupyter-widgets/base",
          "model_name": "LayoutModel",
          "state": {
            "_view_name": "LayoutView",
            "grid_template_rows": null,
            "right": null,
            "justify_content": null,
            "_view_module": "@jupyter-widgets/base",
            "overflow": null,
            "_model_module_version": "1.2.0",
            "_view_count": null,
            "flex_flow": null,
            "width": null,
            "min_width": null,
            "border": null,
            "align_items": null,
            "bottom": null,
            "_model_module": "@jupyter-widgets/base",
            "top": null,
            "grid_column": null,
            "overflow_y": null,
            "overflow_x": null,
            "grid_auto_flow": null,
            "grid_area": null,
            "grid_template_columns": null,
            "flex": null,
            "_model_name": "LayoutModel",
            "justify_items": null,
            "grid_row": null,
            "max_height": null,
            "align_content": null,
            "visibility": null,
            "align_self": null,
            "height": null,
            "min_height": null,
            "padding": null,
            "grid_auto_rows": null,
            "grid_gap": null,
            "max_width": null,
            "order": null,
            "_view_module_version": "1.2.0",
            "grid_template_areas": null,
            "object_position": null,
            "object_fit": null,
            "grid_auto_columns": null,
            "margin": null,
            "display": null,
            "left": null
          }
        },
        "664b8ec8482e4ce88b3dd8fb35163702": {
          "model_module": "@jupyter-widgets/controls",
          "model_name": "HBoxModel",
          "state": {
            "_view_name": "HBoxView",
            "_dom_classes": [],
            "_model_name": "HBoxModel",
            "_view_module": "@jupyter-widgets/controls",
            "_model_module_version": "1.5.0",
            "_view_count": null,
            "_view_module_version": "1.5.0",
            "box_style": "",
            "layout": "IPY_MODEL_136c8ea2a509459ebc9da2ec0620736e",
            "_model_module": "@jupyter-widgets/controls",
            "children": [
              "IPY_MODEL_97148b312ca04f3da54ea3fa1e01bf2b",
              "IPY_MODEL_d0ff9767a4b046b1a0162c84e2b8a495"
            ]
          }
        },
        "136c8ea2a509459ebc9da2ec0620736e": {
          "model_module": "@jupyter-widgets/base",
          "model_name": "LayoutModel",
          "state": {
            "_view_name": "LayoutView",
            "grid_template_rows": null,
            "right": null,
            "justify_content": null,
            "_view_module": "@jupyter-widgets/base",
            "overflow": null,
            "_model_module_version": "1.2.0",
            "_view_count": null,
            "flex_flow": null,
            "width": null,
            "min_width": null,
            "border": null,
            "align_items": null,
            "bottom": null,
            "_model_module": "@jupyter-widgets/base",
            "top": null,
            "grid_column": null,
            "overflow_y": null,
            "overflow_x": null,
            "grid_auto_flow": null,
            "grid_area": null,
            "grid_template_columns": null,
            "flex": null,
            "_model_name": "LayoutModel",
            "justify_items": null,
            "grid_row": null,
            "max_height": null,
            "align_content": null,
            "visibility": null,
            "align_self": null,
            "height": null,
            "min_height": null,
            "padding": null,
            "grid_auto_rows": null,
            "grid_gap": null,
            "max_width": null,
            "order": null,
            "_view_module_version": "1.2.0",
            "grid_template_areas": null,
            "object_position": null,
            "object_fit": null,
            "grid_auto_columns": null,
            "margin": null,
            "display": null,
            "left": null
          }
        },
        "97148b312ca04f3da54ea3fa1e01bf2b": {
          "model_module": "@jupyter-widgets/controls",
          "model_name": "IntProgressModel",
          "state": {
            "_view_name": "ProgressView",
            "style": "IPY_MODEL_f6e4b1a868e94296a7a5314c2cad4a83",
            "_dom_classes": [],
            "description": "100%",
            "_model_name": "IntProgressModel",
            "bar_style": "success",
            "max": 3125,
            "_view_module": "@jupyter-widgets/controls",
            "_model_module_version": "1.5.0",
            "value": 3125,
            "_view_count": null,
            "_view_module_version": "1.5.0",
            "orientation": "horizontal",
            "min": 0,
            "description_tooltip": null,
            "_model_module": "@jupyter-widgets/controls",
            "layout": "IPY_MODEL_68e56a9559c94fa8a32b8da7d269226c"
          }
        },
        "d0ff9767a4b046b1a0162c84e2b8a495": {
          "model_module": "@jupyter-widgets/controls",
          "model_name": "HTMLModel",
          "state": {
            "_view_name": "HTMLView",
            "style": "IPY_MODEL_33101fd084054784bbf1c4e9238f8d2d",
            "_dom_classes": [],
            "description": "",
            "_model_name": "HTMLModel",
            "placeholder": "​",
            "_view_module": "@jupyter-widgets/controls",
            "_model_module_version": "1.5.0",
            "value": " 3125/3125 [11:05&lt;00:00,  4.69it/s]",
            "_view_count": null,
            "_view_module_version": "1.5.0",
            "description_tooltip": null,
            "_model_module": "@jupyter-widgets/controls",
            "layout": "IPY_MODEL_a2a3adccfbdf451eb7ef368ec55cfcc2"
          }
        },
        "f6e4b1a868e94296a7a5314c2cad4a83": {
          "model_module": "@jupyter-widgets/controls",
          "model_name": "ProgressStyleModel",
          "state": {
            "_view_name": "StyleView",
            "_model_name": "ProgressStyleModel",
            "description_width": "initial",
            "_view_module": "@jupyter-widgets/base",
            "_model_module_version": "1.5.0",
            "_view_count": null,
            "_view_module_version": "1.2.0",
            "bar_color": null,
            "_model_module": "@jupyter-widgets/controls"
          }
        },
        "68e56a9559c94fa8a32b8da7d269226c": {
          "model_module": "@jupyter-widgets/base",
          "model_name": "LayoutModel",
          "state": {
            "_view_name": "LayoutView",
            "grid_template_rows": null,
            "right": null,
            "justify_content": null,
            "_view_module": "@jupyter-widgets/base",
            "overflow": null,
            "_model_module_version": "1.2.0",
            "_view_count": null,
            "flex_flow": null,
            "width": null,
            "min_width": null,
            "border": null,
            "align_items": null,
            "bottom": null,
            "_model_module": "@jupyter-widgets/base",
            "top": null,
            "grid_column": null,
            "overflow_y": null,
            "overflow_x": null,
            "grid_auto_flow": null,
            "grid_area": null,
            "grid_template_columns": null,
            "flex": null,
            "_model_name": "LayoutModel",
            "justify_items": null,
            "grid_row": null,
            "max_height": null,
            "align_content": null,
            "visibility": null,
            "align_self": null,
            "height": null,
            "min_height": null,
            "padding": null,
            "grid_auto_rows": null,
            "grid_gap": null,
            "max_width": null,
            "order": null,
            "_view_module_version": "1.2.0",
            "grid_template_areas": null,
            "object_position": null,
            "object_fit": null,
            "grid_auto_columns": null,
            "margin": null,
            "display": null,
            "left": null
          }
        },
        "33101fd084054784bbf1c4e9238f8d2d": {
          "model_module": "@jupyter-widgets/controls",
          "model_name": "DescriptionStyleModel",
          "state": {
            "_view_name": "StyleView",
            "_model_name": "DescriptionStyleModel",
            "description_width": "",
            "_view_module": "@jupyter-widgets/base",
            "_model_module_version": "1.5.0",
            "_view_count": null,
            "_view_module_version": "1.2.0",
            "_model_module": "@jupyter-widgets/controls"
          }
        },
        "a2a3adccfbdf451eb7ef368ec55cfcc2": {
          "model_module": "@jupyter-widgets/base",
          "model_name": "LayoutModel",
          "state": {
            "_view_name": "LayoutView",
            "grid_template_rows": null,
            "right": null,
            "justify_content": null,
            "_view_module": "@jupyter-widgets/base",
            "overflow": null,
            "_model_module_version": "1.2.0",
            "_view_count": null,
            "flex_flow": null,
            "width": null,
            "min_width": null,
            "border": null,
            "align_items": null,
            "bottom": null,
            "_model_module": "@jupyter-widgets/base",
            "top": null,
            "grid_column": null,
            "overflow_y": null,
            "overflow_x": null,
            "grid_auto_flow": null,
            "grid_area": null,
            "grid_template_columns": null,
            "flex": null,
            "_model_name": "LayoutModel",
            "justify_items": null,
            "grid_row": null,
            "max_height": null,
            "align_content": null,
            "visibility": null,
            "align_self": null,
            "height": null,
            "min_height": null,
            "padding": null,
            "grid_auto_rows": null,
            "grid_gap": null,
            "max_width": null,
            "order": null,
            "_view_module_version": "1.2.0",
            "grid_template_areas": null,
            "object_position": null,
            "object_fit": null,
            "grid_auto_columns": null,
            "margin": null,
            "display": null,
            "left": null
          }
        }
      }
    }
  },
  "cells": [
    {
      "cell_type": "code",
      "metadata": {
        "id": "HIYU5BkcmRAI"
      },
      "source": [
        "# function ClickConnect(){\n",
        "#     console.log(\"Working\");\n",
        "#     document.querySelector(\"#top-toolbar > colab-connect-button\").shadowRoot.querySelector(\"#connect\").click()\n",
        "# }\n",
        "# setInterval(ClickConnect, 30000)"
      ],
      "execution_count": null,
      "outputs": []
    },
    {
      "cell_type": "code",
      "metadata": {
        "id": "wtf8CFwBuBAT",
        "outputId": "0927c5db-17eb-4e78-d380-f6c81e1cddb3",
        "colab": {
          "base_uri": "https://localhost:8080/",
          "height": 306
        }
      },
      "source": [
        "!nvidia-smi"
      ],
      "execution_count": null,
      "outputs": [
        {
          "output_type": "stream",
          "text": [
            "Fri May  1 10:57:05 2020       \n",
            "+-----------------------------------------------------------------------------+\n",
            "| NVIDIA-SMI 440.64.00    Driver Version: 418.67       CUDA Version: 10.1     |\n",
            "|-------------------------------+----------------------+----------------------+\n",
            "| GPU  Name        Persistence-M| Bus-Id        Disp.A | Volatile Uncorr. ECC |\n",
            "| Fan  Temp  Perf  Pwr:Usage/Cap|         Memory-Usage | GPU-Util  Compute M. |\n",
            "|===============================+======================+======================|\n",
            "|   0  Tesla P100-PCIE...  Off  | 00000000:00:04.0 Off |                    0 |\n",
            "| N/A   44C    P0    28W / 250W |      0MiB / 16280MiB |      0%      Default |\n",
            "+-------------------------------+----------------------+----------------------+\n",
            "                                                                               \n",
            "+-----------------------------------------------------------------------------+\n",
            "| Processes:                                                       GPU Memory |\n",
            "|  GPU       PID   Type   Process name                             Usage      |\n",
            "|=============================================================================|\n",
            "|  No running processes found                                                 |\n",
            "+-----------------------------------------------------------------------------+\n"
          ],
          "name": "stdout"
        }
      ]
    },
    {
      "cell_type": "code",
      "metadata": {
        "id": "cKAzKCFRWLpJ",
        "outputId": "25c15cf9-ed98-4c83-818e-4815024390fb",
        "colab": {
          "base_uri": "https://localhost:8080/",
          "height": 34
        }
      },
      "source": [
        "from google.colab import drive\n",
        "drive.mount('/content/drive')"
      ],
      "execution_count": null,
      "outputs": [
        {
          "output_type": "stream",
          "text": [
            "Drive already mounted at /content/drive; to attempt to forcibly remount, call drive.mount(\"/content/drive\", force_remount=True).\n"
          ],
          "name": "stdout"
        }
      ]
    },
    {
      "cell_type": "code",
      "metadata": {
        "id": "ZKpKqavPWAn9",
        "outputId": "ddac5d26-05c1-4c50-f906-003d79d60055",
        "colab": {
          "base_uri": "https://localhost:8080/",
          "height": 34
        }
      },
      "source": [
        "cd drive/\"My Drive\"/\"Colab Notebooks\"/master_project/evaluation"
      ],
      "execution_count": null,
      "outputs": [
        {
          "output_type": "stream",
          "text": [
            "/content/drive/My Drive/Colab Notebooks/master_project/evaluation\n"
          ],
          "name": "stdout"
        }
      ]
    },
    {
      "cell_type": "code",
      "metadata": {
        "id": "XMoOt-OFWd30"
      },
      "source": [
        "%%capture\n",
        "!pip install simpletransformers\n",
        "!pip install wandb==0.8.33"
      ],
      "execution_count": null,
      "outputs": []
    },
    {
      "cell_type": "code",
      "metadata": {
        "id": "G10bTUWXpQiy",
        "outputId": "d3d6c9f4-fa6c-4c5a-c0db-dfcdee3f18de",
        "colab": {
          "base_uri": "https://localhost:8080/",
          "height": 34
        }
      },
      "source": [
        "%%writefile setup.sh\n",
        "export CUDA_HOME=/usr/local/cuda-10.1\n",
        "git clone https://github.com/NVIDIA/apex\n",
        "pip install -v --no-cache-dir --global-option=\"--cpp_ext\" --global-option=\"--cuda_ext\" ./apex"
      ],
      "execution_count": null,
      "outputs": [
        {
          "output_type": "stream",
          "text": [
            "Overwriting setup.sh\n"
          ],
          "name": "stdout"
        }
      ]
    },
    {
      "cell_type": "code",
      "metadata": {
        "id": "QJK8wgwHpTKT",
        "outputId": "a50cc2a7-546b-40d9-9ba4-45bef85204cc",
        "colab": {
          "base_uri": "https://localhost:8080/",
          "height": 1000
        }
      },
      "source": [
        "!sh setup.sh"
      ],
      "execution_count": null,
      "outputs": [
        {
          "output_type": "stream",
          "text": [
            "fatal: destination path 'apex' already exists and is not an empty directory.\n",
            "/usr/local/lib/python3.6/dist-packages/pip/_internal/commands/install.py:283: UserWarning: Disabling all use of wheels due to the use of --build-options / --global-options / --install-options.\n",
            "  cmdoptions.check_install_build_global(options)\n",
            "Created temporary directory: /tmp/pip-ephem-wheel-cache-464jg42f\n",
            "Created temporary directory: /tmp/pip-req-tracker-7_geubov\n",
            "Created requirements tracker '/tmp/pip-req-tracker-7_geubov'\n",
            "Created temporary directory: /tmp/pip-install-oyrtwsbs\n",
            "Processing ./apex\n",
            "  Created temporary directory: /tmp/pip-req-build-6xnzbkyg\n",
            "  Added file:///content/drive/My%20Drive/Colab%20Notebooks/master_project/evaluation/apex to build tracker '/tmp/pip-req-tracker-7_geubov'\n",
            "    Running setup.py (path:/tmp/pip-req-build-6xnzbkyg/setup.py) egg_info for package from file:///content/drive/My%20Drive/Colab%20Notebooks/master_project/evaluation/apex\n",
            "    Running command python setup.py egg_info\n",
            "    torch.__version__  =  1.5.0+cu101\n",
            "    running egg_info\n",
            "    creating /tmp/pip-req-build-6xnzbkyg/pip-egg-info/apex.egg-info\n",
            "    writing /tmp/pip-req-build-6xnzbkyg/pip-egg-info/apex.egg-info/PKG-INFO\n",
            "    writing dependency_links to /tmp/pip-req-build-6xnzbkyg/pip-egg-info/apex.egg-info/dependency_links.txt\n",
            "    writing top-level names to /tmp/pip-req-build-6xnzbkyg/pip-egg-info/apex.egg-info/top_level.txt\n",
            "    writing manifest file '/tmp/pip-req-build-6xnzbkyg/pip-egg-info/apex.egg-info/SOURCES.txt'\n",
            "    writing manifest file '/tmp/pip-req-build-6xnzbkyg/pip-egg-info/apex.egg-info/SOURCES.txt'\n",
            "    /tmp/pip-req-build-6xnzbkyg/setup.py:46: UserWarning: Option --pyprof not specified. Not installing PyProf dependencies!\n",
            "      warnings.warn(\"Option --pyprof not specified. Not installing PyProf dependencies!\")\n",
            "  Source in /tmp/pip-req-build-6xnzbkyg has version 0.1, which satisfies requirement apex==0.1 from file:///content/drive/My%20Drive/Colab%20Notebooks/master_project/evaluation/apex\n",
            "  Removed apex==0.1 from file:///content/drive/My%20Drive/Colab%20Notebooks/master_project/evaluation/apex from build tracker '/tmp/pip-req-tracker-7_geubov'\n",
            "Skipping wheel build for apex, due to binaries being disabled for it.\n",
            "Installing collected packages: apex\n",
            "  Created temporary directory: /tmp/pip-record-ze_0qv59\n",
            "    Running command /usr/bin/python3 -u -c 'import sys, setuptools, tokenize; sys.argv[0] = '\"'\"'/tmp/pip-req-build-6xnzbkyg/setup.py'\"'\"'; __file__='\"'\"'/tmp/pip-req-build-6xnzbkyg/setup.py'\"'\"';f=getattr(tokenize, '\"'\"'open'\"'\"', open)(__file__);code=f.read().replace('\"'\"'\\r\\n'\"'\"', '\"'\"'\\n'\"'\"');f.close();exec(compile(code, __file__, '\"'\"'exec'\"'\"'))' --cpp_ext --cuda_ext install --record /tmp/pip-record-ze_0qv59/install-record.txt --single-version-externally-managed --compile\n",
            "    torch.__version__  =  1.5.0+cu101\n",
            "    /tmp/pip-req-build-6xnzbkyg/setup.py:46: UserWarning: Option --pyprof not specified. Not installing PyProf dependencies!\n",
            "      warnings.warn(\"Option --pyprof not specified. Not installing PyProf dependencies!\")\n",
            "\n",
            "    Compiling cuda extensions with\n",
            "    nvcc: NVIDIA (R) Cuda compiler driver\n",
            "    Copyright (c) 2005-2019 NVIDIA Corporation\n",
            "    Built on Sun_Jul_28_19:07:16_PDT_2019\n",
            "    Cuda compilation tools, release 10.1, V10.1.243\n",
            "    from /usr/local/cuda-10.1/bin\n",
            "\n",
            "    running install\n",
            "    running build\n",
            "    running build_py\n",
            "    creating build\n",
            "    creating build/lib.linux-x86_64-3.6\n",
            "    creating build/lib.linux-x86_64-3.6/apex\n",
            "    copying apex/__init__.py -> build/lib.linux-x86_64-3.6/apex\n",
            "    creating build/lib.linux-x86_64-3.6/apex/amp\n",
            "    copying apex/amp/handle.py -> build/lib.linux-x86_64-3.6/apex/amp\n",
            "    copying apex/amp/utils.py -> build/lib.linux-x86_64-3.6/apex/amp\n",
            "    copying apex/amp/rnn_compat.py -> build/lib.linux-x86_64-3.6/apex/amp\n",
            "    copying apex/amp/wrap.py -> build/lib.linux-x86_64-3.6/apex/amp\n",
            "    copying apex/amp/amp.py -> build/lib.linux-x86_64-3.6/apex/amp\n",
            "    copying apex/amp/__init__.py -> build/lib.linux-x86_64-3.6/apex/amp\n",
            "    copying apex/amp/_process_optimizer.py -> build/lib.linux-x86_64-3.6/apex/amp\n",
            "    copying apex/amp/opt.py -> build/lib.linux-x86_64-3.6/apex/amp\n",
            "    copying apex/amp/compat.py -> build/lib.linux-x86_64-3.6/apex/amp\n",
            "    copying apex/amp/__version__.py -> build/lib.linux-x86_64-3.6/apex/amp\n",
            "    copying apex/amp/scaler.py -> build/lib.linux-x86_64-3.6/apex/amp\n",
            "    copying apex/amp/frontend.py -> build/lib.linux-x86_64-3.6/apex/amp\n",
            "    copying apex/amp/_initialize.py -> build/lib.linux-x86_64-3.6/apex/amp\n",
            "    copying apex/amp/_amp_state.py -> build/lib.linux-x86_64-3.6/apex/amp\n",
            "    creating build/lib.linux-x86_64-3.6/apex/multi_tensor_apply\n",
            "    copying apex/multi_tensor_apply/__init__.py -> build/lib.linux-x86_64-3.6/apex/multi_tensor_apply\n",
            "    copying apex/multi_tensor_apply/multi_tensor_apply.py -> build/lib.linux-x86_64-3.6/apex/multi_tensor_apply\n",
            "    creating build/lib.linux-x86_64-3.6/apex/parallel\n",
            "    copying apex/parallel/optimized_sync_batchnorm.py -> build/lib.linux-x86_64-3.6/apex/parallel\n",
            "    copying apex/parallel/__init__.py -> build/lib.linux-x86_64-3.6/apex/parallel\n",
            "    copying apex/parallel/sync_batchnorm.py -> build/lib.linux-x86_64-3.6/apex/parallel\n",
            "    copying apex/parallel/sync_batchnorm_kernel.py -> build/lib.linux-x86_64-3.6/apex/parallel\n",
            "    copying apex/parallel/LARC.py -> build/lib.linux-x86_64-3.6/apex/parallel\n",
            "    copying apex/parallel/multiproc.py -> build/lib.linux-x86_64-3.6/apex/parallel\n",
            "    copying apex/parallel/optimized_sync_batchnorm_kernel.py -> build/lib.linux-x86_64-3.6/apex/parallel\n",
            "    copying apex/parallel/distributed.py -> build/lib.linux-x86_64-3.6/apex/parallel\n",
            "    creating build/lib.linux-x86_64-3.6/apex/reparameterization\n",
            "    copying apex/reparameterization/__init__.py -> build/lib.linux-x86_64-3.6/apex/reparameterization\n",
            "    copying apex/reparameterization/weight_norm.py -> build/lib.linux-x86_64-3.6/apex/reparameterization\n",
            "    copying apex/reparameterization/reparameterization.py -> build/lib.linux-x86_64-3.6/apex/reparameterization\n",
            "    creating build/lib.linux-x86_64-3.6/apex/RNN\n",
            "    copying apex/RNN/cells.py -> build/lib.linux-x86_64-3.6/apex/RNN\n",
            "    copying apex/RNN/__init__.py -> build/lib.linux-x86_64-3.6/apex/RNN\n",
            "    copying apex/RNN/RNNBackend.py -> build/lib.linux-x86_64-3.6/apex/RNN\n",
            "    copying apex/RNN/models.py -> build/lib.linux-x86_64-3.6/apex/RNN\n",
            "    creating build/lib.linux-x86_64-3.6/apex/optimizers\n",
            "    copying apex/optimizers/fused_novograd.py -> build/lib.linux-x86_64-3.6/apex/optimizers\n",
            "    copying apex/optimizers/__init__.py -> build/lib.linux-x86_64-3.6/apex/optimizers\n",
            "    copying apex/optimizers/fused_adam.py -> build/lib.linux-x86_64-3.6/apex/optimizers\n",
            "    copying apex/optimizers/fused_sgd.py -> build/lib.linux-x86_64-3.6/apex/optimizers\n",
            "    copying apex/optimizers/fused_lamb.py -> build/lib.linux-x86_64-3.6/apex/optimizers\n",
            "    creating build/lib.linux-x86_64-3.6/apex/mlp\n",
            "    copying apex/mlp/__init__.py -> build/lib.linux-x86_64-3.6/apex/mlp\n",
            "    copying apex/mlp/mlp.py -> build/lib.linux-x86_64-3.6/apex/mlp\n",
            "    creating build/lib.linux-x86_64-3.6/apex/normalization\n",
            "    copying apex/normalization/fused_layer_norm.py -> build/lib.linux-x86_64-3.6/apex/normalization\n",
            "    copying apex/normalization/__init__.py -> build/lib.linux-x86_64-3.6/apex/normalization\n",
            "    creating build/lib.linux-x86_64-3.6/apex/pyprof\n",
            "    copying apex/pyprof/__init__.py -> build/lib.linux-x86_64-3.6/apex/pyprof\n",
            "    creating build/lib.linux-x86_64-3.6/apex/contrib\n",
            "    copying apex/contrib/__init__.py -> build/lib.linux-x86_64-3.6/apex/contrib\n",
            "    creating build/lib.linux-x86_64-3.6/apex/fp16_utils\n",
            "    copying apex/fp16_utils/fp16util.py -> build/lib.linux-x86_64-3.6/apex/fp16_utils\n",
            "    copying apex/fp16_utils/__init__.py -> build/lib.linux-x86_64-3.6/apex/fp16_utils\n",
            "    copying apex/fp16_utils/loss_scaler.py -> build/lib.linux-x86_64-3.6/apex/fp16_utils\n",
            "    copying apex/fp16_utils/fp16_optimizer.py -> build/lib.linux-x86_64-3.6/apex/fp16_utils\n",
            "    creating build/lib.linux-x86_64-3.6/apex/amp/lists\n",
            "    copying apex/amp/lists/__init__.py -> build/lib.linux-x86_64-3.6/apex/amp/lists\n",
            "    copying apex/amp/lists/tensor_overrides.py -> build/lib.linux-x86_64-3.6/apex/amp/lists\n",
            "    copying apex/amp/lists/functional_overrides.py -> build/lib.linux-x86_64-3.6/apex/amp/lists\n",
            "    copying apex/amp/lists/torch_overrides.py -> build/lib.linux-x86_64-3.6/apex/amp/lists\n",
            "    creating build/lib.linux-x86_64-3.6/apex/pyprof/parse\n",
            "    copying apex/pyprof/parse/__main__.py -> build/lib.linux-x86_64-3.6/apex/pyprof/parse\n",
            "    copying apex/pyprof/parse/parse.py -> build/lib.linux-x86_64-3.6/apex/pyprof/parse\n",
            "    copying apex/pyprof/parse/nvvp.py -> build/lib.linux-x86_64-3.6/apex/pyprof/parse\n",
            "    copying apex/pyprof/parse/__init__.py -> build/lib.linux-x86_64-3.6/apex/pyprof/parse\n",
            "    copying apex/pyprof/parse/db.py -> build/lib.linux-x86_64-3.6/apex/pyprof/parse\n",
            "    copying apex/pyprof/parse/kernel.py -> build/lib.linux-x86_64-3.6/apex/pyprof/parse\n",
            "    creating build/lib.linux-x86_64-3.6/apex/pyprof/prof\n",
            "    copying apex/pyprof/prof/reduction.py -> build/lib.linux-x86_64-3.6/apex/pyprof/prof\n",
            "    copying apex/pyprof/prof/__main__.py -> build/lib.linux-x86_64-3.6/apex/pyprof/prof\n",
            "    copying apex/pyprof/prof/optim.py -> build/lib.linux-x86_64-3.6/apex/pyprof/prof\n",
            "    copying apex/pyprof/prof/softmax.py -> build/lib.linux-x86_64-3.6/apex/pyprof/prof\n",
            "    copying apex/pyprof/prof/embedding.py -> build/lib.linux-x86_64-3.6/apex/pyprof/prof\n",
            "    copying apex/pyprof/prof/prof.py -> build/lib.linux-x86_64-3.6/apex/pyprof/prof\n",
            "    copying apex/pyprof/prof/pointwise.py -> build/lib.linux-x86_64-3.6/apex/pyprof/prof\n",
            "    copying apex/pyprof/prof/loss.py -> build/lib.linux-x86_64-3.6/apex/pyprof/prof\n",
            "    copying apex/pyprof/prof/__init__.py -> build/lib.linux-x86_64-3.6/apex/pyprof/prof\n",
            "    copying apex/pyprof/prof/usage.py -> build/lib.linux-x86_64-3.6/apex/pyprof/prof\n",
            "    copying apex/pyprof/prof/recurrentCell.py -> build/lib.linux-x86_64-3.6/apex/pyprof/prof\n",
            "    copying apex/pyprof/prof/base.py -> build/lib.linux-x86_64-3.6/apex/pyprof/prof\n",
            "    copying apex/pyprof/prof/randomSample.py -> build/lib.linux-x86_64-3.6/apex/pyprof/prof\n",
            "    copying apex/pyprof/prof/blas.py -> build/lib.linux-x86_64-3.6/apex/pyprof/prof\n",
            "    copying apex/pyprof/prof/misc.py -> build/lib.linux-x86_64-3.6/apex/pyprof/prof\n",
            "    copying apex/pyprof/prof/utility.py -> build/lib.linux-x86_64-3.6/apex/pyprof/prof\n",
            "    copying apex/pyprof/prof/pooling.py -> build/lib.linux-x86_64-3.6/apex/pyprof/prof\n",
            "    copying apex/pyprof/prof/activation.py -> build/lib.linux-x86_64-3.6/apex/pyprof/prof\n",
            "    copying apex/pyprof/prof/convert.py -> build/lib.linux-x86_64-3.6/apex/pyprof/prof\n",
            "    copying apex/pyprof/prof/linear.py -> build/lib.linux-x86_64-3.6/apex/pyprof/prof\n",
            "    copying apex/pyprof/prof/dropout.py -> build/lib.linux-x86_64-3.6/apex/pyprof/prof\n",
            "    copying apex/pyprof/prof/normalization.py -> build/lib.linux-x86_64-3.6/apex/pyprof/prof\n",
            "    copying apex/pyprof/prof/conv.py -> build/lib.linux-x86_64-3.6/apex/pyprof/prof\n",
            "    copying apex/pyprof/prof/index_slice_join_mutate.py -> build/lib.linux-x86_64-3.6/apex/pyprof/prof\n",
            "    copying apex/pyprof/prof/output.py -> build/lib.linux-x86_64-3.6/apex/pyprof/prof\n",
            "    copying apex/pyprof/prof/data.py -> build/lib.linux-x86_64-3.6/apex/pyprof/prof\n",
            "    creating build/lib.linux-x86_64-3.6/apex/pyprof/nvtx\n",
            "    copying apex/pyprof/nvtx/__init__.py -> build/lib.linux-x86_64-3.6/apex/pyprof/nvtx\n",
            "    copying apex/pyprof/nvtx/nvmarker.py -> build/lib.linux-x86_64-3.6/apex/pyprof/nvtx\n",
            "    creating build/lib.linux-x86_64-3.6/apex/contrib/optimizers\n",
            "    copying apex/contrib/optimizers/__init__.py -> build/lib.linux-x86_64-3.6/apex/contrib/optimizers\n",
            "    copying apex/contrib/optimizers/fused_adam.py -> build/lib.linux-x86_64-3.6/apex/contrib/optimizers\n",
            "    copying apex/contrib/optimizers/fused_sgd.py -> build/lib.linux-x86_64-3.6/apex/contrib/optimizers\n",
            "    copying apex/contrib/optimizers/fused_lamb.py -> build/lib.linux-x86_64-3.6/apex/contrib/optimizers\n",
            "    copying apex/contrib/optimizers/fp16_optimizer.py -> build/lib.linux-x86_64-3.6/apex/contrib/optimizers\n",
            "    creating build/lib.linux-x86_64-3.6/apex/contrib/xentropy\n",
            "    copying apex/contrib/xentropy/__init__.py -> build/lib.linux-x86_64-3.6/apex/contrib/xentropy\n",
            "    copying apex/contrib/xentropy/softmax_xentropy.py -> build/lib.linux-x86_64-3.6/apex/contrib/xentropy\n",
            "    creating build/lib.linux-x86_64-3.6/apex/contrib/multihead_attn\n",
            "    copying apex/contrib/multihead_attn/self_multihead_attn_func.py -> build/lib.linux-x86_64-3.6/apex/contrib/multihead_attn\n",
            "    copying apex/contrib/multihead_attn/__init__.py -> build/lib.linux-x86_64-3.6/apex/contrib/multihead_attn\n",
            "    copying apex/contrib/multihead_attn/fast_self_multihead_attn_norm_add_func.py -> build/lib.linux-x86_64-3.6/apex/contrib/multihead_attn\n",
            "    copying apex/contrib/multihead_attn/encdec_multihead_attn_func.py -> build/lib.linux-x86_64-3.6/apex/contrib/multihead_attn\n",
            "    copying apex/contrib/multihead_attn/fast_encdec_multihead_attn_func.py -> build/lib.linux-x86_64-3.6/apex/contrib/multihead_attn\n",
            "    copying apex/contrib/multihead_attn/self_multihead_attn.py -> build/lib.linux-x86_64-3.6/apex/contrib/multihead_attn\n",
            "    copying apex/contrib/multihead_attn/encdec_multihead_attn.py -> build/lib.linux-x86_64-3.6/apex/contrib/multihead_attn\n",
            "    copying apex/contrib/multihead_attn/fast_self_multihead_attn_func.py -> build/lib.linux-x86_64-3.6/apex/contrib/multihead_attn\n",
            "    copying apex/contrib/multihead_attn/fast_encdec_multihead_attn_norm_add_func.py -> build/lib.linux-x86_64-3.6/apex/contrib/multihead_attn\n",
            "    creating build/lib.linux-x86_64-3.6/apex/contrib/groupbn\n",
            "    copying apex/contrib/groupbn/__init__.py -> build/lib.linux-x86_64-3.6/apex/contrib/groupbn\n",
            "    copying apex/contrib/groupbn/batch_norm.py -> build/lib.linux-x86_64-3.6/apex/contrib/groupbn\n",
            "    running build_ext\n",
            "    /usr/local/lib/python3.6/dist-packages/torch/utils/cpp_extension.py:304: UserWarning: Attempted to use ninja as the BuildExtension backend but we could not find ninja.. Falling back to using the slow distutils backend.\n",
            "      warnings.warn(msg.format('we could not find ninja.'))\n",
            "    building 'apex_C' extension\n",
            "    creating build/temp.linux-x86_64-3.6\n",
            "    creating build/temp.linux-x86_64-3.6/csrc\n",
            "    x86_64-linux-gnu-gcc -pthread -DNDEBUG -g -fwrapv -O2 -Wall -g -fstack-protector-strong -Wformat -Werror=format-security -Wdate-time -D_FORTIFY_SOURCE=2 -fPIC -I/usr/local/lib/python3.6/dist-packages/torch/include -I/usr/local/lib/python3.6/dist-packages/torch/include/torch/csrc/api/include -I/usr/local/lib/python3.6/dist-packages/torch/include/TH -I/usr/local/lib/python3.6/dist-packages/torch/include/THC -I/usr/include/python3.6m -c csrc/flatten_unflatten.cpp -o build/temp.linux-x86_64-3.6/csrc/flatten_unflatten.o -DTORCH_API_INCLUDE_EXTENSION_H -DTORCH_EXTENSION_NAME=apex_C -D_GLIBCXX_USE_CXX11_ABI=0 -std=c++14\n",
            "    In file included from csrc/flatten_unflatten.cpp:2:0:\n",
            "    /usr/local/lib/python3.6/dist-packages/torch/include/torch/csrc/utils/tensor_flatten.h: In member function ‘at::DeprecatedTypeProperties& torch::utils::TensorGroup::type()’:\n",
            "    /usr/local/lib/python3.6/dist-packages/torch/include/torch/csrc/utils/tensor_flatten.h:36:28: warning: ‘at::DeprecatedTypeProperties& at::Tensor::type() const’ is deprecated: Tensor.type() is deprecated. Instead use Tensor.options(), which in many cases (e.g. in a constructor) is a drop-in replacement. If you were using data from type(), that is now available from Tensor itself, so instead of tensor.type().scalar_type(), use tensor.scalar_type() instead and instead of tensor.type().backend() use tensor.device(). [-Wdeprecated-declarations]\n",
            "         return tensors[0].type();\n",
            "                                ^\n",
            "    In file included from /usr/local/lib/python3.6/dist-packages/torch/include/ATen/Tensor.h:11:0,\n",
            "                     from /usr/local/lib/python3.6/dist-packages/torch/include/ATen/Context.h:4,\n",
            "                     from /usr/local/lib/python3.6/dist-packages/torch/include/ATen/ATen.h:5,\n",
            "                     from /usr/local/lib/python3.6/dist-packages/torch/include/torch/csrc/api/include/torch/types.h:3,\n",
            "                     from /usr/local/lib/python3.6/dist-packages/torch/include/torch/csrc/api/include/torch/data/dataloader_options.h:4,\n",
            "                     from /usr/local/lib/python3.6/dist-packages/torch/include/torch/csrc/api/include/torch/data/dataloader/base.h:3,\n",
            "                     from /usr/local/lib/python3.6/dist-packages/torch/include/torch/csrc/api/include/torch/data/dataloader/stateful.h:3,\n",
            "                     from /usr/local/lib/python3.6/dist-packages/torch/include/torch/csrc/api/include/torch/data/dataloader.h:3,\n",
            "                     from /usr/local/lib/python3.6/dist-packages/torch/include/torch/csrc/api/include/torch/data.h:3,\n",
            "                     from /usr/local/lib/python3.6/dist-packages/torch/include/torch/csrc/api/include/torch/all.h:4,\n",
            "                     from /usr/local/lib/python3.6/dist-packages/torch/include/torch/extension.h:4,\n",
            "                     from csrc/flatten_unflatten.cpp:1:\n",
            "    /usr/local/lib/python3.6/dist-packages/torch/include/ATen/core/TensorBody.h:262:30: note: declared here\n",
            "       DeprecatedTypeProperties & type() const {\n",
            "                                  ^~~~\n",
            "    x86_64-linux-gnu-g++ -pthread -shared -Wl,-O1 -Wl,-Bsymbolic-functions -Wl,-Bsymbolic-functions -Wl,-z,relro -Wl,-Bsymbolic-functions -Wl,-z,relro -g -fstack-protector-strong -Wformat -Werror=format-security -Wdate-time -D_FORTIFY_SOURCE=2 build/temp.linux-x86_64-3.6/csrc/flatten_unflatten.o -L/usr/local/lib/python3.6/dist-packages/torch/lib -lc10 -ltorch -ltorch_cpu -ltorch_python -o build/lib.linux-x86_64-3.6/apex_C.cpython-36m-x86_64-linux-gnu.so\n",
            "    building 'amp_C' extension\n",
            "    x86_64-linux-gnu-gcc -pthread -DNDEBUG -g -fwrapv -O2 -Wall -g -fstack-protector-strong -Wformat -Werror=format-security -Wdate-time -D_FORTIFY_SOURCE=2 -fPIC -I/usr/local/lib/python3.6/dist-packages/torch/include -I/usr/local/lib/python3.6/dist-packages/torch/include/torch/csrc/api/include -I/usr/local/lib/python3.6/dist-packages/torch/include/TH -I/usr/local/lib/python3.6/dist-packages/torch/include/THC -I/usr/local/cuda-10.1/include -I/usr/include/python3.6m -c csrc/amp_C_frontend.cpp -o build/temp.linux-x86_64-3.6/csrc/amp_C_frontend.o -O3 -DVERSION_GE_1_1 -DVERSION_GE_1_3 -DVERSION_GE_1_5 -DTORCH_API_INCLUDE_EXTENSION_H -DTORCH_EXTENSION_NAME=amp_C -D_GLIBCXX_USE_CXX11_ABI=0 -std=c++14\n",
            "    /usr/local/cuda-10.1/bin/nvcc -I/usr/local/lib/python3.6/dist-packages/torch/include -I/usr/local/lib/python3.6/dist-packages/torch/include/torch/csrc/api/include -I/usr/local/lib/python3.6/dist-packages/torch/include/TH -I/usr/local/lib/python3.6/dist-packages/torch/include/THC -I/usr/local/cuda-10.1/include -I/usr/include/python3.6m -c csrc/multi_tensor_sgd_kernel.cu -o build/temp.linux-x86_64-3.6/csrc/multi_tensor_sgd_kernel.o -D__CUDA_NO_HALF_OPERATORS__ -D__CUDA_NO_HALF_CONVERSIONS__ -D__CUDA_NO_HALF2_OPERATORS__ --expt-relaxed-constexpr --compiler-options '-fPIC' -lineinfo -O3 --use_fast_math -DVERSION_GE_1_1 -DVERSION_GE_1_3 -DVERSION_GE_1_5 -DTORCH_API_INCLUDE_EXTENSION_H -DTORCH_EXTENSION_NAME=amp_C -D_GLIBCXX_USE_CXX11_ABI=0 -gencode=arch=compute_60,code=sm_60 -std=c++14\n",
            "    /usr/local/cuda-10.1/bin/nvcc -I/usr/local/lib/python3.6/dist-packages/torch/include -I/usr/local/lib/python3.6/dist-packages/torch/include/torch/csrc/api/include -I/usr/local/lib/python3.6/dist-packages/torch/include/TH -I/usr/local/lib/python3.6/dist-packages/torch/include/THC -I/usr/local/cuda-10.1/include -I/usr/include/python3.6m -c csrc/multi_tensor_scale_kernel.cu -o build/temp.linux-x86_64-3.6/csrc/multi_tensor_scale_kernel.o -D__CUDA_NO_HALF_OPERATORS__ -D__CUDA_NO_HALF_CONVERSIONS__ -D__CUDA_NO_HALF2_OPERATORS__ --expt-relaxed-constexpr --compiler-options '-fPIC' -lineinfo -O3 --use_fast_math -DVERSION_GE_1_1 -DVERSION_GE_1_3 -DVERSION_GE_1_5 -DTORCH_API_INCLUDE_EXTENSION_H -DTORCH_EXTENSION_NAME=amp_C -D_GLIBCXX_USE_CXX11_ABI=0 -gencode=arch=compute_60,code=sm_60 -std=c++14\n",
            "    /usr/local/cuda-10.1/bin/nvcc -I/usr/local/lib/python3.6/dist-packages/torch/include -I/usr/local/lib/python3.6/dist-packages/torch/include/torch/csrc/api/include -I/usr/local/lib/python3.6/dist-packages/torch/include/TH -I/usr/local/lib/python3.6/dist-packages/torch/include/THC -I/usr/local/cuda-10.1/include -I/usr/include/python3.6m -c csrc/multi_tensor_axpby_kernel.cu -o build/temp.linux-x86_64-3.6/csrc/multi_tensor_axpby_kernel.o -D__CUDA_NO_HALF_OPERATORS__ -D__CUDA_NO_HALF_CONVERSIONS__ -D__CUDA_NO_HALF2_OPERATORS__ --expt-relaxed-constexpr --compiler-options '-fPIC' -lineinfo -O3 --use_fast_math -DVERSION_GE_1_1 -DVERSION_GE_1_3 -DVERSION_GE_1_5 -DTORCH_API_INCLUDE_EXTENSION_H -DTORCH_EXTENSION_NAME=amp_C -D_GLIBCXX_USE_CXX11_ABI=0 -gencode=arch=compute_60,code=sm_60 -std=c++14\n",
            "    /usr/local/cuda-10.1/bin/nvcc -I/usr/local/lib/python3.6/dist-packages/torch/include -I/usr/local/lib/python3.6/dist-packages/torch/include/torch/csrc/api/include -I/usr/local/lib/python3.6/dist-packages/torch/include/TH -I/usr/local/lib/python3.6/dist-packages/torch/include/THC -I/usr/local/cuda-10.1/include -I/usr/include/python3.6m -c csrc/multi_tensor_l2norm_kernel.cu -o build/temp.linux-x86_64-3.6/csrc/multi_tensor_l2norm_kernel.o -D__CUDA_NO_HALF_OPERATORS__ -D__CUDA_NO_HALF_CONVERSIONS__ -D__CUDA_NO_HALF2_OPERATORS__ --expt-relaxed-constexpr --compiler-options '-fPIC' -lineinfo -O3 --use_fast_math -DVERSION_GE_1_1 -DVERSION_GE_1_3 -DVERSION_GE_1_5 -DTORCH_API_INCLUDE_EXTENSION_H -DTORCH_EXTENSION_NAME=amp_C -D_GLIBCXX_USE_CXX11_ABI=0 -gencode=arch=compute_60,code=sm_60 -std=c++14\n",
            "    /usr/local/cuda-10.1/bin/nvcc -I/usr/local/lib/python3.6/dist-packages/torch/include -I/usr/local/lib/python3.6/dist-packages/torch/include/torch/csrc/api/include -I/usr/local/lib/python3.6/dist-packages/torch/include/TH -I/usr/local/lib/python3.6/dist-packages/torch/include/THC -I/usr/local/cuda-10.1/include -I/usr/include/python3.6m -c csrc/multi_tensor_lamb_stage_1.cu -o build/temp.linux-x86_64-3.6/csrc/multi_tensor_lamb_stage_1.o -D__CUDA_NO_HALF_OPERATORS__ -D__CUDA_NO_HALF_CONVERSIONS__ -D__CUDA_NO_HALF2_OPERATORS__ --expt-relaxed-constexpr --compiler-options '-fPIC' -lineinfo -O3 --use_fast_math -DVERSION_GE_1_1 -DVERSION_GE_1_3 -DVERSION_GE_1_5 -DTORCH_API_INCLUDE_EXTENSION_H -DTORCH_EXTENSION_NAME=amp_C -D_GLIBCXX_USE_CXX11_ABI=0 -gencode=arch=compute_60,code=sm_60 -std=c++14\n",
            "    /usr/local/cuda-10.1/bin/nvcc -I/usr/local/lib/python3.6/dist-packages/torch/include -I/usr/local/lib/python3.6/dist-packages/torch/include/torch/csrc/api/include -I/usr/local/lib/python3.6/dist-packages/torch/include/TH -I/usr/local/lib/python3.6/dist-packages/torch/include/THC -I/usr/local/cuda-10.1/include -I/usr/include/python3.6m -c csrc/multi_tensor_lamb_stage_2.cu -o build/temp.linux-x86_64-3.6/csrc/multi_tensor_lamb_stage_2.o -D__CUDA_NO_HALF_OPERATORS__ -D__CUDA_NO_HALF_CONVERSIONS__ -D__CUDA_NO_HALF2_OPERATORS__ --expt-relaxed-constexpr --compiler-options '-fPIC' -lineinfo -O3 --use_fast_math -DVERSION_GE_1_1 -DVERSION_GE_1_3 -DVERSION_GE_1_5 -DTORCH_API_INCLUDE_EXTENSION_H -DTORCH_EXTENSION_NAME=amp_C -D_GLIBCXX_USE_CXX11_ABI=0 -gencode=arch=compute_60,code=sm_60 -std=c++14\n",
            "    /usr/local/cuda-10.1/bin/nvcc -I/usr/local/lib/python3.6/dist-packages/torch/include -I/usr/local/lib/python3.6/dist-packages/torch/include/torch/csrc/api/include -I/usr/local/lib/python3.6/dist-packages/torch/include/TH -I/usr/local/lib/python3.6/dist-packages/torch/include/THC -I/usr/local/cuda-10.1/include -I/usr/include/python3.6m -c csrc/multi_tensor_adam.cu -o build/temp.linux-x86_64-3.6/csrc/multi_tensor_adam.o -D__CUDA_NO_HALF_OPERATORS__ -D__CUDA_NO_HALF_CONVERSIONS__ -D__CUDA_NO_HALF2_OPERATORS__ --expt-relaxed-constexpr --compiler-options '-fPIC' -lineinfo -O3 --use_fast_math -DVERSION_GE_1_1 -DVERSION_GE_1_3 -DVERSION_GE_1_5 -DTORCH_API_INCLUDE_EXTENSION_H -DTORCH_EXTENSION_NAME=amp_C -D_GLIBCXX_USE_CXX11_ABI=0 -gencode=arch=compute_60,code=sm_60 -std=c++14\n",
            "    /usr/local/cuda-10.1/bin/nvcc -I/usr/local/lib/python3.6/dist-packages/torch/include -I/usr/local/lib/python3.6/dist-packages/torch/include/torch/csrc/api/include -I/usr/local/lib/python3.6/dist-packages/torch/include/TH -I/usr/local/lib/python3.6/dist-packages/torch/include/THC -I/usr/local/cuda-10.1/include -I/usr/include/python3.6m -c csrc/multi_tensor_novograd.cu -o build/temp.linux-x86_64-3.6/csrc/multi_tensor_novograd.o -D__CUDA_NO_HALF_OPERATORS__ -D__CUDA_NO_HALF_CONVERSIONS__ -D__CUDA_NO_HALF2_OPERATORS__ --expt-relaxed-constexpr --compiler-options '-fPIC' -lineinfo -O3 --use_fast_math -DVERSION_GE_1_1 -DVERSION_GE_1_3 -DVERSION_GE_1_5 -DTORCH_API_INCLUDE_EXTENSION_H -DTORCH_EXTENSION_NAME=amp_C -D_GLIBCXX_USE_CXX11_ABI=0 -gencode=arch=compute_60,code=sm_60 -std=c++14\n",
            "    /usr/local/cuda-10.1/bin/nvcc -I/usr/local/lib/python3.6/dist-packages/torch/include -I/usr/local/lib/python3.6/dist-packages/torch/include/torch/csrc/api/include -I/usr/local/lib/python3.6/dist-packages/torch/include/TH -I/usr/local/lib/python3.6/dist-packages/torch/include/THC -I/usr/local/cuda-10.1/include -I/usr/include/python3.6m -c csrc/multi_tensor_lamb.cu -o build/temp.linux-x86_64-3.6/csrc/multi_tensor_lamb.o -D__CUDA_NO_HALF_OPERATORS__ -D__CUDA_NO_HALF_CONVERSIONS__ -D__CUDA_NO_HALF2_OPERATORS__ --expt-relaxed-constexpr --compiler-options '-fPIC' -lineinfo -O3 --use_fast_math -DVERSION_GE_1_1 -DVERSION_GE_1_3 -DVERSION_GE_1_5 -DTORCH_API_INCLUDE_EXTENSION_H -DTORCH_EXTENSION_NAME=amp_C -D_GLIBCXX_USE_CXX11_ABI=0 -gencode=arch=compute_60,code=sm_60 -std=c++14\n",
            "    x86_64-linux-gnu-g++ -pthread -shared -Wl,-O1 -Wl,-Bsymbolic-functions -Wl,-Bsymbolic-functions -Wl,-z,relro -Wl,-Bsymbolic-functions -Wl,-z,relro -g -fstack-protector-strong -Wformat -Werror=format-security -Wdate-time -D_FORTIFY_SOURCE=2 build/temp.linux-x86_64-3.6/csrc/amp_C_frontend.o build/temp.linux-x86_64-3.6/csrc/multi_tensor_sgd_kernel.o build/temp.linux-x86_64-3.6/csrc/multi_tensor_scale_kernel.o build/temp.linux-x86_64-3.6/csrc/multi_tensor_axpby_kernel.o build/temp.linux-x86_64-3.6/csrc/multi_tensor_l2norm_kernel.o build/temp.linux-x86_64-3.6/csrc/multi_tensor_lamb_stage_1.o build/temp.linux-x86_64-3.6/csrc/multi_tensor_lamb_stage_2.o build/temp.linux-x86_64-3.6/csrc/multi_tensor_adam.o build/temp.linux-x86_64-3.6/csrc/multi_tensor_novograd.o build/temp.linux-x86_64-3.6/csrc/multi_tensor_lamb.o -L/usr/local/lib/python3.6/dist-packages/torch/lib -L/usr/local/cuda-10.1/lib64 -lc10 -ltorch -ltorch_cpu -ltorch_python -lcudart -lc10_cuda -ltorch_cuda -o build/lib.linux-x86_64-3.6/amp_C.cpython-36m-x86_64-linux-gnu.so\n",
            "    building 'syncbn' extension\n",
            "    x86_64-linux-gnu-gcc -pthread -DNDEBUG -g -fwrapv -O2 -Wall -g -fstack-protector-strong -Wformat -Werror=format-security -Wdate-time -D_FORTIFY_SOURCE=2 -fPIC -I/usr/local/lib/python3.6/dist-packages/torch/include -I/usr/local/lib/python3.6/dist-packages/torch/include/torch/csrc/api/include -I/usr/local/lib/python3.6/dist-packages/torch/include/TH -I/usr/local/lib/python3.6/dist-packages/torch/include/THC -I/usr/local/cuda-10.1/include -I/usr/include/python3.6m -c csrc/syncbn.cpp -o build/temp.linux-x86_64-3.6/csrc/syncbn.o -O3 -DVERSION_GE_1_1 -DVERSION_GE_1_3 -DVERSION_GE_1_5 -DTORCH_API_INCLUDE_EXTENSION_H -DTORCH_EXTENSION_NAME=syncbn -D_GLIBCXX_USE_CXX11_ABI=0 -std=c++14\n",
            "    /usr/local/cuda-10.1/bin/nvcc -I/usr/local/lib/python3.6/dist-packages/torch/include -I/usr/local/lib/python3.6/dist-packages/torch/include/torch/csrc/api/include -I/usr/local/lib/python3.6/dist-packages/torch/include/TH -I/usr/local/lib/python3.6/dist-packages/torch/include/THC -I/usr/local/cuda-10.1/include -I/usr/include/python3.6m -c csrc/welford.cu -o build/temp.linux-x86_64-3.6/csrc/welford.o -D__CUDA_NO_HALF_OPERATORS__ -D__CUDA_NO_HALF_CONVERSIONS__ -D__CUDA_NO_HALF2_OPERATORS__ --expt-relaxed-constexpr --compiler-options '-fPIC' -O3 -DVERSION_GE_1_1 -DVERSION_GE_1_3 -DVERSION_GE_1_5 -DTORCH_API_INCLUDE_EXTENSION_H -DTORCH_EXTENSION_NAME=syncbn -D_GLIBCXX_USE_CXX11_ABI=0 -gencode=arch=compute_60,code=sm_60 -std=c++14\n",
            "    x86_64-linux-gnu-g++ -pthread -shared -Wl,-O1 -Wl,-Bsymbolic-functions -Wl,-Bsymbolic-functions -Wl,-z,relro -Wl,-Bsymbolic-functions -Wl,-z,relro -g -fstack-protector-strong -Wformat -Werror=format-security -Wdate-time -D_FORTIFY_SOURCE=2 build/temp.linux-x86_64-3.6/csrc/syncbn.o build/temp.linux-x86_64-3.6/csrc/welford.o -L/usr/local/lib/python3.6/dist-packages/torch/lib -L/usr/local/cuda-10.1/lib64 -lc10 -ltorch -ltorch_cpu -ltorch_python -lcudart -lc10_cuda -ltorch_cuda -o build/lib.linux-x86_64-3.6/syncbn.cpython-36m-x86_64-linux-gnu.so\n",
            "    building 'fused_layer_norm_cuda' extension\n",
            "    x86_64-linux-gnu-gcc -pthread -DNDEBUG -g -fwrapv -O2 -Wall -g -fstack-protector-strong -Wformat -Werror=format-security -Wdate-time -D_FORTIFY_SOURCE=2 -fPIC -I/usr/local/lib/python3.6/dist-packages/torch/include -I/usr/local/lib/python3.6/dist-packages/torch/include/torch/csrc/api/include -I/usr/local/lib/python3.6/dist-packages/torch/include/TH -I/usr/local/lib/python3.6/dist-packages/torch/include/THC -I/usr/local/cuda-10.1/include -I/usr/include/python3.6m -c csrc/layer_norm_cuda.cpp -o build/temp.linux-x86_64-3.6/csrc/layer_norm_cuda.o -O3 -DVERSION_GE_1_1 -DVERSION_GE_1_3 -DVERSION_GE_1_5 -DTORCH_API_INCLUDE_EXTENSION_H -DTORCH_EXTENSION_NAME=fused_layer_norm_cuda -D_GLIBCXX_USE_CXX11_ABI=0 -std=c++14\n",
            "    In file included from /usr/local/lib/python3.6/dist-packages/torch/include/c10/core/DeviceType.h:8:0,\n",
            "                     from /usr/local/lib/python3.6/dist-packages/torch/include/c10/core/Device.h:3,\n",
            "                     from /usr/local/lib/python3.6/dist-packages/torch/include/c10/core/Allocator.h:6,\n",
            "                     from /usr/local/lib/python3.6/dist-packages/torch/include/ATen/ATen.h:3,\n",
            "                     from /usr/local/lib/python3.6/dist-packages/torch/include/torch/csrc/api/include/torch/types.h:3,\n",
            "                     from /usr/local/lib/python3.6/dist-packages/torch/include/torch/csrc/api/include/torch/data/dataloader_options.h:4,\n",
            "                     from /usr/local/lib/python3.6/dist-packages/torch/include/torch/csrc/api/include/torch/data/dataloader/base.h:3,\n",
            "                     from /usr/local/lib/python3.6/dist-packages/torch/include/torch/csrc/api/include/torch/data/dataloader/stateful.h:3,\n",
            "                     from /usr/local/lib/python3.6/dist-packages/torch/include/torch/csrc/api/include/torch/data/dataloader.h:3,\n",
            "                     from /usr/local/lib/python3.6/dist-packages/torch/include/torch/csrc/api/include/torch/data.h:3,\n",
            "                     from /usr/local/lib/python3.6/dist-packages/torch/include/torch/csrc/api/include/torch/all.h:4,\n",
            "                     from /usr/local/lib/python3.6/dist-packages/torch/include/torch/extension.h:4,\n",
            "                     from csrc/layer_norm_cuda.cpp:1:\n",
            "    csrc/layer_norm_cuda.cpp: In function ‘std::vector<at::Tensor> layer_norm(at::Tensor, c10::IntArrayRef, double)’:\n",
            "    csrc/layer_norm_cuda.cpp:117:42: warning: ‘at::DeprecatedTypeProperties& at::Tensor::type() const’ is deprecated: Tensor.type() is deprecated. Instead use Tensor.options(), which in many cases (e.g. in a constructor) is a drop-in replacement. If you were using data from type(), that is now available from Tensor itself, so instead of tensor.type().scalar_type(), use tensor.scalar_type() instead and instead of tensor.type().backend() use tensor.device(). [-Wdeprecated-declarations]\n",
            "     #define CHECK_CUDA(x) TORCH_CHECK(x.type().is_cuda(), #x \" must be a CUDA tensor\")\n",
            "                                              ^\n",
            "    /usr/local/lib/python3.6/dist-packages/torch/include/c10/macros/Macros.h:141:65: note: in definition of macro ‘C10_UNLIKELY’\n",
            "     #define C10_UNLIKELY(expr)  (__builtin_expect(static_cast<bool>(expr), 0))\n",
            "                                                                     ^~~~\n",
            "    /usr/local/lib/python3.6/dist-packages/torch/include/c10/util/Exception.h:262:7: note: in expansion of macro ‘C10_UNLIKELY_OR_CONST’\n",
            "       if (C10_UNLIKELY_OR_CONST(!(cond))) {                     \\\n",
            "           ^~~~~~~~~~~~~~~~~~~~~\n",
            "    /usr/local/lib/python3.6/dist-packages/torch/include/c10/util/Exception.h:273:32: note: in expansion of macro ‘TORCH_CHECK_WITH’\n",
            "     #define TORCH_CHECK(cond, ...) TORCH_CHECK_WITH(Error, cond, __VA_ARGS__)\n",
            "                                    ^~~~~~~~~~~~~~~~\n",
            "    csrc/layer_norm_cuda.cpp:117:23: note: in expansion of macro ‘TORCH_CHECK’\n",
            "     #define CHECK_CUDA(x) TORCH_CHECK(x.type().is_cuda(), #x \" must be a CUDA tensor\")\n",
            "                           ^~~~~~~~~~~\n",
            "    csrc/layer_norm_cuda.cpp:119:24: note: in expansion of macro ‘CHECK_CUDA’\n",
            "     #define CHECK_INPUT(x) CHECK_CUDA(x); CHECK_CONTIGUOUS(x)\n",
            "                            ^~~~~~~~~~\n",
            "    csrc/layer_norm_cuda.cpp:129:3: note: in expansion of macro ‘CHECK_INPUT’\n",
            "       CHECK_INPUT(input);\n",
            "       ^\n",
            "    In file included from /usr/local/lib/python3.6/dist-packages/torch/include/ATen/Tensor.h:11:0,\n",
            "                     from /usr/local/lib/python3.6/dist-packages/torch/include/ATen/Context.h:4,\n",
            "                     from /usr/local/lib/python3.6/dist-packages/torch/include/ATen/ATen.h:5,\n",
            "                     from /usr/local/lib/python3.6/dist-packages/torch/include/torch/csrc/api/include/torch/types.h:3,\n",
            "                     from /usr/local/lib/python3.6/dist-packages/torch/include/torch/csrc/api/include/torch/data/dataloader_options.h:4,\n",
            "                     from /usr/local/lib/python3.6/dist-packages/torch/include/torch/csrc/api/include/torch/data/dataloader/base.h:3,\n",
            "                     from /usr/local/lib/python3.6/dist-packages/torch/include/torch/csrc/api/include/torch/data/dataloader/stateful.h:3,\n",
            "                     from /usr/local/lib/python3.6/dist-packages/torch/include/torch/csrc/api/include/torch/data/dataloader.h:3,\n",
            "                     from /usr/local/lib/python3.6/dist-packages/torch/include/torch/csrc/api/include/torch/data.h:3,\n",
            "                     from /usr/local/lib/python3.6/dist-packages/torch/include/torch/csrc/api/include/torch/all.h:4,\n",
            "                     from /usr/local/lib/python3.6/dist-packages/torch/include/torch/extension.h:4,\n",
            "                     from csrc/layer_norm_cuda.cpp:1:\n",
            "    /usr/local/lib/python3.6/dist-packages/torch/include/ATen/core/TensorBody.h:262:30: note: declared here\n",
            "       DeprecatedTypeProperties & type() const {\n",
            "                                  ^~~~\n",
            "    In file included from /usr/local/lib/python3.6/dist-packages/torch/include/c10/core/DeviceType.h:8:0,\n",
            "                     from /usr/local/lib/python3.6/dist-packages/torch/include/c10/core/Device.h:3,\n",
            "                     from /usr/local/lib/python3.6/dist-packages/torch/include/c10/core/Allocator.h:6,\n",
            "                     from /usr/local/lib/python3.6/dist-packages/torch/include/ATen/ATen.h:3,\n",
            "                     from /usr/local/lib/python3.6/dist-packages/torch/include/torch/csrc/api/include/torch/types.h:3,\n",
            "                     from /usr/local/lib/python3.6/dist-packages/torch/include/torch/csrc/api/include/torch/data/dataloader_options.h:4,\n",
            "                     from /usr/local/lib/python3.6/dist-packages/torch/include/torch/csrc/api/include/torch/data/dataloader/base.h:3,\n",
            "                     from /usr/local/lib/python3.6/dist-packages/torch/include/torch/csrc/api/include/torch/data/dataloader/stateful.h:3,\n",
            "                     from /usr/local/lib/python3.6/dist-packages/torch/include/torch/csrc/api/include/torch/data/dataloader.h:3,\n",
            "                     from /usr/local/lib/python3.6/dist-packages/torch/include/torch/csrc/api/include/torch/data.h:3,\n",
            "                     from /usr/local/lib/python3.6/dist-packages/torch/include/torch/csrc/api/include/torch/all.h:4,\n",
            "                     from /usr/local/lib/python3.6/dist-packages/torch/include/torch/extension.h:4,\n",
            "                     from csrc/layer_norm_cuda.cpp:1:\n",
            "    csrc/layer_norm_cuda.cpp: In function ‘std::vector<at::Tensor> layer_norm_affine(at::Tensor, c10::IntArrayRef, at::Tensor, at::Tensor, double)’:\n",
            "    csrc/layer_norm_cuda.cpp:117:42: warning: ‘at::DeprecatedTypeProperties& at::Tensor::type() const’ is deprecated: Tensor.type() is deprecated. Instead use Tensor.options(), which in many cases (e.g. in a constructor) is a drop-in replacement. If you were using data from type(), that is now available from Tensor itself, so instead of tensor.type().scalar_type(), use tensor.scalar_type() instead and instead of tensor.type().backend() use tensor.device(). [-Wdeprecated-declarations]\n",
            "     #define CHECK_CUDA(x) TORCH_CHECK(x.type().is_cuda(), #x \" must be a CUDA tensor\")\n",
            "                                              ^\n",
            "    /usr/local/lib/python3.6/dist-packages/torch/include/c10/macros/Macros.h:141:65: note: in definition of macro ‘C10_UNLIKELY’\n",
            "     #define C10_UNLIKELY(expr)  (__builtin_expect(static_cast<bool>(expr), 0))\n",
            "                                                                     ^~~~\n",
            "    /usr/local/lib/python3.6/dist-packages/torch/include/c10/util/Exception.h:262:7: note: in expansion of macro ‘C10_UNLIKELY_OR_CONST’\n",
            "       if (C10_UNLIKELY_OR_CONST(!(cond))) {                     \\\n",
            "           ^~~~~~~~~~~~~~~~~~~~~\n",
            "    /usr/local/lib/python3.6/dist-packages/torch/include/c10/util/Exception.h:273:32: note: in expansion of macro ‘TORCH_CHECK_WITH’\n",
            "     #define TORCH_CHECK(cond, ...) TORCH_CHECK_WITH(Error, cond, __VA_ARGS__)\n",
            "                                    ^~~~~~~~~~~~~~~~\n",
            "    csrc/layer_norm_cuda.cpp:117:23: note: in expansion of macro ‘TORCH_CHECK’\n",
            "     #define CHECK_CUDA(x) TORCH_CHECK(x.type().is_cuda(), #x \" must be a CUDA tensor\")\n",
            "                           ^~~~~~~~~~~\n",
            "    csrc/layer_norm_cuda.cpp:119:24: note: in expansion of macro ‘CHECK_CUDA’\n",
            "     #define CHECK_INPUT(x) CHECK_CUDA(x); CHECK_CONTIGUOUS(x)\n",
            "                            ^~~~~~~~~~\n",
            "    csrc/layer_norm_cuda.cpp:149:3: note: in expansion of macro ‘CHECK_INPUT’\n",
            "       CHECK_INPUT(input);\n",
            "       ^\n",
            "    In file included from /usr/local/lib/python3.6/dist-packages/torch/include/ATen/Tensor.h:11:0,\n",
            "                     from /usr/local/lib/python3.6/dist-packages/torch/include/ATen/Context.h:4,\n",
            "                     from /usr/local/lib/python3.6/dist-packages/torch/include/ATen/ATen.h:5,\n",
            "                     from /usr/local/lib/python3.6/dist-packages/torch/include/torch/csrc/api/include/torch/types.h:3,\n",
            "                     from /usr/local/lib/python3.6/dist-packages/torch/include/torch/csrc/api/include/torch/data/dataloader_options.h:4,\n",
            "                     from /usr/local/lib/python3.6/dist-packages/torch/include/torch/csrc/api/include/torch/data/dataloader/base.h:3,\n",
            "                     from /usr/local/lib/python3.6/dist-packages/torch/include/torch/csrc/api/include/torch/data/dataloader/stateful.h:3,\n",
            "                     from /usr/local/lib/python3.6/dist-packages/torch/include/torch/csrc/api/include/torch/data/dataloader.h:3,\n",
            "                     from /usr/local/lib/python3.6/dist-packages/torch/include/torch/csrc/api/include/torch/data.h:3,\n",
            "                     from /usr/local/lib/python3.6/dist-packages/torch/include/torch/csrc/api/include/torch/all.h:4,\n",
            "                     from /usr/local/lib/python3.6/dist-packages/torch/include/torch/extension.h:4,\n",
            "                     from csrc/layer_norm_cuda.cpp:1:\n",
            "    /usr/local/lib/python3.6/dist-packages/torch/include/ATen/core/TensorBody.h:262:30: note: declared here\n",
            "       DeprecatedTypeProperties & type() const {\n",
            "                                  ^~~~\n",
            "    In file included from /usr/local/lib/python3.6/dist-packages/torch/include/c10/core/DeviceType.h:8:0,\n",
            "                     from /usr/local/lib/python3.6/dist-packages/torch/include/c10/core/Device.h:3,\n",
            "                     from /usr/local/lib/python3.6/dist-packages/torch/include/c10/core/Allocator.h:6,\n",
            "                     from /usr/local/lib/python3.6/dist-packages/torch/include/ATen/ATen.h:3,\n",
            "                     from /usr/local/lib/python3.6/dist-packages/torch/include/torch/csrc/api/include/torch/types.h:3,\n",
            "                     from /usr/local/lib/python3.6/dist-packages/torch/include/torch/csrc/api/include/torch/data/dataloader_options.h:4,\n",
            "                     from /usr/local/lib/python3.6/dist-packages/torch/include/torch/csrc/api/include/torch/data/dataloader/base.h:3,\n",
            "                     from /usr/local/lib/python3.6/dist-packages/torch/include/torch/csrc/api/include/torch/data/dataloader/stateful.h:3,\n",
            "                     from /usr/local/lib/python3.6/dist-packages/torch/include/torch/csrc/api/include/torch/data/dataloader.h:3,\n",
            "                     from /usr/local/lib/python3.6/dist-packages/torch/include/torch/csrc/api/include/torch/data.h:3,\n",
            "                     from /usr/local/lib/python3.6/dist-packages/torch/include/torch/csrc/api/include/torch/all.h:4,\n",
            "                     from /usr/local/lib/python3.6/dist-packages/torch/include/torch/extension.h:4,\n",
            "                     from csrc/layer_norm_cuda.cpp:1:\n",
            "    csrc/layer_norm_cuda.cpp:117:42: warning: ‘at::DeprecatedTypeProperties& at::Tensor::type() const’ is deprecated: Tensor.type() is deprecated. Instead use Tensor.options(), which in many cases (e.g. in a constructor) is a drop-in replacement. If you were using data from type(), that is now available from Tensor itself, so instead of tensor.type().scalar_type(), use tensor.scalar_type() instead and instead of tensor.type().backend() use tensor.device(). [-Wdeprecated-declarations]\n",
            "     #define CHECK_CUDA(x) TORCH_CHECK(x.type().is_cuda(), #x \" must be a CUDA tensor\")\n",
            "                                              ^\n",
            "    /usr/local/lib/python3.6/dist-packages/torch/include/c10/macros/Macros.h:141:65: note: in definition of macro ‘C10_UNLIKELY’\n",
            "     #define C10_UNLIKELY(expr)  (__builtin_expect(static_cast<bool>(expr), 0))\n",
            "                                                                     ^~~~\n",
            "    /usr/local/lib/python3.6/dist-packages/torch/include/c10/util/Exception.h:262:7: note: in expansion of macro ‘C10_UNLIKELY_OR_CONST’\n",
            "       if (C10_UNLIKELY_OR_CONST(!(cond))) {                     \\\n",
            "           ^~~~~~~~~~~~~~~~~~~~~\n",
            "    /usr/local/lib/python3.6/dist-packages/torch/include/c10/util/Exception.h:273:32: note: in expansion of macro ‘TORCH_CHECK_WITH’\n",
            "     #define TORCH_CHECK(cond, ...) TORCH_CHECK_WITH(Error, cond, __VA_ARGS__)\n",
            "                                    ^~~~~~~~~~~~~~~~\n",
            "    csrc/layer_norm_cuda.cpp:117:23: note: in expansion of macro ‘TORCH_CHECK’\n",
            "     #define CHECK_CUDA(x) TORCH_CHECK(x.type().is_cuda(), #x \" must be a CUDA tensor\")\n",
            "                           ^~~~~~~~~~~\n",
            "    csrc/layer_norm_cuda.cpp:119:24: note: in expansion of macro ‘CHECK_CUDA’\n",
            "     #define CHECK_INPUT(x) CHECK_CUDA(x); CHECK_CONTIGUOUS(x)\n",
            "                            ^~~~~~~~~~\n",
            "    csrc/layer_norm_cuda.cpp:150:3: note: in expansion of macro ‘CHECK_INPUT’\n",
            "       CHECK_INPUT(gamma);\n",
            "       ^\n",
            "    In file included from /usr/local/lib/python3.6/dist-packages/torch/include/ATen/Tensor.h:11:0,\n",
            "                     from /usr/local/lib/python3.6/dist-packages/torch/include/ATen/Context.h:4,\n",
            "                     from /usr/local/lib/python3.6/dist-packages/torch/include/ATen/ATen.h:5,\n",
            "                     from /usr/local/lib/python3.6/dist-packages/torch/include/torch/csrc/api/include/torch/types.h:3,\n",
            "                     from /usr/local/lib/python3.6/dist-packages/torch/include/torch/csrc/api/include/torch/data/dataloader_options.h:4,\n",
            "                     from /usr/local/lib/python3.6/dist-packages/torch/include/torch/csrc/api/include/torch/data/dataloader/base.h:3,\n",
            "                     from /usr/local/lib/python3.6/dist-packages/torch/include/torch/csrc/api/include/torch/data/dataloader/stateful.h:3,\n",
            "                     from /usr/local/lib/python3.6/dist-packages/torch/include/torch/csrc/api/include/torch/data/dataloader.h:3,\n",
            "                     from /usr/local/lib/python3.6/dist-packages/torch/include/torch/csrc/api/include/torch/data.h:3,\n",
            "                     from /usr/local/lib/python3.6/dist-packages/torch/include/torch/csrc/api/include/torch/all.h:4,\n",
            "                     from /usr/local/lib/python3.6/dist-packages/torch/include/torch/extension.h:4,\n",
            "                     from csrc/layer_norm_cuda.cpp:1:\n",
            "    /usr/local/lib/python3.6/dist-packages/torch/include/ATen/core/TensorBody.h:262:30: note: declared here\n",
            "       DeprecatedTypeProperties & type() const {\n",
            "                                  ^~~~\n",
            "    In file included from /usr/local/lib/python3.6/dist-packages/torch/include/c10/core/DeviceType.h:8:0,\n",
            "                     from /usr/local/lib/python3.6/dist-packages/torch/include/c10/core/Device.h:3,\n",
            "                     from /usr/local/lib/python3.6/dist-packages/torch/include/c10/core/Allocator.h:6,\n",
            "                     from /usr/local/lib/python3.6/dist-packages/torch/include/ATen/ATen.h:3,\n",
            "                     from /usr/local/lib/python3.6/dist-packages/torch/include/torch/csrc/api/include/torch/types.h:3,\n",
            "                     from /usr/local/lib/python3.6/dist-packages/torch/include/torch/csrc/api/include/torch/data/dataloader_options.h:4,\n",
            "                     from /usr/local/lib/python3.6/dist-packages/torch/include/torch/csrc/api/include/torch/data/dataloader/base.h:3,\n",
            "                     from /usr/local/lib/python3.6/dist-packages/torch/include/torch/csrc/api/include/torch/data/dataloader/stateful.h:3,\n",
            "                     from /usr/local/lib/python3.6/dist-packages/torch/include/torch/csrc/api/include/torch/data/dataloader.h:3,\n",
            "                     from /usr/local/lib/python3.6/dist-packages/torch/include/torch/csrc/api/include/torch/data.h:3,\n",
            "                     from /usr/local/lib/python3.6/dist-packages/torch/include/torch/csrc/api/include/torch/all.h:4,\n",
            "                     from /usr/local/lib/python3.6/dist-packages/torch/include/torch/extension.h:4,\n",
            "                     from csrc/layer_norm_cuda.cpp:1:\n",
            "    csrc/layer_norm_cuda.cpp:117:42: warning: ‘at::DeprecatedTypeProperties& at::Tensor::type() const’ is deprecated: Tensor.type() is deprecated. Instead use Tensor.options(), which in many cases (e.g. in a constructor) is a drop-in replacement. If you were using data from type(), that is now available from Tensor itself, so instead of tensor.type().scalar_type(), use tensor.scalar_type() instead and instead of tensor.type().backend() use tensor.device(). [-Wdeprecated-declarations]\n",
            "     #define CHECK_CUDA(x) TORCH_CHECK(x.type().is_cuda(), #x \" must be a CUDA tensor\")\n",
            "                                              ^\n",
            "    /usr/local/lib/python3.6/dist-packages/torch/include/c10/macros/Macros.h:141:65: note: in definition of macro ‘C10_UNLIKELY’\n",
            "     #define C10_UNLIKELY(expr)  (__builtin_expect(static_cast<bool>(expr), 0))\n",
            "                                                                     ^~~~\n",
            "    /usr/local/lib/python3.6/dist-packages/torch/include/c10/util/Exception.h:262:7: note: in expansion of macro ‘C10_UNLIKELY_OR_CONST’\n",
            "       if (C10_UNLIKELY_OR_CONST(!(cond))) {                     \\\n",
            "           ^~~~~~~~~~~~~~~~~~~~~\n",
            "    /usr/local/lib/python3.6/dist-packages/torch/include/c10/util/Exception.h:273:32: note: in expansion of macro ‘TORCH_CHECK_WITH’\n",
            "     #define TORCH_CHECK(cond, ...) TORCH_CHECK_WITH(Error, cond, __VA_ARGS__)\n",
            "                                    ^~~~~~~~~~~~~~~~\n",
            "    csrc/layer_norm_cuda.cpp:117:23: note: in expansion of macro ‘TORCH_CHECK’\n",
            "     #define CHECK_CUDA(x) TORCH_CHECK(x.type().is_cuda(), #x \" must be a CUDA tensor\")\n",
            "                           ^~~~~~~~~~~\n",
            "    csrc/layer_norm_cuda.cpp:119:24: note: in expansion of macro ‘CHECK_CUDA’\n",
            "     #define CHECK_INPUT(x) CHECK_CUDA(x); CHECK_CONTIGUOUS(x)\n",
            "                            ^~~~~~~~~~\n",
            "    csrc/layer_norm_cuda.cpp:151:3: note: in expansion of macro ‘CHECK_INPUT’\n",
            "       CHECK_INPUT(beta);\n",
            "       ^\n",
            "    In file included from /usr/local/lib/python3.6/dist-packages/torch/include/ATen/Tensor.h:11:0,\n",
            "                     from /usr/local/lib/python3.6/dist-packages/torch/include/ATen/Context.h:4,\n",
            "                     from /usr/local/lib/python3.6/dist-packages/torch/include/ATen/ATen.h:5,\n",
            "                     from /usr/local/lib/python3.6/dist-packages/torch/include/torch/csrc/api/include/torch/types.h:3,\n",
            "                     from /usr/local/lib/python3.6/dist-packages/torch/include/torch/csrc/api/include/torch/data/dataloader_options.h:4,\n",
            "                     from /usr/local/lib/python3.6/dist-packages/torch/include/torch/csrc/api/include/torch/data/dataloader/base.h:3,\n",
            "                     from /usr/local/lib/python3.6/dist-packages/torch/include/torch/csrc/api/include/torch/data/dataloader/stateful.h:3,\n",
            "                     from /usr/local/lib/python3.6/dist-packages/torch/include/torch/csrc/api/include/torch/data/dataloader.h:3,\n",
            "                     from /usr/local/lib/python3.6/dist-packages/torch/include/torch/csrc/api/include/torch/data.h:3,\n",
            "                     from /usr/local/lib/python3.6/dist-packages/torch/include/torch/csrc/api/include/torch/all.h:4,\n",
            "                     from /usr/local/lib/python3.6/dist-packages/torch/include/torch/extension.h:4,\n",
            "                     from csrc/layer_norm_cuda.cpp:1:\n",
            "    /usr/local/lib/python3.6/dist-packages/torch/include/ATen/core/TensorBody.h:262:30: note: declared here\n",
            "       DeprecatedTypeProperties & type() const {\n",
            "                                  ^~~~\n",
            "    In file included from /usr/local/lib/python3.6/dist-packages/torch/include/c10/core/DeviceType.h:8:0,\n",
            "                     from /usr/local/lib/python3.6/dist-packages/torch/include/c10/core/Device.h:3,\n",
            "                     from /usr/local/lib/python3.6/dist-packages/torch/include/c10/core/Allocator.h:6,\n",
            "                     from /usr/local/lib/python3.6/dist-packages/torch/include/ATen/ATen.h:3,\n",
            "                     from /usr/local/lib/python3.6/dist-packages/torch/include/torch/csrc/api/include/torch/types.h:3,\n",
            "                     from /usr/local/lib/python3.6/dist-packages/torch/include/torch/csrc/api/include/torch/data/dataloader_options.h:4,\n",
            "                     from /usr/local/lib/python3.6/dist-packages/torch/include/torch/csrc/api/include/torch/data/dataloader/base.h:3,\n",
            "                     from /usr/local/lib/python3.6/dist-packages/torch/include/torch/csrc/api/include/torch/data/dataloader/stateful.h:3,\n",
            "                     from /usr/local/lib/python3.6/dist-packages/torch/include/torch/csrc/api/include/torch/data/dataloader.h:3,\n",
            "                     from /usr/local/lib/python3.6/dist-packages/torch/include/torch/csrc/api/include/torch/data.h:3,\n",
            "                     from /usr/local/lib/python3.6/dist-packages/torch/include/torch/csrc/api/include/torch/all.h:4,\n",
            "                     from /usr/local/lib/python3.6/dist-packages/torch/include/torch/extension.h:4,\n",
            "                     from csrc/layer_norm_cuda.cpp:1:\n",
            "    csrc/layer_norm_cuda.cpp: In function ‘at::Tensor layer_norm_gradient(at::Tensor, at::Tensor, at::Tensor, at::Tensor, c10::IntArrayRef, double)’:\n",
            "    csrc/layer_norm_cuda.cpp:117:42: warning: ‘at::DeprecatedTypeProperties& at::Tensor::type() const’ is deprecated: Tensor.type() is deprecated. Instead use Tensor.options(), which in many cases (e.g. in a constructor) is a drop-in replacement. If you were using data from type(), that is now available from Tensor itself, so instead of tensor.type().scalar_type(), use tensor.scalar_type() instead and instead of tensor.type().backend() use tensor.device(). [-Wdeprecated-declarations]\n",
            "     #define CHECK_CUDA(x) TORCH_CHECK(x.type().is_cuda(), #x \" must be a CUDA tensor\")\n",
            "                                              ^\n",
            "    /usr/local/lib/python3.6/dist-packages/torch/include/c10/macros/Macros.h:141:65: note: in definition of macro ‘C10_UNLIKELY’\n",
            "     #define C10_UNLIKELY(expr)  (__builtin_expect(static_cast<bool>(expr), 0))\n",
            "                                                                     ^~~~\n",
            "    /usr/local/lib/python3.6/dist-packages/torch/include/c10/util/Exception.h:262:7: note: in expansion of macro ‘C10_UNLIKELY_OR_CONST’\n",
            "       if (C10_UNLIKELY_OR_CONST(!(cond))) {                     \\\n",
            "           ^~~~~~~~~~~~~~~~~~~~~\n",
            "    /usr/local/lib/python3.6/dist-packages/torch/include/c10/util/Exception.h:273:32: note: in expansion of macro ‘TORCH_CHECK_WITH’\n",
            "     #define TORCH_CHECK(cond, ...) TORCH_CHECK_WITH(Error, cond, __VA_ARGS__)\n",
            "                                    ^~~~~~~~~~~~~~~~\n",
            "    csrc/layer_norm_cuda.cpp:117:23: note: in expansion of macro ‘TORCH_CHECK’\n",
            "     #define CHECK_CUDA(x) TORCH_CHECK(x.type().is_cuda(), #x \" must be a CUDA tensor\")\n",
            "                           ^~~~~~~~~~~\n",
            "    csrc/layer_norm_cuda.cpp:119:24: note: in expansion of macro ‘CHECK_CUDA’\n",
            "     #define CHECK_INPUT(x) CHECK_CUDA(x); CHECK_CONTIGUOUS(x)\n",
            "                            ^~~~~~~~~~\n",
            "    csrc/layer_norm_cuda.cpp:193:3: note: in expansion of macro ‘CHECK_INPUT’\n",
            "       CHECK_INPUT(dout);\n",
            "       ^\n",
            "    In file included from /usr/local/lib/python3.6/dist-packages/torch/include/ATen/Tensor.h:11:0,\n",
            "                     from /usr/local/lib/python3.6/dist-packages/torch/include/ATen/Context.h:4,\n",
            "                     from /usr/local/lib/python3.6/dist-packages/torch/include/ATen/ATen.h:5,\n",
            "                     from /usr/local/lib/python3.6/dist-packages/torch/include/torch/csrc/api/include/torch/types.h:3,\n",
            "                     from /usr/local/lib/python3.6/dist-packages/torch/include/torch/csrc/api/include/torch/data/dataloader_options.h:4,\n",
            "                     from /usr/local/lib/python3.6/dist-packages/torch/include/torch/csrc/api/include/torch/data/dataloader/base.h:3,\n",
            "                     from /usr/local/lib/python3.6/dist-packages/torch/include/torch/csrc/api/include/torch/data/dataloader/stateful.h:3,\n",
            "                     from /usr/local/lib/python3.6/dist-packages/torch/include/torch/csrc/api/include/torch/data/dataloader.h:3,\n",
            "                     from /usr/local/lib/python3.6/dist-packages/torch/include/torch/csrc/api/include/torch/data.h:3,\n",
            "                     from /usr/local/lib/python3.6/dist-packages/torch/include/torch/csrc/api/include/torch/all.h:4,\n",
            "                     from /usr/local/lib/python3.6/dist-packages/torch/include/torch/extension.h:4,\n",
            "                     from csrc/layer_norm_cuda.cpp:1:\n",
            "    /usr/local/lib/python3.6/dist-packages/torch/include/ATen/core/TensorBody.h:262:30: note: declared here\n",
            "       DeprecatedTypeProperties & type() const {\n",
            "                                  ^~~~\n",
            "    In file included from /usr/local/lib/python3.6/dist-packages/torch/include/c10/core/DeviceType.h:8:0,\n",
            "                     from /usr/local/lib/python3.6/dist-packages/torch/include/c10/core/Device.h:3,\n",
            "                     from /usr/local/lib/python3.6/dist-packages/torch/include/c10/core/Allocator.h:6,\n",
            "                     from /usr/local/lib/python3.6/dist-packages/torch/include/ATen/ATen.h:3,\n",
            "                     from /usr/local/lib/python3.6/dist-packages/torch/include/torch/csrc/api/include/torch/types.h:3,\n",
            "                     from /usr/local/lib/python3.6/dist-packages/torch/include/torch/csrc/api/include/torch/data/dataloader_options.h:4,\n",
            "                     from /usr/local/lib/python3.6/dist-packages/torch/include/torch/csrc/api/include/torch/data/dataloader/base.h:3,\n",
            "                     from /usr/local/lib/python3.6/dist-packages/torch/include/torch/csrc/api/include/torch/data/dataloader/stateful.h:3,\n",
            "                     from /usr/local/lib/python3.6/dist-packages/torch/include/torch/csrc/api/include/torch/data/dataloader.h:3,\n",
            "                     from /usr/local/lib/python3.6/dist-packages/torch/include/torch/csrc/api/include/torch/data.h:3,\n",
            "                     from /usr/local/lib/python3.6/dist-packages/torch/include/torch/csrc/api/include/torch/all.h:4,\n",
            "                     from /usr/local/lib/python3.6/dist-packages/torch/include/torch/extension.h:4,\n",
            "                     from csrc/layer_norm_cuda.cpp:1:\n",
            "    csrc/layer_norm_cuda.cpp:117:42: warning: ‘at::DeprecatedTypeProperties& at::Tensor::type() const’ is deprecated: Tensor.type() is deprecated. Instead use Tensor.options(), which in many cases (e.g. in a constructor) is a drop-in replacement. If you were using data from type(), that is now available from Tensor itself, so instead of tensor.type().scalar_type(), use tensor.scalar_type() instead and instead of tensor.type().backend() use tensor.device(). [-Wdeprecated-declarations]\n",
            "     #define CHECK_CUDA(x) TORCH_CHECK(x.type().is_cuda(), #x \" must be a CUDA tensor\")\n",
            "                                              ^\n",
            "    /usr/local/lib/python3.6/dist-packages/torch/include/c10/macros/Macros.h:141:65: note: in definition of macro ‘C10_UNLIKELY’\n",
            "     #define C10_UNLIKELY(expr)  (__builtin_expect(static_cast<bool>(expr), 0))\n",
            "                                                                     ^~~~\n",
            "    /usr/local/lib/python3.6/dist-packages/torch/include/c10/util/Exception.h:262:7: note: in expansion of macro ‘C10_UNLIKELY_OR_CONST’\n",
            "       if (C10_UNLIKELY_OR_CONST(!(cond))) {                     \\\n",
            "           ^~~~~~~~~~~~~~~~~~~~~\n",
            "    /usr/local/lib/python3.6/dist-packages/torch/include/c10/util/Exception.h:273:32: note: in expansion of macro ‘TORCH_CHECK_WITH’\n",
            "     #define TORCH_CHECK(cond, ...) TORCH_CHECK_WITH(Error, cond, __VA_ARGS__)\n",
            "                                    ^~~~~~~~~~~~~~~~\n",
            "    csrc/layer_norm_cuda.cpp:117:23: note: in expansion of macro ‘TORCH_CHECK’\n",
            "     #define CHECK_CUDA(x) TORCH_CHECK(x.type().is_cuda(), #x \" must be a CUDA tensor\")\n",
            "                           ^~~~~~~~~~~\n",
            "    csrc/layer_norm_cuda.cpp:119:24: note: in expansion of macro ‘CHECK_CUDA’\n",
            "     #define CHECK_INPUT(x) CHECK_CUDA(x); CHECK_CONTIGUOUS(x)\n",
            "                            ^~~~~~~~~~\n",
            "    csrc/layer_norm_cuda.cpp:194:3: note: in expansion of macro ‘CHECK_INPUT’\n",
            "       CHECK_INPUT(mean);\n",
            "       ^\n",
            "    In file included from /usr/local/lib/python3.6/dist-packages/torch/include/ATen/Tensor.h:11:0,\n",
            "                     from /usr/local/lib/python3.6/dist-packages/torch/include/ATen/Context.h:4,\n",
            "                     from /usr/local/lib/python3.6/dist-packages/torch/include/ATen/ATen.h:5,\n",
            "                     from /usr/local/lib/python3.6/dist-packages/torch/include/torch/csrc/api/include/torch/types.h:3,\n",
            "                     from /usr/local/lib/python3.6/dist-packages/torch/include/torch/csrc/api/include/torch/data/dataloader_options.h:4,\n",
            "                     from /usr/local/lib/python3.6/dist-packages/torch/include/torch/csrc/api/include/torch/data/dataloader/base.h:3,\n",
            "                     from /usr/local/lib/python3.6/dist-packages/torch/include/torch/csrc/api/include/torch/data/dataloader/stateful.h:3,\n",
            "                     from /usr/local/lib/python3.6/dist-packages/torch/include/torch/csrc/api/include/torch/data/dataloader.h:3,\n",
            "                     from /usr/local/lib/python3.6/dist-packages/torch/include/torch/csrc/api/include/torch/data.h:3,\n",
            "                     from /usr/local/lib/python3.6/dist-packages/torch/include/torch/csrc/api/include/torch/all.h:4,\n",
            "                     from /usr/local/lib/python3.6/dist-packages/torch/include/torch/extension.h:4,\n",
            "                     from csrc/layer_norm_cuda.cpp:1:\n",
            "    /usr/local/lib/python3.6/dist-packages/torch/include/ATen/core/TensorBody.h:262:30: note: declared here\n",
            "       DeprecatedTypeProperties & type() const {\n",
            "                                  ^~~~\n",
            "    In file included from /usr/local/lib/python3.6/dist-packages/torch/include/c10/core/DeviceType.h:8:0,\n",
            "                     from /usr/local/lib/python3.6/dist-packages/torch/include/c10/core/Device.h:3,\n",
            "                     from /usr/local/lib/python3.6/dist-packages/torch/include/c10/core/Allocator.h:6,\n",
            "                     from /usr/local/lib/python3.6/dist-packages/torch/include/ATen/ATen.h:3,\n",
            "                     from /usr/local/lib/python3.6/dist-packages/torch/include/torch/csrc/api/include/torch/types.h:3,\n",
            "                     from /usr/local/lib/python3.6/dist-packages/torch/include/torch/csrc/api/include/torch/data/dataloader_options.h:4,\n",
            "                     from /usr/local/lib/python3.6/dist-packages/torch/include/torch/csrc/api/include/torch/data/dataloader/base.h:3,\n",
            "                     from /usr/local/lib/python3.6/dist-packages/torch/include/torch/csrc/api/include/torch/data/dataloader/stateful.h:3,\n",
            "                     from /usr/local/lib/python3.6/dist-packages/torch/include/torch/csrc/api/include/torch/data/dataloader.h:3,\n",
            "                     from /usr/local/lib/python3.6/dist-packages/torch/include/torch/csrc/api/include/torch/data.h:3,\n",
            "                     from /usr/local/lib/python3.6/dist-packages/torch/include/torch/csrc/api/include/torch/all.h:4,\n",
            "                     from /usr/local/lib/python3.6/dist-packages/torch/include/torch/extension.h:4,\n",
            "                     from csrc/layer_norm_cuda.cpp:1:\n",
            "    csrc/layer_norm_cuda.cpp:117:42: warning: ‘at::DeprecatedTypeProperties& at::Tensor::type() const’ is deprecated: Tensor.type() is deprecated. Instead use Tensor.options(), which in many cases (e.g. in a constructor) is a drop-in replacement. If you were using data from type(), that is now available from Tensor itself, so instead of tensor.type().scalar_type(), use tensor.scalar_type() instead and instead of tensor.type().backend() use tensor.device(). [-Wdeprecated-declarations]\n",
            "     #define CHECK_CUDA(x) TORCH_CHECK(x.type().is_cuda(), #x \" must be a CUDA tensor\")\n",
            "                                              ^\n",
            "    /usr/local/lib/python3.6/dist-packages/torch/include/c10/macros/Macros.h:141:65: note: in definition of macro ‘C10_UNLIKELY’\n",
            "     #define C10_UNLIKELY(expr)  (__builtin_expect(static_cast<bool>(expr), 0))\n",
            "                                                                     ^~~~\n",
            "    /usr/local/lib/python3.6/dist-packages/torch/include/c10/util/Exception.h:262:7: note: in expansion of macro ‘C10_UNLIKELY_OR_CONST’\n",
            "       if (C10_UNLIKELY_OR_CONST(!(cond))) {                     \\\n",
            "           ^~~~~~~~~~~~~~~~~~~~~\n",
            "    /usr/local/lib/python3.6/dist-packages/torch/include/c10/util/Exception.h:273:32: note: in expansion of macro ‘TORCH_CHECK_WITH’\n",
            "     #define TORCH_CHECK(cond, ...) TORCH_CHECK_WITH(Error, cond, __VA_ARGS__)\n",
            "                                    ^~~~~~~~~~~~~~~~\n",
            "    csrc/layer_norm_cuda.cpp:117:23: note: in expansion of macro ‘TORCH_CHECK’\n",
            "     #define CHECK_CUDA(x) TORCH_CHECK(x.type().is_cuda(), #x \" must be a CUDA tensor\")\n",
            "                           ^~~~~~~~~~~\n",
            "    csrc/layer_norm_cuda.cpp:119:24: note: in expansion of macro ‘CHECK_CUDA’\n",
            "     #define CHECK_INPUT(x) CHECK_CUDA(x); CHECK_CONTIGUOUS(x)\n",
            "                            ^~~~~~~~~~\n",
            "    csrc/layer_norm_cuda.cpp:195:3: note: in expansion of macro ‘CHECK_INPUT’\n",
            "       CHECK_INPUT(invvar);\n",
            "       ^\n",
            "    In file included from /usr/local/lib/python3.6/dist-packages/torch/include/ATen/Tensor.h:11:0,\n",
            "                     from /usr/local/lib/python3.6/dist-packages/torch/include/ATen/Context.h:4,\n",
            "                     from /usr/local/lib/python3.6/dist-packages/torch/include/ATen/ATen.h:5,\n",
            "                     from /usr/local/lib/python3.6/dist-packages/torch/include/torch/csrc/api/include/torch/types.h:3,\n",
            "                     from /usr/local/lib/python3.6/dist-packages/torch/include/torch/csrc/api/include/torch/data/dataloader_options.h:4,\n",
            "                     from /usr/local/lib/python3.6/dist-packages/torch/include/torch/csrc/api/include/torch/data/dataloader/base.h:3,\n",
            "                     from /usr/local/lib/python3.6/dist-packages/torch/include/torch/csrc/api/include/torch/data/dataloader/stateful.h:3,\n",
            "                     from /usr/local/lib/python3.6/dist-packages/torch/include/torch/csrc/api/include/torch/data/dataloader.h:3,\n",
            "                     from /usr/local/lib/python3.6/dist-packages/torch/include/torch/csrc/api/include/torch/data.h:3,\n",
            "                     from /usr/local/lib/python3.6/dist-packages/torch/include/torch/csrc/api/include/torch/all.h:4,\n",
            "                     from /usr/local/lib/python3.6/dist-packages/torch/include/torch/extension.h:4,\n",
            "                     from csrc/layer_norm_cuda.cpp:1:\n",
            "    /usr/local/lib/python3.6/dist-packages/torch/include/ATen/core/TensorBody.h:262:30: note: declared here\n",
            "       DeprecatedTypeProperties & type() const {\n",
            "                                  ^~~~\n",
            "    In file included from /usr/local/lib/python3.6/dist-packages/torch/include/c10/core/DeviceType.h:8:0,\n",
            "                     from /usr/local/lib/python3.6/dist-packages/torch/include/c10/core/Device.h:3,\n",
            "                     from /usr/local/lib/python3.6/dist-packages/torch/include/c10/core/Allocator.h:6,\n",
            "                     from /usr/local/lib/python3.6/dist-packages/torch/include/ATen/ATen.h:3,\n",
            "                     from /usr/local/lib/python3.6/dist-packages/torch/include/torch/csrc/api/include/torch/types.h:3,\n",
            "                     from /usr/local/lib/python3.6/dist-packages/torch/include/torch/csrc/api/include/torch/data/dataloader_options.h:4,\n",
            "                     from /usr/local/lib/python3.6/dist-packages/torch/include/torch/csrc/api/include/torch/data/dataloader/base.h:3,\n",
            "                     from /usr/local/lib/python3.6/dist-packages/torch/include/torch/csrc/api/include/torch/data/dataloader/stateful.h:3,\n",
            "                     from /usr/local/lib/python3.6/dist-packages/torch/include/torch/csrc/api/include/torch/data/dataloader.h:3,\n",
            "                     from /usr/local/lib/python3.6/dist-packages/torch/include/torch/csrc/api/include/torch/data.h:3,\n",
            "                     from /usr/local/lib/python3.6/dist-packages/torch/include/torch/csrc/api/include/torch/all.h:4,\n",
            "                     from /usr/local/lib/python3.6/dist-packages/torch/include/torch/extension.h:4,\n",
            "                     from csrc/layer_norm_cuda.cpp:1:\n",
            "    csrc/layer_norm_cuda.cpp:117:42: warning: ‘at::DeprecatedTypeProperties& at::Tensor::type() const’ is deprecated: Tensor.type() is deprecated. Instead use Tensor.options(), which in many cases (e.g. in a constructor) is a drop-in replacement. If you were using data from type(), that is now available from Tensor itself, so instead of tensor.type().scalar_type(), use tensor.scalar_type() instead and instead of tensor.type().backend() use tensor.device(). [-Wdeprecated-declarations]\n",
            "     #define CHECK_CUDA(x) TORCH_CHECK(x.type().is_cuda(), #x \" must be a CUDA tensor\")\n",
            "                                              ^\n",
            "    /usr/local/lib/python3.6/dist-packages/torch/include/c10/macros/Macros.h:141:65: note: in definition of macro ‘C10_UNLIKELY’\n",
            "     #define C10_UNLIKELY(expr)  (__builtin_expect(static_cast<bool>(expr), 0))\n",
            "                                                                     ^~~~\n",
            "    /usr/local/lib/python3.6/dist-packages/torch/include/c10/util/Exception.h:262:7: note: in expansion of macro ‘C10_UNLIKELY_OR_CONST’\n",
            "       if (C10_UNLIKELY_OR_CONST(!(cond))) {                     \\\n",
            "           ^~~~~~~~~~~~~~~~~~~~~\n",
            "    /usr/local/lib/python3.6/dist-packages/torch/include/c10/util/Exception.h:273:32: note: in expansion of macro ‘TORCH_CHECK_WITH’\n",
            "     #define TORCH_CHECK(cond, ...) TORCH_CHECK_WITH(Error, cond, __VA_ARGS__)\n",
            "                                    ^~~~~~~~~~~~~~~~\n",
            "    csrc/layer_norm_cuda.cpp:117:23: note: in expansion of macro ‘TORCH_CHECK’\n",
            "     #define CHECK_CUDA(x) TORCH_CHECK(x.type().is_cuda(), #x \" must be a CUDA tensor\")\n",
            "                           ^~~~~~~~~~~\n",
            "    csrc/layer_norm_cuda.cpp:119:24: note: in expansion of macro ‘CHECK_CUDA’\n",
            "     #define CHECK_INPUT(x) CHECK_CUDA(x); CHECK_CONTIGUOUS(x)\n",
            "                            ^~~~~~~~~~\n",
            "    csrc/layer_norm_cuda.cpp:196:3: note: in expansion of macro ‘CHECK_INPUT’\n",
            "       CHECK_INPUT(input);\n",
            "       ^\n",
            "    In file included from /usr/local/lib/python3.6/dist-packages/torch/include/ATen/Tensor.h:11:0,\n",
            "                     from /usr/local/lib/python3.6/dist-packages/torch/include/ATen/Context.h:4,\n",
            "                     from /usr/local/lib/python3.6/dist-packages/torch/include/ATen/ATen.h:5,\n",
            "                     from /usr/local/lib/python3.6/dist-packages/torch/include/torch/csrc/api/include/torch/types.h:3,\n",
            "                     from /usr/local/lib/python3.6/dist-packages/torch/include/torch/csrc/api/include/torch/data/dataloader_options.h:4,\n",
            "                     from /usr/local/lib/python3.6/dist-packages/torch/include/torch/csrc/api/include/torch/data/dataloader/base.h:3,\n",
            "                     from /usr/local/lib/python3.6/dist-packages/torch/include/torch/csrc/api/include/torch/data/dataloader/stateful.h:3,\n",
            "                     from /usr/local/lib/python3.6/dist-packages/torch/include/torch/csrc/api/include/torch/data/dataloader.h:3,\n",
            "                     from /usr/local/lib/python3.6/dist-packages/torch/include/torch/csrc/api/include/torch/data.h:3,\n",
            "                     from /usr/local/lib/python3.6/dist-packages/torch/include/torch/csrc/api/include/torch/all.h:4,\n",
            "                     from /usr/local/lib/python3.6/dist-packages/torch/include/torch/extension.h:4,\n",
            "                     from csrc/layer_norm_cuda.cpp:1:\n",
            "    /usr/local/lib/python3.6/dist-packages/torch/include/ATen/core/TensorBody.h:262:30: note: declared here\n",
            "       DeprecatedTypeProperties & type() const {\n",
            "                                  ^~~~\n",
            "    In file included from /usr/local/lib/python3.6/dist-packages/torch/include/c10/core/DeviceType.h:8:0,\n",
            "                     from /usr/local/lib/python3.6/dist-packages/torch/include/c10/core/Device.h:3,\n",
            "                     from /usr/local/lib/python3.6/dist-packages/torch/include/c10/core/Allocator.h:6,\n",
            "                     from /usr/local/lib/python3.6/dist-packages/torch/include/ATen/ATen.h:3,\n",
            "                     from /usr/local/lib/python3.6/dist-packages/torch/include/torch/csrc/api/include/torch/types.h:3,\n",
            "                     from /usr/local/lib/python3.6/dist-packages/torch/include/torch/csrc/api/include/torch/data/dataloader_options.h:4,\n",
            "                     from /usr/local/lib/python3.6/dist-packages/torch/include/torch/csrc/api/include/torch/data/dataloader/base.h:3,\n",
            "                     from /usr/local/lib/python3.6/dist-packages/torch/include/torch/csrc/api/include/torch/data/dataloader/stateful.h:3,\n",
            "                     from /usr/local/lib/python3.6/dist-packages/torch/include/torch/csrc/api/include/torch/data/dataloader.h:3,\n",
            "                     from /usr/local/lib/python3.6/dist-packages/torch/include/torch/csrc/api/include/torch/data.h:3,\n",
            "                     from /usr/local/lib/python3.6/dist-packages/torch/include/torch/csrc/api/include/torch/all.h:4,\n",
            "                     from /usr/local/lib/python3.6/dist-packages/torch/include/torch/extension.h:4,\n",
            "                     from csrc/layer_norm_cuda.cpp:1:\n",
            "    csrc/layer_norm_cuda.cpp: In function ‘std::vector<at::Tensor> layer_norm_gradient_affine(at::Tensor, at::Tensor, at::Tensor, at::Tensor, c10::IntArrayRef, at::Tensor, at::Tensor, double)’:\n",
            "    csrc/layer_norm_cuda.cpp:117:42: warning: ‘at::DeprecatedTypeProperties& at::Tensor::type() const’ is deprecated: Tensor.type() is deprecated. Instead use Tensor.options(), which in many cases (e.g. in a constructor) is a drop-in replacement. If you were using data from type(), that is now available from Tensor itself, so instead of tensor.type().scalar_type(), use tensor.scalar_type() instead and instead of tensor.type().backend() use tensor.device(). [-Wdeprecated-declarations]\n",
            "     #define CHECK_CUDA(x) TORCH_CHECK(x.type().is_cuda(), #x \" must be a CUDA tensor\")\n",
            "                                              ^\n",
            "    /usr/local/lib/python3.6/dist-packages/torch/include/c10/macros/Macros.h:141:65: note: in definition of macro ‘C10_UNLIKELY’\n",
            "     #define C10_UNLIKELY(expr)  (__builtin_expect(static_cast<bool>(expr), 0))\n",
            "                                                                     ^~~~\n",
            "    /usr/local/lib/python3.6/dist-packages/torch/include/c10/util/Exception.h:262:7: note: in expansion of macro ‘C10_UNLIKELY_OR_CONST’\n",
            "       if (C10_UNLIKELY_OR_CONST(!(cond))) {                     \\\n",
            "           ^~~~~~~~~~~~~~~~~~~~~\n",
            "    /usr/local/lib/python3.6/dist-packages/torch/include/c10/util/Exception.h:273:32: note: in expansion of macro ‘TORCH_CHECK_WITH’\n",
            "     #define TORCH_CHECK(cond, ...) TORCH_CHECK_WITH(Error, cond, __VA_ARGS__)\n",
            "                                    ^~~~~~~~~~~~~~~~\n",
            "    csrc/layer_norm_cuda.cpp:117:23: note: in expansion of macro ‘TORCH_CHECK’\n",
            "     #define CHECK_CUDA(x) TORCH_CHECK(x.type().is_cuda(), #x \" must be a CUDA tensor\")\n",
            "                           ^~~~~~~~~~~\n",
            "    csrc/layer_norm_cuda.cpp:119:24: note: in expansion of macro ‘CHECK_CUDA’\n",
            "     #define CHECK_INPUT(x) CHECK_CUDA(x); CHECK_CONTIGUOUS(x)\n",
            "                            ^~~~~~~~~~\n",
            "    csrc/layer_norm_cuda.cpp:218:3: note: in expansion of macro ‘CHECK_INPUT’\n",
            "       CHECK_INPUT(dout);\n",
            "       ^\n",
            "    In file included from /usr/local/lib/python3.6/dist-packages/torch/include/ATen/Tensor.h:11:0,\n",
            "                     from /usr/local/lib/python3.6/dist-packages/torch/include/ATen/Context.h:4,\n",
            "                     from /usr/local/lib/python3.6/dist-packages/torch/include/ATen/ATen.h:5,\n",
            "                     from /usr/local/lib/python3.6/dist-packages/torch/include/torch/csrc/api/include/torch/types.h:3,\n",
            "                     from /usr/local/lib/python3.6/dist-packages/torch/include/torch/csrc/api/include/torch/data/dataloader_options.h:4,\n",
            "                     from /usr/local/lib/python3.6/dist-packages/torch/include/torch/csrc/api/include/torch/data/dataloader/base.h:3,\n",
            "                     from /usr/local/lib/python3.6/dist-packages/torch/include/torch/csrc/api/include/torch/data/dataloader/stateful.h:3,\n",
            "                     from /usr/local/lib/python3.6/dist-packages/torch/include/torch/csrc/api/include/torch/data/dataloader.h:3,\n",
            "                     from /usr/local/lib/python3.6/dist-packages/torch/include/torch/csrc/api/include/torch/data.h:3,\n",
            "                     from /usr/local/lib/python3.6/dist-packages/torch/include/torch/csrc/api/include/torch/all.h:4,\n",
            "                     from /usr/local/lib/python3.6/dist-packages/torch/include/torch/extension.h:4,\n",
            "                     from csrc/layer_norm_cuda.cpp:1:\n",
            "    /usr/local/lib/python3.6/dist-packages/torch/include/ATen/core/TensorBody.h:262:30: note: declared here\n",
            "       DeprecatedTypeProperties & type() const {\n",
            "                                  ^~~~\n",
            "    In file included from /usr/local/lib/python3.6/dist-packages/torch/include/c10/core/DeviceType.h:8:0,\n",
            "                     from /usr/local/lib/python3.6/dist-packages/torch/include/c10/core/Device.h:3,\n",
            "                     from /usr/local/lib/python3.6/dist-packages/torch/include/c10/core/Allocator.h:6,\n",
            "                     from /usr/local/lib/python3.6/dist-packages/torch/include/ATen/ATen.h:3,\n",
            "                     from /usr/local/lib/python3.6/dist-packages/torch/include/torch/csrc/api/include/torch/types.h:3,\n",
            "                     from /usr/local/lib/python3.6/dist-packages/torch/include/torch/csrc/api/include/torch/data/dataloader_options.h:4,\n",
            "                     from /usr/local/lib/python3.6/dist-packages/torch/include/torch/csrc/api/include/torch/data/dataloader/base.h:3,\n",
            "                     from /usr/local/lib/python3.6/dist-packages/torch/include/torch/csrc/api/include/torch/data/dataloader/stateful.h:3,\n",
            "                     from /usr/local/lib/python3.6/dist-packages/torch/include/torch/csrc/api/include/torch/data/dataloader.h:3,\n",
            "                     from /usr/local/lib/python3.6/dist-packages/torch/include/torch/csrc/api/include/torch/data.h:3,\n",
            "                     from /usr/local/lib/python3.6/dist-packages/torch/include/torch/csrc/api/include/torch/all.h:4,\n",
            "                     from /usr/local/lib/python3.6/dist-packages/torch/include/torch/extension.h:4,\n",
            "                     from csrc/layer_norm_cuda.cpp:1:\n",
            "    csrc/layer_norm_cuda.cpp:117:42: warning: ‘at::DeprecatedTypeProperties& at::Tensor::type() const’ is deprecated: Tensor.type() is deprecated. Instead use Tensor.options(), which in many cases (e.g. in a constructor) is a drop-in replacement. If you were using data from type(), that is now available from Tensor itself, so instead of tensor.type().scalar_type(), use tensor.scalar_type() instead and instead of tensor.type().backend() use tensor.device(). [-Wdeprecated-declarations]\n",
            "     #define CHECK_CUDA(x) TORCH_CHECK(x.type().is_cuda(), #x \" must be a CUDA tensor\")\n",
            "                                              ^\n",
            "    /usr/local/lib/python3.6/dist-packages/torch/include/c10/macros/Macros.h:141:65: note: in definition of macro ‘C10_UNLIKELY’\n",
            "     #define C10_UNLIKELY(expr)  (__builtin_expect(static_cast<bool>(expr), 0))\n",
            "                                                                     ^~~~\n",
            "    /usr/local/lib/python3.6/dist-packages/torch/include/c10/util/Exception.h:262:7: note: in expansion of macro ‘C10_UNLIKELY_OR_CONST’\n",
            "       if (C10_UNLIKELY_OR_CONST(!(cond))) {                     \\\n",
            "           ^~~~~~~~~~~~~~~~~~~~~\n",
            "    /usr/local/lib/python3.6/dist-packages/torch/include/c10/util/Exception.h:273:32: note: in expansion of macro ‘TORCH_CHECK_WITH’\n",
            "     #define TORCH_CHECK(cond, ...) TORCH_CHECK_WITH(Error, cond, __VA_ARGS__)\n",
            "                                    ^~~~~~~~~~~~~~~~\n",
            "    csrc/layer_norm_cuda.cpp:117:23: note: in expansion of macro ‘TORCH_CHECK’\n",
            "     #define CHECK_CUDA(x) TORCH_CHECK(x.type().is_cuda(), #x \" must be a CUDA tensor\")\n",
            "                           ^~~~~~~~~~~\n",
            "    csrc/layer_norm_cuda.cpp:119:24: note: in expansion of macro ‘CHECK_CUDA’\n",
            "     #define CHECK_INPUT(x) CHECK_CUDA(x); CHECK_CONTIGUOUS(x)\n",
            "                            ^~~~~~~~~~\n",
            "    csrc/layer_norm_cuda.cpp:219:3: note: in expansion of macro ‘CHECK_INPUT’\n",
            "       CHECK_INPUT(mean);\n",
            "       ^\n",
            "    In file included from /usr/local/lib/python3.6/dist-packages/torch/include/ATen/Tensor.h:11:0,\n",
            "                     from /usr/local/lib/python3.6/dist-packages/torch/include/ATen/Context.h:4,\n",
            "                     from /usr/local/lib/python3.6/dist-packages/torch/include/ATen/ATen.h:5,\n",
            "                     from /usr/local/lib/python3.6/dist-packages/torch/include/torch/csrc/api/include/torch/types.h:3,\n",
            "                     from /usr/local/lib/python3.6/dist-packages/torch/include/torch/csrc/api/include/torch/data/dataloader_options.h:4,\n",
            "                     from /usr/local/lib/python3.6/dist-packages/torch/include/torch/csrc/api/include/torch/data/dataloader/base.h:3,\n",
            "                     from /usr/local/lib/python3.6/dist-packages/torch/include/torch/csrc/api/include/torch/data/dataloader/stateful.h:3,\n",
            "                     from /usr/local/lib/python3.6/dist-packages/torch/include/torch/csrc/api/include/torch/data/dataloader.h:3,\n",
            "                     from /usr/local/lib/python3.6/dist-packages/torch/include/torch/csrc/api/include/torch/data.h:3,\n",
            "                     from /usr/local/lib/python3.6/dist-packages/torch/include/torch/csrc/api/include/torch/all.h:4,\n",
            "                     from /usr/local/lib/python3.6/dist-packages/torch/include/torch/extension.h:4,\n",
            "                     from csrc/layer_norm_cuda.cpp:1:\n",
            "    /usr/local/lib/python3.6/dist-packages/torch/include/ATen/core/TensorBody.h:262:30: note: declared here\n",
            "       DeprecatedTypeProperties & type() const {\n",
            "                                  ^~~~\n",
            "    In file included from /usr/local/lib/python3.6/dist-packages/torch/include/c10/core/DeviceType.h:8:0,\n",
            "                     from /usr/local/lib/python3.6/dist-packages/torch/include/c10/core/Device.h:3,\n",
            "                     from /usr/local/lib/python3.6/dist-packages/torch/include/c10/core/Allocator.h:6,\n",
            "                     from /usr/local/lib/python3.6/dist-packages/torch/include/ATen/ATen.h:3,\n",
            "                     from /usr/local/lib/python3.6/dist-packages/torch/include/torch/csrc/api/include/torch/types.h:3,\n",
            "                     from /usr/local/lib/python3.6/dist-packages/torch/include/torch/csrc/api/include/torch/data/dataloader_options.h:4,\n",
            "                     from /usr/local/lib/python3.6/dist-packages/torch/include/torch/csrc/api/include/torch/data/dataloader/base.h:3,\n",
            "                     from /usr/local/lib/python3.6/dist-packages/torch/include/torch/csrc/api/include/torch/data/dataloader/stateful.h:3,\n",
            "                     from /usr/local/lib/python3.6/dist-packages/torch/include/torch/csrc/api/include/torch/data/dataloader.h:3,\n",
            "                     from /usr/local/lib/python3.6/dist-packages/torch/include/torch/csrc/api/include/torch/data.h:3,\n",
            "                     from /usr/local/lib/python3.6/dist-packages/torch/include/torch/csrc/api/include/torch/all.h:4,\n",
            "                     from /usr/local/lib/python3.6/dist-packages/torch/include/torch/extension.h:4,\n",
            "                     from csrc/layer_norm_cuda.cpp:1:\n",
            "    csrc/layer_norm_cuda.cpp:117:42: warning: ‘at::DeprecatedTypeProperties& at::Tensor::type() const’ is deprecated: Tensor.type() is deprecated. Instead use Tensor.options(), which in many cases (e.g. in a constructor) is a drop-in replacement. If you were using data from type(), that is now available from Tensor itself, so instead of tensor.type().scalar_type(), use tensor.scalar_type() instead and instead of tensor.type().backend() use tensor.device(). [-Wdeprecated-declarations]\n",
            "     #define CHECK_CUDA(x) TORCH_CHECK(x.type().is_cuda(), #x \" must be a CUDA tensor\")\n",
            "                                              ^\n",
            "    /usr/local/lib/python3.6/dist-packages/torch/include/c10/macros/Macros.h:141:65: note: in definition of macro ‘C10_UNLIKELY’\n",
            "     #define C10_UNLIKELY(expr)  (__builtin_expect(static_cast<bool>(expr), 0))\n",
            "                                                                     ^~~~\n",
            "    /usr/local/lib/python3.6/dist-packages/torch/include/c10/util/Exception.h:262:7: note: in expansion of macro ‘C10_UNLIKELY_OR_CONST’\n",
            "       if (C10_UNLIKELY_OR_CONST(!(cond))) {                     \\\n",
            "           ^~~~~~~~~~~~~~~~~~~~~\n",
            "    /usr/local/lib/python3.6/dist-packages/torch/include/c10/util/Exception.h:273:32: note: in expansion of macro ‘TORCH_CHECK_WITH’\n",
            "     #define TORCH_CHECK(cond, ...) TORCH_CHECK_WITH(Error, cond, __VA_ARGS__)\n",
            "                                    ^~~~~~~~~~~~~~~~\n",
            "    csrc/layer_norm_cuda.cpp:117:23: note: in expansion of macro ‘TORCH_CHECK’\n",
            "     #define CHECK_CUDA(x) TORCH_CHECK(x.type().is_cuda(), #x \" must be a CUDA tensor\")\n",
            "                           ^~~~~~~~~~~\n",
            "    csrc/layer_norm_cuda.cpp:119:24: note: in expansion of macro ‘CHECK_CUDA’\n",
            "     #define CHECK_INPUT(x) CHECK_CUDA(x); CHECK_CONTIGUOUS(x)\n",
            "                            ^~~~~~~~~~\n",
            "    csrc/layer_norm_cuda.cpp:220:3: note: in expansion of macro ‘CHECK_INPUT’\n",
            "       CHECK_INPUT(invvar);\n",
            "       ^\n",
            "    In file included from /usr/local/lib/python3.6/dist-packages/torch/include/ATen/Tensor.h:11:0,\n",
            "                     from /usr/local/lib/python3.6/dist-packages/torch/include/ATen/Context.h:4,\n",
            "                     from /usr/local/lib/python3.6/dist-packages/torch/include/ATen/ATen.h:5,\n",
            "                     from /usr/local/lib/python3.6/dist-packages/torch/include/torch/csrc/api/include/torch/types.h:3,\n",
            "                     from /usr/local/lib/python3.6/dist-packages/torch/include/torch/csrc/api/include/torch/data/dataloader_options.h:4,\n",
            "                     from /usr/local/lib/python3.6/dist-packages/torch/include/torch/csrc/api/include/torch/data/dataloader/base.h:3,\n",
            "                     from /usr/local/lib/python3.6/dist-packages/torch/include/torch/csrc/api/include/torch/data/dataloader/stateful.h:3,\n",
            "                     from /usr/local/lib/python3.6/dist-packages/torch/include/torch/csrc/api/include/torch/data/dataloader.h:3,\n",
            "                     from /usr/local/lib/python3.6/dist-packages/torch/include/torch/csrc/api/include/torch/data.h:3,\n",
            "                     from /usr/local/lib/python3.6/dist-packages/torch/include/torch/csrc/api/include/torch/all.h:4,\n",
            "                     from /usr/local/lib/python3.6/dist-packages/torch/include/torch/extension.h:4,\n",
            "                     from csrc/layer_norm_cuda.cpp:1:\n",
            "    /usr/local/lib/python3.6/dist-packages/torch/include/ATen/core/TensorBody.h:262:30: note: declared here\n",
            "       DeprecatedTypeProperties & type() const {\n",
            "                                  ^~~~\n",
            "    In file included from /usr/local/lib/python3.6/dist-packages/torch/include/c10/core/DeviceType.h:8:0,\n",
            "                     from /usr/local/lib/python3.6/dist-packages/torch/include/c10/core/Device.h:3,\n",
            "                     from /usr/local/lib/python3.6/dist-packages/torch/include/c10/core/Allocator.h:6,\n",
            "                     from /usr/local/lib/python3.6/dist-packages/torch/include/ATen/ATen.h:3,\n",
            "                     from /usr/local/lib/python3.6/dist-packages/torch/include/torch/csrc/api/include/torch/types.h:3,\n",
            "                     from /usr/local/lib/python3.6/dist-packages/torch/include/torch/csrc/api/include/torch/data/dataloader_options.h:4,\n",
            "                     from /usr/local/lib/python3.6/dist-packages/torch/include/torch/csrc/api/include/torch/data/dataloader/base.h:3,\n",
            "                     from /usr/local/lib/python3.6/dist-packages/torch/include/torch/csrc/api/include/torch/data/dataloader/stateful.h:3,\n",
            "                     from /usr/local/lib/python3.6/dist-packages/torch/include/torch/csrc/api/include/torch/data/dataloader.h:3,\n",
            "                     from /usr/local/lib/python3.6/dist-packages/torch/include/torch/csrc/api/include/torch/data.h:3,\n",
            "                     from /usr/local/lib/python3.6/dist-packages/torch/include/torch/csrc/api/include/torch/all.h:4,\n",
            "                     from /usr/local/lib/python3.6/dist-packages/torch/include/torch/extension.h:4,\n",
            "                     from csrc/layer_norm_cuda.cpp:1:\n",
            "    csrc/layer_norm_cuda.cpp:117:42: warning: ‘at::DeprecatedTypeProperties& at::Tensor::type() const’ is deprecated: Tensor.type() is deprecated. Instead use Tensor.options(), which in many cases (e.g. in a constructor) is a drop-in replacement. If you were using data from type(), that is now available from Tensor itself, so instead of tensor.type().scalar_type(), use tensor.scalar_type() instead and instead of tensor.type().backend() use tensor.device(). [-Wdeprecated-declarations]\n",
            "     #define CHECK_CUDA(x) TORCH_CHECK(x.type().is_cuda(), #x \" must be a CUDA tensor\")\n",
            "                                              ^\n",
            "    /usr/local/lib/python3.6/dist-packages/torch/include/c10/macros/Macros.h:141:65: note: in definition of macro ‘C10_UNLIKELY’\n",
            "     #define C10_UNLIKELY(expr)  (__builtin_expect(static_cast<bool>(expr), 0))\n",
            "                                                                     ^~~~\n",
            "    /usr/local/lib/python3.6/dist-packages/torch/include/c10/util/Exception.h:262:7: note: in expansion of macro ‘C10_UNLIKELY_OR_CONST’\n",
            "       if (C10_UNLIKELY_OR_CONST(!(cond))) {                     \\\n",
            "           ^~~~~~~~~~~~~~~~~~~~~\n",
            "    /usr/local/lib/python3.6/dist-packages/torch/include/c10/util/Exception.h:273:32: note: in expansion of macro ‘TORCH_CHECK_WITH’\n",
            "     #define TORCH_CHECK(cond, ...) TORCH_CHECK_WITH(Error, cond, __VA_ARGS__)\n",
            "                                    ^~~~~~~~~~~~~~~~\n",
            "    csrc/layer_norm_cuda.cpp:117:23: note: in expansion of macro ‘TORCH_CHECK’\n",
            "     #define CHECK_CUDA(x) TORCH_CHECK(x.type().is_cuda(), #x \" must be a CUDA tensor\")\n",
            "                           ^~~~~~~~~~~\n",
            "    csrc/layer_norm_cuda.cpp:119:24: note: in expansion of macro ‘CHECK_CUDA’\n",
            "     #define CHECK_INPUT(x) CHECK_CUDA(x); CHECK_CONTIGUOUS(x)\n",
            "                            ^~~~~~~~~~\n",
            "    csrc/layer_norm_cuda.cpp:221:3: note: in expansion of macro ‘CHECK_INPUT’\n",
            "       CHECK_INPUT(input);\n",
            "       ^\n",
            "    In file included from /usr/local/lib/python3.6/dist-packages/torch/include/ATen/Tensor.h:11:0,\n",
            "                     from /usr/local/lib/python3.6/dist-packages/torch/include/ATen/Context.h:4,\n",
            "                     from /usr/local/lib/python3.6/dist-packages/torch/include/ATen/ATen.h:5,\n",
            "                     from /usr/local/lib/python3.6/dist-packages/torch/include/torch/csrc/api/include/torch/types.h:3,\n",
            "                     from /usr/local/lib/python3.6/dist-packages/torch/include/torch/csrc/api/include/torch/data/dataloader_options.h:4,\n",
            "                     from /usr/local/lib/python3.6/dist-packages/torch/include/torch/csrc/api/include/torch/data/dataloader/base.h:3,\n",
            "                     from /usr/local/lib/python3.6/dist-packages/torch/include/torch/csrc/api/include/torch/data/dataloader/stateful.h:3,\n",
            "                     from /usr/local/lib/python3.6/dist-packages/torch/include/torch/csrc/api/include/torch/data/dataloader.h:3,\n",
            "                     from /usr/local/lib/python3.6/dist-packages/torch/include/torch/csrc/api/include/torch/data.h:3,\n",
            "                     from /usr/local/lib/python3.6/dist-packages/torch/include/torch/csrc/api/include/torch/all.h:4,\n",
            "                     from /usr/local/lib/python3.6/dist-packages/torch/include/torch/extension.h:4,\n",
            "                     from csrc/layer_norm_cuda.cpp:1:\n",
            "    /usr/local/lib/python3.6/dist-packages/torch/include/ATen/core/TensorBody.h:262:30: note: declared here\n",
            "       DeprecatedTypeProperties & type() const {\n",
            "                                  ^~~~\n",
            "    In file included from /usr/local/lib/python3.6/dist-packages/torch/include/c10/core/DeviceType.h:8:0,\n",
            "                     from /usr/local/lib/python3.6/dist-packages/torch/include/c10/core/Device.h:3,\n",
            "                     from /usr/local/lib/python3.6/dist-packages/torch/include/c10/core/Allocator.h:6,\n",
            "                     from /usr/local/lib/python3.6/dist-packages/torch/include/ATen/ATen.h:3,\n",
            "                     from /usr/local/lib/python3.6/dist-packages/torch/include/torch/csrc/api/include/torch/types.h:3,\n",
            "                     from /usr/local/lib/python3.6/dist-packages/torch/include/torch/csrc/api/include/torch/data/dataloader_options.h:4,\n",
            "                     from /usr/local/lib/python3.6/dist-packages/torch/include/torch/csrc/api/include/torch/data/dataloader/base.h:3,\n",
            "                     from /usr/local/lib/python3.6/dist-packages/torch/include/torch/csrc/api/include/torch/data/dataloader/stateful.h:3,\n",
            "                     from /usr/local/lib/python3.6/dist-packages/torch/include/torch/csrc/api/include/torch/data/dataloader.h:3,\n",
            "                     from /usr/local/lib/python3.6/dist-packages/torch/include/torch/csrc/api/include/torch/data.h:3,\n",
            "                     from /usr/local/lib/python3.6/dist-packages/torch/include/torch/csrc/api/include/torch/all.h:4,\n",
            "                     from /usr/local/lib/python3.6/dist-packages/torch/include/torch/extension.h:4,\n",
            "                     from csrc/layer_norm_cuda.cpp:1:\n",
            "    csrc/layer_norm_cuda.cpp:117:42: warning: ‘at::DeprecatedTypeProperties& at::Tensor::type() const’ is deprecated: Tensor.type() is deprecated. Instead use Tensor.options(), which in many cases (e.g. in a constructor) is a drop-in replacement. If you were using data from type(), that is now available from Tensor itself, so instead of tensor.type().scalar_type(), use tensor.scalar_type() instead and instead of tensor.type().backend() use tensor.device(). [-Wdeprecated-declarations]\n",
            "     #define CHECK_CUDA(x) TORCH_CHECK(x.type().is_cuda(), #x \" must be a CUDA tensor\")\n",
            "                                              ^\n",
            "    /usr/local/lib/python3.6/dist-packages/torch/include/c10/macros/Macros.h:141:65: note: in definition of macro ‘C10_UNLIKELY’\n",
            "     #define C10_UNLIKELY(expr)  (__builtin_expect(static_cast<bool>(expr), 0))\n",
            "                                                                     ^~~~\n",
            "    /usr/local/lib/python3.6/dist-packages/torch/include/c10/util/Exception.h:262:7: note: in expansion of macro ‘C10_UNLIKELY_OR_CONST’\n",
            "       if (C10_UNLIKELY_OR_CONST(!(cond))) {                     \\\n",
            "           ^~~~~~~~~~~~~~~~~~~~~\n",
            "    /usr/local/lib/python3.6/dist-packages/torch/include/c10/util/Exception.h:273:32: note: in expansion of macro ‘TORCH_CHECK_WITH’\n",
            "     #define TORCH_CHECK(cond, ...) TORCH_CHECK_WITH(Error, cond, __VA_ARGS__)\n",
            "                                    ^~~~~~~~~~~~~~~~\n",
            "    csrc/layer_norm_cuda.cpp:117:23: note: in expansion of macro ‘TORCH_CHECK’\n",
            "     #define CHECK_CUDA(x) TORCH_CHECK(x.type().is_cuda(), #x \" must be a CUDA tensor\")\n",
            "                           ^~~~~~~~~~~\n",
            "    csrc/layer_norm_cuda.cpp:119:24: note: in expansion of macro ‘CHECK_CUDA’\n",
            "     #define CHECK_INPUT(x) CHECK_CUDA(x); CHECK_CONTIGUOUS(x)\n",
            "                            ^~~~~~~~~~\n",
            "    csrc/layer_norm_cuda.cpp:222:3: note: in expansion of macro ‘CHECK_INPUT’\n",
            "       CHECK_INPUT(gamma);\n",
            "       ^\n",
            "    In file included from /usr/local/lib/python3.6/dist-packages/torch/include/ATen/Tensor.h:11:0,\n",
            "                     from /usr/local/lib/python3.6/dist-packages/torch/include/ATen/Context.h:4,\n",
            "                     from /usr/local/lib/python3.6/dist-packages/torch/include/ATen/ATen.h:5,\n",
            "                     from /usr/local/lib/python3.6/dist-packages/torch/include/torch/csrc/api/include/torch/types.h:3,\n",
            "                     from /usr/local/lib/python3.6/dist-packages/torch/include/torch/csrc/api/include/torch/data/dataloader_options.h:4,\n",
            "                     from /usr/local/lib/python3.6/dist-packages/torch/include/torch/csrc/api/include/torch/data/dataloader/base.h:3,\n",
            "                     from /usr/local/lib/python3.6/dist-packages/torch/include/torch/csrc/api/include/torch/data/dataloader/stateful.h:3,\n",
            "                     from /usr/local/lib/python3.6/dist-packages/torch/include/torch/csrc/api/include/torch/data/dataloader.h:3,\n",
            "                     from /usr/local/lib/python3.6/dist-packages/torch/include/torch/csrc/api/include/torch/data.h:3,\n",
            "                     from /usr/local/lib/python3.6/dist-packages/torch/include/torch/csrc/api/include/torch/all.h:4,\n",
            "                     from /usr/local/lib/python3.6/dist-packages/torch/include/torch/extension.h:4,\n",
            "                     from csrc/layer_norm_cuda.cpp:1:\n",
            "    /usr/local/lib/python3.6/dist-packages/torch/include/ATen/core/TensorBody.h:262:30: note: declared here\n",
            "       DeprecatedTypeProperties & type() const {\n",
            "                                  ^~~~\n",
            "    In file included from /usr/local/lib/python3.6/dist-packages/torch/include/c10/core/DeviceType.h:8:0,\n",
            "                     from /usr/local/lib/python3.6/dist-packages/torch/include/c10/core/Device.h:3,\n",
            "                     from /usr/local/lib/python3.6/dist-packages/torch/include/c10/core/Allocator.h:6,\n",
            "                     from /usr/local/lib/python3.6/dist-packages/torch/include/ATen/ATen.h:3,\n",
            "                     from /usr/local/lib/python3.6/dist-packages/torch/include/torch/csrc/api/include/torch/types.h:3,\n",
            "                     from /usr/local/lib/python3.6/dist-packages/torch/include/torch/csrc/api/include/torch/data/dataloader_options.h:4,\n",
            "                     from /usr/local/lib/python3.6/dist-packages/torch/include/torch/csrc/api/include/torch/data/dataloader/base.h:3,\n",
            "                     from /usr/local/lib/python3.6/dist-packages/torch/include/torch/csrc/api/include/torch/data/dataloader/stateful.h:3,\n",
            "                     from /usr/local/lib/python3.6/dist-packages/torch/include/torch/csrc/api/include/torch/data/dataloader.h:3,\n",
            "                     from /usr/local/lib/python3.6/dist-packages/torch/include/torch/csrc/api/include/torch/data.h:3,\n",
            "                     from /usr/local/lib/python3.6/dist-packages/torch/include/torch/csrc/api/include/torch/all.h:4,\n",
            "                     from /usr/local/lib/python3.6/dist-packages/torch/include/torch/extension.h:4,\n",
            "                     from csrc/layer_norm_cuda.cpp:1:\n",
            "    csrc/layer_norm_cuda.cpp:117:42: warning: ‘at::DeprecatedTypeProperties& at::Tensor::type() const’ is deprecated: Tensor.type() is deprecated. Instead use Tensor.options(), which in many cases (e.g. in a constructor) is a drop-in replacement. If you were using data from type(), that is now available from Tensor itself, so instead of tensor.type().scalar_type(), use tensor.scalar_type() instead and instead of tensor.type().backend() use tensor.device(). [-Wdeprecated-declarations]\n",
            "     #define CHECK_CUDA(x) TORCH_CHECK(x.type().is_cuda(), #x \" must be a CUDA tensor\")\n",
            "                                              ^\n",
            "    /usr/local/lib/python3.6/dist-packages/torch/include/c10/macros/Macros.h:141:65: note: in definition of macro ‘C10_UNLIKELY’\n",
            "     #define C10_UNLIKELY(expr)  (__builtin_expect(static_cast<bool>(expr), 0))\n",
            "                                                                     ^~~~\n",
            "    /usr/local/lib/python3.6/dist-packages/torch/include/c10/util/Exception.h:262:7: note: in expansion of macro ‘C10_UNLIKELY_OR_CONST’\n",
            "       if (C10_UNLIKELY_OR_CONST(!(cond))) {                     \\\n",
            "           ^~~~~~~~~~~~~~~~~~~~~\n",
            "    /usr/local/lib/python3.6/dist-packages/torch/include/c10/util/Exception.h:273:32: note: in expansion of macro ‘TORCH_CHECK_WITH’\n",
            "     #define TORCH_CHECK(cond, ...) TORCH_CHECK_WITH(Error, cond, __VA_ARGS__)\n",
            "                                    ^~~~~~~~~~~~~~~~\n",
            "    csrc/layer_norm_cuda.cpp:117:23: note: in expansion of macro ‘TORCH_CHECK’\n",
            "     #define CHECK_CUDA(x) TORCH_CHECK(x.type().is_cuda(), #x \" must be a CUDA tensor\")\n",
            "                           ^~~~~~~~~~~\n",
            "    csrc/layer_norm_cuda.cpp:119:24: note: in expansion of macro ‘CHECK_CUDA’\n",
            "     #define CHECK_INPUT(x) CHECK_CUDA(x); CHECK_CONTIGUOUS(x)\n",
            "                            ^~~~~~~~~~\n",
            "    csrc/layer_norm_cuda.cpp:223:3: note: in expansion of macro ‘CHECK_INPUT’\n",
            "       CHECK_INPUT(beta);\n",
            "       ^\n",
            "    In file included from /usr/local/lib/python3.6/dist-packages/torch/include/ATen/Tensor.h:11:0,\n",
            "                     from /usr/local/lib/python3.6/dist-packages/torch/include/ATen/Context.h:4,\n",
            "                     from /usr/local/lib/python3.6/dist-packages/torch/include/ATen/ATen.h:5,\n",
            "                     from /usr/local/lib/python3.6/dist-packages/torch/include/torch/csrc/api/include/torch/types.h:3,\n",
            "                     from /usr/local/lib/python3.6/dist-packages/torch/include/torch/csrc/api/include/torch/data/dataloader_options.h:4,\n",
            "                     from /usr/local/lib/python3.6/dist-packages/torch/include/torch/csrc/api/include/torch/data/dataloader/base.h:3,\n",
            "                     from /usr/local/lib/python3.6/dist-packages/torch/include/torch/csrc/api/include/torch/data/dataloader/stateful.h:3,\n",
            "                     from /usr/local/lib/python3.6/dist-packages/torch/include/torch/csrc/api/include/torch/data/dataloader.h:3,\n",
            "                     from /usr/local/lib/python3.6/dist-packages/torch/include/torch/csrc/api/include/torch/data.h:3,\n",
            "                     from /usr/local/lib/python3.6/dist-packages/torch/include/torch/csrc/api/include/torch/all.h:4,\n",
            "                     from /usr/local/lib/python3.6/dist-packages/torch/include/torch/extension.h:4,\n",
            "                     from csrc/layer_norm_cuda.cpp:1:\n",
            "    /usr/local/lib/python3.6/dist-packages/torch/include/ATen/core/TensorBody.h:262:30: note: declared here\n",
            "       DeprecatedTypeProperties & type() const {\n",
            "                                  ^~~~\n",
            "    /usr/local/cuda-10.1/bin/nvcc -I/usr/local/lib/python3.6/dist-packages/torch/include -I/usr/local/lib/python3.6/dist-packages/torch/include/torch/csrc/api/include -I/usr/local/lib/python3.6/dist-packages/torch/include/TH -I/usr/local/lib/python3.6/dist-packages/torch/include/THC -I/usr/local/cuda-10.1/include -I/usr/include/python3.6m -c csrc/layer_norm_cuda_kernel.cu -o build/temp.linux-x86_64-3.6/csrc/layer_norm_cuda_kernel.o -D__CUDA_NO_HALF_OPERATORS__ -D__CUDA_NO_HALF_CONVERSIONS__ -D__CUDA_NO_HALF2_OPERATORS__ --expt-relaxed-constexpr --compiler-options '-fPIC' -maxrregcount=50 -O3 --use_fast_math -DVERSION_GE_1_1 -DVERSION_GE_1_3 -DVERSION_GE_1_5 -DTORCH_API_INCLUDE_EXTENSION_H -DTORCH_EXTENSION_NAME=fused_layer_norm_cuda -D_GLIBCXX_USE_CXX11_ABI=0 -gencode=arch=compute_60,code=sm_60 -std=c++14\n",
            "    x86_64-linux-gnu-g++ -pthread -shared -Wl,-O1 -Wl,-Bsymbolic-functions -Wl,-Bsymbolic-functions -Wl,-z,relro -Wl,-Bsymbolic-functions -Wl,-z,relro -g -fstack-protector-strong -Wformat -Werror=format-security -Wdate-time -D_FORTIFY_SOURCE=2 build/temp.linux-x86_64-3.6/csrc/layer_norm_cuda.o build/temp.linux-x86_64-3.6/csrc/layer_norm_cuda_kernel.o -L/usr/local/lib/python3.6/dist-packages/torch/lib -L/usr/local/cuda-10.1/lib64 -lc10 -ltorch -ltorch_cpu -ltorch_python -lcudart -lc10_cuda -ltorch_cuda -o build/lib.linux-x86_64-3.6/fused_layer_norm_cuda.cpython-36m-x86_64-linux-gnu.so\n",
            "    building 'mlp_cuda' extension\n",
            "    x86_64-linux-gnu-gcc -pthread -DNDEBUG -g -fwrapv -O2 -Wall -g -fstack-protector-strong -Wformat -Werror=format-security -Wdate-time -D_FORTIFY_SOURCE=2 -fPIC -I/usr/local/lib/python3.6/dist-packages/torch/include -I/usr/local/lib/python3.6/dist-packages/torch/include/torch/csrc/api/include -I/usr/local/lib/python3.6/dist-packages/torch/include/TH -I/usr/local/lib/python3.6/dist-packages/torch/include/THC -I/usr/local/cuda-10.1/include -I/usr/include/python3.6m -c csrc/mlp.cpp -o build/temp.linux-x86_64-3.6/csrc/mlp.o -O3 -DVERSION_GE_1_1 -DVERSION_GE_1_3 -DVERSION_GE_1_5 -DTORCH_API_INCLUDE_EXTENSION_H -DTORCH_EXTENSION_NAME=mlp_cuda -D_GLIBCXX_USE_CXX11_ABI=0 -std=c++14\n",
            "    csrc/mlp.cpp: In function ‘std::vector<at::Tensor> mlp_forward(std::vector<at::Tensor>)’:\n",
            "    csrc/mlp.cpp:47:21: warning: comparison between signed and unsigned integer expressions [-Wsign-compare]\n",
            "       for (int i = 0; i < num_layers; i++) {\n",
            "                       ~~^~~~~~~~~~~~\n",
            "    csrc/mlp.cpp:55:77: warning: ‘at::DeprecatedTypeProperties& at::Tensor::type() const’ is deprecated: Tensor.type() is deprecated. Instead use Tensor.options(), which in many cases (e.g. in a constructor) is a drop-in replacement. If you were using data from type(), that is now available from Tensor itself, so instead of tensor.type().scalar_type(), use tensor.scalar_type() instead and instead of tensor.type().backend() use tensor.device(). [-Wdeprecated-declarations]\n",
            "       auto out = at::empty({batch_size, output_features.back()}, inputs[0].type());\n",
            "                                                                                 ^\n",
            "    In file included from /usr/local/lib/python3.6/dist-packages/torch/include/ATen/Tensor.h:11:0,\n",
            "                     from /usr/local/lib/python3.6/dist-packages/torch/include/ATen/Context.h:4,\n",
            "                     from /usr/local/lib/python3.6/dist-packages/torch/include/ATen/ATen.h:5,\n",
            "                     from /usr/local/lib/python3.6/dist-packages/torch/include/torch/csrc/api/include/torch/types.h:3,\n",
            "                     from /usr/local/lib/python3.6/dist-packages/torch/include/torch/csrc/api/include/torch/data/dataloader_options.h:4,\n",
            "                     from /usr/local/lib/python3.6/dist-packages/torch/include/torch/csrc/api/include/torch/data/dataloader/base.h:3,\n",
            "                     from /usr/local/lib/python3.6/dist-packages/torch/include/torch/csrc/api/include/torch/data/dataloader/stateful.h:3,\n",
            "                     from /usr/local/lib/python3.6/dist-packages/torch/include/torch/csrc/api/include/torch/data/dataloader.h:3,\n",
            "                     from /usr/local/lib/python3.6/dist-packages/torch/include/torch/csrc/api/include/torch/data.h:3,\n",
            "                     from /usr/local/lib/python3.6/dist-packages/torch/include/torch/csrc/api/include/torch/all.h:4,\n",
            "                     from /usr/local/lib/python3.6/dist-packages/torch/include/torch/extension.h:4,\n",
            "                     from csrc/mlp.cpp:1:\n",
            "    /usr/local/lib/python3.6/dist-packages/torch/include/ATen/core/TensorBody.h:262:30: note: declared here\n",
            "       DeprecatedTypeProperties & type() const {\n",
            "                                  ^~~~\n",
            "    csrc/mlp.cpp:56:67: warning: ‘at::DeprecatedTypeProperties& at::Tensor::type() const’ is deprecated: Tensor.type() is deprecated. Instead use Tensor.options(), which in many cases (e.g. in a constructor) is a drop-in replacement. If you were using data from type(), that is now available from Tensor itself, so instead of tensor.type().scalar_type(), use tensor.scalar_type() instead and instead of tensor.type().backend() use tensor.device(). [-Wdeprecated-declarations]\n",
            "       auto reserved_space = at::empty({reserved_size}, inputs[0].type());\n",
            "                                                                       ^\n",
            "    In file included from /usr/local/lib/python3.6/dist-packages/torch/include/ATen/Tensor.h:11:0,\n",
            "                     from /usr/local/lib/python3.6/dist-packages/torch/include/ATen/Context.h:4,\n",
            "                     from /usr/local/lib/python3.6/dist-packages/torch/include/ATen/ATen.h:5,\n",
            "                     from /usr/local/lib/python3.6/dist-packages/torch/include/torch/csrc/api/include/torch/types.h:3,\n",
            "                     from /usr/local/lib/python3.6/dist-packages/torch/include/torch/csrc/api/include/torch/data/dataloader_options.h:4,\n",
            "                     from /usr/local/lib/python3.6/dist-packages/torch/include/torch/csrc/api/include/torch/data/dataloader/base.h:3,\n",
            "                     from /usr/local/lib/python3.6/dist-packages/torch/include/torch/csrc/api/include/torch/data/dataloader/stateful.h:3,\n",
            "                     from /usr/local/lib/python3.6/dist-packages/torch/include/torch/csrc/api/include/torch/data/dataloader.h:3,\n",
            "                     from /usr/local/lib/python3.6/dist-packages/torch/include/torch/csrc/api/include/torch/data.h:3,\n",
            "                     from /usr/local/lib/python3.6/dist-packages/torch/include/torch/csrc/api/include/torch/all.h:4,\n",
            "                     from /usr/local/lib/python3.6/dist-packages/torch/include/torch/extension.h:4,\n",
            "                     from csrc/mlp.cpp:1:\n",
            "    /usr/local/lib/python3.6/dist-packages/torch/include/ATen/core/TensorBody.h:262:30: note: declared here\n",
            "       DeprecatedTypeProperties & type() const {\n",
            "                                  ^~~~\n",
            "    csrc/mlp.cpp:56:68: warning: narrowing conversion of ‘reserved_size’ from ‘long unsigned int’ to ‘long int’ inside { } [-Wnarrowing]\n",
            "       auto reserved_space = at::empty({reserved_size}, inputs[0].type());\n",
            "                                                                        ^\n",
            "    csrc/mlp.cpp:56:68: warning: narrowing conversion of ‘reserved_size’ from ‘long unsigned int’ to ‘long int’ inside { } [-Wnarrowing]\n",
            "    In file included from /usr/local/lib/python3.6/dist-packages/torch/include/ATen/ATen.h:9:0,\n",
            "                     from /usr/local/lib/python3.6/dist-packages/torch/include/torch/csrc/api/include/torch/types.h:3,\n",
            "                     from /usr/local/lib/python3.6/dist-packages/torch/include/torch/csrc/api/include/torch/data/dataloader_options.h:4,\n",
            "                     from /usr/local/lib/python3.6/dist-packages/torch/include/torch/csrc/api/include/torch/data/dataloader/base.h:3,\n",
            "                     from /usr/local/lib/python3.6/dist-packages/torch/include/torch/csrc/api/include/torch/data/dataloader/stateful.h:3,\n",
            "                     from /usr/local/lib/python3.6/dist-packages/torch/include/torch/csrc/api/include/torch/data/dataloader.h:3,\n",
            "                     from /usr/local/lib/python3.6/dist-packages/torch/include/torch/csrc/api/include/torch/data.h:3,\n",
            "                     from /usr/local/lib/python3.6/dist-packages/torch/include/torch/csrc/api/include/torch/all.h:4,\n",
            "                     from /usr/local/lib/python3.6/dist-packages/torch/include/torch/extension.h:4,\n",
            "                     from csrc/mlp.cpp:1:\n",
            "    csrc/mlp.cpp: In lambda function:\n",
            "    csrc/mlp.cpp:58:54: warning: ‘at::DeprecatedTypeProperties& at::Tensor::type() const’ is deprecated: Tensor.type() is deprecated. Instead use Tensor.options(), which in many cases (e.g. in a constructor) is a drop-in replacement. If you were using data from type(), that is now available from Tensor itself, so instead of tensor.type().scalar_type(), use tensor.scalar_type() instead and instead of tensor.type().backend() use tensor.device(). [-Wdeprecated-declarations]\n",
            "       AT_DISPATCH_FLOATING_TYPES_AND_HALF(inputs[0].type(), \"mlp_forward\", [&] {\n",
            "                                                          ^\n",
            "    /usr/local/lib/python3.6/dist-packages/torch/include/ATen/Dispatch.h:129:28: note: in definition of macro ‘AT_DISPATCH_FLOATING_TYPES_AND_HALF’\n",
            "         const auto& the_type = TYPE;                                             \\\n",
            "                                ^~~~\n",
            "    In file included from /usr/local/lib/python3.6/dist-packages/torch/include/ATen/Tensor.h:11:0,\n",
            "                     from /usr/local/lib/python3.6/dist-packages/torch/include/ATen/Context.h:4,\n",
            "                     from /usr/local/lib/python3.6/dist-packages/torch/include/ATen/ATen.h:5,\n",
            "                     from /usr/local/lib/python3.6/dist-packages/torch/include/torch/csrc/api/include/torch/types.h:3,\n",
            "                     from /usr/local/lib/python3.6/dist-packages/torch/include/torch/csrc/api/include/torch/data/dataloader_options.h:4,\n",
            "                     from /usr/local/lib/python3.6/dist-packages/torch/include/torch/csrc/api/include/torch/data/dataloader/base.h:3,\n",
            "                     from /usr/local/lib/python3.6/dist-packages/torch/include/torch/csrc/api/include/torch/data/dataloader/stateful.h:3,\n",
            "                     from /usr/local/lib/python3.6/dist-packages/torch/include/torch/csrc/api/include/torch/data/dataloader.h:3,\n",
            "                     from /usr/local/lib/python3.6/dist-packages/torch/include/torch/csrc/api/include/torch/data.h:3,\n",
            "                     from /usr/local/lib/python3.6/dist-packages/torch/include/torch/csrc/api/include/torch/all.h:4,\n",
            "                     from /usr/local/lib/python3.6/dist-packages/torch/include/torch/extension.h:4,\n",
            "                     from csrc/mlp.cpp:1:\n",
            "    /usr/local/lib/python3.6/dist-packages/torch/include/ATen/core/TensorBody.h:262:30: note: declared here\n",
            "       DeprecatedTypeProperties & type() const {\n",
            "                                  ^~~~\n",
            "    In file included from /usr/local/lib/python3.6/dist-packages/torch/include/ATen/ATen.h:9:0,\n",
            "                     from /usr/local/lib/python3.6/dist-packages/torch/include/torch/csrc/api/include/torch/types.h:3,\n",
            "                     from /usr/local/lib/python3.6/dist-packages/torch/include/torch/csrc/api/include/torch/data/dataloader_options.h:4,\n",
            "                     from /usr/local/lib/python3.6/dist-packages/torch/include/torch/csrc/api/include/torch/data/dataloader/base.h:3,\n",
            "                     from /usr/local/lib/python3.6/dist-packages/torch/include/torch/csrc/api/include/torch/data/dataloader/stateful.h:3,\n",
            "                     from /usr/local/lib/python3.6/dist-packages/torch/include/torch/csrc/api/include/torch/data/dataloader.h:3,\n",
            "                     from /usr/local/lib/python3.6/dist-packages/torch/include/torch/csrc/api/include/torch/data.h:3,\n",
            "                     from /usr/local/lib/python3.6/dist-packages/torch/include/torch/csrc/api/include/torch/all.h:4,\n",
            "                     from /usr/local/lib/python3.6/dist-packages/torch/include/torch/extension.h:4,\n",
            "                     from csrc/mlp.cpp:1:\n",
            "    /usr/local/lib/python3.6/dist-packages/torch/include/ATen/Dispatch.h:131:56: warning: ‘c10::ScalarType detail::scalar_type(const at::DeprecatedTypeProperties&)’ is deprecated: passing at::DeprecatedTypeProperties to an AT_DISPATCH macro is deprecated, pass an at::ScalarType instead [-Wdeprecated-declarations]\n",
            "         at::ScalarType _st = ::detail::scalar_type(the_type);                    \\\n",
            "                                                            ^\n",
            "    csrc/mlp.cpp:58:3: note: in expansion of macro ‘AT_DISPATCH_FLOATING_TYPES_AND_HALF’\n",
            "       AT_DISPATCH_FLOATING_TYPES_AND_HALF(inputs[0].type(), \"mlp_forward\", [&] {\n",
            "       ^\n",
            "    /usr/local/lib/python3.6/dist-packages/torch/include/ATen/Dispatch.h:46:23: note: declared here\n",
            "     inline at::ScalarType scalar_type(const at::DeprecatedTypeProperties &t) {\n",
            "                           ^~~~~~~~~~~\n",
            "    csrc/mlp.cpp: In lambda function:\n",
            "    csrc/mlp.cpp:61:23: warning: comparison between signed and unsigned integer expressions [-Wsign-compare]\n",
            "         for (int i = 0; i < num_layers; i++) {\n",
            "                         ~~^~~\n",
            "    /usr/local/lib/python3.6/dist-packages/torch/include/ATen/Dispatch.h:12:12: note: in definition of macro ‘AT_PRIVATE_CASE_TYPE’\n",
            "         return __VA_ARGS__();                          \\\n",
            "                ^~~~~~~~~~~\n",
            "    csrc/mlp.cpp:58:3: note: in expansion of macro ‘AT_DISPATCH_FLOATING_TYPES_AND_HALF’\n",
            "       AT_DISPATCH_FLOATING_TYPES_AND_HALF(inputs[0].type(), \"mlp_forward\", [&] {\n",
            "       ^\n",
            "    csrc/mlp.cpp:65:10: warning: unused variable ‘result’ [-Wunused-variable]\n",
            "         auto result = mlp_fp<scalar_t>(\n",
            "              ^\n",
            "    /usr/local/lib/python3.6/dist-packages/torch/include/ATen/Dispatch.h:12:12: note: in definition of macro ‘AT_PRIVATE_CASE_TYPE’\n",
            "         return __VA_ARGS__();                          \\\n",
            "                ^~~~~~~~~~~\n",
            "    csrc/mlp.cpp:58:3: note: in expansion of macro ‘AT_DISPATCH_FLOATING_TYPES_AND_HALF’\n",
            "       AT_DISPATCH_FLOATING_TYPES_AND_HALF(inputs[0].type(), \"mlp_forward\", [&] {\n",
            "       ^\n",
            "    csrc/mlp.cpp: In lambda function:\n",
            "    csrc/mlp.cpp:61:23: warning: comparison between signed and unsigned integer expressions [-Wsign-compare]\n",
            "         for (int i = 0; i < num_layers; i++) {\n",
            "                         ~~^~~\n",
            "    /usr/local/lib/python3.6/dist-packages/torch/include/ATen/Dispatch.h:12:12: note: in definition of macro ‘AT_PRIVATE_CASE_TYPE’\n",
            "         return __VA_ARGS__();                          \\\n",
            "                ^~~~~~~~~~~\n",
            "    csrc/mlp.cpp:58:3: note: in expansion of macro ‘AT_DISPATCH_FLOATING_TYPES_AND_HALF’\n",
            "       AT_DISPATCH_FLOATING_TYPES_AND_HALF(inputs[0].type(), \"mlp_forward\", [&] {\n",
            "       ^\n",
            "    csrc/mlp.cpp:65:10: warning: unused variable ‘result’ [-Wunused-variable]\n",
            "         auto result = mlp_fp<scalar_t>(\n",
            "              ^\n",
            "    /usr/local/lib/python3.6/dist-packages/torch/include/ATen/Dispatch.h:12:12: note: in definition of macro ‘AT_PRIVATE_CASE_TYPE’\n",
            "         return __VA_ARGS__();                          \\\n",
            "                ^~~~~~~~~~~\n",
            "    csrc/mlp.cpp:58:3: note: in expansion of macro ‘AT_DISPATCH_FLOATING_TYPES_AND_HALF’\n",
            "       AT_DISPATCH_FLOATING_TYPES_AND_HALF(inputs[0].type(), \"mlp_forward\", [&] {\n",
            "       ^\n",
            "    csrc/mlp.cpp: In lambda function:\n",
            "    csrc/mlp.cpp:61:23: warning: comparison between signed and unsigned integer expressions [-Wsign-compare]\n",
            "         for (int i = 0; i < num_layers; i++) {\n",
            "                         ~~^~~\n",
            "    /usr/local/lib/python3.6/dist-packages/torch/include/ATen/Dispatch.h:12:12: note: in definition of macro ‘AT_PRIVATE_CASE_TYPE’\n",
            "         return __VA_ARGS__();                          \\\n",
            "                ^~~~~~~~~~~\n",
            "    csrc/mlp.cpp:58:3: note: in expansion of macro ‘AT_DISPATCH_FLOATING_TYPES_AND_HALF’\n",
            "       AT_DISPATCH_FLOATING_TYPES_AND_HALF(inputs[0].type(), \"mlp_forward\", [&] {\n",
            "       ^\n",
            "    csrc/mlp.cpp:65:10: warning: unused variable ‘result’ [-Wunused-variable]\n",
            "         auto result = mlp_fp<scalar_t>(\n",
            "              ^\n",
            "    /usr/local/lib/python3.6/dist-packages/torch/include/ATen/Dispatch.h:12:12: note: in definition of macro ‘AT_PRIVATE_CASE_TYPE’\n",
            "         return __VA_ARGS__();                          \\\n",
            "                ^~~~~~~~~~~\n",
            "    csrc/mlp.cpp:58:3: note: in expansion of macro ‘AT_DISPATCH_FLOATING_TYPES_AND_HALF’\n",
            "       AT_DISPATCH_FLOATING_TYPES_AND_HALF(inputs[0].type(), \"mlp_forward\", [&] {\n",
            "       ^\n",
            "    csrc/mlp.cpp: In function ‘std::vector<at::Tensor> mlp_backward(at::Tensor, std::vector<at::Tensor>, std::vector<at::Tensor>)’:\n",
            "    csrc/mlp.cpp:90:21: warning: comparison between signed and unsigned integer expressions [-Wsign-compare]\n",
            "       for (int i = 0; i < num_layers; i++) {\n",
            "                       ~~^~~~~~~~~~~~\n",
            "    csrc/mlp.cpp:95:21: warning: comparison between signed and unsigned integer expressions [-Wsign-compare]\n",
            "       for (int i = 0; i < inputs.size(); i++) {\n",
            "                       ~~^~~~~~~~~~~~~~~\n",
            "    csrc/mlp.cpp:96:67: warning: ‘at::DeprecatedTypeProperties& at::Tensor::type() const’ is deprecated: Tensor.type() is deprecated. Instead use Tensor.options(), which in many cases (e.g. in a constructor) is a drop-in replacement. If you were using data from type(), that is now available from Tensor itself, so instead of tensor.type().scalar_type(), use tensor.scalar_type() instead and instead of tensor.type().backend() use tensor.device(). [-Wdeprecated-declarations]\n",
            "         outputs.push_back(at::empty(inputs[i].sizes(), inputs[i].type()));  // clone for testing now\n",
            "                                                                       ^\n",
            "    In file included from /usr/local/lib/python3.6/dist-packages/torch/include/ATen/Tensor.h:11:0,\n",
            "                     from /usr/local/lib/python3.6/dist-packages/torch/include/ATen/Context.h:4,\n",
            "                     from /usr/local/lib/python3.6/dist-packages/torch/include/ATen/ATen.h:5,\n",
            "                     from /usr/local/lib/python3.6/dist-packages/torch/include/torch/csrc/api/include/torch/types.h:3,\n",
            "                     from /usr/local/lib/python3.6/dist-packages/torch/include/torch/csrc/api/include/torch/data/dataloader_options.h:4,\n",
            "                     from /usr/local/lib/python3.6/dist-packages/torch/include/torch/csrc/api/include/torch/data/dataloader/base.h:3,\n",
            "                     from /usr/local/lib/python3.6/dist-packages/torch/include/torch/csrc/api/include/torch/data/dataloader/stateful.h:3,\n",
            "                     from /usr/local/lib/python3.6/dist-packages/torch/include/torch/csrc/api/include/torch/data/dataloader.h:3,\n",
            "                     from /usr/local/lib/python3.6/dist-packages/torch/include/torch/csrc/api/include/torch/data.h:3,\n",
            "                     from /usr/local/lib/python3.6/dist-packages/torch/include/torch/csrc/api/include/torch/all.h:4,\n",
            "                     from /usr/local/lib/python3.6/dist-packages/torch/include/torch/extension.h:4,\n",
            "                     from csrc/mlp.cpp:1:\n",
            "    /usr/local/lib/python3.6/dist-packages/torch/include/ATen/core/TensorBody.h:262:30: note: declared here\n",
            "       DeprecatedTypeProperties & type() const {\n",
            "                                  ^~~~\n",
            "    In file included from /usr/local/lib/python3.6/dist-packages/torch/include/ATen/ATen.h:9:0,\n",
            "                     from /usr/local/lib/python3.6/dist-packages/torch/include/torch/csrc/api/include/torch/types.h:3,\n",
            "                     from /usr/local/lib/python3.6/dist-packages/torch/include/torch/csrc/api/include/torch/data/dataloader_options.h:4,\n",
            "                     from /usr/local/lib/python3.6/dist-packages/torch/include/torch/csrc/api/include/torch/data/dataloader/base.h:3,\n",
            "                     from /usr/local/lib/python3.6/dist-packages/torch/include/torch/csrc/api/include/torch/data/dataloader/stateful.h:3,\n",
            "                     from /usr/local/lib/python3.6/dist-packages/torch/include/torch/csrc/api/include/torch/data/dataloader.h:3,\n",
            "                     from /usr/local/lib/python3.6/dist-packages/torch/include/torch/csrc/api/include/torch/data.h:3,\n",
            "                     from /usr/local/lib/python3.6/dist-packages/torch/include/torch/csrc/api/include/torch/all.h:4,\n",
            "                     from /usr/local/lib/python3.6/dist-packages/torch/include/torch/extension.h:4,\n",
            "                     from csrc/mlp.cpp:1:\n",
            "    csrc/mlp.cpp: In lambda function:\n",
            "    csrc/mlp.cpp:99:54: warning: ‘at::DeprecatedTypeProperties& at::Tensor::type() const’ is deprecated: Tensor.type() is deprecated. Instead use Tensor.options(), which in many cases (e.g. in a constructor) is a drop-in replacement. If you were using data from type(), that is now available from Tensor itself, so instead of tensor.type().scalar_type(), use tensor.scalar_type() instead and instead of tensor.type().backend() use tensor.device(). [-Wdeprecated-declarations]\n",
            "       AT_DISPATCH_FLOATING_TYPES_AND_HALF(inputs[0].type(), \"mlp_forward\", [&] {\n",
            "                                                          ^\n",
            "    /usr/local/lib/python3.6/dist-packages/torch/include/ATen/Dispatch.h:129:28: note: in definition of macro ‘AT_DISPATCH_FLOATING_TYPES_AND_HALF’\n",
            "         const auto& the_type = TYPE;                                             \\\n",
            "                                ^~~~\n",
            "    In file included from /usr/local/lib/python3.6/dist-packages/torch/include/ATen/Tensor.h:11:0,\n",
            "                     from /usr/local/lib/python3.6/dist-packages/torch/include/ATen/Context.h:4,\n",
            "                     from /usr/local/lib/python3.6/dist-packages/torch/include/ATen/ATen.h:5,\n",
            "                     from /usr/local/lib/python3.6/dist-packages/torch/include/torch/csrc/api/include/torch/types.h:3,\n",
            "                     from /usr/local/lib/python3.6/dist-packages/torch/include/torch/csrc/api/include/torch/data/dataloader_options.h:4,\n",
            "                     from /usr/local/lib/python3.6/dist-packages/torch/include/torch/csrc/api/include/torch/data/dataloader/base.h:3,\n",
            "                     from /usr/local/lib/python3.6/dist-packages/torch/include/torch/csrc/api/include/torch/data/dataloader/stateful.h:3,\n",
            "                     from /usr/local/lib/python3.6/dist-packages/torch/include/torch/csrc/api/include/torch/data/dataloader.h:3,\n",
            "                     from /usr/local/lib/python3.6/dist-packages/torch/include/torch/csrc/api/include/torch/data.h:3,\n",
            "                     from /usr/local/lib/python3.6/dist-packages/torch/include/torch/csrc/api/include/torch/all.h:4,\n",
            "                     from /usr/local/lib/python3.6/dist-packages/torch/include/torch/extension.h:4,\n",
            "                     from csrc/mlp.cpp:1:\n",
            "    /usr/local/lib/python3.6/dist-packages/torch/include/ATen/core/TensorBody.h:262:30: note: declared here\n",
            "       DeprecatedTypeProperties & type() const {\n",
            "                                  ^~~~\n",
            "    In file included from /usr/local/lib/python3.6/dist-packages/torch/include/ATen/ATen.h:9:0,\n",
            "                     from /usr/local/lib/python3.6/dist-packages/torch/include/torch/csrc/api/include/torch/types.h:3,\n",
            "                     from /usr/local/lib/python3.6/dist-packages/torch/include/torch/csrc/api/include/torch/data/dataloader_options.h:4,\n",
            "                     from /usr/local/lib/python3.6/dist-packages/torch/include/torch/csrc/api/include/torch/data/dataloader/base.h:3,\n",
            "                     from /usr/local/lib/python3.6/dist-packages/torch/include/torch/csrc/api/include/torch/data/dataloader/stateful.h:3,\n",
            "                     from /usr/local/lib/python3.6/dist-packages/torch/include/torch/csrc/api/include/torch/data/dataloader.h:3,\n",
            "                     from /usr/local/lib/python3.6/dist-packages/torch/include/torch/csrc/api/include/torch/data.h:3,\n",
            "                     from /usr/local/lib/python3.6/dist-packages/torch/include/torch/csrc/api/include/torch/all.h:4,\n",
            "                     from /usr/local/lib/python3.6/dist-packages/torch/include/torch/extension.h:4,\n",
            "                     from csrc/mlp.cpp:1:\n",
            "    /usr/local/lib/python3.6/dist-packages/torch/include/ATen/Dispatch.h:131:56: warning: ‘c10::ScalarType detail::scalar_type(const at::DeprecatedTypeProperties&)’ is deprecated: passing at::DeprecatedTypeProperties to an AT_DISPATCH macro is deprecated, pass an at::ScalarType instead [-Wdeprecated-declarations]\n",
            "         at::ScalarType _st = ::detail::scalar_type(the_type);                    \\\n",
            "                                                            ^\n",
            "    csrc/mlp.cpp:99:3: note: in expansion of macro ‘AT_DISPATCH_FLOATING_TYPES_AND_HALF’\n",
            "       AT_DISPATCH_FLOATING_TYPES_AND_HALF(inputs[0].type(), \"mlp_forward\", [&] {\n",
            "       ^\n",
            "    /usr/local/lib/python3.6/dist-packages/torch/include/ATen/Dispatch.h:46:23: note: declared here\n",
            "     inline at::ScalarType scalar_type(const at::DeprecatedTypeProperties &t) {\n",
            "                           ^~~~~~~~~~~\n",
            "    csrc/mlp.cpp: In lambda function:\n",
            "    csrc/mlp.cpp:102:23: warning: comparison between signed and unsigned integer expressions [-Wsign-compare]\n",
            "         for (int i = 0; i < num_layers; i++) {\n",
            "                         ~~^~~\n",
            "    /usr/local/lib/python3.6/dist-packages/torch/include/ATen/Dispatch.h:12:12: note: in definition of macro ‘AT_PRIVATE_CASE_TYPE’\n",
            "         return __VA_ARGS__();                          \\\n",
            "                ^~~~~~~~~~~\n",
            "    csrc/mlp.cpp:99:3: note: in expansion of macro ‘AT_DISPATCH_FLOATING_TYPES_AND_HALF’\n",
            "       AT_DISPATCH_FLOATING_TYPES_AND_HALF(inputs[0].type(), \"mlp_forward\", [&] {\n",
            "       ^\n",
            "    csrc/mlp.cpp:107:23: warning: comparison between signed and unsigned integer expressions [-Wsign-compare]\n",
            "         for (int i = 0; i < inputs.size(); i++) {\n",
            "                         ~~^~~~~~~~~~~~~~~\n",
            "    /usr/local/lib/python3.6/dist-packages/torch/include/ATen/Dispatch.h:12:12: note: in definition of macro ‘AT_PRIVATE_CASE_TYPE’\n",
            "         return __VA_ARGS__();                          \\\n",
            "                ^~~~~~~~~~~\n",
            "    csrc/mlp.cpp:99:3: note: in expansion of macro ‘AT_DISPATCH_FLOATING_TYPES_AND_HALF’\n",
            "       AT_DISPATCH_FLOATING_TYPES_AND_HALF(inputs[0].type(), \"mlp_forward\", [&] {\n",
            "       ^\n",
            "    csrc/mlp.cpp:115:80: warning: ‘at::DeprecatedTypeProperties& at::Tensor::type() const’ is deprecated: Tensor.type() is deprecated. Instead use Tensor.options(), which in many cases (e.g. in a constructor) is a drop-in replacement. If you were using data from type(), that is now available from Tensor itself, so instead of tensor.type().scalar_type(), use tensor.scalar_type() instead and instead of tensor.type().backend() use tensor.device(). [-Wdeprecated-declarations]\n",
            "         auto work_space = at::empty({work_size / sizeof(scalar_t)}, inputs[0].type());\n",
            "                                                                                    ^\n",
            "    /usr/local/lib/python3.6/dist-packages/torch/include/ATen/Dispatch.h:12:12: note: in definition of macro ‘AT_PRIVATE_CASE_TYPE’\n",
            "         return __VA_ARGS__();                          \\\n",
            "                ^~~~~~~~~~~\n",
            "    csrc/mlp.cpp:99:3: note: in expansion of macro ‘AT_DISPATCH_FLOATING_TYPES_AND_HALF’\n",
            "       AT_DISPATCH_FLOATING_TYPES_AND_HALF(inputs[0].type(), \"mlp_forward\", [&] {\n",
            "       ^\n",
            "    In file included from /usr/local/lib/python3.6/dist-packages/torch/include/ATen/Tensor.h:11:0,\n",
            "                     from /usr/local/lib/python3.6/dist-packages/torch/include/ATen/Context.h:4,\n",
            "                     from /usr/local/lib/python3.6/dist-packages/torch/include/ATen/ATen.h:5,\n",
            "                     from /usr/local/lib/python3.6/dist-packages/torch/include/torch/csrc/api/include/torch/types.h:3,\n",
            "                     from /usr/local/lib/python3.6/dist-packages/torch/include/torch/csrc/api/include/torch/data/dataloader_options.h:4,\n",
            "                     from /usr/local/lib/python3.6/dist-packages/torch/include/torch/csrc/api/include/torch/data/dataloader/base.h:3,\n",
            "                     from /usr/local/lib/python3.6/dist-packages/torch/include/torch/csrc/api/include/torch/data/dataloader/stateful.h:3,\n",
            "                     from /usr/local/lib/python3.6/dist-packages/torch/include/torch/csrc/api/include/torch/data/dataloader.h:3,\n",
            "                     from /usr/local/lib/python3.6/dist-packages/torch/include/torch/csrc/api/include/torch/data.h:3,\n",
            "                     from /usr/local/lib/python3.6/dist-packages/torch/include/torch/csrc/api/include/torch/all.h:4,\n",
            "                     from /usr/local/lib/python3.6/dist-packages/torch/include/torch/extension.h:4,\n",
            "                     from csrc/mlp.cpp:1:\n",
            "    /usr/local/lib/python3.6/dist-packages/torch/include/ATen/core/TensorBody.h:262:30: note: declared here\n",
            "       DeprecatedTypeProperties & type() const {\n",
            "                                  ^~~~\n",
            "    In file included from /usr/local/lib/python3.6/dist-packages/torch/include/ATen/ATen.h:9:0,\n",
            "                     from /usr/local/lib/python3.6/dist-packages/torch/include/torch/csrc/api/include/torch/types.h:3,\n",
            "                     from /usr/local/lib/python3.6/dist-packages/torch/include/torch/csrc/api/include/torch/data/dataloader_options.h:4,\n",
            "                     from /usr/local/lib/python3.6/dist-packages/torch/include/torch/csrc/api/include/torch/data/dataloader/base.h:3,\n",
            "                     from /usr/local/lib/python3.6/dist-packages/torch/include/torch/csrc/api/include/torch/data/dataloader/stateful.h:3,\n",
            "                     from /usr/local/lib/python3.6/dist-packages/torch/include/torch/csrc/api/include/torch/data/dataloader.h:3,\n",
            "                     from /usr/local/lib/python3.6/dist-packages/torch/include/torch/csrc/api/include/torch/data.h:3,\n",
            "                     from /usr/local/lib/python3.6/dist-packages/torch/include/torch/csrc/api/include/torch/all.h:4,\n",
            "                     from /usr/local/lib/python3.6/dist-packages/torch/include/torch/extension.h:4,\n",
            "                     from csrc/mlp.cpp:1:\n",
            "    csrc/mlp.cpp:115:44: warning: narrowing conversion of ‘(work_size / sizeof (scalar_t))’ from ‘long unsigned int’ to ‘long int’ inside { } [-Wnarrowing]\n",
            "         auto work_space = at::empty({work_size / sizeof(scalar_t)}, inputs[0].type());\n",
            "                                      ~~~~~~~~~~^~~~~~~~~\n",
            "    /usr/local/lib/python3.6/dist-packages/torch/include/ATen/Dispatch.h:12:12: note: in definition of macro ‘AT_PRIVATE_CASE_TYPE’\n",
            "         return __VA_ARGS__();                          \\\n",
            "                ^~~~~~~~~~~\n",
            "    csrc/mlp.cpp:99:3: note: in expansion of macro ‘AT_DISPATCH_FLOATING_TYPES_AND_HALF’\n",
            "       AT_DISPATCH_FLOATING_TYPES_AND_HALF(inputs[0].type(), \"mlp_forward\", [&] {\n",
            "       ^\n",
            "    csrc/mlp.cpp:115:44: warning: narrowing conversion of ‘(work_size / sizeof (scalar_t))’ from ‘long unsigned int’ to ‘long int’ inside { } [-Wnarrowing]\n",
            "         auto work_space = at::empty({work_size / sizeof(scalar_t)}, inputs[0].type());\n",
            "                                      ~~~~~~~~~~^~~~~~~~~\n",
            "    /usr/local/lib/python3.6/dist-packages/torch/include/ATen/Dispatch.h:12:12: note: in definition of macro ‘AT_PRIVATE_CASE_TYPE’\n",
            "         return __VA_ARGS__();                          \\\n",
            "                ^~~~~~~~~~~\n",
            "    csrc/mlp.cpp:99:3: note: in expansion of macro ‘AT_DISPATCH_FLOATING_TYPES_AND_HALF’\n",
            "       AT_DISPATCH_FLOATING_TYPES_AND_HALF(inputs[0].type(), \"mlp_forward\", [&] {\n",
            "       ^\n",
            "    csrc/mlp.cpp:117:10: warning: unused variable ‘result’ [-Wunused-variable]\n",
            "         auto result = mlp_bp<scalar_t>(\n",
            "              ^\n",
            "    /usr/local/lib/python3.6/dist-packages/torch/include/ATen/Dispatch.h:12:12: note: in definition of macro ‘AT_PRIVATE_CASE_TYPE’\n",
            "         return __VA_ARGS__();                          \\\n",
            "                ^~~~~~~~~~~\n",
            "    csrc/mlp.cpp:99:3: note: in expansion of macro ‘AT_DISPATCH_FLOATING_TYPES_AND_HALF’\n",
            "       AT_DISPATCH_FLOATING_TYPES_AND_HALF(inputs[0].type(), \"mlp_forward\", [&] {\n",
            "       ^\n",
            "    csrc/mlp.cpp: In lambda function:\n",
            "    csrc/mlp.cpp:102:23: warning: comparison between signed and unsigned integer expressions [-Wsign-compare]\n",
            "         for (int i = 0; i < num_layers; i++) {\n",
            "                         ~~^~~\n",
            "    /usr/local/lib/python3.6/dist-packages/torch/include/ATen/Dispatch.h:12:12: note: in definition of macro ‘AT_PRIVATE_CASE_TYPE’\n",
            "         return __VA_ARGS__();                          \\\n",
            "                ^~~~~~~~~~~\n",
            "    csrc/mlp.cpp:99:3: note: in expansion of macro ‘AT_DISPATCH_FLOATING_TYPES_AND_HALF’\n",
            "       AT_DISPATCH_FLOATING_TYPES_AND_HALF(inputs[0].type(), \"mlp_forward\", [&] {\n",
            "       ^\n",
            "    csrc/mlp.cpp:107:23: warning: comparison between signed and unsigned integer expressions [-Wsign-compare]\n",
            "         for (int i = 0; i < inputs.size(); i++) {\n",
            "                         ~~^~~~~~~~~~~~~~~\n",
            "    /usr/local/lib/python3.6/dist-packages/torch/include/ATen/Dispatch.h:12:12: note: in definition of macro ‘AT_PRIVATE_CASE_TYPE’\n",
            "         return __VA_ARGS__();                          \\\n",
            "                ^~~~~~~~~~~\n",
            "    csrc/mlp.cpp:99:3: note: in expansion of macro ‘AT_DISPATCH_FLOATING_TYPES_AND_HALF’\n",
            "       AT_DISPATCH_FLOATING_TYPES_AND_HALF(inputs[0].type(), \"mlp_forward\", [&] {\n",
            "       ^\n",
            "    csrc/mlp.cpp:115:80: warning: ‘at::DeprecatedTypeProperties& at::Tensor::type() const’ is deprecated: Tensor.type() is deprecated. Instead use Tensor.options(), which in many cases (e.g. in a constructor) is a drop-in replacement. If you were using data from type(), that is now available from Tensor itself, so instead of tensor.type().scalar_type(), use tensor.scalar_type() instead and instead of tensor.type().backend() use tensor.device(). [-Wdeprecated-declarations]\n",
            "         auto work_space = at::empty({work_size / sizeof(scalar_t)}, inputs[0].type());\n",
            "                                                                                    ^\n",
            "    /usr/local/lib/python3.6/dist-packages/torch/include/ATen/Dispatch.h:12:12: note: in definition of macro ‘AT_PRIVATE_CASE_TYPE’\n",
            "         return __VA_ARGS__();                          \\\n",
            "                ^~~~~~~~~~~\n",
            "    csrc/mlp.cpp:99:3: note: in expansion of macro ‘AT_DISPATCH_FLOATING_TYPES_AND_HALF’\n",
            "       AT_DISPATCH_FLOATING_TYPES_AND_HALF(inputs[0].type(), \"mlp_forward\", [&] {\n",
            "       ^\n",
            "    In file included from /usr/local/lib/python3.6/dist-packages/torch/include/ATen/Tensor.h:11:0,\n",
            "                     from /usr/local/lib/python3.6/dist-packages/torch/include/ATen/Context.h:4,\n",
            "                     from /usr/local/lib/python3.6/dist-packages/torch/include/ATen/ATen.h:5,\n",
            "                     from /usr/local/lib/python3.6/dist-packages/torch/include/torch/csrc/api/include/torch/types.h:3,\n",
            "                     from /usr/local/lib/python3.6/dist-packages/torch/include/torch/csrc/api/include/torch/data/dataloader_options.h:4,\n",
            "                     from /usr/local/lib/python3.6/dist-packages/torch/include/torch/csrc/api/include/torch/data/dataloader/base.h:3,\n",
            "                     from /usr/local/lib/python3.6/dist-packages/torch/include/torch/csrc/api/include/torch/data/dataloader/stateful.h:3,\n",
            "                     from /usr/local/lib/python3.6/dist-packages/torch/include/torch/csrc/api/include/torch/data/dataloader.h:3,\n",
            "                     from /usr/local/lib/python3.6/dist-packages/torch/include/torch/csrc/api/include/torch/data.h:3,\n",
            "                     from /usr/local/lib/python3.6/dist-packages/torch/include/torch/csrc/api/include/torch/all.h:4,\n",
            "                     from /usr/local/lib/python3.6/dist-packages/torch/include/torch/extension.h:4,\n",
            "                     from csrc/mlp.cpp:1:\n",
            "    /usr/local/lib/python3.6/dist-packages/torch/include/ATen/core/TensorBody.h:262:30: note: declared here\n",
            "       DeprecatedTypeProperties & type() const {\n",
            "                                  ^~~~\n",
            "    In file included from /usr/local/lib/python3.6/dist-packages/torch/include/ATen/ATen.h:9:0,\n",
            "                     from /usr/local/lib/python3.6/dist-packages/torch/include/torch/csrc/api/include/torch/types.h:3,\n",
            "                     from /usr/local/lib/python3.6/dist-packages/torch/include/torch/csrc/api/include/torch/data/dataloader_options.h:4,\n",
            "                     from /usr/local/lib/python3.6/dist-packages/torch/include/torch/csrc/api/include/torch/data/dataloader/base.h:3,\n",
            "                     from /usr/local/lib/python3.6/dist-packages/torch/include/torch/csrc/api/include/torch/data/dataloader/stateful.h:3,\n",
            "                     from /usr/local/lib/python3.6/dist-packages/torch/include/torch/csrc/api/include/torch/data/dataloader.h:3,\n",
            "                     from /usr/local/lib/python3.6/dist-packages/torch/include/torch/csrc/api/include/torch/data.h:3,\n",
            "                     from /usr/local/lib/python3.6/dist-packages/torch/include/torch/csrc/api/include/torch/all.h:4,\n",
            "                     from /usr/local/lib/python3.6/dist-packages/torch/include/torch/extension.h:4,\n",
            "                     from csrc/mlp.cpp:1:\n",
            "    csrc/mlp.cpp:115:44: warning: narrowing conversion of ‘(work_size / sizeof (scalar_t))’ from ‘long unsigned int’ to ‘long int’ inside { } [-Wnarrowing]\n",
            "         auto work_space = at::empty({work_size / sizeof(scalar_t)}, inputs[0].type());\n",
            "                                      ~~~~~~~~~~^~~~~~~~~\n",
            "    /usr/local/lib/python3.6/dist-packages/torch/include/ATen/Dispatch.h:12:12: note: in definition of macro ‘AT_PRIVATE_CASE_TYPE’\n",
            "         return __VA_ARGS__();                          \\\n",
            "                ^~~~~~~~~~~\n",
            "    csrc/mlp.cpp:99:3: note: in expansion of macro ‘AT_DISPATCH_FLOATING_TYPES_AND_HALF’\n",
            "       AT_DISPATCH_FLOATING_TYPES_AND_HALF(inputs[0].type(), \"mlp_forward\", [&] {\n",
            "       ^\n",
            "    csrc/mlp.cpp:115:44: warning: narrowing conversion of ‘(work_size / sizeof (scalar_t))’ from ‘long unsigned int’ to ‘long int’ inside { } [-Wnarrowing]\n",
            "         auto work_space = at::empty({work_size / sizeof(scalar_t)}, inputs[0].type());\n",
            "                                      ~~~~~~~~~~^~~~~~~~~\n",
            "    /usr/local/lib/python3.6/dist-packages/torch/include/ATen/Dispatch.h:12:12: note: in definition of macro ‘AT_PRIVATE_CASE_TYPE’\n",
            "         return __VA_ARGS__();                          \\\n",
            "                ^~~~~~~~~~~\n",
            "    csrc/mlp.cpp:99:3: note: in expansion of macro ‘AT_DISPATCH_FLOATING_TYPES_AND_HALF’\n",
            "       AT_DISPATCH_FLOATING_TYPES_AND_HALF(inputs[0].type(), \"mlp_forward\", [&] {\n",
            "       ^\n",
            "    csrc/mlp.cpp:117:10: warning: unused variable ‘result’ [-Wunused-variable]\n",
            "         auto result = mlp_bp<scalar_t>(\n",
            "              ^\n",
            "    /usr/local/lib/python3.6/dist-packages/torch/include/ATen/Dispatch.h:12:12: note: in definition of macro ‘AT_PRIVATE_CASE_TYPE’\n",
            "         return __VA_ARGS__();                          \\\n",
            "                ^~~~~~~~~~~\n",
            "    csrc/mlp.cpp:99:3: note: in expansion of macro ‘AT_DISPATCH_FLOATING_TYPES_AND_HALF’\n",
            "       AT_DISPATCH_FLOATING_TYPES_AND_HALF(inputs[0].type(), \"mlp_forward\", [&] {\n",
            "       ^\n",
            "    csrc/mlp.cpp: In lambda function:\n",
            "    csrc/mlp.cpp:102:23: warning: comparison between signed and unsigned integer expressions [-Wsign-compare]\n",
            "         for (int i = 0; i < num_layers; i++) {\n",
            "                         ~~^~~\n",
            "    /usr/local/lib/python3.6/dist-packages/torch/include/ATen/Dispatch.h:12:12: note: in definition of macro ‘AT_PRIVATE_CASE_TYPE’\n",
            "         return __VA_ARGS__();                          \\\n",
            "                ^~~~~~~~~~~\n",
            "    csrc/mlp.cpp:99:3: note: in expansion of macro ‘AT_DISPATCH_FLOATING_TYPES_AND_HALF’\n",
            "       AT_DISPATCH_FLOATING_TYPES_AND_HALF(inputs[0].type(), \"mlp_forward\", [&] {\n",
            "       ^\n",
            "    csrc/mlp.cpp:107:23: warning: comparison between signed and unsigned integer expressions [-Wsign-compare]\n",
            "         for (int i = 0; i < inputs.size(); i++) {\n",
            "                         ~~^~~~~~~~~~~~~~~\n",
            "    /usr/local/lib/python3.6/dist-packages/torch/include/ATen/Dispatch.h:12:12: note: in definition of macro ‘AT_PRIVATE_CASE_TYPE’\n",
            "         return __VA_ARGS__();                          \\\n",
            "                ^~~~~~~~~~~\n",
            "    csrc/mlp.cpp:99:3: note: in expansion of macro ‘AT_DISPATCH_FLOATING_TYPES_AND_HALF’\n",
            "       AT_DISPATCH_FLOATING_TYPES_AND_HALF(inputs[0].type(), \"mlp_forward\", [&] {\n",
            "       ^\n",
            "    csrc/mlp.cpp:115:80: warning: ‘at::DeprecatedTypeProperties& at::Tensor::type() const’ is deprecated: Tensor.type() is deprecated. Instead use Tensor.options(), which in many cases (e.g. in a constructor) is a drop-in replacement. If you were using data from type(), that is now available from Tensor itself, so instead of tensor.type().scalar_type(), use tensor.scalar_type() instead and instead of tensor.type().backend() use tensor.device(). [-Wdeprecated-declarations]\n",
            "         auto work_space = at::empty({work_size / sizeof(scalar_t)}, inputs[0].type());\n",
            "                                                                                    ^\n",
            "    /usr/local/lib/python3.6/dist-packages/torch/include/ATen/Dispatch.h:12:12: note: in definition of macro ‘AT_PRIVATE_CASE_TYPE’\n",
            "         return __VA_ARGS__();                          \\\n",
            "                ^~~~~~~~~~~\n",
            "    csrc/mlp.cpp:99:3: note: in expansion of macro ‘AT_DISPATCH_FLOATING_TYPES_AND_HALF’\n",
            "       AT_DISPATCH_FLOATING_TYPES_AND_HALF(inputs[0].type(), \"mlp_forward\", [&] {\n",
            "       ^\n",
            "    In file included from /usr/local/lib/python3.6/dist-packages/torch/include/ATen/Tensor.h:11:0,\n",
            "                     from /usr/local/lib/python3.6/dist-packages/torch/include/ATen/Context.h:4,\n",
            "                     from /usr/local/lib/python3.6/dist-packages/torch/include/ATen/ATen.h:5,\n",
            "                     from /usr/local/lib/python3.6/dist-packages/torch/include/torch/csrc/api/include/torch/types.h:3,\n",
            "                     from /usr/local/lib/python3.6/dist-packages/torch/include/torch/csrc/api/include/torch/data/dataloader_options.h:4,\n",
            "                     from /usr/local/lib/python3.6/dist-packages/torch/include/torch/csrc/api/include/torch/data/dataloader/base.h:3,\n",
            "                     from /usr/local/lib/python3.6/dist-packages/torch/include/torch/csrc/api/include/torch/data/dataloader/stateful.h:3,\n",
            "                     from /usr/local/lib/python3.6/dist-packages/torch/include/torch/csrc/api/include/torch/data/dataloader.h:3,\n",
            "                     from /usr/local/lib/python3.6/dist-packages/torch/include/torch/csrc/api/include/torch/data.h:3,\n",
            "                     from /usr/local/lib/python3.6/dist-packages/torch/include/torch/csrc/api/include/torch/all.h:4,\n",
            "                     from /usr/local/lib/python3.6/dist-packages/torch/include/torch/extension.h:4,\n",
            "                     from csrc/mlp.cpp:1:\n",
            "    /usr/local/lib/python3.6/dist-packages/torch/include/ATen/core/TensorBody.h:262:30: note: declared here\n",
            "       DeprecatedTypeProperties & type() const {\n",
            "                                  ^~~~\n",
            "    In file included from /usr/local/lib/python3.6/dist-packages/torch/include/ATen/ATen.h:9:0,\n",
            "                     from /usr/local/lib/python3.6/dist-packages/torch/include/torch/csrc/api/include/torch/types.h:3,\n",
            "                     from /usr/local/lib/python3.6/dist-packages/torch/include/torch/csrc/api/include/torch/data/dataloader_options.h:4,\n",
            "                     from /usr/local/lib/python3.6/dist-packages/torch/include/torch/csrc/api/include/torch/data/dataloader/base.h:3,\n",
            "                     from /usr/local/lib/python3.6/dist-packages/torch/include/torch/csrc/api/include/torch/data/dataloader/stateful.h:3,\n",
            "                     from /usr/local/lib/python3.6/dist-packages/torch/include/torch/csrc/api/include/torch/data/dataloader.h:3,\n",
            "                     from /usr/local/lib/python3.6/dist-packages/torch/include/torch/csrc/api/include/torch/data.h:3,\n",
            "                     from /usr/local/lib/python3.6/dist-packages/torch/include/torch/csrc/api/include/torch/all.h:4,\n",
            "                     from /usr/local/lib/python3.6/dist-packages/torch/include/torch/extension.h:4,\n",
            "                     from csrc/mlp.cpp:1:\n",
            "    csrc/mlp.cpp:115:44: warning: narrowing conversion of ‘(work_size / sizeof (scalar_t))’ from ‘long unsigned int’ to ‘long int’ inside { } [-Wnarrowing]\n",
            "         auto work_space = at::empty({work_size / sizeof(scalar_t)}, inputs[0].type());\n",
            "                                      ~~~~~~~~~~^~~~~~~~~\n",
            "    /usr/local/lib/python3.6/dist-packages/torch/include/ATen/Dispatch.h:12:12: note: in definition of macro ‘AT_PRIVATE_CASE_TYPE’\n",
            "         return __VA_ARGS__();                          \\\n",
            "                ^~~~~~~~~~~\n",
            "    csrc/mlp.cpp:99:3: note: in expansion of macro ‘AT_DISPATCH_FLOATING_TYPES_AND_HALF’\n",
            "       AT_DISPATCH_FLOATING_TYPES_AND_HALF(inputs[0].type(), \"mlp_forward\", [&] {\n",
            "       ^\n",
            "    csrc/mlp.cpp:115:44: warning: narrowing conversion of ‘(work_size / sizeof (scalar_t))’ from ‘long unsigned int’ to ‘long int’ inside { } [-Wnarrowing]\n",
            "         auto work_space = at::empty({work_size / sizeof(scalar_t)}, inputs[0].type());\n",
            "                                      ~~~~~~~~~~^~~~~~~~~\n",
            "    /usr/local/lib/python3.6/dist-packages/torch/include/ATen/Dispatch.h:12:12: note: in definition of macro ‘AT_PRIVATE_CASE_TYPE’\n",
            "         return __VA_ARGS__();                          \\\n",
            "                ^~~~~~~~~~~\n",
            "    csrc/mlp.cpp:99:3: note: in expansion of macro ‘AT_DISPATCH_FLOATING_TYPES_AND_HALF’\n",
            "       AT_DISPATCH_FLOATING_TYPES_AND_HALF(inputs[0].type(), \"mlp_forward\", [&] {\n",
            "       ^\n",
            "    csrc/mlp.cpp:117:10: warning: unused variable ‘result’ [-Wunused-variable]\n",
            "         auto result = mlp_bp<scalar_t>(\n",
            "              ^\n",
            "    /usr/local/lib/python3.6/dist-packages/torch/include/ATen/Dispatch.h:12:12: note: in definition of macro ‘AT_PRIVATE_CASE_TYPE’\n",
            "         return __VA_ARGS__();                          \\\n",
            "                ^~~~~~~~~~~\n",
            "    csrc/mlp.cpp:99:3: note: in expansion of macro ‘AT_DISPATCH_FLOATING_TYPES_AND_HALF’\n",
            "       AT_DISPATCH_FLOATING_TYPES_AND_HALF(inputs[0].type(), \"mlp_forward\", [&] {\n",
            "       ^\n",
            "    /usr/local/cuda-10.1/bin/nvcc -I/usr/local/lib/python3.6/dist-packages/torch/include -I/usr/local/lib/python3.6/dist-packages/torch/include/torch/csrc/api/include -I/usr/local/lib/python3.6/dist-packages/torch/include/TH -I/usr/local/lib/python3.6/dist-packages/torch/include/THC -I/usr/local/cuda-10.1/include -I/usr/include/python3.6m -c csrc/mlp_cuda.cu -o build/temp.linux-x86_64-3.6/csrc/mlp_cuda.o -D__CUDA_NO_HALF_OPERATORS__ -D__CUDA_NO_HALF_CONVERSIONS__ -D__CUDA_NO_HALF2_OPERATORS__ --expt-relaxed-constexpr --compiler-options '-fPIC' -O3 -DVERSION_GE_1_1 -DVERSION_GE_1_3 -DVERSION_GE_1_5 -DTORCH_API_INCLUDE_EXTENSION_H -DTORCH_EXTENSION_NAME=mlp_cuda -D_GLIBCXX_USE_CXX11_ABI=0 -gencode=arch=compute_60,code=sm_60 -std=c++14\n",
            "    /usr/local/lib/python3.6/dist-packages/torch/include/torch/csrc/api/include/torch/nn/functional/padding.h(14): warning: integer conversion resulted in a change of sign\n",
            "\n",
            "    /usr/local/lib/python3.6/dist-packages/torch/include/torch/csrc/api/include/torch/nn/functional/padding.h(15): warning: integer conversion resulted in a change of sign\n",
            "\n",
            "    /usr/local/lib/python3.6/dist-packages/torch/include/torch/csrc/api/include/torch/nn/functional/padding.h(15): warning: integer conversion resulted in a change of sign\n",
            "\n",
            "    /usr/local/lib/python3.6/dist-packages/torch/include/torch/csrc/api/include/torch/nn/functional/padding.h(15): warning: integer conversion resulted in a change of sign\n",
            "\n",
            "    /usr/local/lib/python3.6/dist-packages/torch/include/torch/csrc/api/include/torch/nn/functional/padding.h(18): warning: integer conversion resulted in a change of sign\n",
            "\n",
            "    /usr/local/lib/python3.6/dist-packages/torch/include/torch/csrc/api/include/torch/nn/functional/padding.h(19): warning: integer conversion resulted in a change of sign\n",
            "\n",
            "    /usr/local/lib/python3.6/dist-packages/torch/include/torch/csrc/api/include/torch/nn/functional/padding.h(19): warning: integer conversion resulted in a change of sign\n",
            "\n",
            "    /usr/local/lib/python3.6/dist-packages/torch/include/torch/csrc/api/include/torch/nn/functional/padding.h(19): warning: integer conversion resulted in a change of sign\n",
            "\n",
            "    /usr/local/lib/python3.6/dist-packages/torch/include/torch/csrc/api/include/torch/nn/functional/padding.h(23): warning: integer conversion resulted in a change of sign\n",
            "\n",
            "    /usr/local/lib/python3.6/dist-packages/torch/include/torch/csrc/api/include/torch/nn/functional/padding.h(24): warning: integer conversion resulted in a change of sign\n",
            "\n",
            "    /usr/local/lib/python3.6/dist-packages/torch/include/torch/csrc/api/include/torch/nn/functional/padding.h(24): warning: integer conversion resulted in a change of sign\n",
            "\n",
            "    /usr/local/lib/python3.6/dist-packages/torch/include/torch/csrc/api/include/torch/nn/functional/padding.h(24): warning: integer conversion resulted in a change of sign\n",
            "\n",
            "    /usr/local/lib/python3.6/dist-packages/torch/include/torch/csrc/autograd/profiler.h(100): warning: attribute \"__visibility__\" does not apply here\n",
            "\n",
            "    /usr/local/lib/python3.6/dist-packages/torch/include/torch/csrc/autograd/profiler.h(115): warning: attribute \"__visibility__\" does not apply here\n",
            "\n",
            "    /usr/local/lib/python3.6/dist-packages/torch/include/torch/csrc/api/include/torch/nn/functional/padding.h(14): warning: integer conversion resulted in a change of sign\n",
            "\n",
            "    /usr/local/lib/python3.6/dist-packages/torch/include/torch/csrc/api/include/torch/nn/functional/padding.h(15): warning: integer conversion resulted in a change of sign\n",
            "\n",
            "    /usr/local/lib/python3.6/dist-packages/torch/include/torch/csrc/api/include/torch/nn/functional/padding.h(15): warning: integer conversion resulted in a change of sign\n",
            "\n",
            "    /usr/local/lib/python3.6/dist-packages/torch/include/torch/csrc/api/include/torch/nn/functional/padding.h(15): warning: integer conversion resulted in a change of sign\n",
            "\n",
            "    /usr/local/lib/python3.6/dist-packages/torch/include/torch/csrc/api/include/torch/nn/functional/padding.h(18): warning: integer conversion resulted in a change of sign\n",
            "\n",
            "    /usr/local/lib/python3.6/dist-packages/torch/include/torch/csrc/api/include/torch/nn/functional/padding.h(19): warning: integer conversion resulted in a change of sign\n",
            "\n",
            "    /usr/local/lib/python3.6/dist-packages/torch/include/torch/csrc/api/include/torch/nn/functional/padding.h(19): warning: integer conversion resulted in a change of sign\n",
            "\n",
            "    /usr/local/lib/python3.6/dist-packages/torch/include/torch/csrc/api/include/torch/nn/functional/padding.h(19): warning: integer conversion resulted in a change of sign\n",
            "\n",
            "    /usr/local/lib/python3.6/dist-packages/torch/include/torch/csrc/api/include/torch/nn/functional/padding.h(23): warning: integer conversion resulted in a change of sign\n",
            "\n",
            "    /usr/local/lib/python3.6/dist-packages/torch/include/torch/csrc/api/include/torch/nn/functional/padding.h(24): warning: integer conversion resulted in a change of sign\n",
            "\n",
            "    /usr/local/lib/python3.6/dist-packages/torch/include/torch/csrc/api/include/torch/nn/functional/padding.h(24): warning: integer conversion resulted in a change of sign\n",
            "\n",
            "    /usr/local/lib/python3.6/dist-packages/torch/include/torch/csrc/api/include/torch/nn/functional/padding.h(24): warning: integer conversion resulted in a change of sign\n",
            "\n",
            "    /usr/local/lib/python3.6/dist-packages/torch/include/torch/csrc/autograd/profiler.h(100): warning: attribute \"__visibility__\" does not apply here\n",
            "\n",
            "    /usr/local/lib/python3.6/dist-packages/torch/include/torch/csrc/autograd/profiler.h(115): warning: attribute \"__visibility__\" does not apply here\n",
            "\n",
            "    x86_64-linux-gnu-g++ -pthread -shared -Wl,-O1 -Wl,-Bsymbolic-functions -Wl,-Bsymbolic-functions -Wl,-z,relro -Wl,-Bsymbolic-functions -Wl,-z,relro -g -fstack-protector-strong -Wformat -Werror=format-security -Wdate-time -D_FORTIFY_SOURCE=2 build/temp.linux-x86_64-3.6/csrc/mlp.o build/temp.linux-x86_64-3.6/csrc/mlp_cuda.o -L/usr/local/lib/python3.6/dist-packages/torch/lib -L/usr/local/cuda-10.1/lib64 -lc10 -ltorch -ltorch_cpu -ltorch_python -lcudart -lc10_cuda -ltorch_cuda -o build/lib.linux-x86_64-3.6/mlp_cuda.cpython-36m-x86_64-linux-gnu.so\n",
            "    running install_lib\n",
            "    copying build/lib.linux-x86_64-3.6/syncbn.cpython-36m-x86_64-linux-gnu.so -> /usr/local/lib/python3.6/dist-packages\n",
            "    copying build/lib.linux-x86_64-3.6/amp_C.cpython-36m-x86_64-linux-gnu.so -> /usr/local/lib/python3.6/dist-packages\n",
            "    copying build/lib.linux-x86_64-3.6/apex_C.cpython-36m-x86_64-linux-gnu.so -> /usr/local/lib/python3.6/dist-packages\n",
            "    copying build/lib.linux-x86_64-3.6/mlp_cuda.cpython-36m-x86_64-linux-gnu.so -> /usr/local/lib/python3.6/dist-packages\n",
            "    creating /usr/local/lib/python3.6/dist-packages/apex\n",
            "    creating /usr/local/lib/python3.6/dist-packages/apex/amp\n",
            "    copying build/lib.linux-x86_64-3.6/apex/amp/handle.py -> /usr/local/lib/python3.6/dist-packages/apex/amp\n",
            "    copying build/lib.linux-x86_64-3.6/apex/amp/utils.py -> /usr/local/lib/python3.6/dist-packages/apex/amp\n",
            "    copying build/lib.linux-x86_64-3.6/apex/amp/rnn_compat.py -> /usr/local/lib/python3.6/dist-packages/apex/amp\n",
            "    copying build/lib.linux-x86_64-3.6/apex/amp/wrap.py -> /usr/local/lib/python3.6/dist-packages/apex/amp\n",
            "    copying build/lib.linux-x86_64-3.6/apex/amp/amp.py -> /usr/local/lib/python3.6/dist-packages/apex/amp\n",
            "    copying build/lib.linux-x86_64-3.6/apex/amp/__init__.py -> /usr/local/lib/python3.6/dist-packages/apex/amp\n",
            "    copying build/lib.linux-x86_64-3.6/apex/amp/_process_optimizer.py -> /usr/local/lib/python3.6/dist-packages/apex/amp\n",
            "    copying build/lib.linux-x86_64-3.6/apex/amp/opt.py -> /usr/local/lib/python3.6/dist-packages/apex/amp\n",
            "    copying build/lib.linux-x86_64-3.6/apex/amp/compat.py -> /usr/local/lib/python3.6/dist-packages/apex/amp\n",
            "    copying build/lib.linux-x86_64-3.6/apex/amp/__version__.py -> /usr/local/lib/python3.6/dist-packages/apex/amp\n",
            "    creating /usr/local/lib/python3.6/dist-packages/apex/amp/lists\n",
            "    copying build/lib.linux-x86_64-3.6/apex/amp/lists/__init__.py -> /usr/local/lib/python3.6/dist-packages/apex/amp/lists\n",
            "    copying build/lib.linux-x86_64-3.6/apex/amp/lists/tensor_overrides.py -> /usr/local/lib/python3.6/dist-packages/apex/amp/lists\n",
            "    copying build/lib.linux-x86_64-3.6/apex/amp/lists/functional_overrides.py -> /usr/local/lib/python3.6/dist-packages/apex/amp/lists\n",
            "    copying build/lib.linux-x86_64-3.6/apex/amp/lists/torch_overrides.py -> /usr/local/lib/python3.6/dist-packages/apex/amp/lists\n",
            "    copying build/lib.linux-x86_64-3.6/apex/amp/scaler.py -> /usr/local/lib/python3.6/dist-packages/apex/amp\n",
            "    copying build/lib.linux-x86_64-3.6/apex/amp/frontend.py -> /usr/local/lib/python3.6/dist-packages/apex/amp\n",
            "    copying build/lib.linux-x86_64-3.6/apex/amp/_initialize.py -> /usr/local/lib/python3.6/dist-packages/apex/amp\n",
            "    copying build/lib.linux-x86_64-3.6/apex/amp/_amp_state.py -> /usr/local/lib/python3.6/dist-packages/apex/amp\n",
            "    creating /usr/local/lib/python3.6/dist-packages/apex/multi_tensor_apply\n",
            "    copying build/lib.linux-x86_64-3.6/apex/multi_tensor_apply/__init__.py -> /usr/local/lib/python3.6/dist-packages/apex/multi_tensor_apply\n",
            "    copying build/lib.linux-x86_64-3.6/apex/multi_tensor_apply/multi_tensor_apply.py -> /usr/local/lib/python3.6/dist-packages/apex/multi_tensor_apply\n",
            "    creating /usr/local/lib/python3.6/dist-packages/apex/parallel\n",
            "    copying build/lib.linux-x86_64-3.6/apex/parallel/optimized_sync_batchnorm.py -> /usr/local/lib/python3.6/dist-packages/apex/parallel\n",
            "    copying build/lib.linux-x86_64-3.6/apex/parallel/__init__.py -> /usr/local/lib/python3.6/dist-packages/apex/parallel\n",
            "    copying build/lib.linux-x86_64-3.6/apex/parallel/sync_batchnorm.py -> /usr/local/lib/python3.6/dist-packages/apex/parallel\n",
            "    copying build/lib.linux-x86_64-3.6/apex/parallel/sync_batchnorm_kernel.py -> /usr/local/lib/python3.6/dist-packages/apex/parallel\n",
            "    copying build/lib.linux-x86_64-3.6/apex/parallel/LARC.py -> /usr/local/lib/python3.6/dist-packages/apex/parallel\n",
            "    copying build/lib.linux-x86_64-3.6/apex/parallel/multiproc.py -> /usr/local/lib/python3.6/dist-packages/apex/parallel\n",
            "    copying build/lib.linux-x86_64-3.6/apex/parallel/optimized_sync_batchnorm_kernel.py -> /usr/local/lib/python3.6/dist-packages/apex/parallel\n",
            "    copying build/lib.linux-x86_64-3.6/apex/parallel/distributed.py -> /usr/local/lib/python3.6/dist-packages/apex/parallel\n",
            "    creating /usr/local/lib/python3.6/dist-packages/apex/reparameterization\n",
            "    copying build/lib.linux-x86_64-3.6/apex/reparameterization/__init__.py -> /usr/local/lib/python3.6/dist-packages/apex/reparameterization\n",
            "    copying build/lib.linux-x86_64-3.6/apex/reparameterization/weight_norm.py -> /usr/local/lib/python3.6/dist-packages/apex/reparameterization\n",
            "    copying build/lib.linux-x86_64-3.6/apex/reparameterization/reparameterization.py -> /usr/local/lib/python3.6/dist-packages/apex/reparameterization\n",
            "    creating /usr/local/lib/python3.6/dist-packages/apex/RNN\n",
            "    copying build/lib.linux-x86_64-3.6/apex/RNN/cells.py -> /usr/local/lib/python3.6/dist-packages/apex/RNN\n",
            "    copying build/lib.linux-x86_64-3.6/apex/RNN/__init__.py -> /usr/local/lib/python3.6/dist-packages/apex/RNN\n",
            "    copying build/lib.linux-x86_64-3.6/apex/RNN/RNNBackend.py -> /usr/local/lib/python3.6/dist-packages/apex/RNN\n",
            "    copying build/lib.linux-x86_64-3.6/apex/RNN/models.py -> /usr/local/lib/python3.6/dist-packages/apex/RNN\n",
            "    creating /usr/local/lib/python3.6/dist-packages/apex/optimizers\n",
            "    copying build/lib.linux-x86_64-3.6/apex/optimizers/fused_novograd.py -> /usr/local/lib/python3.6/dist-packages/apex/optimizers\n",
            "    copying build/lib.linux-x86_64-3.6/apex/optimizers/__init__.py -> /usr/local/lib/python3.6/dist-packages/apex/optimizers\n",
            "    copying build/lib.linux-x86_64-3.6/apex/optimizers/fused_adam.py -> /usr/local/lib/python3.6/dist-packages/apex/optimizers\n",
            "    copying build/lib.linux-x86_64-3.6/apex/optimizers/fused_sgd.py -> /usr/local/lib/python3.6/dist-packages/apex/optimizers\n",
            "    copying build/lib.linux-x86_64-3.6/apex/optimizers/fused_lamb.py -> /usr/local/lib/python3.6/dist-packages/apex/optimizers\n",
            "    copying build/lib.linux-x86_64-3.6/apex/__init__.py -> /usr/local/lib/python3.6/dist-packages/apex\n",
            "    creating /usr/local/lib/python3.6/dist-packages/apex/mlp\n",
            "    copying build/lib.linux-x86_64-3.6/apex/mlp/__init__.py -> /usr/local/lib/python3.6/dist-packages/apex/mlp\n",
            "    copying build/lib.linux-x86_64-3.6/apex/mlp/mlp.py -> /usr/local/lib/python3.6/dist-packages/apex/mlp\n",
            "    creating /usr/local/lib/python3.6/dist-packages/apex/normalization\n",
            "    copying build/lib.linux-x86_64-3.6/apex/normalization/fused_layer_norm.py -> /usr/local/lib/python3.6/dist-packages/apex/normalization\n",
            "    copying build/lib.linux-x86_64-3.6/apex/normalization/__init__.py -> /usr/local/lib/python3.6/dist-packages/apex/normalization\n",
            "    creating /usr/local/lib/python3.6/dist-packages/apex/pyprof\n",
            "    copying build/lib.linux-x86_64-3.6/apex/pyprof/__init__.py -> /usr/local/lib/python3.6/dist-packages/apex/pyprof\n",
            "    creating /usr/local/lib/python3.6/dist-packages/apex/pyprof/parse\n",
            "    copying build/lib.linux-x86_64-3.6/apex/pyprof/parse/__main__.py -> /usr/local/lib/python3.6/dist-packages/apex/pyprof/parse\n",
            "    copying build/lib.linux-x86_64-3.6/apex/pyprof/parse/parse.py -> /usr/local/lib/python3.6/dist-packages/apex/pyprof/parse\n",
            "    copying build/lib.linux-x86_64-3.6/apex/pyprof/parse/nvvp.py -> /usr/local/lib/python3.6/dist-packages/apex/pyprof/parse\n",
            "    copying build/lib.linux-x86_64-3.6/apex/pyprof/parse/__init__.py -> /usr/local/lib/python3.6/dist-packages/apex/pyprof/parse\n",
            "    copying build/lib.linux-x86_64-3.6/apex/pyprof/parse/db.py -> /usr/local/lib/python3.6/dist-packages/apex/pyprof/parse\n",
            "    copying build/lib.linux-x86_64-3.6/apex/pyprof/parse/kernel.py -> /usr/local/lib/python3.6/dist-packages/apex/pyprof/parse\n",
            "    creating /usr/local/lib/python3.6/dist-packages/apex/pyprof/prof\n",
            "    copying build/lib.linux-x86_64-3.6/apex/pyprof/prof/reduction.py -> /usr/local/lib/python3.6/dist-packages/apex/pyprof/prof\n",
            "    copying build/lib.linux-x86_64-3.6/apex/pyprof/prof/__main__.py -> /usr/local/lib/python3.6/dist-packages/apex/pyprof/prof\n",
            "    copying build/lib.linux-x86_64-3.6/apex/pyprof/prof/optim.py -> /usr/local/lib/python3.6/dist-packages/apex/pyprof/prof\n",
            "    copying build/lib.linux-x86_64-3.6/apex/pyprof/prof/softmax.py -> /usr/local/lib/python3.6/dist-packages/apex/pyprof/prof\n",
            "    copying build/lib.linux-x86_64-3.6/apex/pyprof/prof/embedding.py -> /usr/local/lib/python3.6/dist-packages/apex/pyprof/prof\n",
            "    copying build/lib.linux-x86_64-3.6/apex/pyprof/prof/prof.py -> /usr/local/lib/python3.6/dist-packages/apex/pyprof/prof\n",
            "    copying build/lib.linux-x86_64-3.6/apex/pyprof/prof/pointwise.py -> /usr/local/lib/python3.6/dist-packages/apex/pyprof/prof\n",
            "    copying build/lib.linux-x86_64-3.6/apex/pyprof/prof/loss.py -> /usr/local/lib/python3.6/dist-packages/apex/pyprof/prof\n",
            "    copying build/lib.linux-x86_64-3.6/apex/pyprof/prof/__init__.py -> /usr/local/lib/python3.6/dist-packages/apex/pyprof/prof\n",
            "    copying build/lib.linux-x86_64-3.6/apex/pyprof/prof/usage.py -> /usr/local/lib/python3.6/dist-packages/apex/pyprof/prof\n",
            "    copying build/lib.linux-x86_64-3.6/apex/pyprof/prof/recurrentCell.py -> /usr/local/lib/python3.6/dist-packages/apex/pyprof/prof\n",
            "    copying build/lib.linux-x86_64-3.6/apex/pyprof/prof/base.py -> /usr/local/lib/python3.6/dist-packages/apex/pyprof/prof\n",
            "    copying build/lib.linux-x86_64-3.6/apex/pyprof/prof/randomSample.py -> /usr/local/lib/python3.6/dist-packages/apex/pyprof/prof\n",
            "    copying build/lib.linux-x86_64-3.6/apex/pyprof/prof/blas.py -> /usr/local/lib/python3.6/dist-packages/apex/pyprof/prof\n",
            "    copying build/lib.linux-x86_64-3.6/apex/pyprof/prof/misc.py -> /usr/local/lib/python3.6/dist-packages/apex/pyprof/prof\n",
            "    copying build/lib.linux-x86_64-3.6/apex/pyprof/prof/utility.py -> /usr/local/lib/python3.6/dist-packages/apex/pyprof/prof\n",
            "    copying build/lib.linux-x86_64-3.6/apex/pyprof/prof/pooling.py -> /usr/local/lib/python3.6/dist-packages/apex/pyprof/prof\n",
            "    copying build/lib.linux-x86_64-3.6/apex/pyprof/prof/activation.py -> /usr/local/lib/python3.6/dist-packages/apex/pyprof/prof\n",
            "    copying build/lib.linux-x86_64-3.6/apex/pyprof/prof/convert.py -> /usr/local/lib/python3.6/dist-packages/apex/pyprof/prof\n",
            "    copying build/lib.linux-x86_64-3.6/apex/pyprof/prof/linear.py -> /usr/local/lib/python3.6/dist-packages/apex/pyprof/prof\n",
            "    copying build/lib.linux-x86_64-3.6/apex/pyprof/prof/dropout.py -> /usr/local/lib/python3.6/dist-packages/apex/pyprof/prof\n",
            "    copying build/lib.linux-x86_64-3.6/apex/pyprof/prof/normalization.py -> /usr/local/lib/python3.6/dist-packages/apex/pyprof/prof\n",
            "    copying build/lib.linux-x86_64-3.6/apex/pyprof/prof/conv.py -> /usr/local/lib/python3.6/dist-packages/apex/pyprof/prof\n",
            "    copying build/lib.linux-x86_64-3.6/apex/pyprof/prof/index_slice_join_mutate.py -> /usr/local/lib/python3.6/dist-packages/apex/pyprof/prof\n",
            "    copying build/lib.linux-x86_64-3.6/apex/pyprof/prof/output.py -> /usr/local/lib/python3.6/dist-packages/apex/pyprof/prof\n",
            "    copying build/lib.linux-x86_64-3.6/apex/pyprof/prof/data.py -> /usr/local/lib/python3.6/dist-packages/apex/pyprof/prof\n",
            "    creating /usr/local/lib/python3.6/dist-packages/apex/pyprof/nvtx\n",
            "    copying build/lib.linux-x86_64-3.6/apex/pyprof/nvtx/__init__.py -> /usr/local/lib/python3.6/dist-packages/apex/pyprof/nvtx\n",
            "    copying build/lib.linux-x86_64-3.6/apex/pyprof/nvtx/nvmarker.py -> /usr/local/lib/python3.6/dist-packages/apex/pyprof/nvtx\n",
            "    creating /usr/local/lib/python3.6/dist-packages/apex/contrib\n",
            "    creating /usr/local/lib/python3.6/dist-packages/apex/contrib/optimizers\n",
            "    copying build/lib.linux-x86_64-3.6/apex/contrib/optimizers/__init__.py -> /usr/local/lib/python3.6/dist-packages/apex/contrib/optimizers\n",
            "    copying build/lib.linux-x86_64-3.6/apex/contrib/optimizers/fused_adam.py -> /usr/local/lib/python3.6/dist-packages/apex/contrib/optimizers\n",
            "    copying build/lib.linux-x86_64-3.6/apex/contrib/optimizers/fused_sgd.py -> /usr/local/lib/python3.6/dist-packages/apex/contrib/optimizers\n",
            "    copying build/lib.linux-x86_64-3.6/apex/contrib/optimizers/fused_lamb.py -> /usr/local/lib/python3.6/dist-packages/apex/contrib/optimizers\n",
            "    copying build/lib.linux-x86_64-3.6/apex/contrib/optimizers/fp16_optimizer.py -> /usr/local/lib/python3.6/dist-packages/apex/contrib/optimizers\n",
            "    copying build/lib.linux-x86_64-3.6/apex/contrib/__init__.py -> /usr/local/lib/python3.6/dist-packages/apex/contrib\n",
            "    creating /usr/local/lib/python3.6/dist-packages/apex/contrib/xentropy\n",
            "    copying build/lib.linux-x86_64-3.6/apex/contrib/xentropy/__init__.py -> /usr/local/lib/python3.6/dist-packages/apex/contrib/xentropy\n",
            "    copying build/lib.linux-x86_64-3.6/apex/contrib/xentropy/softmax_xentropy.py -> /usr/local/lib/python3.6/dist-packages/apex/contrib/xentropy\n",
            "    creating /usr/local/lib/python3.6/dist-packages/apex/contrib/multihead_attn\n",
            "    copying build/lib.linux-x86_64-3.6/apex/contrib/multihead_attn/self_multihead_attn_func.py -> /usr/local/lib/python3.6/dist-packages/apex/contrib/multihead_attn\n",
            "    copying build/lib.linux-x86_64-3.6/apex/contrib/multihead_attn/__init__.py -> /usr/local/lib/python3.6/dist-packages/apex/contrib/multihead_attn\n",
            "    copying build/lib.linux-x86_64-3.6/apex/contrib/multihead_attn/fast_self_multihead_attn_norm_add_func.py -> /usr/local/lib/python3.6/dist-packages/apex/contrib/multihead_attn\n",
            "    copying build/lib.linux-x86_64-3.6/apex/contrib/multihead_attn/encdec_multihead_attn_func.py -> /usr/local/lib/python3.6/dist-packages/apex/contrib/multihead_attn\n",
            "    copying build/lib.linux-x86_64-3.6/apex/contrib/multihead_attn/fast_encdec_multihead_attn_func.py -> /usr/local/lib/python3.6/dist-packages/apex/contrib/multihead_attn\n",
            "    copying build/lib.linux-x86_64-3.6/apex/contrib/multihead_attn/self_multihead_attn.py -> /usr/local/lib/python3.6/dist-packages/apex/contrib/multihead_attn\n",
            "    copying build/lib.linux-x86_64-3.6/apex/contrib/multihead_attn/encdec_multihead_attn.py -> /usr/local/lib/python3.6/dist-packages/apex/contrib/multihead_attn\n",
            "    copying build/lib.linux-x86_64-3.6/apex/contrib/multihead_attn/fast_self_multihead_attn_func.py -> /usr/local/lib/python3.6/dist-packages/apex/contrib/multihead_attn\n",
            "    copying build/lib.linux-x86_64-3.6/apex/contrib/multihead_attn/fast_encdec_multihead_attn_norm_add_func.py -> /usr/local/lib/python3.6/dist-packages/apex/contrib/multihead_attn\n",
            "    creating /usr/local/lib/python3.6/dist-packages/apex/contrib/groupbn\n",
            "    copying build/lib.linux-x86_64-3.6/apex/contrib/groupbn/__init__.py -> /usr/local/lib/python3.6/dist-packages/apex/contrib/groupbn\n",
            "    copying build/lib.linux-x86_64-3.6/apex/contrib/groupbn/batch_norm.py -> /usr/local/lib/python3.6/dist-packages/apex/contrib/groupbn\n",
            "    creating /usr/local/lib/python3.6/dist-packages/apex/fp16_utils\n",
            "    copying build/lib.linux-x86_64-3.6/apex/fp16_utils/fp16util.py -> /usr/local/lib/python3.6/dist-packages/apex/fp16_utils\n",
            "    copying build/lib.linux-x86_64-3.6/apex/fp16_utils/__init__.py -> /usr/local/lib/python3.6/dist-packages/apex/fp16_utils\n",
            "    copying build/lib.linux-x86_64-3.6/apex/fp16_utils/loss_scaler.py -> /usr/local/lib/python3.6/dist-packages/apex/fp16_utils\n",
            "    copying build/lib.linux-x86_64-3.6/apex/fp16_utils/fp16_optimizer.py -> /usr/local/lib/python3.6/dist-packages/apex/fp16_utils\n",
            "    copying build/lib.linux-x86_64-3.6/fused_layer_norm_cuda.cpython-36m-x86_64-linux-gnu.so -> /usr/local/lib/python3.6/dist-packages\n",
            "    byte-compiling /usr/local/lib/python3.6/dist-packages/apex/amp/handle.py to handle.cpython-36.pyc\n",
            "    byte-compiling /usr/local/lib/python3.6/dist-packages/apex/amp/utils.py to utils.cpython-36.pyc\n",
            "    byte-compiling /usr/local/lib/python3.6/dist-packages/apex/amp/rnn_compat.py to rnn_compat.cpython-36.pyc\n",
            "    byte-compiling /usr/local/lib/python3.6/dist-packages/apex/amp/wrap.py to wrap.cpython-36.pyc\n",
            "    byte-compiling /usr/local/lib/python3.6/dist-packages/apex/amp/amp.py to amp.cpython-36.pyc\n",
            "    byte-compiling /usr/local/lib/python3.6/dist-packages/apex/amp/__init__.py to __init__.cpython-36.pyc\n",
            "    byte-compiling /usr/local/lib/python3.6/dist-packages/apex/amp/_process_optimizer.py to _process_optimizer.cpython-36.pyc\n",
            "    byte-compiling /usr/local/lib/python3.6/dist-packages/apex/amp/opt.py to opt.cpython-36.pyc\n",
            "    byte-compiling /usr/local/lib/python3.6/dist-packages/apex/amp/compat.py to compat.cpython-36.pyc\n",
            "    byte-compiling /usr/local/lib/python3.6/dist-packages/apex/amp/__version__.py to __version__.cpython-36.pyc\n",
            "    byte-compiling /usr/local/lib/python3.6/dist-packages/apex/amp/lists/__init__.py to __init__.cpython-36.pyc\n",
            "    byte-compiling /usr/local/lib/python3.6/dist-packages/apex/amp/lists/tensor_overrides.py to tensor_overrides.cpython-36.pyc\n",
            "    byte-compiling /usr/local/lib/python3.6/dist-packages/apex/amp/lists/functional_overrides.py to functional_overrides.cpython-36.pyc\n",
            "    byte-compiling /usr/local/lib/python3.6/dist-packages/apex/amp/lists/torch_overrides.py to torch_overrides.cpython-36.pyc\n",
            "    byte-compiling /usr/local/lib/python3.6/dist-packages/apex/amp/scaler.py to scaler.cpython-36.pyc\n",
            "    byte-compiling /usr/local/lib/python3.6/dist-packages/apex/amp/frontend.py to frontend.cpython-36.pyc\n",
            "    byte-compiling /usr/local/lib/python3.6/dist-packages/apex/amp/_initialize.py to _initialize.cpython-36.pyc\n",
            "    byte-compiling /usr/local/lib/python3.6/dist-packages/apex/amp/_amp_state.py to _amp_state.cpython-36.pyc\n",
            "    byte-compiling /usr/local/lib/python3.6/dist-packages/apex/multi_tensor_apply/__init__.py to __init__.cpython-36.pyc\n",
            "    byte-compiling /usr/local/lib/python3.6/dist-packages/apex/multi_tensor_apply/multi_tensor_apply.py to multi_tensor_apply.cpython-36.pyc\n",
            "    byte-compiling /usr/local/lib/python3.6/dist-packages/apex/parallel/optimized_sync_batchnorm.py to optimized_sync_batchnorm.cpython-36.pyc\n",
            "    byte-compiling /usr/local/lib/python3.6/dist-packages/apex/parallel/__init__.py to __init__.cpython-36.pyc\n",
            "    byte-compiling /usr/local/lib/python3.6/dist-packages/apex/parallel/sync_batchnorm.py to sync_batchnorm.cpython-36.pyc\n",
            "    byte-compiling /usr/local/lib/python3.6/dist-packages/apex/parallel/sync_batchnorm_kernel.py to sync_batchnorm_kernel.cpython-36.pyc\n",
            "    byte-compiling /usr/local/lib/python3.6/dist-packages/apex/parallel/LARC.py to LARC.cpython-36.pyc\n",
            "    byte-compiling /usr/local/lib/python3.6/dist-packages/apex/parallel/multiproc.py to multiproc.cpython-36.pyc\n",
            "    byte-compiling /usr/local/lib/python3.6/dist-packages/apex/parallel/optimized_sync_batchnorm_kernel.py to optimized_sync_batchnorm_kernel.cpython-36.pyc\n",
            "    byte-compiling /usr/local/lib/python3.6/dist-packages/apex/parallel/distributed.py to distributed.cpython-36.pyc\n",
            "    byte-compiling /usr/local/lib/python3.6/dist-packages/apex/reparameterization/__init__.py to __init__.cpython-36.pyc\n",
            "    byte-compiling /usr/local/lib/python3.6/dist-packages/apex/reparameterization/weight_norm.py to weight_norm.cpython-36.pyc\n",
            "    byte-compiling /usr/local/lib/python3.6/dist-packages/apex/reparameterization/reparameterization.py to reparameterization.cpython-36.pyc\n",
            "    byte-compiling /usr/local/lib/python3.6/dist-packages/apex/RNN/cells.py to cells.cpython-36.pyc\n",
            "    byte-compiling /usr/local/lib/python3.6/dist-packages/apex/RNN/__init__.py to __init__.cpython-36.pyc\n",
            "    byte-compiling /usr/local/lib/python3.6/dist-packages/apex/RNN/RNNBackend.py to RNNBackend.cpython-36.pyc\n",
            "    byte-compiling /usr/local/lib/python3.6/dist-packages/apex/RNN/models.py to models.cpython-36.pyc\n",
            "    byte-compiling /usr/local/lib/python3.6/dist-packages/apex/optimizers/fused_novograd.py to fused_novograd.cpython-36.pyc\n",
            "    byte-compiling /usr/local/lib/python3.6/dist-packages/apex/optimizers/__init__.py to __init__.cpython-36.pyc\n",
            "    byte-compiling /usr/local/lib/python3.6/dist-packages/apex/optimizers/fused_adam.py to fused_adam.cpython-36.pyc\n",
            "    byte-compiling /usr/local/lib/python3.6/dist-packages/apex/optimizers/fused_sgd.py to fused_sgd.cpython-36.pyc\n",
            "    byte-compiling /usr/local/lib/python3.6/dist-packages/apex/optimizers/fused_lamb.py to fused_lamb.cpython-36.pyc\n",
            "    byte-compiling /usr/local/lib/python3.6/dist-packages/apex/__init__.py to __init__.cpython-36.pyc\n",
            "    byte-compiling /usr/local/lib/python3.6/dist-packages/apex/mlp/__init__.py to __init__.cpython-36.pyc\n",
            "    byte-compiling /usr/local/lib/python3.6/dist-packages/apex/mlp/mlp.py to mlp.cpython-36.pyc\n",
            "    byte-compiling /usr/local/lib/python3.6/dist-packages/apex/normalization/fused_layer_norm.py to fused_layer_norm.cpython-36.pyc\n",
            "    byte-compiling /usr/local/lib/python3.6/dist-packages/apex/normalization/__init__.py to __init__.cpython-36.pyc\n",
            "    byte-compiling /usr/local/lib/python3.6/dist-packages/apex/pyprof/__init__.py to __init__.cpython-36.pyc\n",
            "    byte-compiling /usr/local/lib/python3.6/dist-packages/apex/pyprof/parse/__main__.py to __main__.cpython-36.pyc\n",
            "    byte-compiling /usr/local/lib/python3.6/dist-packages/apex/pyprof/parse/parse.py to parse.cpython-36.pyc\n",
            "    byte-compiling /usr/local/lib/python3.6/dist-packages/apex/pyprof/parse/nvvp.py to nvvp.cpython-36.pyc\n",
            "    byte-compiling /usr/local/lib/python3.6/dist-packages/apex/pyprof/parse/__init__.py to __init__.cpython-36.pyc\n",
            "    byte-compiling /usr/local/lib/python3.6/dist-packages/apex/pyprof/parse/db.py to db.cpython-36.pyc\n",
            "    byte-compiling /usr/local/lib/python3.6/dist-packages/apex/pyprof/parse/kernel.py to kernel.cpython-36.pyc\n",
            "    byte-compiling /usr/local/lib/python3.6/dist-packages/apex/pyprof/prof/reduction.py to reduction.cpython-36.pyc\n",
            "    byte-compiling /usr/local/lib/python3.6/dist-packages/apex/pyprof/prof/__main__.py to __main__.cpython-36.pyc\n",
            "    byte-compiling /usr/local/lib/python3.6/dist-packages/apex/pyprof/prof/optim.py to optim.cpython-36.pyc\n",
            "    byte-compiling /usr/local/lib/python3.6/dist-packages/apex/pyprof/prof/softmax.py to softmax.cpython-36.pyc\n",
            "    byte-compiling /usr/local/lib/python3.6/dist-packages/apex/pyprof/prof/embedding.py to embedding.cpython-36.pyc\n",
            "    byte-compiling /usr/local/lib/python3.6/dist-packages/apex/pyprof/prof/prof.py to prof.cpython-36.pyc\n",
            "    byte-compiling /usr/local/lib/python3.6/dist-packages/apex/pyprof/prof/pointwise.py to pointwise.cpython-36.pyc\n",
            "    byte-compiling /usr/local/lib/python3.6/dist-packages/apex/pyprof/prof/loss.py to loss.cpython-36.pyc\n",
            "    byte-compiling /usr/local/lib/python3.6/dist-packages/apex/pyprof/prof/__init__.py to __init__.cpython-36.pyc\n",
            "    byte-compiling /usr/local/lib/python3.6/dist-packages/apex/pyprof/prof/usage.py to usage.cpython-36.pyc\n",
            "    byte-compiling /usr/local/lib/python3.6/dist-packages/apex/pyprof/prof/recurrentCell.py to recurrentCell.cpython-36.pyc\n",
            "    byte-compiling /usr/local/lib/python3.6/dist-packages/apex/pyprof/prof/base.py to base.cpython-36.pyc\n",
            "    byte-compiling /usr/local/lib/python3.6/dist-packages/apex/pyprof/prof/randomSample.py to randomSample.cpython-36.pyc\n",
            "    byte-compiling /usr/local/lib/python3.6/dist-packages/apex/pyprof/prof/blas.py to blas.cpython-36.pyc\n",
            "    byte-compiling /usr/local/lib/python3.6/dist-packages/apex/pyprof/prof/misc.py to misc.cpython-36.pyc\n",
            "    byte-compiling /usr/local/lib/python3.6/dist-packages/apex/pyprof/prof/utility.py to utility.cpython-36.pyc\n",
            "    byte-compiling /usr/local/lib/python3.6/dist-packages/apex/pyprof/prof/pooling.py to pooling.cpython-36.pyc\n",
            "    byte-compiling /usr/local/lib/python3.6/dist-packages/apex/pyprof/prof/activation.py to activation.cpython-36.pyc\n",
            "    byte-compiling /usr/local/lib/python3.6/dist-packages/apex/pyprof/prof/convert.py to convert.cpython-36.pyc\n",
            "    byte-compiling /usr/local/lib/python3.6/dist-packages/apex/pyprof/prof/linear.py to linear.cpython-36.pyc\n",
            "    byte-compiling /usr/local/lib/python3.6/dist-packages/apex/pyprof/prof/dropout.py to dropout.cpython-36.pyc\n",
            "    byte-compiling /usr/local/lib/python3.6/dist-packages/apex/pyprof/prof/normalization.py to normalization.cpython-36.pyc\n",
            "    byte-compiling /usr/local/lib/python3.6/dist-packages/apex/pyprof/prof/conv.py to conv.cpython-36.pyc\n",
            "    byte-compiling /usr/local/lib/python3.6/dist-packages/apex/pyprof/prof/index_slice_join_mutate.py to index_slice_join_mutate.cpython-36.pyc\n",
            "    byte-compiling /usr/local/lib/python3.6/dist-packages/apex/pyprof/prof/output.py to output.cpython-36.pyc\n",
            "    byte-compiling /usr/local/lib/python3.6/dist-packages/apex/pyprof/prof/data.py to data.cpython-36.pyc\n",
            "    byte-compiling /usr/local/lib/python3.6/dist-packages/apex/pyprof/nvtx/__init__.py to __init__.cpython-36.pyc\n",
            "    byte-compiling /usr/local/lib/python3.6/dist-packages/apex/pyprof/nvtx/nvmarker.py to nvmarker.cpython-36.pyc\n",
            "    byte-compiling /usr/local/lib/python3.6/dist-packages/apex/contrib/optimizers/__init__.py to __init__.cpython-36.pyc\n",
            "    byte-compiling /usr/local/lib/python3.6/dist-packages/apex/contrib/optimizers/fused_adam.py to fused_adam.cpython-36.pyc\n",
            "    byte-compiling /usr/local/lib/python3.6/dist-packages/apex/contrib/optimizers/fused_sgd.py to fused_sgd.cpython-36.pyc\n",
            "    byte-compiling /usr/local/lib/python3.6/dist-packages/apex/contrib/optimizers/fused_lamb.py to fused_lamb.cpython-36.pyc\n",
            "    byte-compiling /usr/local/lib/python3.6/dist-packages/apex/contrib/optimizers/fp16_optimizer.py to fp16_optimizer.cpython-36.pyc\n",
            "    byte-compiling /usr/local/lib/python3.6/dist-packages/apex/contrib/__init__.py to __init__.cpython-36.pyc\n",
            "    byte-compiling /usr/local/lib/python3.6/dist-packages/apex/contrib/xentropy/__init__.py to __init__.cpython-36.pyc\n",
            "    byte-compiling /usr/local/lib/python3.6/dist-packages/apex/contrib/xentropy/softmax_xentropy.py to softmax_xentropy.cpython-36.pyc\n",
            "    byte-compiling /usr/local/lib/python3.6/dist-packages/apex/contrib/multihead_attn/self_multihead_attn_func.py to self_multihead_attn_func.cpython-36.pyc\n",
            "    byte-compiling /usr/local/lib/python3.6/dist-packages/apex/contrib/multihead_attn/__init__.py to __init__.cpython-36.pyc\n",
            "    byte-compiling /usr/local/lib/python3.6/dist-packages/apex/contrib/multihead_attn/fast_self_multihead_attn_norm_add_func.py to fast_self_multihead_attn_norm_add_func.cpython-36.pyc\n",
            "    byte-compiling /usr/local/lib/python3.6/dist-packages/apex/contrib/multihead_attn/encdec_multihead_attn_func.py to encdec_multihead_attn_func.cpython-36.pyc\n",
            "    byte-compiling /usr/local/lib/python3.6/dist-packages/apex/contrib/multihead_attn/fast_encdec_multihead_attn_func.py to fast_encdec_multihead_attn_func.cpython-36.pyc\n",
            "    byte-compiling /usr/local/lib/python3.6/dist-packages/apex/contrib/multihead_attn/self_multihead_attn.py to self_multihead_attn.cpython-36.pyc\n",
            "    byte-compiling /usr/local/lib/python3.6/dist-packages/apex/contrib/multihead_attn/encdec_multihead_attn.py to encdec_multihead_attn.cpython-36.pyc\n",
            "    byte-compiling /usr/local/lib/python3.6/dist-packages/apex/contrib/multihead_attn/fast_self_multihead_attn_func.py to fast_self_multihead_attn_func.cpython-36.pyc\n",
            "    byte-compiling /usr/local/lib/python3.6/dist-packages/apex/contrib/multihead_attn/fast_encdec_multihead_attn_norm_add_func.py to fast_encdec_multihead_attn_norm_add_func.cpython-36.pyc\n",
            "    byte-compiling /usr/local/lib/python3.6/dist-packages/apex/contrib/groupbn/__init__.py to __init__.cpython-36.pyc\n",
            "    byte-compiling /usr/local/lib/python3.6/dist-packages/apex/contrib/groupbn/batch_norm.py to batch_norm.cpython-36.pyc\n",
            "    byte-compiling /usr/local/lib/python3.6/dist-packages/apex/fp16_utils/fp16util.py to fp16util.cpython-36.pyc\n",
            "    byte-compiling /usr/local/lib/python3.6/dist-packages/apex/fp16_utils/__init__.py to __init__.cpython-36.pyc\n",
            "    byte-compiling /usr/local/lib/python3.6/dist-packages/apex/fp16_utils/loss_scaler.py to loss_scaler.cpython-36.pyc\n",
            "    byte-compiling /usr/local/lib/python3.6/dist-packages/apex/fp16_utils/fp16_optimizer.py to fp16_optimizer.cpython-36.pyc\n",
            "    running install_egg_info\n",
            "    running egg_info\n",
            "    creating apex.egg-info\n",
            "    writing apex.egg-info/PKG-INFO\n",
            "    writing dependency_links to apex.egg-info/dependency_links.txt\n",
            "    writing top-level names to apex.egg-info/top_level.txt\n",
            "    writing manifest file 'apex.egg-info/SOURCES.txt'\n",
            "    writing manifest file 'apex.egg-info/SOURCES.txt'\n",
            "    Copying apex.egg-info to /usr/local/lib/python3.6/dist-packages/apex-0.1-py3.6.egg-info\n",
            "    running install_scripts\n",
            "    writing list of installed files to '/tmp/pip-record-ze_0qv59/install-record.txt'\n",
            "    Running setup.py install for apex ... \u001b[?25l\u001b[?25hdone\n",
            "  Removing source in /tmp/pip-req-build-6xnzbkyg\n",
            "Successfully installed apex-0.1\n",
            "Cleaning up...\n",
            "Removed build tracker '/tmp/pip-req-tracker-7_geubov'\n"
          ],
          "name": "stdout"
        }
      ]
    },
    {
      "cell_type": "code",
      "metadata": {
        "id": "VB_y9_whrxxm"
      },
      "source": [
        "from simpletransformers.classification import ClassificationModel\n",
        "import pandas as pd\n",
        "from sklearn.metrics import classification_report\n",
        "import logging\n",
        "import pickle\n",
        "import apex\n",
        "import numpy as np"
      ],
      "execution_count": null,
      "outputs": []
    },
    {
      "cell_type": "code",
      "metadata": {
        "id": "bF-t1fAju-c2",
        "outputId": "73dce216-3a41-4b70-8f40-51eae5b7518d",
        "colab": {
          "base_uri": "https://localhost:8080/",
          "height": 51
        }
      },
      "source": [
        "wandb_api_key = ''\n",
        "!wandb login = wandb_api_key"
      ],
      "execution_count": null,
      "outputs": [
        {
          "output_type": "stream",
          "text": [
            "\u001b[34m\u001b[1mwandb\u001b[0m: Appending key for api.wandb.ai to your netrc file: /root/.netrc\n",
            "\u001b[32mSuccessfully logged in to Weights & Biases!\u001b[0m\n"
          ],
          "name": "stdout"
        }
      ]
    },
    {
      "cell_type": "code",
      "metadata": {
        "id": "MNHmJ532WJ-T"
      },
      "source": [
        "# Load training and validation data\n",
        "with open(\"../HAN/df_all.pkl\", \"rb\") as handle:\n",
        "    df_all = pickle.load(handle)\n",
        "\n",
        "training_size = 200000\n",
        "X_train = df_all.words[df_all[\"is_which_set\"] == \"train\"][:training_size]\n",
        "y_train = df_all.categories[df_all[\"is_which_set\"] == \"train\"][:training_size]\n",
        "\n",
        "validation_size = 50000\n",
        "X_val = df_all.words[df_all[\"is_which_set\"] == \"val\"][:validation_size]\n",
        "y_val = df_all.categories[df_all[\"is_which_set\"] == \"val\"][:validation_size]\n",
        "\n",
        "df_train = pd.DataFrame({\"text\": X_train, \"labels\": y_train})\n",
        "df_val = pd.DataFrame({\"text\": X_val, \"labels\": y_val})"
      ],
      "execution_count": null,
      "outputs": []
    },
    {
      "cell_type": "code",
      "metadata": {
        "id": "JUVxvB6CZ8vY"
      },
      "source": [
        "logging.basicConfig(level=logging.INFO)\n",
        "transformers_logger = logging.getLogger(\"transformers\")\n",
        "transformers_logger.setLevel(logging.WARNING)\n",
        "\n",
        "model_types = [\"albert\", \"bert\", \"roberta\", \"distilbert\", \"xlmroberta\"]\n",
        "model_names = [[\"albert-base-v2\", \"albert-large-v2\", \"albert-xlarge-v2\", \"albert-xxlarge-v2\"], \n",
        "               [\"bert-base-uncased\", \"bert-large-uncased\"], \n",
        "               [\"roberta-base\", \"roberta-large\"], \n",
        "               [\"distilbert-base-uncased\"], \n",
        "               [\"xlm-roberta-base\", \"xlm-roberta-large\"]]\n",
        "\n",
        "model_type = model_types[2]\n",
        "model_name = model_names[2][1]\n",
        "\n",
        "if model_type == \"albert\":\n",
        "    is_albert = True\n",
        "else:\n",
        "    is_albert = False\n",
        "\n",
        "epochs = 10\n",
        "\n",
        "config = {\n",
        "    \"output_dir\": \"outputs/\" + model_type + \"_\" + model_name + \"_\" + str(epochs),\n",
        "    \"cache_dir\": \"cache/\" + model_type + \"_\" + model_name + \"_\" + str(epochs),\n",
        "    \"best_model_dir\": \"outputs/\" + model_type + \"_\" + model_name + \"_\" + str(epochs) + \"/best_model/\",\n",
        "    \"overwrite_output_dir\": True,\n",
        "\n",
        "    # Added argument, since Albert and XLNet, wandb is bugged\n",
        "    \"is_albert\": is_albert,\n",
        "\n",
        "    \"fp16\": True,\n",
        "    \"fp16_opt_level\": \"O1\",\n",
        "    \"max_seq_length\": 128,\n",
        "    \"train_batch_size\": 16,\n",
        "    \"eval_batch_size\": 16,\n",
        "    \"num_train_epochs\": epochs,\n",
        "    \"learning_rate\": 4e-5,\n",
        "    \"adam_epsilon\": 1e-8,\n",
        "\n",
        "    \"logging_steps\": 20,\n",
        "    \"evaluate_during_training\": True,\n",
        "    \"evaluate_during_training_steps\": 200,\n",
        "    \"evaluate_during_training_verbose\": False,\n",
        "    \"use_cached_eval_features\": False,\n",
        "    \"save_eval_checkpoints\": False,\n",
        "    \"save_steps\": 1000,\n",
        "    \"no_cache\": False,\n",
        "    \"save_model_every_epoch\": True,\n",
        "\n",
        "    \"use_early_stopping\": True,\n",
        "    \"early_stopping_patience\": 3,\n",
        "    \"early_stopping_metric\": \"eval_loss\",\n",
        "    \"wandb_kwargs\": {\"name\":model_type+\"_\"+model_name + \"_\" + str(epochs)},\n",
        "    \"wandb_project\": \"simple-transformers\"\n",
        "}\n",
        "\n",
        "# Create a ClassificationModel\n",
        "model = ClassificationModel(model_type, model_name, args=config)"
      ],
      "execution_count": null,
      "outputs": []
    },
    {
      "cell_type": "code",
      "metadata": {
        "id": "ADloIIYpOwsK",
        "outputId": "11773523-6121-4087-e74e-547a13d02c39",
        "colab": {
          "base_uri": "https://localhost:8080/",
          "height": 1000,
          "referenced_widgets": [
            "38e464dbd0ad4e9ba8f1a4ad11188255",
            "c9778520a7a24012a09865c638c57d2c",
            "4d4aa548187246b4930e2a3c70c93aee",
            "a8369ad5650d4fada34e51508c6be355",
            "63d194b98b1e4a289b05e0d0d0d8c235",
            "c12a8cdf5cd44855a61e6c438f890061",
            "d616af422ab3455dbaffc59205abb4bd",
            "83af8eb91fcf491784c5daa7ca565287",
            "5f9db47a32e34930a595b124475b17fa",
            "ce4063a300e44089a28bce134d0da17a",
            "450d5b4d9f594756a8e97f59c1988244",
            "17436369f346479f899cbdb792f5a9eb",
            "45182492b5b9476a835ff686fd738d64",
            "a4893b8d1e7c4fda921aac4696d44605",
            "e0c4a2de1c4c478e944af287750f37c0",
            "c11d339950bb4553be86a3b6819a7439",
            "0641a8be4140455283c7122e7b6350d5",
            "7581fea8a93a480bb61d46d0396b4327",
            "d94d1db169fe4921a82524ca914a237b",
            "94fe929bc36b4fe0a4a2890f074d1ba6",
            "d6756f62fd444ad6ad8998b5fb65fc81",
            "2330633ccce74406a47747192ba5450f",
            "5572c6de98d443389133c384844fc1bc",
            "4ae5a32a4d544cf7977ba3b6810809aa"
          ]
        }
      },
      "source": [
        "# Train the model\n",
        "model.train_model(df_train, eval_df=df_val)"
      ],
      "execution_count": null,
      "outputs": [
        {
          "output_type": "stream",
          "text": [
            "INFO:simpletransformers.classification.classification_model: Converting to features started. Cache is not used.\n"
          ],
          "name": "stderr"
        },
        {
          "output_type": "display_data",
          "data": {
            "application/vnd.jupyter.widget-view+json": {
              "model_id": "38e464dbd0ad4e9ba8f1a4ad11188255",
              "version_minor": 0,
              "version_major": 2
            },
            "text/plain": [
              "HBox(children=(IntProgress(value=0, max=200000), HTML(value='')))"
            ]
          },
          "metadata": {
            "tags": []
          }
        },
        {
          "output_type": "stream",
          "text": [
            "\n",
            "Selected optimization level O1:  Insert automatic casts around Pytorch functions and Tensor methods.\n",
            "\n",
            "Defaults for this optimization level are:\n",
            "enabled                : True\n",
            "opt_level              : O1\n",
            "cast_model_type        : None\n",
            "patch_torch_functions  : True\n",
            "keep_batchnorm_fp32    : None\n",
            "master_weights         : None\n",
            "loss_scale             : dynamic\n",
            "Processing user overrides (additional kwargs that are not None)...\n",
            "After processing overrides, optimization options are:\n",
            "enabled                : True\n",
            "opt_level              : O1\n",
            "cast_model_type        : None\n",
            "patch_torch_functions  : True\n",
            "keep_batchnorm_fp32    : None\n",
            "master_weights         : None\n",
            "loss_scale             : dynamic\n"
          ],
          "name": "stdout"
        },
        {
          "output_type": "display_data",
          "data": {
            "application/vnd.jupyter.widget-view+json": {
              "model_id": "5f9db47a32e34930a595b124475b17fa",
              "version_minor": 0,
              "version_major": 2
            },
            "text/plain": [
              "HBox(children=(IntProgress(value=0, description='Epoch', max=10, style=ProgressStyle(description_width='initia…"
            ]
          },
          "metadata": {
            "tags": []
          }
        },
        {
          "output_type": "display_data",
          "data": {
            "text/html": [
              "\n",
              "                Logging results to <a href=\"https://wandb.com\" target=\"_blank\">Weights & Biases</a> <a href=\"https://docs.wandb.com/integrations/jupyter.html\" target=\"_blank\">(Documentation)</a>.<br/>\n",
              "                Project page: <a href=\"https://app.wandb.ai/cs-mac/simple-transformers\" target=\"_blank\">https://app.wandb.ai/cs-mac/simple-transformers</a><br/>\n",
              "                Run page: <a href=\"https://app.wandb.ai/cs-mac/simple-transformers/runs/2bb19uir\" target=\"_blank\">https://app.wandb.ai/cs-mac/simple-transformers/runs/2bb19uir</a><br/>\n",
              "            "
            ],
            "text/plain": [
              "<IPython.core.display.HTML object>"
            ]
          },
          "metadata": {
            "tags": []
          }
        },
        {
          "output_type": "stream",
          "text": [
            "\u001b[34m\u001b[1mwandb\u001b[0m: Wandb version 0.8.34 is available!  To upgrade, please run:\n",
            "\u001b[34m\u001b[1mwandb\u001b[0m:  $ pip install wandb --upgrade\n",
            "INFO:wandb.run_manager:system metrics and metadata threads started\n",
            "INFO:wandb.run_manager:checking resume status, waiting at most 10 seconds\n",
            "INFO:wandb.run_manager:resuming run from id: UnVuOnYxOjJiYjE5dWlyOnNpbXBsZS10cmFuc2Zvcm1lcnM6Y3MtbWFj\n",
            "INFO:wandb.run_manager:upserting run before process can begin, waiting at most 10 seconds\n",
            "INFO:wandb.run_manager:saving patches\n",
            "INFO:wandb.run_manager:saving pip packages\n",
            "INFO:wandb.run_manager:initializing streaming files api\n",
            "INFO:wandb.run_manager:unblocking file change observer, beginning sync with W&B servers\n"
          ],
          "name": "stderr"
        },
        {
          "output_type": "display_data",
          "data": {
            "application/vnd.jupyter.widget-view+json": {
              "model_id": "0641a8be4140455283c7122e7b6350d5",
              "version_minor": 0,
              "version_major": 2
            },
            "text/plain": [
              "HBox(children=(IntProgress(value=0, description='Current iteration', max=12500, style=ProgressStyle(descriptio…"
            ]
          },
          "metadata": {
            "tags": []
          }
        },
        {
          "output_type": "stream",
          "text": [
            "INFO:wandb.run_manager:file/dir modified: /content/drive/My Drive/Colab Notebooks/master_project/evaluation/wandb/run-20200501_110843-2bb19uir/config.yaml\n"
          ],
          "name": "stderr"
        },
        {
          "output_type": "stream",
          "text": [
            "\rRunning loss: 0.678038"
          ],
          "name": "stdout"
        },
        {
          "output_type": "stream",
          "text": [
            "INFO:wandb.run_manager:file/dir created: /content/drive/My Drive/Colab Notebooks/master_project/evaluation/wandb/run-20200501_110843-2bb19uir/wandb-events.jsonl\n",
            "INFO:wandb.run_manager:file/dir created: /content/drive/My Drive/Colab Notebooks/master_project/evaluation/wandb/run-20200501_110843-2bb19uir/wandb-summary.json\n",
            "INFO:wandb.run_manager:file/dir created: /content/drive/My Drive/Colab Notebooks/master_project/evaluation/wandb/run-20200501_110843-2bb19uir/wandb-metadata.json\n",
            "INFO:wandb.run_manager:file/dir created: /content/drive/My Drive/Colab Notebooks/master_project/evaluation/wandb/run-20200501_110843-2bb19uir/requirements.txt\n",
            "INFO:wandb.run_manager:file/dir created: /content/drive/My Drive/Colab Notebooks/master_project/evaluation/wandb/run-20200501_110843-2bb19uir/wandb-history.jsonl\n",
            "INFO:wandb.run_manager:file/dir created: /content/drive/My Drive/Colab Notebooks/master_project/evaluation/wandb/run-20200501_110843-2bb19uir/media/graph/graph_0_summary_93891a96.graph.json\n",
            "INFO:wandb.run_manager:file/dir created: /content/drive/My Drive/Colab Notebooks/master_project/evaluation/wandb/run-20200501_110843-2bb19uir/media/graph\n",
            "INFO:wandb.run_manager:file/dir created: /content/drive/My Drive/Colab Notebooks/master_project/evaluation/wandb/run-20200501_110843-2bb19uir/media\n",
            "/pytorch/torch/csrc/utils/python_arg_parser.cpp:756: UserWarning: This overload of add_ is deprecated:\n",
            "\tadd_(Number alpha, Tensor other)\n",
            "Consider using one of the following signatures instead:\n",
            "\tadd_(Tensor other, *, Number alpha)\n",
            "/usr/local/lib/python3.6/dist-packages/torch/optim/lr_scheduler.py:114: UserWarning: Seems like `optimizer.step()` has been overridden after learning rate scheduler initialization. Please, make sure to call `optimizer.step()` before `lr_scheduler.step()`. See more details at https://pytorch.org/docs/stable/optim.html#how-to-adjust-learning-rate\n",
            "  \"https://pytorch.org/docs/stable/optim.html#how-to-adjust-learning-rate\", UserWarning)\n"
          ],
          "name": "stderr"
        },
        {
          "output_type": "stream",
          "text": [
            "Running loss: 0.705985"
          ],
          "name": "stdout"
        },
        {
          "output_type": "stream",
          "text": [
            "/usr/local/lib/python3.6/dist-packages/torch/optim/lr_scheduler.py:231: UserWarning: To get the last learning rate computed by the scheduler, please use `get_last_lr()`.\n",
            "  warnings.warn(\"To get the last learning rate computed by the scheduler, \"\n"
          ],
          "name": "stderr"
        },
        {
          "output_type": "stream",
          "text": [
            "\rRunning loss: 0.672947"
          ],
          "name": "stdout"
        },
        {
          "output_type": "stream",
          "text": [
            "INFO:wandb.run_manager:file/dir modified: /content/drive/My Drive/Colab Notebooks/master_project/evaluation/wandb/run-20200501_110843-2bb19uir/wandb-metadata.json\n",
            "INFO:wandb.run_manager:file/dir modified: /content/drive/My Drive/Colab Notebooks/master_project/evaluation/wandb/run-20200501_110843-2bb19uir/wandb-history.jsonl\n",
            "INFO:wandb.run_manager:file/dir modified: /content/drive/My Drive/Colab Notebooks/master_project/evaluation/wandb/run-20200501_110843-2bb19uir/wandb-summary.json\n"
          ],
          "name": "stderr"
        },
        {
          "output_type": "stream",
          "text": [
            "Running loss: 0.670081"
          ],
          "name": "stdout"
        },
        {
          "output_type": "stream",
          "text": [
            "INFO:wandb.run_manager:file/dir modified: /content/drive/My Drive/Colab Notebooks/master_project/evaluation/wandb/run-20200501_110843-2bb19uir/wandb-events.jsonl\n"
          ],
          "name": "stderr"
        },
        {
          "output_type": "stream",
          "text": [
            "Running loss: 0.681509"
          ],
          "name": "stdout"
        },
        {
          "output_type": "stream",
          "text": [
            "INFO:wandb.run_manager:file/dir modified: /content/drive/My Drive/Colab Notebooks/master_project/evaluation/wandb/run-20200501_110843-2bb19uir/wandb-metadata.json\n",
            "INFO:wandb.run_manager:file/dir modified: /content/drive/My Drive/Colab Notebooks/master_project/evaluation/wandb/run-20200501_110843-2bb19uir/wandb-history.jsonl\n",
            "INFO:wandb.run_manager:file/dir modified: /content/drive/My Drive/Colab Notebooks/master_project/evaluation/wandb/run-20200501_110843-2bb19uir/wandb-summary.json\n"
          ],
          "name": "stderr"
        },
        {
          "output_type": "stream",
          "text": [
            "Running loss: 0.690018"
          ],
          "name": "stdout"
        },
        {
          "output_type": "stream",
          "text": [
            "INFO:wandb.run_manager:file/dir modified: /content/drive/My Drive/Colab Notebooks/master_project/evaluation/wandb/run-20200501_110843-2bb19uir/wandb-history.jsonl\n",
            "INFO:wandb.run_manager:file/dir modified: /content/drive/My Drive/Colab Notebooks/master_project/evaluation/wandb/run-20200501_110843-2bb19uir/wandb-summary.json\n"
          ],
          "name": "stderr"
        },
        {
          "output_type": "stream",
          "text": [
            "Running loss: 0.686243"
          ],
          "name": "stdout"
        },
        {
          "output_type": "stream",
          "text": [
            "INFO:wandb.run_manager:file/dir modified: /content/drive/My Drive/Colab Notebooks/master_project/evaluation/wandb/run-20200501_110843-2bb19uir/wandb-metadata.json\n"
          ],
          "name": "stderr"
        },
        {
          "output_type": "stream",
          "text": [
            "Gradient overflow.  Skipping step, loss scaler 0 reducing loss scale to 32768.0\n",
            "Running loss: 0.692716"
          ],
          "name": "stdout"
        },
        {
          "output_type": "stream",
          "text": [
            "INFO:wandb.run_manager:file/dir modified: /content/drive/My Drive/Colab Notebooks/master_project/evaluation/wandb/run-20200501_110843-2bb19uir/wandb-events.jsonl\n"
          ],
          "name": "stderr"
        },
        {
          "output_type": "stream",
          "text": [
            "Running loss: 0.726856"
          ],
          "name": "stdout"
        },
        {
          "output_type": "stream",
          "text": [
            "INFO:wandb.run_manager:file/dir modified: /content/drive/My Drive/Colab Notebooks/master_project/evaluation/wandb/run-20200501_110843-2bb19uir/wandb-history.jsonl\n",
            "INFO:wandb.run_manager:file/dir modified: /content/drive/My Drive/Colab Notebooks/master_project/evaluation/wandb/run-20200501_110843-2bb19uir/wandb-summary.json\n"
          ],
          "name": "stderr"
        },
        {
          "output_type": "stream",
          "text": [
            "Running loss: 0.696006"
          ],
          "name": "stdout"
        },
        {
          "output_type": "stream",
          "text": [
            "INFO:wandb.run_manager:file/dir modified: /content/drive/My Drive/Colab Notebooks/master_project/evaluation/wandb/run-20200501_110843-2bb19uir/wandb-metadata.json\n"
          ],
          "name": "stderr"
        },
        {
          "output_type": "stream",
          "text": [
            "Running loss: 0.673650"
          ],
          "name": "stdout"
        },
        {
          "output_type": "stream",
          "text": [
            "INFO:wandb.run_manager:file/dir modified: /content/drive/My Drive/Colab Notebooks/master_project/evaluation/wandb/run-20200501_110843-2bb19uir/wandb-history.jsonl\n",
            "INFO:wandb.run_manager:file/dir modified: /content/drive/My Drive/Colab Notebooks/master_project/evaluation/wandb/run-20200501_110843-2bb19uir/wandb-summary.json\n"
          ],
          "name": "stderr"
        },
        {
          "output_type": "stream",
          "text": [
            "Running loss: 0.691792"
          ],
          "name": "stdout"
        },
        {
          "output_type": "stream",
          "text": [
            "INFO:wandb.run_manager:file/dir modified: /content/drive/My Drive/Colab Notebooks/master_project/evaluation/wandb/run-20200501_110843-2bb19uir/wandb-metadata.json\n"
          ],
          "name": "stderr"
        },
        {
          "output_type": "stream",
          "text": [
            "Running loss: 0.686134"
          ],
          "name": "stdout"
        },
        {
          "output_type": "stream",
          "text": [
            "INFO:wandb.run_manager:file/dir modified: /content/drive/My Drive/Colab Notebooks/master_project/evaluation/wandb/run-20200501_110843-2bb19uir/wandb-events.jsonl\n"
          ],
          "name": "stderr"
        },
        {
          "output_type": "stream",
          "text": [
            "Running loss: 0.676348"
          ],
          "name": "stdout"
        },
        {
          "output_type": "stream",
          "text": [
            "INFO:wandb.run_manager:file/dir modified: /content/drive/My Drive/Colab Notebooks/master_project/evaluation/wandb/run-20200501_110843-2bb19uir/wandb-history.jsonl\n",
            "INFO:wandb.run_manager:file/dir modified: /content/drive/My Drive/Colab Notebooks/master_project/evaluation/wandb/run-20200501_110843-2bb19uir/wandb-summary.json\n"
          ],
          "name": "stderr"
        },
        {
          "output_type": "stream",
          "text": [
            "Running loss: 0.700726"
          ],
          "name": "stdout"
        },
        {
          "output_type": "stream",
          "text": [
            "INFO:wandb.run_manager:file/dir modified: /content/drive/My Drive/Colab Notebooks/master_project/evaluation/wandb/run-20200501_110843-2bb19uir/wandb-metadata.json\n"
          ],
          "name": "stderr"
        },
        {
          "output_type": "stream",
          "text": [
            "Running loss: 0.697254"
          ],
          "name": "stdout"
        },
        {
          "output_type": "stream",
          "text": [
            "INFO:wandb.run_manager:file/dir modified: /content/drive/My Drive/Colab Notebooks/master_project/evaluation/wandb/run-20200501_110843-2bb19uir/wandb-history.jsonl\n",
            "INFO:wandb.run_manager:file/dir modified: /content/drive/My Drive/Colab Notebooks/master_project/evaluation/wandb/run-20200501_110843-2bb19uir/wandb-summary.json\n"
          ],
          "name": "stderr"
        },
        {
          "output_type": "stream",
          "text": [
            "Running loss: 0.724171"
          ],
          "name": "stdout"
        },
        {
          "output_type": "stream",
          "text": [
            "INFO:wandb.run_manager:file/dir modified: /content/drive/My Drive/Colab Notebooks/master_project/evaluation/wandb/run-20200501_110843-2bb19uir/wandb-metadata.json\n"
          ],
          "name": "stderr"
        },
        {
          "output_type": "stream",
          "text": [
            "Running loss: 0.673087"
          ],
          "name": "stdout"
        },
        {
          "output_type": "stream",
          "text": [
            "INFO:wandb.run_manager:file/dir modified: /content/drive/My Drive/Colab Notebooks/master_project/evaluation/wandb/run-20200501_110843-2bb19uir/wandb-events.jsonl\n"
          ],
          "name": "stderr"
        },
        {
          "output_type": "stream",
          "text": [
            "Running loss: 0.714453"
          ],
          "name": "stdout"
        },
        {
          "output_type": "stream",
          "text": [
            "INFO:wandb.run_manager:file/dir modified: /content/drive/My Drive/Colab Notebooks/master_project/evaluation/wandb/run-20200501_110843-2bb19uir/wandb-history.jsonl\n",
            "INFO:wandb.run_manager:file/dir modified: /content/drive/My Drive/Colab Notebooks/master_project/evaluation/wandb/run-20200501_110843-2bb19uir/wandb-summary.json\n"
          ],
          "name": "stderr"
        },
        {
          "output_type": "stream",
          "text": [
            "Running loss: 0.685000"
          ],
          "name": "stdout"
        },
        {
          "output_type": "stream",
          "text": [
            "INFO:wandb.run_manager:file/dir modified: /content/drive/My Drive/Colab Notebooks/master_project/evaluation/wandb/run-20200501_110843-2bb19uir/wandb-metadata.json\n"
          ],
          "name": "stderr"
        },
        {
          "output_type": "stream",
          "text": [
            "Running loss: 0.697694"
          ],
          "name": "stdout"
        },
        {
          "output_type": "stream",
          "text": [
            "INFO:wandb.run_manager:file/dir modified: /content/drive/My Drive/Colab Notebooks/master_project/evaluation/wandb/run-20200501_110843-2bb19uir/wandb-history.jsonl\n",
            "INFO:wandb.run_manager:file/dir modified: /content/drive/My Drive/Colab Notebooks/master_project/evaluation/wandb/run-20200501_110843-2bb19uir/wandb-summary.json\n"
          ],
          "name": "stderr"
        },
        {
          "output_type": "stream",
          "text": [
            "\rRunning loss: 0.683250"
          ],
          "name": "stdout"
        },
        {
          "output_type": "stream",
          "text": [
            "INFO:wandb.run_manager:file/dir modified: /content/drive/My Drive/Colab Notebooks/master_project/evaluation/wandb/run-20200501_110843-2bb19uir/wandb-history.jsonl\n"
          ],
          "name": "stderr"
        },
        {
          "output_type": "stream",
          "text": [
            "Running loss: 0.685649"
          ],
          "name": "stdout"
        },
        {
          "output_type": "stream",
          "text": [
            "INFO:wandb.run_manager:file/dir modified: /content/drive/My Drive/Colab Notebooks/master_project/evaluation/wandb/run-20200501_110843-2bb19uir/wandb-metadata.json\n"
          ],
          "name": "stderr"
        },
        {
          "output_type": "stream",
          "text": [
            "Running loss: 0.658602"
          ],
          "name": "stdout"
        },
        {
          "output_type": "stream",
          "text": [
            "INFO:wandb.run_manager:file/dir modified: /content/drive/My Drive/Colab Notebooks/master_project/evaluation/wandb/run-20200501_110843-2bb19uir/wandb-events.jsonl\n"
          ],
          "name": "stderr"
        },
        {
          "output_type": "stream",
          "text": [
            "Running loss: 0.673319"
          ],
          "name": "stdout"
        },
        {
          "output_type": "stream",
          "text": [
            "INFO:wandb.run_manager:file/dir modified: /content/drive/My Drive/Colab Notebooks/master_project/evaluation/wandb/run-20200501_110843-2bb19uir/wandb-history.jsonl\n",
            "INFO:wandb.run_manager:file/dir modified: /content/drive/My Drive/Colab Notebooks/master_project/evaluation/wandb/run-20200501_110843-2bb19uir/wandb-summary.json\n",
            "INFO:wandb.run_manager:file/dir modified: /content/drive/My Drive/Colab Notebooks/master_project/evaluation/wandb/run-20200501_110843-2bb19uir/wandb-metadata.json\n",
            "INFO:wandb.run_manager:file/dir modified: /content/drive/My Drive/Colab Notebooks/master_project/evaluation/wandb/run-20200501_110843-2bb19uir/wandb-metadata.json\n",
            "INFO:wandb.run_manager:file/dir modified: /content/drive/My Drive/Colab Notebooks/master_project/evaluation/wandb/run-20200501_110843-2bb19uir/wandb-events.jsonl\n",
            "INFO:wandb.run_manager:file/dir modified: /content/drive/My Drive/Colab Notebooks/master_project/evaluation/wandb/run-20200501_110843-2bb19uir/wandb-metadata.json\n",
            "INFO:wandb.run_manager:file/dir modified: /content/drive/My Drive/Colab Notebooks/master_project/evaluation/wandb/run-20200501_110843-2bb19uir/wandb-metadata.json\n",
            "INFO:wandb.run_manager:file/dir modified: /content/drive/My Drive/Colab Notebooks/master_project/evaluation/wandb/run-20200501_110843-2bb19uir/wandb-events.jsonl\n",
            "INFO:wandb.run_manager:file/dir modified: /content/drive/My Drive/Colab Notebooks/master_project/evaluation/wandb/run-20200501_110843-2bb19uir/wandb-metadata.json\n",
            "INFO:wandb.run_manager:file/dir modified: /content/drive/My Drive/Colab Notebooks/master_project/evaluation/wandb/run-20200501_110843-2bb19uir/wandb-metadata.json\n",
            "INFO:wandb.run_manager:file/dir modified: /content/drive/My Drive/Colab Notebooks/master_project/evaluation/wandb/run-20200501_110843-2bb19uir/wandb-events.jsonl\n",
            "INFO:wandb.run_manager:file/dir modified: /content/drive/My Drive/Colab Notebooks/master_project/evaluation/wandb/run-20200501_110843-2bb19uir/wandb-metadata.json\n",
            "INFO:wandb.run_manager:file/dir modified: /content/drive/My Drive/Colab Notebooks/master_project/evaluation/wandb/run-20200501_110843-2bb19uir/wandb-metadata.json\n",
            "INFO:wandb.run_manager:file/dir modified: /content/drive/My Drive/Colab Notebooks/master_project/evaluation/wandb/run-20200501_110843-2bb19uir/wandb-events.jsonl\n",
            "INFO:wandb.run_manager:file/dir modified: /content/drive/My Drive/Colab Notebooks/master_project/evaluation/wandb/run-20200501_110843-2bb19uir/wandb-metadata.json\n",
            "INFO:wandb.run_manager:file/dir modified: /content/drive/My Drive/Colab Notebooks/master_project/evaluation/wandb/run-20200501_110843-2bb19uir/wandb-events.jsonl\n",
            "INFO:wandb.run_manager:file/dir modified: /content/drive/My Drive/Colab Notebooks/master_project/evaluation/wandb/run-20200501_110843-2bb19uir/wandb-metadata.json\n",
            "INFO:wandb.run_manager:file/dir modified: /content/drive/My Drive/Colab Notebooks/master_project/evaluation/wandb/run-20200501_110843-2bb19uir/wandb-metadata.json\n",
            "INFO:wandb.run_manager:file/dir modified: /content/drive/My Drive/Colab Notebooks/master_project/evaluation/wandb/run-20200501_110843-2bb19uir/wandb-events.jsonl\n",
            "INFO:wandb.run_manager:file/dir modified: /content/drive/My Drive/Colab Notebooks/master_project/evaluation/wandb/run-20200501_110843-2bb19uir/wandb-metadata.json\n",
            "INFO:wandb.run_manager:file/dir modified: /content/drive/My Drive/Colab Notebooks/master_project/evaluation/wandb/run-20200501_110843-2bb19uir/wandb-metadata.json\n",
            "INFO:wandb.run_manager:file/dir modified: /content/drive/My Drive/Colab Notebooks/master_project/evaluation/wandb/run-20200501_110843-2bb19uir/wandb-events.jsonl\n",
            "INFO:wandb.run_manager:file/dir modified: /content/drive/My Drive/Colab Notebooks/master_project/evaluation/wandb/run-20200501_110843-2bb19uir/wandb-metadata.json\n",
            "INFO:wandb.run_manager:file/dir modified: /content/drive/My Drive/Colab Notebooks/master_project/evaluation/wandb/run-20200501_110843-2bb19uir/wandb-metadata.json\n",
            "INFO:wandb.run_manager:file/dir modified: /content/drive/My Drive/Colab Notebooks/master_project/evaluation/wandb/run-20200501_110843-2bb19uir/wandb-events.jsonl\n",
            "INFO:wandb.run_manager:file/dir modified: /content/drive/My Drive/Colab Notebooks/master_project/evaluation/wandb/run-20200501_110843-2bb19uir/wandb-metadata.json\n",
            "INFO:wandb.run_manager:file/dir modified: /content/drive/My Drive/Colab Notebooks/master_project/evaluation/wandb/run-20200501_110843-2bb19uir/wandb-metadata.json\n",
            "INFO:wandb.run_manager:file/dir modified: /content/drive/My Drive/Colab Notebooks/master_project/evaluation/wandb/run-20200501_110843-2bb19uir/wandb-events.jsonl\n",
            "INFO:wandb.run_manager:file/dir modified: /content/drive/My Drive/Colab Notebooks/master_project/evaluation/wandb/run-20200501_110843-2bb19uir/wandb-metadata.json\n",
            "INFO:wandb.run_manager:file/dir modified: /content/drive/My Drive/Colab Notebooks/master_project/evaluation/wandb/run-20200501_110843-2bb19uir/wandb-metadata.json\n",
            "INFO:wandb.run_manager:file/dir modified: /content/drive/My Drive/Colab Notebooks/master_project/evaluation/wandb/run-20200501_110843-2bb19uir/wandb-events.jsonl\n",
            "INFO:wandb.run_manager:file/dir modified: /content/drive/My Drive/Colab Notebooks/master_project/evaluation/wandb/run-20200501_110843-2bb19uir/wandb-metadata.json\n",
            "INFO:wandb.run_manager:file/dir modified: /content/drive/My Drive/Colab Notebooks/master_project/evaluation/wandb/run-20200501_110843-2bb19uir/wandb-metadata.json\n",
            "INFO:wandb.run_manager:file/dir modified: /content/drive/My Drive/Colab Notebooks/master_project/evaluation/wandb/run-20200501_110843-2bb19uir/wandb-events.jsonl\n",
            "INFO:wandb.run_manager:file/dir modified: /content/drive/My Drive/Colab Notebooks/master_project/evaluation/wandb/run-20200501_110843-2bb19uir/wandb-metadata.json\n",
            "INFO:wandb.run_manager:file/dir modified: /content/drive/My Drive/Colab Notebooks/master_project/evaluation/wandb/run-20200501_110843-2bb19uir/wandb-metadata.json\n",
            "INFO:wandb.run_manager:file/dir modified: /content/drive/My Drive/Colab Notebooks/master_project/evaluation/wandb/run-20200501_110843-2bb19uir/wandb-events.jsonl\n",
            "INFO:wandb.run_manager:file/dir modified: /content/drive/My Drive/Colab Notebooks/master_project/evaluation/wandb/run-20200501_110843-2bb19uir/wandb-metadata.json\n",
            "INFO:wandb.run_manager:file/dir modified: /content/drive/My Drive/Colab Notebooks/master_project/evaluation/wandb/run-20200501_110843-2bb19uir/wandb-metadata.json\n",
            "INFO:wandb.run_manager:file/dir modified: /content/drive/My Drive/Colab Notebooks/master_project/evaluation/wandb/run-20200501_110843-2bb19uir/wandb-events.jsonl\n",
            "INFO:wandb.run_manager:file/dir modified: /content/drive/My Drive/Colab Notebooks/master_project/evaluation/wandb/run-20200501_110843-2bb19uir/wandb-metadata.json\n",
            "INFO:wandb.run_manager:file/dir modified: /content/drive/My Drive/Colab Notebooks/master_project/evaluation/wandb/run-20200501_110843-2bb19uir/wandb-events.jsonl\n",
            "INFO:wandb.run_manager:file/dir modified: /content/drive/My Drive/Colab Notebooks/master_project/evaluation/wandb/run-20200501_110843-2bb19uir/wandb-metadata.json\n",
            "INFO:wandb.run_manager:file/dir modified: /content/drive/My Drive/Colab Notebooks/master_project/evaluation/wandb/run-20200501_110843-2bb19uir/wandb-metadata.json\n",
            "INFO:wandb.run_manager:file/dir modified: /content/drive/My Drive/Colab Notebooks/master_project/evaluation/wandb/run-20200501_110843-2bb19uir/wandb-events.jsonl\n",
            "INFO:wandb.run_manager:file/dir modified: /content/drive/My Drive/Colab Notebooks/master_project/evaluation/wandb/run-20200501_110843-2bb19uir/wandb-metadata.json\n",
            "INFO:wandb.run_manager:file/dir modified: /content/drive/My Drive/Colab Notebooks/master_project/evaluation/wandb/run-20200501_110843-2bb19uir/wandb-metadata.json\n",
            "INFO:wandb.run_manager:file/dir modified: /content/drive/My Drive/Colab Notebooks/master_project/evaluation/wandb/run-20200501_110843-2bb19uir/wandb-events.jsonl\n",
            "INFO:wandb.run_manager:file/dir modified: /content/drive/My Drive/Colab Notebooks/master_project/evaluation/wandb/run-20200501_110843-2bb19uir/wandb-metadata.json\n",
            "INFO:wandb.run_manager:file/dir modified: /content/drive/My Drive/Colab Notebooks/master_project/evaluation/wandb/run-20200501_110843-2bb19uir/wandb-metadata.json\n",
            "INFO:wandb.run_manager:file/dir modified: /content/drive/My Drive/Colab Notebooks/master_project/evaluation/wandb/run-20200501_110843-2bb19uir/wandb-events.jsonl\n",
            "INFO:wandb.run_manager:file/dir modified: /content/drive/My Drive/Colab Notebooks/master_project/evaluation/wandb/run-20200501_110843-2bb19uir/wandb-metadata.json\n",
            "INFO:wandb.run_manager:file/dir modified: /content/drive/My Drive/Colab Notebooks/master_project/evaluation/wandb/run-20200501_110843-2bb19uir/wandb-metadata.json\n",
            "INFO:wandb.run_manager:file/dir modified: /content/drive/My Drive/Colab Notebooks/master_project/evaluation/wandb/run-20200501_110843-2bb19uir/wandb-events.jsonl\n",
            "INFO:wandb.run_manager:file/dir modified: /content/drive/My Drive/Colab Notebooks/master_project/evaluation/wandb/run-20200501_110843-2bb19uir/wandb-metadata.json\n",
            "INFO:wandb.run_manager:file/dir modified: /content/drive/My Drive/Colab Notebooks/master_project/evaluation/wandb/run-20200501_110843-2bb19uir/wandb-metadata.json\n",
            "INFO:wandb.run_manager:file/dir modified: /content/drive/My Drive/Colab Notebooks/master_project/evaluation/wandb/run-20200501_110843-2bb19uir/wandb-events.jsonl\n",
            "INFO:wandb.run_manager:file/dir modified: /content/drive/My Drive/Colab Notebooks/master_project/evaluation/wandb/run-20200501_110843-2bb19uir/wandb-events.jsonl\n",
            "INFO:wandb.run_manager:file/dir modified: /content/drive/My Drive/Colab Notebooks/master_project/evaluation/wandb/run-20200501_110843-2bb19uir/wandb-metadata.json\n",
            "INFO:wandb.run_manager:file/dir modified: /content/drive/My Drive/Colab Notebooks/master_project/evaluation/wandb/run-20200501_110843-2bb19uir/wandb-metadata.json\n",
            "INFO:wandb.run_manager:file/dir modified: /content/drive/My Drive/Colab Notebooks/master_project/evaluation/wandb/run-20200501_110843-2bb19uir/wandb-events.jsonl\n",
            "INFO:wandb.run_manager:file/dir modified: /content/drive/My Drive/Colab Notebooks/master_project/evaluation/wandb/run-20200501_110843-2bb19uir/wandb-metadata.json\n",
            "INFO:wandb.run_manager:file/dir modified: /content/drive/My Drive/Colab Notebooks/master_project/evaluation/wandb/run-20200501_110843-2bb19uir/wandb-metadata.json\n",
            "INFO:wandb.run_manager:file/dir modified: /content/drive/My Drive/Colab Notebooks/master_project/evaluation/wandb/run-20200501_110843-2bb19uir/wandb-events.jsonl\n",
            "INFO:wandb.run_manager:file/dir modified: /content/drive/My Drive/Colab Notebooks/master_project/evaluation/wandb/run-20200501_110843-2bb19uir/wandb-metadata.json\n",
            "INFO:wandb.run_manager:file/dir modified: /content/drive/My Drive/Colab Notebooks/master_project/evaluation/wandb/run-20200501_110843-2bb19uir/wandb-events.jsonl\n",
            "INFO:wandb.run_manager:file/dir modified: /content/drive/My Drive/Colab Notebooks/master_project/evaluation/wandb/run-20200501_110843-2bb19uir/wandb-metadata.json\n",
            "INFO:wandb.run_manager:file/dir modified: /content/drive/My Drive/Colab Notebooks/master_project/evaluation/wandb/run-20200501_110843-2bb19uir/wandb-metadata.json\n",
            "INFO:wandb.run_manager:file/dir modified: /content/drive/My Drive/Colab Notebooks/master_project/evaluation/wandb/run-20200501_110843-2bb19uir/wandb-history.jsonl\n",
            "INFO:wandb.run_manager:file/dir modified: /content/drive/My Drive/Colab Notebooks/master_project/evaluation/wandb/run-20200501_110843-2bb19uir/wandb-summary.json\n",
            "INFO:wandb.run_manager:file/dir modified: /content/drive/My Drive/Colab Notebooks/master_project/evaluation/wandb/run-20200501_110843-2bb19uir/wandb-metadata.json\n",
            "INFO:wandb.run_manager:file/dir modified: /content/drive/My Drive/Colab Notebooks/master_project/evaluation/wandb/run-20200501_110843-2bb19uir/wandb-metadata.json\n",
            "/usr/local/lib/python3.6/dist-packages/torch/optim/lr_scheduler.py:200: UserWarning: Please also save or load the state of the optimzer when saving or loading the scheduler.\n",
            "  warnings.warn(SAVE_STATE_WARNING, UserWarning)\n",
            "INFO:simpletransformers.classification.classification_model: No improvement in eval_loss\n",
            "INFO:simpletransformers.classification.classification_model: Current step: 1\n",
            "INFO:simpletransformers.classification.classification_model: Early stopping patience: 5\n"
          ],
          "name": "stderr"
        },
        {
          "output_type": "stream",
          "text": [
            "Running loss: 0.683676"
          ],
          "name": "stdout"
        },
        {
          "output_type": "stream",
          "text": [
            "INFO:wandb.run_manager:file/dir modified: /content/drive/My Drive/Colab Notebooks/master_project/evaluation/wandb/run-20200501_110843-2bb19uir/wandb-events.jsonl\n"
          ],
          "name": "stderr"
        },
        {
          "output_type": "stream",
          "text": [
            "Running loss: 0.695372"
          ],
          "name": "stdout"
        },
        {
          "output_type": "stream",
          "text": [
            "INFO:wandb.run_manager:file/dir modified: /content/drive/My Drive/Colab Notebooks/master_project/evaluation/wandb/run-20200501_110843-2bb19uir/wandb-metadata.json\n"
          ],
          "name": "stderr"
        },
        {
          "output_type": "stream",
          "text": [
            "Running loss: 0.689269"
          ],
          "name": "stdout"
        },
        {
          "output_type": "stream",
          "text": [
            "INFO:wandb.run_manager:file/dir modified: /content/drive/My Drive/Colab Notebooks/master_project/evaluation/wandb/run-20200501_110843-2bb19uir/wandb-history.jsonl\n",
            "INFO:wandb.run_manager:file/dir modified: /content/drive/My Drive/Colab Notebooks/master_project/evaluation/wandb/run-20200501_110843-2bb19uir/wandb-summary.json\n"
          ],
          "name": "stderr"
        },
        {
          "output_type": "stream",
          "text": [
            "Running loss: 0.688953"
          ],
          "name": "stdout"
        },
        {
          "output_type": "stream",
          "text": [
            "INFO:wandb.run_manager:file/dir modified: /content/drive/My Drive/Colab Notebooks/master_project/evaluation/wandb/run-20200501_110843-2bb19uir/wandb-metadata.json\n"
          ],
          "name": "stderr"
        },
        {
          "output_type": "stream",
          "text": [
            "Running loss: 0.693275"
          ],
          "name": "stdout"
        },
        {
          "output_type": "stream",
          "text": [
            "INFO:wandb.run_manager:file/dir modified: /content/drive/My Drive/Colab Notebooks/master_project/evaluation/wandb/run-20200501_110843-2bb19uir/wandb-events.jsonl\n"
          ],
          "name": "stderr"
        },
        {
          "output_type": "stream",
          "text": [
            "Running loss: 0.695420"
          ],
          "name": "stdout"
        },
        {
          "output_type": "stream",
          "text": [
            "INFO:wandb.run_manager:file/dir modified: /content/drive/My Drive/Colab Notebooks/master_project/evaluation/wandb/run-20200501_110843-2bb19uir/wandb-history.jsonl\n",
            "INFO:wandb.run_manager:file/dir modified: /content/drive/My Drive/Colab Notebooks/master_project/evaluation/wandb/run-20200501_110843-2bb19uir/wandb-summary.json\n"
          ],
          "name": "stderr"
        },
        {
          "output_type": "stream",
          "text": [
            "Running loss: 0.690842"
          ],
          "name": "stdout"
        },
        {
          "output_type": "stream",
          "text": [
            "INFO:wandb.run_manager:file/dir modified: /content/drive/My Drive/Colab Notebooks/master_project/evaluation/wandb/run-20200501_110843-2bb19uir/wandb-metadata.json\n"
          ],
          "name": "stderr"
        },
        {
          "output_type": "stream",
          "text": [
            "Running loss: 0.689547"
          ],
          "name": "stdout"
        },
        {
          "output_type": "stream",
          "text": [
            "INFO:wandb.run_manager:file/dir modified: /content/drive/My Drive/Colab Notebooks/master_project/evaluation/wandb/run-20200501_110843-2bb19uir/wandb-history.jsonl\n",
            "INFO:wandb.run_manager:file/dir modified: /content/drive/My Drive/Colab Notebooks/master_project/evaluation/wandb/run-20200501_110843-2bb19uir/wandb-summary.json\n"
          ],
          "name": "stderr"
        },
        {
          "output_type": "stream",
          "text": [
            "Running loss: 0.685249"
          ],
          "name": "stdout"
        },
        {
          "output_type": "stream",
          "text": [
            "INFO:wandb.run_manager:file/dir modified: /content/drive/My Drive/Colab Notebooks/master_project/evaluation/wandb/run-20200501_110843-2bb19uir/wandb-metadata.json\n"
          ],
          "name": "stderr"
        },
        {
          "output_type": "stream",
          "text": [
            "Running loss: 0.678395"
          ],
          "name": "stdout"
        },
        {
          "output_type": "stream",
          "text": [
            "INFO:wandb.run_manager:file/dir modified: /content/drive/My Drive/Colab Notebooks/master_project/evaluation/wandb/run-20200501_110843-2bb19uir/wandb-events.jsonl\n"
          ],
          "name": "stderr"
        },
        {
          "output_type": "stream",
          "text": [
            "Running loss: 0.688456"
          ],
          "name": "stdout"
        },
        {
          "output_type": "stream",
          "text": [
            "INFO:wandb.run_manager:file/dir modified: /content/drive/My Drive/Colab Notebooks/master_project/evaluation/wandb/run-20200501_110843-2bb19uir/wandb-history.jsonl\n",
            "INFO:wandb.run_manager:file/dir modified: /content/drive/My Drive/Colab Notebooks/master_project/evaluation/wandb/run-20200501_110843-2bb19uir/wandb-summary.json\n"
          ],
          "name": "stderr"
        },
        {
          "output_type": "stream",
          "text": [
            "Running loss: 0.700345"
          ],
          "name": "stdout"
        },
        {
          "output_type": "stream",
          "text": [
            "INFO:wandb.run_manager:file/dir modified: /content/drive/My Drive/Colab Notebooks/master_project/evaluation/wandb/run-20200501_110843-2bb19uir/wandb-metadata.json\n"
          ],
          "name": "stderr"
        },
        {
          "output_type": "stream",
          "text": [
            "Running loss: 0.686100Gradient overflow.  Skipping step, loss scaler 0 reducing loss scale to 16384.0\n",
            "Running loss: 0.676749"
          ],
          "name": "stdout"
        },
        {
          "output_type": "stream",
          "text": [
            "INFO:wandb.run_manager:file/dir modified: /content/drive/My Drive/Colab Notebooks/master_project/evaluation/wandb/run-20200501_110843-2bb19uir/wandb-history.jsonl\n",
            "INFO:wandb.run_manager:file/dir modified: /content/drive/My Drive/Colab Notebooks/master_project/evaluation/wandb/run-20200501_110843-2bb19uir/wandb-summary.json\n"
          ],
          "name": "stderr"
        },
        {
          "output_type": "stream",
          "text": [
            "Running loss: 0.653450"
          ],
          "name": "stdout"
        },
        {
          "output_type": "stream",
          "text": [
            "INFO:wandb.run_manager:file/dir modified: /content/drive/My Drive/Colab Notebooks/master_project/evaluation/wandb/run-20200501_110843-2bb19uir/wandb-metadata.json\n"
          ],
          "name": "stderr"
        },
        {
          "output_type": "stream",
          "text": [
            "Running loss: 0.691196"
          ],
          "name": "stdout"
        },
        {
          "output_type": "stream",
          "text": [
            "INFO:wandb.run_manager:file/dir modified: /content/drive/My Drive/Colab Notebooks/master_project/evaluation/wandb/run-20200501_110843-2bb19uir/wandb-events.jsonl\n"
          ],
          "name": "stderr"
        },
        {
          "output_type": "stream",
          "text": [
            "Running loss: 0.598813"
          ],
          "name": "stdout"
        },
        {
          "output_type": "stream",
          "text": [
            "INFO:wandb.run_manager:file/dir modified: /content/drive/My Drive/Colab Notebooks/master_project/evaluation/wandb/run-20200501_110843-2bb19uir/wandb-history.jsonl\n",
            "INFO:wandb.run_manager:file/dir modified: /content/drive/My Drive/Colab Notebooks/master_project/evaluation/wandb/run-20200501_110843-2bb19uir/wandb-summary.json\n"
          ],
          "name": "stderr"
        },
        {
          "output_type": "stream",
          "text": [
            "Running loss: 0.731103"
          ],
          "name": "stdout"
        },
        {
          "output_type": "stream",
          "text": [
            "INFO:wandb.run_manager:file/dir modified: /content/drive/My Drive/Colab Notebooks/master_project/evaluation/wandb/run-20200501_110843-2bb19uir/wandb-metadata.json\n"
          ],
          "name": "stderr"
        },
        {
          "output_type": "stream",
          "text": [
            "Running loss: 0.671473"
          ],
          "name": "stdout"
        },
        {
          "output_type": "stream",
          "text": [
            "INFO:wandb.run_manager:file/dir modified: /content/drive/My Drive/Colab Notebooks/master_project/evaluation/wandb/run-20200501_110843-2bb19uir/wandb-history.jsonl\n",
            "INFO:wandb.run_manager:file/dir modified: /content/drive/My Drive/Colab Notebooks/master_project/evaluation/wandb/run-20200501_110843-2bb19uir/wandb-summary.json\n"
          ],
          "name": "stderr"
        },
        {
          "output_type": "stream",
          "text": [
            "Running loss: 0.658991"
          ],
          "name": "stdout"
        },
        {
          "output_type": "stream",
          "text": [
            "INFO:wandb.run_manager:file/dir modified: /content/drive/My Drive/Colab Notebooks/master_project/evaluation/wandb/run-20200501_110843-2bb19uir/wandb-metadata.json\n",
            "INFO:wandb.run_manager:file/dir modified: /content/drive/My Drive/Colab Notebooks/master_project/evaluation/wandb/run-20200501_110843-2bb19uir/wandb-history.jsonl\n"
          ],
          "name": "stderr"
        },
        {
          "output_type": "stream",
          "text": [
            "Running loss: 0.623730"
          ],
          "name": "stdout"
        },
        {
          "output_type": "stream",
          "text": [
            "INFO:wandb.run_manager:file/dir modified: /content/drive/My Drive/Colab Notebooks/master_project/evaluation/wandb/run-20200501_110843-2bb19uir/wandb-events.jsonl\n"
          ],
          "name": "stderr"
        },
        {
          "output_type": "stream",
          "text": [
            "Running loss: 0.739237"
          ],
          "name": "stdout"
        },
        {
          "output_type": "stream",
          "text": [
            "INFO:wandb.run_manager:file/dir modified: /content/drive/My Drive/Colab Notebooks/master_project/evaluation/wandb/run-20200501_110843-2bb19uir/wandb-history.jsonl\n",
            "INFO:wandb.run_manager:file/dir modified: /content/drive/My Drive/Colab Notebooks/master_project/evaluation/wandb/run-20200501_110843-2bb19uir/wandb-summary.json\n"
          ],
          "name": "stderr"
        },
        {
          "output_type": "stream",
          "text": [
            "Running loss: 0.677836"
          ],
          "name": "stdout"
        },
        {
          "output_type": "stream",
          "text": [
            "INFO:wandb.run_manager:file/dir modified: /content/drive/My Drive/Colab Notebooks/master_project/evaluation/wandb/run-20200501_110843-2bb19uir/wandb-metadata.json\n"
          ],
          "name": "stderr"
        },
        {
          "output_type": "stream",
          "text": [
            "Running loss: 0.796062"
          ],
          "name": "stdout"
        },
        {
          "output_type": "stream",
          "text": [
            "INFO:wandb.run_manager:file/dir modified: /content/drive/My Drive/Colab Notebooks/master_project/evaluation/wandb/run-20200501_110843-2bb19uir/wandb-history.jsonl\n",
            "INFO:wandb.run_manager:file/dir modified: /content/drive/My Drive/Colab Notebooks/master_project/evaluation/wandb/run-20200501_110843-2bb19uir/wandb-summary.json\n"
          ],
          "name": "stderr"
        },
        {
          "output_type": "stream",
          "text": [
            "Running loss: 0.673048"
          ],
          "name": "stdout"
        },
        {
          "output_type": "stream",
          "text": [
            "INFO:wandb.run_manager:file/dir modified: /content/drive/My Drive/Colab Notebooks/master_project/evaluation/wandb/run-20200501_110843-2bb19uir/wandb-metadata.json\n"
          ],
          "name": "stderr"
        },
        {
          "output_type": "stream",
          "text": [
            "Running loss: 0.575763"
          ],
          "name": "stdout"
        },
        {
          "output_type": "stream",
          "text": [
            "INFO:wandb.run_manager:file/dir modified: /content/drive/My Drive/Colab Notebooks/master_project/evaluation/wandb/run-20200501_110843-2bb19uir/wandb-events.jsonl\n"
          ],
          "name": "stderr"
        },
        {
          "output_type": "stream",
          "text": [
            "Running loss: 0.502513"
          ],
          "name": "stdout"
        },
        {
          "output_type": "stream",
          "text": [
            "INFO:wandb.run_manager:file/dir modified: /content/drive/My Drive/Colab Notebooks/master_project/evaluation/wandb/run-20200501_110843-2bb19uir/wandb-history.jsonl\n",
            "INFO:wandb.run_manager:file/dir modified: /content/drive/My Drive/Colab Notebooks/master_project/evaluation/wandb/run-20200501_110843-2bb19uir/wandb-summary.json\n",
            "INFO:wandb.run_manager:file/dir modified: /content/drive/My Drive/Colab Notebooks/master_project/evaluation/wandb/run-20200501_110843-2bb19uir/wandb-metadata.json\n",
            "INFO:wandb.run_manager:file/dir modified: /content/drive/My Drive/Colab Notebooks/master_project/evaluation/wandb/run-20200501_110843-2bb19uir/wandb-metadata.json\n",
            "INFO:wandb.run_manager:file/dir modified: /content/drive/My Drive/Colab Notebooks/master_project/evaluation/wandb/run-20200501_110843-2bb19uir/wandb-events.jsonl\n",
            "INFO:wandb.run_manager:file/dir modified: /content/drive/My Drive/Colab Notebooks/master_project/evaluation/wandb/run-20200501_110843-2bb19uir/wandb-metadata.json\n",
            "INFO:wandb.run_manager:file/dir modified: /content/drive/My Drive/Colab Notebooks/master_project/evaluation/wandb/run-20200501_110843-2bb19uir/wandb-events.jsonl\n",
            "INFO:wandb.run_manager:file/dir modified: /content/drive/My Drive/Colab Notebooks/master_project/evaluation/wandb/run-20200501_110843-2bb19uir/wandb-metadata.json\n",
            "INFO:wandb.run_manager:file/dir modified: /content/drive/My Drive/Colab Notebooks/master_project/evaluation/wandb/run-20200501_110843-2bb19uir/wandb-events.jsonl\n",
            "INFO:wandb.run_manager:file/dir modified: /content/drive/My Drive/Colab Notebooks/master_project/evaluation/wandb/run-20200501_110843-2bb19uir/wandb-metadata.json\n",
            "INFO:wandb.run_manager:file/dir modified: /content/drive/My Drive/Colab Notebooks/master_project/evaluation/wandb/run-20200501_110843-2bb19uir/wandb-metadata.json\n",
            "INFO:wandb.run_manager:file/dir modified: /content/drive/My Drive/Colab Notebooks/master_project/evaluation/wandb/run-20200501_110843-2bb19uir/wandb-events.jsonl\n",
            "INFO:wandb.run_manager:file/dir modified: /content/drive/My Drive/Colab Notebooks/master_project/evaluation/wandb/run-20200501_110843-2bb19uir/wandb-metadata.json\n",
            "INFO:wandb.run_manager:file/dir modified: /content/drive/My Drive/Colab Notebooks/master_project/evaluation/wandb/run-20200501_110843-2bb19uir/wandb-events.jsonl\n",
            "INFO:wandb.run_manager:file/dir modified: /content/drive/My Drive/Colab Notebooks/master_project/evaluation/wandb/run-20200501_110843-2bb19uir/wandb-metadata.json\n",
            "INFO:wandb.run_manager:file/dir modified: /content/drive/My Drive/Colab Notebooks/master_project/evaluation/wandb/run-20200501_110843-2bb19uir/wandb-metadata.json\n",
            "INFO:wandb.run_manager:file/dir modified: /content/drive/My Drive/Colab Notebooks/master_project/evaluation/wandb/run-20200501_110843-2bb19uir/wandb-events.jsonl\n",
            "INFO:wandb.run_manager:file/dir modified: /content/drive/My Drive/Colab Notebooks/master_project/evaluation/wandb/run-20200501_110843-2bb19uir/wandb-metadata.json\n",
            "INFO:wandb.run_manager:file/dir modified: /content/drive/My Drive/Colab Notebooks/master_project/evaluation/wandb/run-20200501_110843-2bb19uir/wandb-metadata.json\n",
            "INFO:wandb.run_manager:file/dir modified: /content/drive/My Drive/Colab Notebooks/master_project/evaluation/wandb/run-20200501_110843-2bb19uir/wandb-events.jsonl\n",
            "INFO:wandb.run_manager:file/dir modified: /content/drive/My Drive/Colab Notebooks/master_project/evaluation/wandb/run-20200501_110843-2bb19uir/wandb-metadata.json\n",
            "INFO:wandb.run_manager:file/dir modified: /content/drive/My Drive/Colab Notebooks/master_project/evaluation/wandb/run-20200501_110843-2bb19uir/wandb-metadata.json\n",
            "INFO:wandb.run_manager:file/dir modified: /content/drive/My Drive/Colab Notebooks/master_project/evaluation/wandb/run-20200501_110843-2bb19uir/wandb-events.jsonl\n",
            "INFO:wandb.run_manager:file/dir modified: /content/drive/My Drive/Colab Notebooks/master_project/evaluation/wandb/run-20200501_110843-2bb19uir/wandb-metadata.json\n",
            "INFO:wandb.run_manager:file/dir modified: /content/drive/My Drive/Colab Notebooks/master_project/evaluation/wandb/run-20200501_110843-2bb19uir/wandb-events.jsonl\n",
            "INFO:wandb.run_manager:file/dir modified: /content/drive/My Drive/Colab Notebooks/master_project/evaluation/wandb/run-20200501_110843-2bb19uir/wandb-metadata.json\n",
            "INFO:wandb.run_manager:file/dir modified: /content/drive/My Drive/Colab Notebooks/master_project/evaluation/wandb/run-20200501_110843-2bb19uir/wandb-events.jsonl\n",
            "INFO:wandb.run_manager:file/dir modified: /content/drive/My Drive/Colab Notebooks/master_project/evaluation/wandb/run-20200501_110843-2bb19uir/wandb-metadata.json\n",
            "INFO:wandb.run_manager:file/dir modified: /content/drive/My Drive/Colab Notebooks/master_project/evaluation/wandb/run-20200501_110843-2bb19uir/wandb-metadata.json\n",
            "INFO:wandb.run_manager:file/dir modified: /content/drive/My Drive/Colab Notebooks/master_project/evaluation/wandb/run-20200501_110843-2bb19uir/wandb-events.jsonl\n",
            "INFO:wandb.run_manager:file/dir modified: /content/drive/My Drive/Colab Notebooks/master_project/evaluation/wandb/run-20200501_110843-2bb19uir/wandb-metadata.json\n",
            "INFO:wandb.run_manager:file/dir modified: /content/drive/My Drive/Colab Notebooks/master_project/evaluation/wandb/run-20200501_110843-2bb19uir/wandb-metadata.json\n",
            "INFO:wandb.run_manager:file/dir modified: /content/drive/My Drive/Colab Notebooks/master_project/evaluation/wandb/run-20200501_110843-2bb19uir/wandb-events.jsonl\n",
            "INFO:wandb.run_manager:file/dir modified: /content/drive/My Drive/Colab Notebooks/master_project/evaluation/wandb/run-20200501_110843-2bb19uir/wandb-metadata.json\n",
            "INFO:wandb.run_manager:file/dir modified: /content/drive/My Drive/Colab Notebooks/master_project/evaluation/wandb/run-20200501_110843-2bb19uir/wandb-metadata.json\n",
            "INFO:wandb.run_manager:file/dir modified: /content/drive/My Drive/Colab Notebooks/master_project/evaluation/wandb/run-20200501_110843-2bb19uir/wandb-events.jsonl\n",
            "INFO:wandb.run_manager:file/dir modified: /content/drive/My Drive/Colab Notebooks/master_project/evaluation/wandb/run-20200501_110843-2bb19uir/wandb-metadata.json\n",
            "INFO:wandb.run_manager:file/dir modified: /content/drive/My Drive/Colab Notebooks/master_project/evaluation/wandb/run-20200501_110843-2bb19uir/wandb-metadata.json\n",
            "INFO:wandb.run_manager:file/dir modified: /content/drive/My Drive/Colab Notebooks/master_project/evaluation/wandb/run-20200501_110843-2bb19uir/wandb-events.jsonl\n",
            "INFO:wandb.run_manager:file/dir modified: /content/drive/My Drive/Colab Notebooks/master_project/evaluation/wandb/run-20200501_110843-2bb19uir/wandb-metadata.json\n",
            "INFO:wandb.run_manager:file/dir modified: /content/drive/My Drive/Colab Notebooks/master_project/evaluation/wandb/run-20200501_110843-2bb19uir/wandb-events.jsonl\n",
            "INFO:wandb.run_manager:file/dir modified: /content/drive/My Drive/Colab Notebooks/master_project/evaluation/wandb/run-20200501_110843-2bb19uir/wandb-metadata.json\n",
            "INFO:wandb.run_manager:file/dir modified: /content/drive/My Drive/Colab Notebooks/master_project/evaluation/wandb/run-20200501_110843-2bb19uir/wandb-metadata.json\n",
            "INFO:wandb.run_manager:file/dir modified: /content/drive/My Drive/Colab Notebooks/master_project/evaluation/wandb/run-20200501_110843-2bb19uir/wandb-events.jsonl\n",
            "INFO:wandb.run_manager:file/dir modified: /content/drive/My Drive/Colab Notebooks/master_project/evaluation/wandb/run-20200501_110843-2bb19uir/wandb-metadata.json\n",
            "INFO:wandb.run_manager:file/dir modified: /content/drive/My Drive/Colab Notebooks/master_project/evaluation/wandb/run-20200501_110843-2bb19uir/wandb-events.jsonl\n",
            "INFO:wandb.run_manager:file/dir modified: /content/drive/My Drive/Colab Notebooks/master_project/evaluation/wandb/run-20200501_110843-2bb19uir/wandb-metadata.json\n",
            "INFO:wandb.run_manager:file/dir modified: /content/drive/My Drive/Colab Notebooks/master_project/evaluation/wandb/run-20200501_110843-2bb19uir/wandb-events.jsonl\n",
            "INFO:wandb.run_manager:file/dir modified: /content/drive/My Drive/Colab Notebooks/master_project/evaluation/wandb/run-20200501_110843-2bb19uir/wandb-metadata.json\n",
            "INFO:wandb.run_manager:file/dir modified: /content/drive/My Drive/Colab Notebooks/master_project/evaluation/wandb/run-20200501_110843-2bb19uir/wandb-metadata.json\n",
            "INFO:wandb.run_manager:file/dir modified: /content/drive/My Drive/Colab Notebooks/master_project/evaluation/wandb/run-20200501_110843-2bb19uir/wandb-events.jsonl\n",
            "INFO:wandb.run_manager:file/dir modified: /content/drive/My Drive/Colab Notebooks/master_project/evaluation/wandb/run-20200501_110843-2bb19uir/wandb-metadata.json\n",
            "INFO:wandb.run_manager:file/dir modified: /content/drive/My Drive/Colab Notebooks/master_project/evaluation/wandb/run-20200501_110843-2bb19uir/wandb-metadata.json\n",
            "INFO:wandb.run_manager:file/dir modified: /content/drive/My Drive/Colab Notebooks/master_project/evaluation/wandb/run-20200501_110843-2bb19uir/wandb-events.jsonl\n",
            "INFO:wandb.run_manager:file/dir modified: /content/drive/My Drive/Colab Notebooks/master_project/evaluation/wandb/run-20200501_110843-2bb19uir/wandb-metadata.json\n",
            "INFO:wandb.run_manager:file/dir modified: /content/drive/My Drive/Colab Notebooks/master_project/evaluation/wandb/run-20200501_110843-2bb19uir/wandb-metadata.json\n",
            "INFO:wandb.run_manager:file/dir modified: /content/drive/My Drive/Colab Notebooks/master_project/evaluation/wandb/run-20200501_110843-2bb19uir/wandb-events.jsonl\n",
            "INFO:wandb.run_manager:file/dir modified: /content/drive/My Drive/Colab Notebooks/master_project/evaluation/wandb/run-20200501_110843-2bb19uir/wandb-metadata.json\n",
            "INFO:wandb.run_manager:file/dir modified: /content/drive/My Drive/Colab Notebooks/master_project/evaluation/wandb/run-20200501_110843-2bb19uir/wandb-metadata.json\n",
            "INFO:wandb.run_manager:file/dir modified: /content/drive/My Drive/Colab Notebooks/master_project/evaluation/wandb/run-20200501_110843-2bb19uir/wandb-events.jsonl\n",
            "INFO:wandb.run_manager:file/dir modified: /content/drive/My Drive/Colab Notebooks/master_project/evaluation/wandb/run-20200501_110843-2bb19uir/wandb-metadata.json\n",
            "INFO:wandb.run_manager:file/dir modified: /content/drive/My Drive/Colab Notebooks/master_project/evaluation/wandb/run-20200501_110843-2bb19uir/wandb-metadata.json\n",
            "INFO:wandb.run_manager:file/dir modified: /content/drive/My Drive/Colab Notebooks/master_project/evaluation/wandb/run-20200501_110843-2bb19uir/wandb-events.jsonl\n",
            "INFO:wandb.run_manager:file/dir modified: /content/drive/My Drive/Colab Notebooks/master_project/evaluation/wandb/run-20200501_110843-2bb19uir/wandb-metadata.json\n",
            "INFO:wandb.run_manager:file/dir modified: /content/drive/My Drive/Colab Notebooks/master_project/evaluation/wandb/run-20200501_110843-2bb19uir/wandb-events.jsonl\n",
            "INFO:wandb.run_manager:file/dir modified: /content/drive/My Drive/Colab Notebooks/master_project/evaluation/wandb/run-20200501_110843-2bb19uir/wandb-metadata.json\n",
            "INFO:wandb.run_manager:file/dir modified: /content/drive/My Drive/Colab Notebooks/master_project/evaluation/wandb/run-20200501_110843-2bb19uir/wandb-metadata.json\n",
            "INFO:wandb.run_manager:file/dir modified: /content/drive/My Drive/Colab Notebooks/master_project/evaluation/wandb/run-20200501_110843-2bb19uir/wandb-events.jsonl\n",
            "INFO:wandb.run_manager:file/dir modified: /content/drive/My Drive/Colab Notebooks/master_project/evaluation/wandb/run-20200501_110843-2bb19uir/wandb-metadata.json\n",
            "INFO:wandb.run_manager:file/dir modified: /content/drive/My Drive/Colab Notebooks/master_project/evaluation/wandb/run-20200501_110843-2bb19uir/wandb-events.jsonl\n",
            "INFO:wandb.run_manager:file/dir modified: /content/drive/My Drive/Colab Notebooks/master_project/evaluation/wandb/run-20200501_110843-2bb19uir/wandb-metadata.json\n",
            "INFO:wandb.run_manager:file/dir modified: /content/drive/My Drive/Colab Notebooks/master_project/evaluation/wandb/run-20200501_110843-2bb19uir/wandb-history.jsonl\n",
            "INFO:wandb.run_manager:file/dir modified: /content/drive/My Drive/Colab Notebooks/master_project/evaluation/wandb/run-20200501_110843-2bb19uir/wandb-summary.json\n",
            "INFO:wandb.run_manager:file/dir modified: /content/drive/My Drive/Colab Notebooks/master_project/evaluation/wandb/run-20200501_110843-2bb19uir/wandb-metadata.json\n",
            "INFO:wandb.run_manager:file/dir modified: /content/drive/My Drive/Colab Notebooks/master_project/evaluation/wandb/run-20200501_110843-2bb19uir/wandb-metadata.json\n",
            "INFO:wandb.run_manager:file/dir modified: /content/drive/My Drive/Colab Notebooks/master_project/evaluation/wandb/run-20200501_110843-2bb19uir/wandb-metadata.json\n",
            "INFO:wandb.run_manager:file/dir modified: /content/drive/My Drive/Colab Notebooks/master_project/evaluation/wandb/run-20200501_110843-2bb19uir/wandb-events.jsonl\n",
            "INFO:wandb.run_manager:file/dir modified: /content/drive/My Drive/Colab Notebooks/master_project/evaluation/wandb/run-20200501_110843-2bb19uir/wandb-metadata.json\n"
          ],
          "name": "stderr"
        },
        {
          "output_type": "stream",
          "text": [
            "Running loss: 0.600767Gradient overflow.  Skipping step, loss scaler 0 reducing loss scale to 8192.0\n",
            "Running loss: 0.442232"
          ],
          "name": "stdout"
        },
        {
          "output_type": "stream",
          "text": [
            "INFO:wandb.run_manager:file/dir modified: /content/drive/My Drive/Colab Notebooks/master_project/evaluation/wandb/run-20200501_110843-2bb19uir/wandb-metadata.json\n"
          ],
          "name": "stderr"
        },
        {
          "output_type": "stream",
          "text": [
            "Running loss: 0.527858"
          ],
          "name": "stdout"
        },
        {
          "output_type": "stream",
          "text": [
            "INFO:wandb.run_manager:file/dir modified: /content/drive/My Drive/Colab Notebooks/master_project/evaluation/wandb/run-20200501_110843-2bb19uir/wandb-history.jsonl\n",
            "INFO:wandb.run_manager:file/dir modified: /content/drive/My Drive/Colab Notebooks/master_project/evaluation/wandb/run-20200501_110843-2bb19uir/wandb-summary.json\n"
          ],
          "name": "stderr"
        },
        {
          "output_type": "stream",
          "text": [
            "Running loss: 0.530576"
          ],
          "name": "stdout"
        },
        {
          "output_type": "stream",
          "text": [
            "INFO:wandb.run_manager:file/dir modified: /content/drive/My Drive/Colab Notebooks/master_project/evaluation/wandb/run-20200501_110843-2bb19uir/wandb-events.jsonl\n"
          ],
          "name": "stderr"
        },
        {
          "output_type": "stream",
          "text": [
            "Running loss: 0.403728"
          ],
          "name": "stdout"
        },
        {
          "output_type": "stream",
          "text": [
            "INFO:wandb.run_manager:file/dir modified: /content/drive/My Drive/Colab Notebooks/master_project/evaluation/wandb/run-20200501_110843-2bb19uir/wandb-metadata.json\n"
          ],
          "name": "stderr"
        },
        {
          "output_type": "stream",
          "text": [
            "Running loss: 0.499938"
          ],
          "name": "stdout"
        },
        {
          "output_type": "stream",
          "text": [
            "INFO:wandb.run_manager:file/dir modified: /content/drive/My Drive/Colab Notebooks/master_project/evaluation/wandb/run-20200501_110843-2bb19uir/wandb-history.jsonl\n",
            "INFO:wandb.run_manager:file/dir modified: /content/drive/My Drive/Colab Notebooks/master_project/evaluation/wandb/run-20200501_110843-2bb19uir/wandb-summary.json\n"
          ],
          "name": "stderr"
        },
        {
          "output_type": "stream",
          "text": [
            "Running loss: 0.427883"
          ],
          "name": "stdout"
        },
        {
          "output_type": "stream",
          "text": [
            "INFO:wandb.run_manager:file/dir modified: /content/drive/My Drive/Colab Notebooks/master_project/evaluation/wandb/run-20200501_110843-2bb19uir/wandb-metadata.json\n"
          ],
          "name": "stderr"
        },
        {
          "output_type": "stream",
          "text": [
            "Running loss: 0.427727"
          ],
          "name": "stdout"
        },
        {
          "output_type": "stream",
          "text": [
            "INFO:wandb.run_manager:file/dir modified: /content/drive/My Drive/Colab Notebooks/master_project/evaluation/wandb/run-20200501_110843-2bb19uir/wandb-events.jsonl\n"
          ],
          "name": "stderr"
        },
        {
          "output_type": "stream",
          "text": [
            "Running loss: 0.415006"
          ],
          "name": "stdout"
        },
        {
          "output_type": "stream",
          "text": [
            "INFO:wandb.run_manager:file/dir modified: /content/drive/My Drive/Colab Notebooks/master_project/evaluation/wandb/run-20200501_110843-2bb19uir/wandb-history.jsonl\n",
            "INFO:wandb.run_manager:file/dir modified: /content/drive/My Drive/Colab Notebooks/master_project/evaluation/wandb/run-20200501_110843-2bb19uir/wandb-summary.json\n"
          ],
          "name": "stderr"
        },
        {
          "output_type": "stream",
          "text": [
            "Running loss: 0.302526"
          ],
          "name": "stdout"
        },
        {
          "output_type": "stream",
          "text": [
            "INFO:wandb.run_manager:file/dir modified: /content/drive/My Drive/Colab Notebooks/master_project/evaluation/wandb/run-20200501_110843-2bb19uir/wandb-metadata.json\n"
          ],
          "name": "stderr"
        },
        {
          "output_type": "stream",
          "text": [
            "Running loss: 0.498264"
          ],
          "name": "stdout"
        },
        {
          "output_type": "stream",
          "text": [
            "INFO:wandb.run_manager:file/dir modified: /content/drive/My Drive/Colab Notebooks/master_project/evaluation/wandb/run-20200501_110843-2bb19uir/wandb-history.jsonl\n",
            "INFO:wandb.run_manager:file/dir modified: /content/drive/My Drive/Colab Notebooks/master_project/evaluation/wandb/run-20200501_110843-2bb19uir/wandb-summary.json\n"
          ],
          "name": "stderr"
        },
        {
          "output_type": "stream",
          "text": [
            "Running loss: 0.536336"
          ],
          "name": "stdout"
        },
        {
          "output_type": "stream",
          "text": [
            "INFO:wandb.run_manager:file/dir modified: /content/drive/My Drive/Colab Notebooks/master_project/evaluation/wandb/run-20200501_110843-2bb19uir/wandb-metadata.json\n"
          ],
          "name": "stderr"
        },
        {
          "output_type": "stream",
          "text": [
            "Running loss: 0.649427"
          ],
          "name": "stdout"
        },
        {
          "output_type": "stream",
          "text": [
            "INFO:wandb.run_manager:file/dir modified: /content/drive/My Drive/Colab Notebooks/master_project/evaluation/wandb/run-20200501_110843-2bb19uir/wandb-events.jsonl\n"
          ],
          "name": "stderr"
        },
        {
          "output_type": "stream",
          "text": [
            "Running loss: 0.619235"
          ],
          "name": "stdout"
        },
        {
          "output_type": "stream",
          "text": [
            "INFO:wandb.run_manager:file/dir modified: /content/drive/My Drive/Colab Notebooks/master_project/evaluation/wandb/run-20200501_110843-2bb19uir/wandb-history.jsonl\n",
            "INFO:wandb.run_manager:file/dir modified: /content/drive/My Drive/Colab Notebooks/master_project/evaluation/wandb/run-20200501_110843-2bb19uir/wandb-summary.json\n"
          ],
          "name": "stderr"
        },
        {
          "output_type": "stream",
          "text": [
            "Running loss: 0.287369"
          ],
          "name": "stdout"
        },
        {
          "output_type": "stream",
          "text": [
            "INFO:wandb.run_manager:file/dir modified: /content/drive/My Drive/Colab Notebooks/master_project/evaluation/wandb/run-20200501_110843-2bb19uir/wandb-metadata.json\n"
          ],
          "name": "stderr"
        },
        {
          "output_type": "stream",
          "text": [
            "Running loss: 0.418736"
          ],
          "name": "stdout"
        },
        {
          "output_type": "stream",
          "text": [
            "INFO:wandb.run_manager:file/dir modified: /content/drive/My Drive/Colab Notebooks/master_project/evaluation/wandb/run-20200501_110843-2bb19uir/wandb-history.jsonl\n",
            "INFO:wandb.run_manager:file/dir modified: /content/drive/My Drive/Colab Notebooks/master_project/evaluation/wandb/run-20200501_110843-2bb19uir/wandb-summary.json\n"
          ],
          "name": "stderr"
        },
        {
          "output_type": "stream",
          "text": [
            "Running loss: 0.367550"
          ],
          "name": "stdout"
        },
        {
          "output_type": "stream",
          "text": [
            "INFO:wandb.run_manager:file/dir modified: /content/drive/My Drive/Colab Notebooks/master_project/evaluation/wandb/run-20200501_110843-2bb19uir/wandb-metadata.json\n"
          ],
          "name": "stderr"
        },
        {
          "output_type": "stream",
          "text": [
            "Running loss: 0.497759"
          ],
          "name": "stdout"
        },
        {
          "output_type": "stream",
          "text": [
            "INFO:wandb.run_manager:file/dir modified: /content/drive/My Drive/Colab Notebooks/master_project/evaluation/wandb/run-20200501_110843-2bb19uir/wandb-events.jsonl\n"
          ],
          "name": "stderr"
        },
        {
          "output_type": "stream",
          "text": [
            "Running loss: 0.422171"
          ],
          "name": "stdout"
        },
        {
          "output_type": "stream",
          "text": [
            "INFO:wandb.run_manager:file/dir modified: /content/drive/My Drive/Colab Notebooks/master_project/evaluation/wandb/run-20200501_110843-2bb19uir/wandb-history.jsonl\n",
            "INFO:wandb.run_manager:file/dir modified: /content/drive/My Drive/Colab Notebooks/master_project/evaluation/wandb/run-20200501_110843-2bb19uir/wandb-summary.json\n"
          ],
          "name": "stderr"
        },
        {
          "output_type": "stream",
          "text": [
            "Running loss: 0.615120"
          ],
          "name": "stdout"
        },
        {
          "output_type": "stream",
          "text": [
            "INFO:wandb.run_manager:file/dir modified: /content/drive/My Drive/Colab Notebooks/master_project/evaluation/wandb/run-20200501_110843-2bb19uir/wandb-metadata.json\n"
          ],
          "name": "stderr"
        },
        {
          "output_type": "stream",
          "text": [
            "Running loss: 0.247574"
          ],
          "name": "stdout"
        },
        {
          "output_type": "stream",
          "text": [
            "INFO:wandb.run_manager:file/dir modified: /content/drive/My Drive/Colab Notebooks/master_project/evaluation/wandb/run-20200501_110843-2bb19uir/wandb-history.jsonl\n",
            "INFO:wandb.run_manager:file/dir modified: /content/drive/My Drive/Colab Notebooks/master_project/evaluation/wandb/run-20200501_110843-2bb19uir/wandb-summary.json\n"
          ],
          "name": "stderr"
        },
        {
          "output_type": "stream",
          "text": [
            "Running loss: 0.433733"
          ],
          "name": "stdout"
        },
        {
          "output_type": "stream",
          "text": [
            "INFO:wandb.run_manager:file/dir modified: /content/drive/My Drive/Colab Notebooks/master_project/evaluation/wandb/run-20200501_110843-2bb19uir/wandb-metadata.json\n"
          ],
          "name": "stderr"
        },
        {
          "output_type": "stream",
          "text": [
            "Running loss: 0.478780"
          ],
          "name": "stdout"
        },
        {
          "output_type": "stream",
          "text": [
            "INFO:wandb.run_manager:file/dir modified: /content/drive/My Drive/Colab Notebooks/master_project/evaluation/wandb/run-20200501_110843-2bb19uir/wandb-events.jsonl\n"
          ],
          "name": "stderr"
        },
        {
          "output_type": "stream",
          "text": [
            "Running loss: 0.431644"
          ],
          "name": "stdout"
        },
        {
          "output_type": "stream",
          "text": [
            "INFO:wandb.run_manager:file/dir modified: /content/drive/My Drive/Colab Notebooks/master_project/evaluation/wandb/run-20200501_110843-2bb19uir/wandb-history.jsonl\n",
            "INFO:wandb.run_manager:file/dir modified: /content/drive/My Drive/Colab Notebooks/master_project/evaluation/wandb/run-20200501_110843-2bb19uir/wandb-summary.json\n"
          ],
          "name": "stderr"
        },
        {
          "output_type": "stream",
          "text": [
            "Running loss: 0.668295"
          ],
          "name": "stdout"
        },
        {
          "output_type": "stream",
          "text": [
            "INFO:wandb.run_manager:file/dir modified: /content/drive/My Drive/Colab Notebooks/master_project/evaluation/wandb/run-20200501_110843-2bb19uir/wandb-metadata.json\n"
          ],
          "name": "stderr"
        },
        {
          "output_type": "stream",
          "text": [
            "Running loss: 0.424522"
          ],
          "name": "stdout"
        },
        {
          "output_type": "stream",
          "text": [
            "INFO:wandb.run_manager:file/dir modified: /content/drive/My Drive/Colab Notebooks/master_project/evaluation/wandb/run-20200501_110843-2bb19uir/wandb-history.jsonl\n",
            "INFO:wandb.run_manager:file/dir modified: /content/drive/My Drive/Colab Notebooks/master_project/evaluation/wandb/run-20200501_110843-2bb19uir/wandb-summary.json\n",
            "INFO:wandb.run_manager:file/dir modified: /content/drive/My Drive/Colab Notebooks/master_project/evaluation/wandb/run-20200501_110843-2bb19uir/wandb-metadata.json\n",
            "INFO:wandb.run_manager:file/dir modified: /content/drive/My Drive/Colab Notebooks/master_project/evaluation/wandb/run-20200501_110843-2bb19uir/wandb-events.jsonl\n",
            "INFO:wandb.run_manager:file/dir modified: /content/drive/My Drive/Colab Notebooks/master_project/evaluation/wandb/run-20200501_110843-2bb19uir/wandb-metadata.json\n",
            "INFO:wandb.run_manager:file/dir modified: /content/drive/My Drive/Colab Notebooks/master_project/evaluation/wandb/run-20200501_110843-2bb19uir/wandb-metadata.json\n",
            "INFO:wandb.run_manager:file/dir modified: /content/drive/My Drive/Colab Notebooks/master_project/evaluation/wandb/run-20200501_110843-2bb19uir/wandb-events.jsonl\n",
            "INFO:wandb.run_manager:file/dir modified: /content/drive/My Drive/Colab Notebooks/master_project/evaluation/wandb/run-20200501_110843-2bb19uir/wandb-events.jsonl\n",
            "INFO:wandb.run_manager:file/dir modified: /content/drive/My Drive/Colab Notebooks/master_project/evaluation/wandb/run-20200501_110843-2bb19uir/wandb-metadata.json\n",
            "INFO:wandb.run_manager:file/dir modified: /content/drive/My Drive/Colab Notebooks/master_project/evaluation/wandb/run-20200501_110843-2bb19uir/wandb-metadata.json\n",
            "INFO:wandb.run_manager:file/dir modified: /content/drive/My Drive/Colab Notebooks/master_project/evaluation/wandb/run-20200501_110843-2bb19uir/wandb-events.jsonl\n",
            "INFO:wandb.run_manager:file/dir modified: /content/drive/My Drive/Colab Notebooks/master_project/evaluation/wandb/run-20200501_110843-2bb19uir/wandb-metadata.json\n",
            "INFO:wandb.run_manager:file/dir modified: /content/drive/My Drive/Colab Notebooks/master_project/evaluation/wandb/run-20200501_110843-2bb19uir/wandb-events.jsonl\n",
            "INFO:wandb.run_manager:file/dir modified: /content/drive/My Drive/Colab Notebooks/master_project/evaluation/wandb/run-20200501_110843-2bb19uir/wandb-metadata.json\n",
            "INFO:wandb.run_manager:file/dir modified: /content/drive/My Drive/Colab Notebooks/master_project/evaluation/wandb/run-20200501_110843-2bb19uir/wandb-metadata.json\n",
            "INFO:wandb.run_manager:file/dir modified: /content/drive/My Drive/Colab Notebooks/master_project/evaluation/wandb/run-20200501_110843-2bb19uir/wandb-events.jsonl\n",
            "INFO:wandb.run_manager:file/dir modified: /content/drive/My Drive/Colab Notebooks/master_project/evaluation/wandb/run-20200501_110843-2bb19uir/wandb-metadata.json\n",
            "INFO:wandb.run_manager:file/dir modified: /content/drive/My Drive/Colab Notebooks/master_project/evaluation/wandb/run-20200501_110843-2bb19uir/wandb-metadata.json\n",
            "INFO:wandb.run_manager:file/dir modified: /content/drive/My Drive/Colab Notebooks/master_project/evaluation/wandb/run-20200501_110843-2bb19uir/wandb-events.jsonl\n",
            "INFO:wandb.run_manager:file/dir modified: /content/drive/My Drive/Colab Notebooks/master_project/evaluation/wandb/run-20200501_110843-2bb19uir/wandb-metadata.json\n",
            "INFO:wandb.run_manager:file/dir modified: /content/drive/My Drive/Colab Notebooks/master_project/evaluation/wandb/run-20200501_110843-2bb19uir/wandb-metadata.json\n",
            "INFO:wandb.run_manager:file/dir modified: /content/drive/My Drive/Colab Notebooks/master_project/evaluation/wandb/run-20200501_110843-2bb19uir/wandb-events.jsonl\n",
            "INFO:wandb.run_manager:file/dir modified: /content/drive/My Drive/Colab Notebooks/master_project/evaluation/wandb/run-20200501_110843-2bb19uir/wandb-metadata.json\n",
            "INFO:wandb.run_manager:file/dir modified: /content/drive/My Drive/Colab Notebooks/master_project/evaluation/wandb/run-20200501_110843-2bb19uir/wandb-metadata.json\n",
            "INFO:wandb.run_manager:file/dir modified: /content/drive/My Drive/Colab Notebooks/master_project/evaluation/wandb/run-20200501_110843-2bb19uir/wandb-events.jsonl\n",
            "INFO:wandb.run_manager:file/dir modified: /content/drive/My Drive/Colab Notebooks/master_project/evaluation/wandb/run-20200501_110843-2bb19uir/wandb-metadata.json\n",
            "INFO:wandb.run_manager:file/dir modified: /content/drive/My Drive/Colab Notebooks/master_project/evaluation/wandb/run-20200501_110843-2bb19uir/wandb-metadata.json\n",
            "INFO:wandb.run_manager:file/dir modified: /content/drive/My Drive/Colab Notebooks/master_project/evaluation/wandb/run-20200501_110843-2bb19uir/wandb-events.jsonl\n",
            "INFO:wandb.run_manager:file/dir modified: /content/drive/My Drive/Colab Notebooks/master_project/evaluation/wandb/run-20200501_110843-2bb19uir/wandb-events.jsonl\n",
            "INFO:wandb.run_manager:file/dir modified: /content/drive/My Drive/Colab Notebooks/master_project/evaluation/wandb/run-20200501_110843-2bb19uir/wandb-metadata.json\n",
            "INFO:wandb.run_manager:file/dir modified: /content/drive/My Drive/Colab Notebooks/master_project/evaluation/wandb/run-20200501_110843-2bb19uir/wandb-metadata.json\n",
            "INFO:wandb.run_manager:file/dir modified: /content/drive/My Drive/Colab Notebooks/master_project/evaluation/wandb/run-20200501_110843-2bb19uir/wandb-events.jsonl\n",
            "INFO:wandb.run_manager:file/dir modified: /content/drive/My Drive/Colab Notebooks/master_project/evaluation/wandb/run-20200501_110843-2bb19uir/wandb-metadata.json\n",
            "INFO:wandb.run_manager:file/dir modified: /content/drive/My Drive/Colab Notebooks/master_project/evaluation/wandb/run-20200501_110843-2bb19uir/wandb-metadata.json\n",
            "INFO:wandb.run_manager:file/dir modified: /content/drive/My Drive/Colab Notebooks/master_project/evaluation/wandb/run-20200501_110843-2bb19uir/wandb-events.jsonl\n",
            "INFO:wandb.run_manager:file/dir modified: /content/drive/My Drive/Colab Notebooks/master_project/evaluation/wandb/run-20200501_110843-2bb19uir/wandb-metadata.json\n",
            "INFO:wandb.run_manager:file/dir modified: /content/drive/My Drive/Colab Notebooks/master_project/evaluation/wandb/run-20200501_110843-2bb19uir/wandb-metadata.json\n",
            "INFO:wandb.run_manager:file/dir modified: /content/drive/My Drive/Colab Notebooks/master_project/evaluation/wandb/run-20200501_110843-2bb19uir/wandb-events.jsonl\n",
            "INFO:wandb.run_manager:file/dir modified: /content/drive/My Drive/Colab Notebooks/master_project/evaluation/wandb/run-20200501_110843-2bb19uir/wandb-metadata.json\n",
            "INFO:wandb.run_manager:file/dir modified: /content/drive/My Drive/Colab Notebooks/master_project/evaluation/wandb/run-20200501_110843-2bb19uir/wandb-events.jsonl\n",
            "INFO:wandb.run_manager:file/dir modified: /content/drive/My Drive/Colab Notebooks/master_project/evaluation/wandb/run-20200501_110843-2bb19uir/wandb-metadata.json\n",
            "INFO:wandb.run_manager:file/dir modified: /content/drive/My Drive/Colab Notebooks/master_project/evaluation/wandb/run-20200501_110843-2bb19uir/wandb-metadata.json\n",
            "INFO:wandb.run_manager:file/dir modified: /content/drive/My Drive/Colab Notebooks/master_project/evaluation/wandb/run-20200501_110843-2bb19uir/wandb-events.jsonl\n",
            "INFO:wandb.run_manager:file/dir modified: /content/drive/My Drive/Colab Notebooks/master_project/evaluation/wandb/run-20200501_110843-2bb19uir/wandb-metadata.json\n",
            "INFO:wandb.run_manager:file/dir modified: /content/drive/My Drive/Colab Notebooks/master_project/evaluation/wandb/run-20200501_110843-2bb19uir/wandb-metadata.json\n",
            "INFO:wandb.run_manager:file/dir modified: /content/drive/My Drive/Colab Notebooks/master_project/evaluation/wandb/run-20200501_110843-2bb19uir/wandb-events.jsonl\n",
            "INFO:wandb.run_manager:file/dir modified: /content/drive/My Drive/Colab Notebooks/master_project/evaluation/wandb/run-20200501_110843-2bb19uir/wandb-metadata.json\n",
            "INFO:wandb.run_manager:file/dir modified: /content/drive/My Drive/Colab Notebooks/master_project/evaluation/wandb/run-20200501_110843-2bb19uir/wandb-metadata.json\n",
            "INFO:wandb.run_manager:file/dir modified: /content/drive/My Drive/Colab Notebooks/master_project/evaluation/wandb/run-20200501_110843-2bb19uir/wandb-events.jsonl\n",
            "INFO:wandb.run_manager:file/dir modified: /content/drive/My Drive/Colab Notebooks/master_project/evaluation/wandb/run-20200501_110843-2bb19uir/wandb-metadata.json\n",
            "INFO:wandb.run_manager:file/dir modified: /content/drive/My Drive/Colab Notebooks/master_project/evaluation/wandb/run-20200501_110843-2bb19uir/wandb-metadata.json\n",
            "INFO:wandb.run_manager:file/dir modified: /content/drive/My Drive/Colab Notebooks/master_project/evaluation/wandb/run-20200501_110843-2bb19uir/wandb-events.jsonl\n",
            "INFO:wandb.run_manager:file/dir modified: /content/drive/My Drive/Colab Notebooks/master_project/evaluation/wandb/run-20200501_110843-2bb19uir/wandb-events.jsonl\n",
            "INFO:wandb.run_manager:file/dir modified: /content/drive/My Drive/Colab Notebooks/master_project/evaluation/wandb/run-20200501_110843-2bb19uir/wandb-metadata.json\n",
            "INFO:wandb.run_manager:file/dir modified: /content/drive/My Drive/Colab Notebooks/master_project/evaluation/wandb/run-20200501_110843-2bb19uir/wandb-metadata.json\n",
            "INFO:wandb.run_manager:file/dir modified: /content/drive/My Drive/Colab Notebooks/master_project/evaluation/wandb/run-20200501_110843-2bb19uir/wandb-events.jsonl\n",
            "INFO:wandb.run_manager:file/dir modified: /content/drive/My Drive/Colab Notebooks/master_project/evaluation/wandb/run-20200501_110843-2bb19uir/wandb-metadata.json\n",
            "INFO:wandb.run_manager:file/dir modified: /content/drive/My Drive/Colab Notebooks/master_project/evaluation/wandb/run-20200501_110843-2bb19uir/wandb-metadata.json\n",
            "INFO:wandb.run_manager:file/dir modified: /content/drive/My Drive/Colab Notebooks/master_project/evaluation/wandb/run-20200501_110843-2bb19uir/wandb-events.jsonl\n",
            "INFO:wandb.run_manager:file/dir modified: /content/drive/My Drive/Colab Notebooks/master_project/evaluation/wandb/run-20200501_110843-2bb19uir/wandb-metadata.json\n",
            "INFO:wandb.run_manager:file/dir modified: /content/drive/My Drive/Colab Notebooks/master_project/evaluation/wandb/run-20200501_110843-2bb19uir/wandb-metadata.json\n",
            "INFO:wandb.run_manager:file/dir modified: /content/drive/My Drive/Colab Notebooks/master_project/evaluation/wandb/run-20200501_110843-2bb19uir/wandb-events.jsonl\n",
            "INFO:wandb.run_manager:file/dir modified: /content/drive/My Drive/Colab Notebooks/master_project/evaluation/wandb/run-20200501_110843-2bb19uir/wandb-metadata.json\n",
            "INFO:wandb.run_manager:file/dir modified: /content/drive/My Drive/Colab Notebooks/master_project/evaluation/wandb/run-20200501_110843-2bb19uir/wandb-events.jsonl\n",
            "INFO:wandb.run_manager:file/dir modified: /content/drive/My Drive/Colab Notebooks/master_project/evaluation/wandb/run-20200501_110843-2bb19uir/wandb-metadata.json\n",
            "INFO:wandb.run_manager:file/dir modified: /content/drive/My Drive/Colab Notebooks/master_project/evaluation/wandb/run-20200501_110843-2bb19uir/wandb-metadata.json\n",
            "INFO:wandb.run_manager:file/dir modified: /content/drive/My Drive/Colab Notebooks/master_project/evaluation/wandb/run-20200501_110843-2bb19uir/wandb-events.jsonl\n",
            "INFO:wandb.run_manager:file/dir modified: /content/drive/My Drive/Colab Notebooks/master_project/evaluation/wandb/run-20200501_110843-2bb19uir/wandb-metadata.json\n",
            "INFO:wandb.run_manager:file/dir modified: /content/drive/My Drive/Colab Notebooks/master_project/evaluation/wandb/run-20200501_110843-2bb19uir/wandb-metadata.json\n",
            "INFO:wandb.run_manager:file/dir modified: /content/drive/My Drive/Colab Notebooks/master_project/evaluation/wandb/run-20200501_110843-2bb19uir/wandb-events.jsonl\n",
            "INFO:wandb.run_manager:file/dir modified: /content/drive/My Drive/Colab Notebooks/master_project/evaluation/wandb/run-20200501_110843-2bb19uir/wandb-history.jsonl\n",
            "INFO:wandb.run_manager:file/dir modified: /content/drive/My Drive/Colab Notebooks/master_project/evaluation/wandb/run-20200501_110843-2bb19uir/wandb-summary.json\n",
            "INFO:wandb.run_manager:file/dir modified: /content/drive/My Drive/Colab Notebooks/master_project/evaluation/wandb/run-20200501_110843-2bb19uir/wandb-metadata.json\n",
            "INFO:wandb.run_manager:file/dir modified: /content/drive/My Drive/Colab Notebooks/master_project/evaluation/wandb/run-20200501_110843-2bb19uir/wandb-metadata.json\n",
            "INFO:wandb.run_manager:file/dir modified: /content/drive/My Drive/Colab Notebooks/master_project/evaluation/wandb/run-20200501_110843-2bb19uir/wandb-metadata.json\n",
            "INFO:wandb.run_manager:file/dir modified: /content/drive/My Drive/Colab Notebooks/master_project/evaluation/wandb/run-20200501_110843-2bb19uir/wandb-metadata.json\n"
          ],
          "name": "stderr"
        },
        {
          "output_type": "stream",
          "text": [
            "Running loss: 0.162121"
          ],
          "name": "stdout"
        },
        {
          "output_type": "stream",
          "text": [
            "INFO:wandb.run_manager:file/dir modified: /content/drive/My Drive/Colab Notebooks/master_project/evaluation/wandb/run-20200501_110843-2bb19uir/wandb-metadata.json\n"
          ],
          "name": "stderr"
        },
        {
          "output_type": "stream",
          "text": [
            "Running loss: 0.196105"
          ],
          "name": "stdout"
        },
        {
          "output_type": "stream",
          "text": [
            "INFO:wandb.run_manager:file/dir modified: /content/drive/My Drive/Colab Notebooks/master_project/evaluation/wandb/run-20200501_110843-2bb19uir/wandb-events.jsonl\n",
            "INFO:wandb.run_manager:file/dir modified: /content/drive/My Drive/Colab Notebooks/master_project/evaluation/wandb/run-20200501_110843-2bb19uir/wandb-history.jsonl\n",
            "INFO:wandb.run_manager:file/dir modified: /content/drive/My Drive/Colab Notebooks/master_project/evaluation/wandb/run-20200501_110843-2bb19uir/wandb-summary.json\n"
          ],
          "name": "stderr"
        },
        {
          "output_type": "stream",
          "text": [
            "Running loss: 0.301756"
          ],
          "name": "stdout"
        },
        {
          "output_type": "stream",
          "text": [
            "INFO:wandb.run_manager:file/dir modified: /content/drive/My Drive/Colab Notebooks/master_project/evaluation/wandb/run-20200501_110843-2bb19uir/wandb-metadata.json\n"
          ],
          "name": "stderr"
        },
        {
          "output_type": "stream",
          "text": [
            "Running loss: 0.371792"
          ],
          "name": "stdout"
        },
        {
          "output_type": "stream",
          "text": [
            "INFO:wandb.run_manager:file/dir modified: /content/drive/My Drive/Colab Notebooks/master_project/evaluation/wandb/run-20200501_110843-2bb19uir/wandb-history.jsonl\n",
            "INFO:wandb.run_manager:file/dir modified: /content/drive/My Drive/Colab Notebooks/master_project/evaluation/wandb/run-20200501_110843-2bb19uir/wandb-summary.json\n"
          ],
          "name": "stderr"
        },
        {
          "output_type": "stream",
          "text": [
            "Running loss: 0.208976"
          ],
          "name": "stdout"
        },
        {
          "output_type": "stream",
          "text": [
            "INFO:wandb.run_manager:file/dir modified: /content/drive/My Drive/Colab Notebooks/master_project/evaluation/wandb/run-20200501_110843-2bb19uir/wandb-metadata.json\n"
          ],
          "name": "stderr"
        },
        {
          "output_type": "stream",
          "text": [
            "Running loss: 0.379628"
          ],
          "name": "stdout"
        },
        {
          "output_type": "stream",
          "text": [
            "INFO:wandb.run_manager:file/dir modified: /content/drive/My Drive/Colab Notebooks/master_project/evaluation/wandb/run-20200501_110843-2bb19uir/wandb-events.jsonl\n"
          ],
          "name": "stderr"
        },
        {
          "output_type": "stream",
          "text": [
            "Running loss: 0.410148"
          ],
          "name": "stdout"
        },
        {
          "output_type": "stream",
          "text": [
            "INFO:wandb.run_manager:file/dir modified: /content/drive/My Drive/Colab Notebooks/master_project/evaluation/wandb/run-20200501_110843-2bb19uir/wandb-history.jsonl\n",
            "INFO:wandb.run_manager:file/dir modified: /content/drive/My Drive/Colab Notebooks/master_project/evaluation/wandb/run-20200501_110843-2bb19uir/wandb-summary.json\n"
          ],
          "name": "stderr"
        },
        {
          "output_type": "stream",
          "text": [
            "Running loss: 0.462139"
          ],
          "name": "stdout"
        },
        {
          "output_type": "stream",
          "text": [
            "INFO:wandb.run_manager:file/dir modified: /content/drive/My Drive/Colab Notebooks/master_project/evaluation/wandb/run-20200501_110843-2bb19uir/wandb-metadata.json\n"
          ],
          "name": "stderr"
        },
        {
          "output_type": "stream",
          "text": [
            "Running loss: 0.277650"
          ],
          "name": "stdout"
        },
        {
          "output_type": "stream",
          "text": [
            "INFO:wandb.run_manager:file/dir modified: /content/drive/My Drive/Colab Notebooks/master_project/evaluation/wandb/run-20200501_110843-2bb19uir/wandb-history.jsonl\n",
            "INFO:wandb.run_manager:file/dir modified: /content/drive/My Drive/Colab Notebooks/master_project/evaluation/wandb/run-20200501_110843-2bb19uir/wandb-summary.json\n"
          ],
          "name": "stderr"
        },
        {
          "output_type": "stream",
          "text": [
            "Running loss: 0.700798"
          ],
          "name": "stdout"
        },
        {
          "output_type": "stream",
          "text": [
            "INFO:wandb.run_manager:file/dir modified: /content/drive/My Drive/Colab Notebooks/master_project/evaluation/wandb/run-20200501_110843-2bb19uir/wandb-events.jsonl\n",
            "INFO:wandb.run_manager:file/dir modified: /content/drive/My Drive/Colab Notebooks/master_project/evaluation/wandb/run-20200501_110843-2bb19uir/wandb-metadata.json\n"
          ],
          "name": "stderr"
        },
        {
          "output_type": "stream",
          "text": [
            "Running loss: 0.557861"
          ],
          "name": "stdout"
        },
        {
          "output_type": "stream",
          "text": [
            "INFO:wandb.run_manager:file/dir modified: /content/drive/My Drive/Colab Notebooks/master_project/evaluation/wandb/run-20200501_110843-2bb19uir/wandb-history.jsonl\n",
            "INFO:wandb.run_manager:file/dir modified: /content/drive/My Drive/Colab Notebooks/master_project/evaluation/wandb/run-20200501_110843-2bb19uir/wandb-summary.json\n"
          ],
          "name": "stderr"
        },
        {
          "output_type": "stream",
          "text": [
            "Running loss: 0.246503"
          ],
          "name": "stdout"
        },
        {
          "output_type": "stream",
          "text": [
            "INFO:wandb.run_manager:file/dir modified: /content/drive/My Drive/Colab Notebooks/master_project/evaluation/wandb/run-20200501_110843-2bb19uir/wandb-metadata.json\n"
          ],
          "name": "stderr"
        },
        {
          "output_type": "stream",
          "text": [
            "Running loss: 0.667720"
          ],
          "name": "stdout"
        },
        {
          "output_type": "stream",
          "text": [
            "INFO:wandb.run_manager:file/dir modified: /content/drive/My Drive/Colab Notebooks/master_project/evaluation/wandb/run-20200501_110843-2bb19uir/wandb-history.jsonl\n",
            "INFO:wandb.run_manager:file/dir modified: /content/drive/My Drive/Colab Notebooks/master_project/evaluation/wandb/run-20200501_110843-2bb19uir/wandb-summary.json\n"
          ],
          "name": "stderr"
        },
        {
          "output_type": "stream",
          "text": [
            "Running loss: 0.514705"
          ],
          "name": "stdout"
        },
        {
          "output_type": "stream",
          "text": [
            "INFO:wandb.run_manager:file/dir modified: /content/drive/My Drive/Colab Notebooks/master_project/evaluation/wandb/run-20200501_110843-2bb19uir/wandb-history.jsonl\n"
          ],
          "name": "stderr"
        },
        {
          "output_type": "stream",
          "text": [
            "Running loss: 0.484719"
          ],
          "name": "stdout"
        },
        {
          "output_type": "stream",
          "text": [
            "INFO:wandb.run_manager:file/dir modified: /content/drive/My Drive/Colab Notebooks/master_project/evaluation/wandb/run-20200501_110843-2bb19uir/wandb-events.jsonl\n"
          ],
          "name": "stderr"
        },
        {
          "output_type": "stream",
          "text": [
            "Running loss: 0.419890"
          ],
          "name": "stdout"
        },
        {
          "output_type": "stream",
          "text": [
            "INFO:wandb.run_manager:file/dir modified: /content/drive/My Drive/Colab Notebooks/master_project/evaluation/wandb/run-20200501_110843-2bb19uir/wandb-metadata.json\n",
            "INFO:wandb.run_manager:file/dir modified: /content/drive/My Drive/Colab Notebooks/master_project/evaluation/wandb/run-20200501_110843-2bb19uir/wandb-history.jsonl\n",
            "INFO:wandb.run_manager:file/dir modified: /content/drive/My Drive/Colab Notebooks/master_project/evaluation/wandb/run-20200501_110843-2bb19uir/wandb-summary.json\n"
          ],
          "name": "stderr"
        },
        {
          "output_type": "stream",
          "text": [
            "Running loss: 0.240167"
          ],
          "name": "stdout"
        },
        {
          "output_type": "stream",
          "text": [
            "INFO:wandb.run_manager:file/dir modified: /content/drive/My Drive/Colab Notebooks/master_project/evaluation/wandb/run-20200501_110843-2bb19uir/wandb-history.jsonl\n",
            "INFO:wandb.run_manager:file/dir modified: /content/drive/My Drive/Colab Notebooks/master_project/evaluation/wandb/run-20200501_110843-2bb19uir/wandb-summary.json\n"
          ],
          "name": "stderr"
        },
        {
          "output_type": "stream",
          "text": [
            "Running loss: 0.437722"
          ],
          "name": "stdout"
        },
        {
          "output_type": "stream",
          "text": [
            "INFO:wandb.run_manager:file/dir modified: /content/drive/My Drive/Colab Notebooks/master_project/evaluation/wandb/run-20200501_110843-2bb19uir/wandb-metadata.json\n"
          ],
          "name": "stderr"
        },
        {
          "output_type": "stream",
          "text": [
            "Running loss: 0.638252"
          ],
          "name": "stdout"
        },
        {
          "output_type": "stream",
          "text": [
            "INFO:wandb.run_manager:file/dir modified: /content/drive/My Drive/Colab Notebooks/master_project/evaluation/wandb/run-20200501_110843-2bb19uir/wandb-events.jsonl\n"
          ],
          "name": "stderr"
        },
        {
          "output_type": "stream",
          "text": [
            "\rRunning loss: 0.156235"
          ],
          "name": "stdout"
        },
        {
          "output_type": "stream",
          "text": [
            "INFO:wandb.run_manager:file/dir modified: /content/drive/My Drive/Colab Notebooks/master_project/evaluation/wandb/run-20200501_110843-2bb19uir/wandb-history.jsonl\n",
            "INFO:wandb.run_manager:file/dir modified: /content/drive/My Drive/Colab Notebooks/master_project/evaluation/wandb/run-20200501_110843-2bb19uir/wandb-summary.json\n"
          ],
          "name": "stderr"
        },
        {
          "output_type": "stream",
          "text": [
            "Running loss: 0.233424"
          ],
          "name": "stdout"
        },
        {
          "output_type": "stream",
          "text": [
            "INFO:wandb.run_manager:file/dir modified: /content/drive/My Drive/Colab Notebooks/master_project/evaluation/wandb/run-20200501_110843-2bb19uir/wandb-metadata.json\n"
          ],
          "name": "stderr"
        },
        {
          "output_type": "stream",
          "text": [
            "Running loss: 0.340777"
          ],
          "name": "stdout"
        },
        {
          "output_type": "stream",
          "text": [
            "INFO:wandb.run_manager:file/dir modified: /content/drive/My Drive/Colab Notebooks/master_project/evaluation/wandb/run-20200501_110843-2bb19uir/wandb-history.jsonl\n",
            "INFO:wandb.run_manager:file/dir modified: /content/drive/My Drive/Colab Notebooks/master_project/evaluation/wandb/run-20200501_110843-2bb19uir/wandb-summary.json\n",
            "INFO:wandb.run_manager:file/dir modified: /content/drive/My Drive/Colab Notebooks/master_project/evaluation/wandb/run-20200501_110843-2bb19uir/wandb-metadata.json\n",
            "INFO:wandb.run_manager:file/dir modified: /content/drive/My Drive/Colab Notebooks/master_project/evaluation/wandb/run-20200501_110843-2bb19uir/wandb-events.jsonl\n",
            "INFO:wandb.run_manager:file/dir modified: /content/drive/My Drive/Colab Notebooks/master_project/evaluation/wandb/run-20200501_110843-2bb19uir/wandb-metadata.json\n",
            "INFO:wandb.run_manager:file/dir modified: /content/drive/My Drive/Colab Notebooks/master_project/evaluation/wandb/run-20200501_110843-2bb19uir/wandb-metadata.json\n",
            "INFO:wandb.run_manager:file/dir modified: /content/drive/My Drive/Colab Notebooks/master_project/evaluation/wandb/run-20200501_110843-2bb19uir/wandb-events.jsonl\n",
            "INFO:wandb.run_manager:file/dir modified: /content/drive/My Drive/Colab Notebooks/master_project/evaluation/wandb/run-20200501_110843-2bb19uir/wandb-metadata.json\n",
            "INFO:wandb.run_manager:file/dir modified: /content/drive/My Drive/Colab Notebooks/master_project/evaluation/wandb/run-20200501_110843-2bb19uir/wandb-metadata.json\n",
            "INFO:wandb.run_manager:file/dir modified: /content/drive/My Drive/Colab Notebooks/master_project/evaluation/wandb/run-20200501_110843-2bb19uir/wandb-events.jsonl\n",
            "INFO:wandb.run_manager:file/dir modified: /content/drive/My Drive/Colab Notebooks/master_project/evaluation/wandb/run-20200501_110843-2bb19uir/wandb-metadata.json\n",
            "INFO:wandb.run_manager:file/dir modified: /content/drive/My Drive/Colab Notebooks/master_project/evaluation/wandb/run-20200501_110843-2bb19uir/wandb-metadata.json\n",
            "INFO:wandb.run_manager:file/dir modified: /content/drive/My Drive/Colab Notebooks/master_project/evaluation/wandb/run-20200501_110843-2bb19uir/wandb-events.jsonl\n",
            "INFO:wandb.run_manager:file/dir modified: /content/drive/My Drive/Colab Notebooks/master_project/evaluation/wandb/run-20200501_110843-2bb19uir/wandb-metadata.json\n",
            "INFO:wandb.run_manager:file/dir modified: /content/drive/My Drive/Colab Notebooks/master_project/evaluation/wandb/run-20200501_110843-2bb19uir/wandb-metadata.json\n",
            "INFO:wandb.run_manager:file/dir modified: /content/drive/My Drive/Colab Notebooks/master_project/evaluation/wandb/run-20200501_110843-2bb19uir/wandb-events.jsonl\n",
            "INFO:wandb.run_manager:file/dir modified: /content/drive/My Drive/Colab Notebooks/master_project/evaluation/wandb/run-20200501_110843-2bb19uir/wandb-metadata.json\n",
            "INFO:wandb.run_manager:file/dir modified: /content/drive/My Drive/Colab Notebooks/master_project/evaluation/wandb/run-20200501_110843-2bb19uir/wandb-metadata.json\n",
            "INFO:wandb.run_manager:file/dir modified: /content/drive/My Drive/Colab Notebooks/master_project/evaluation/wandb/run-20200501_110843-2bb19uir/wandb-events.jsonl\n",
            "INFO:wandb.run_manager:file/dir modified: /content/drive/My Drive/Colab Notebooks/master_project/evaluation/wandb/run-20200501_110843-2bb19uir/wandb-metadata.json\n",
            "INFO:wandb.run_manager:file/dir modified: /content/drive/My Drive/Colab Notebooks/master_project/evaluation/wandb/run-20200501_110843-2bb19uir/wandb-metadata.json\n",
            "INFO:wandb.run_manager:file/dir modified: /content/drive/My Drive/Colab Notebooks/master_project/evaluation/wandb/run-20200501_110843-2bb19uir/wandb-events.jsonl\n",
            "INFO:wandb.run_manager:file/dir modified: /content/drive/My Drive/Colab Notebooks/master_project/evaluation/wandb/run-20200501_110843-2bb19uir/wandb-metadata.json\n",
            "INFO:wandb.run_manager:file/dir modified: /content/drive/My Drive/Colab Notebooks/master_project/evaluation/wandb/run-20200501_110843-2bb19uir/wandb-metadata.json\n",
            "INFO:wandb.run_manager:file/dir modified: /content/drive/My Drive/Colab Notebooks/master_project/evaluation/wandb/run-20200501_110843-2bb19uir/wandb-events.jsonl\n",
            "INFO:wandb.run_manager:file/dir modified: /content/drive/My Drive/Colab Notebooks/master_project/evaluation/wandb/run-20200501_110843-2bb19uir/wandb-metadata.json\n",
            "INFO:wandb.run_manager:file/dir modified: /content/drive/My Drive/Colab Notebooks/master_project/evaluation/wandb/run-20200501_110843-2bb19uir/wandb-metadata.json\n",
            "INFO:wandb.run_manager:file/dir modified: /content/drive/My Drive/Colab Notebooks/master_project/evaluation/wandb/run-20200501_110843-2bb19uir/wandb-events.jsonl\n",
            "INFO:wandb.run_manager:file/dir modified: /content/drive/My Drive/Colab Notebooks/master_project/evaluation/wandb/run-20200501_110843-2bb19uir/wandb-metadata.json\n",
            "INFO:wandb.run_manager:file/dir modified: /content/drive/My Drive/Colab Notebooks/master_project/evaluation/wandb/run-20200501_110843-2bb19uir/wandb-events.jsonl\n",
            "INFO:wandb.run_manager:file/dir modified: /content/drive/My Drive/Colab Notebooks/master_project/evaluation/wandb/run-20200501_110843-2bb19uir/wandb-metadata.json\n",
            "INFO:wandb.run_manager:file/dir modified: /content/drive/My Drive/Colab Notebooks/master_project/evaluation/wandb/run-20200501_110843-2bb19uir/wandb-metadata.json\n",
            "INFO:wandb.run_manager:file/dir modified: /content/drive/My Drive/Colab Notebooks/master_project/evaluation/wandb/run-20200501_110843-2bb19uir/wandb-events.jsonl\n",
            "INFO:wandb.run_manager:file/dir modified: /content/drive/My Drive/Colab Notebooks/master_project/evaluation/wandb/run-20200501_110843-2bb19uir/wandb-metadata.json\n",
            "INFO:wandb.run_manager:file/dir modified: /content/drive/My Drive/Colab Notebooks/master_project/evaluation/wandb/run-20200501_110843-2bb19uir/wandb-metadata.json\n",
            "INFO:wandb.run_manager:file/dir modified: /content/drive/My Drive/Colab Notebooks/master_project/evaluation/wandb/run-20200501_110843-2bb19uir/wandb-events.jsonl\n",
            "INFO:wandb.run_manager:file/dir modified: /content/drive/My Drive/Colab Notebooks/master_project/evaluation/wandb/run-20200501_110843-2bb19uir/wandb-metadata.json\n",
            "INFO:wandb.run_manager:file/dir modified: /content/drive/My Drive/Colab Notebooks/master_project/evaluation/wandb/run-20200501_110843-2bb19uir/wandb-metadata.json\n",
            "INFO:wandb.run_manager:file/dir modified: /content/drive/My Drive/Colab Notebooks/master_project/evaluation/wandb/run-20200501_110843-2bb19uir/wandb-events.jsonl\n",
            "INFO:wandb.run_manager:file/dir modified: /content/drive/My Drive/Colab Notebooks/master_project/evaluation/wandb/run-20200501_110843-2bb19uir/wandb-metadata.json\n",
            "INFO:wandb.run_manager:file/dir modified: /content/drive/My Drive/Colab Notebooks/master_project/evaluation/wandb/run-20200501_110843-2bb19uir/wandb-metadata.json\n",
            "INFO:wandb.run_manager:file/dir modified: /content/drive/My Drive/Colab Notebooks/master_project/evaluation/wandb/run-20200501_110843-2bb19uir/wandb-events.jsonl\n",
            "INFO:wandb.run_manager:file/dir modified: /content/drive/My Drive/Colab Notebooks/master_project/evaluation/wandb/run-20200501_110843-2bb19uir/wandb-metadata.json\n",
            "INFO:wandb.run_manager:file/dir modified: /content/drive/My Drive/Colab Notebooks/master_project/evaluation/wandb/run-20200501_110843-2bb19uir/wandb-metadata.json\n",
            "INFO:wandb.run_manager:file/dir modified: /content/drive/My Drive/Colab Notebooks/master_project/evaluation/wandb/run-20200501_110843-2bb19uir/wandb-events.jsonl\n",
            "INFO:wandb.run_manager:file/dir modified: /content/drive/My Drive/Colab Notebooks/master_project/evaluation/wandb/run-20200501_110843-2bb19uir/wandb-metadata.json\n",
            "INFO:wandb.run_manager:file/dir modified: /content/drive/My Drive/Colab Notebooks/master_project/evaluation/wandb/run-20200501_110843-2bb19uir/wandb-metadata.json\n",
            "INFO:wandb.run_manager:file/dir modified: /content/drive/My Drive/Colab Notebooks/master_project/evaluation/wandb/run-20200501_110843-2bb19uir/wandb-events.jsonl\n",
            "INFO:wandb.run_manager:file/dir modified: /content/drive/My Drive/Colab Notebooks/master_project/evaluation/wandb/run-20200501_110843-2bb19uir/wandb-metadata.json\n",
            "INFO:wandb.run_manager:file/dir modified: /content/drive/My Drive/Colab Notebooks/master_project/evaluation/wandb/run-20200501_110843-2bb19uir/wandb-metadata.json\n",
            "INFO:wandb.run_manager:file/dir modified: /content/drive/My Drive/Colab Notebooks/master_project/evaluation/wandb/run-20200501_110843-2bb19uir/wandb-events.jsonl\n",
            "INFO:wandb.run_manager:file/dir modified: /content/drive/My Drive/Colab Notebooks/master_project/evaluation/wandb/run-20200501_110843-2bb19uir/wandb-metadata.json\n",
            "INFO:wandb.run_manager:file/dir modified: /content/drive/My Drive/Colab Notebooks/master_project/evaluation/wandb/run-20200501_110843-2bb19uir/wandb-events.jsonl\n",
            "INFO:wandb.run_manager:file/dir modified: /content/drive/My Drive/Colab Notebooks/master_project/evaluation/wandb/run-20200501_110843-2bb19uir/wandb-metadata.json\n",
            "INFO:wandb.run_manager:file/dir modified: /content/drive/My Drive/Colab Notebooks/master_project/evaluation/wandb/run-20200501_110843-2bb19uir/wandb-metadata.json\n",
            "INFO:wandb.run_manager:file/dir modified: /content/drive/My Drive/Colab Notebooks/master_project/evaluation/wandb/run-20200501_110843-2bb19uir/wandb-events.jsonl\n",
            "INFO:wandb.run_manager:file/dir modified: /content/drive/My Drive/Colab Notebooks/master_project/evaluation/wandb/run-20200501_110843-2bb19uir/wandb-metadata.json\n",
            "INFO:wandb.run_manager:file/dir modified: /content/drive/My Drive/Colab Notebooks/master_project/evaluation/wandb/run-20200501_110843-2bb19uir/wandb-metadata.json\n",
            "INFO:wandb.run_manager:file/dir modified: /content/drive/My Drive/Colab Notebooks/master_project/evaluation/wandb/run-20200501_110843-2bb19uir/wandb-events.jsonl\n",
            "INFO:wandb.run_manager:file/dir modified: /content/drive/My Drive/Colab Notebooks/master_project/evaluation/wandb/run-20200501_110843-2bb19uir/wandb-metadata.json\n",
            "INFO:wandb.run_manager:file/dir modified: /content/drive/My Drive/Colab Notebooks/master_project/evaluation/wandb/run-20200501_110843-2bb19uir/wandb-metadata.json\n",
            "INFO:wandb.run_manager:file/dir modified: /content/drive/My Drive/Colab Notebooks/master_project/evaluation/wandb/run-20200501_110843-2bb19uir/wandb-events.jsonl\n",
            "INFO:wandb.run_manager:file/dir modified: /content/drive/My Drive/Colab Notebooks/master_project/evaluation/wandb/run-20200501_110843-2bb19uir/wandb-metadata.json\n",
            "INFO:wandb.run_manager:file/dir modified: /content/drive/My Drive/Colab Notebooks/master_project/evaluation/wandb/run-20200501_110843-2bb19uir/wandb-metadata.json\n",
            "INFO:wandb.run_manager:file/dir modified: /content/drive/My Drive/Colab Notebooks/master_project/evaluation/wandb/run-20200501_110843-2bb19uir/wandb-events.jsonl\n",
            "INFO:wandb.run_manager:file/dir modified: /content/drive/My Drive/Colab Notebooks/master_project/evaluation/wandb/run-20200501_110843-2bb19uir/wandb-metadata.json\n",
            "INFO:wandb.run_manager:file/dir modified: /content/drive/My Drive/Colab Notebooks/master_project/evaluation/wandb/run-20200501_110843-2bb19uir/wandb-metadata.json\n",
            "INFO:wandb.run_manager:file/dir modified: /content/drive/My Drive/Colab Notebooks/master_project/evaluation/wandb/run-20200501_110843-2bb19uir/wandb-events.jsonl\n",
            "INFO:wandb.run_manager:file/dir modified: /content/drive/My Drive/Colab Notebooks/master_project/evaluation/wandb/run-20200501_110843-2bb19uir/wandb-history.jsonl\n",
            "INFO:wandb.run_manager:file/dir modified: /content/drive/My Drive/Colab Notebooks/master_project/evaluation/wandb/run-20200501_110843-2bb19uir/wandb-summary.json\n",
            "INFO:wandb.run_manager:file/dir modified: /content/drive/My Drive/Colab Notebooks/master_project/evaluation/wandb/run-20200501_110843-2bb19uir/wandb-metadata.json\n",
            "INFO:wandb.run_manager:file/dir modified: /content/drive/My Drive/Colab Notebooks/master_project/evaluation/wandb/run-20200501_110843-2bb19uir/wandb-metadata.json\n",
            "INFO:wandb.run_manager:file/dir modified: /content/drive/My Drive/Colab Notebooks/master_project/evaluation/wandb/run-20200501_110843-2bb19uir/wandb-metadata.json\n"
          ],
          "name": "stderr"
        },
        {
          "output_type": "stream",
          "text": [
            "Running loss: 0.286440"
          ],
          "name": "stdout"
        },
        {
          "output_type": "stream",
          "text": [
            "INFO:wandb.run_manager:file/dir modified: /content/drive/My Drive/Colab Notebooks/master_project/evaluation/wandb/run-20200501_110843-2bb19uir/wandb-metadata.json\n"
          ],
          "name": "stderr"
        },
        {
          "output_type": "stream",
          "text": [
            "Running loss: 0.331424"
          ],
          "name": "stdout"
        },
        {
          "output_type": "stream",
          "text": [
            "INFO:wandb.run_manager:file/dir modified: /content/drive/My Drive/Colab Notebooks/master_project/evaluation/wandb/run-20200501_110843-2bb19uir/wandb-events.jsonl\n"
          ],
          "name": "stderr"
        },
        {
          "output_type": "stream",
          "text": [
            "Running loss: 0.341488"
          ],
          "name": "stdout"
        },
        {
          "output_type": "stream",
          "text": [
            "INFO:wandb.run_manager:file/dir modified: /content/drive/My Drive/Colab Notebooks/master_project/evaluation/wandb/run-20200501_110843-2bb19uir/wandb-metadata.json\n",
            "INFO:wandb.run_manager:file/dir modified: /content/drive/My Drive/Colab Notebooks/master_project/evaluation/wandb/run-20200501_110843-2bb19uir/wandb-history.jsonl\n",
            "INFO:wandb.run_manager:file/dir modified: /content/drive/My Drive/Colab Notebooks/master_project/evaluation/wandb/run-20200501_110843-2bb19uir/wandb-summary.json\n"
          ],
          "name": "stderr"
        },
        {
          "output_type": "stream",
          "text": [
            "Running loss: 0.385751"
          ],
          "name": "stdout"
        },
        {
          "output_type": "stream",
          "text": [
            "INFO:wandb.run_manager:file/dir modified: /content/drive/My Drive/Colab Notebooks/master_project/evaluation/wandb/run-20200501_110843-2bb19uir/wandb-metadata.json\n"
          ],
          "name": "stderr"
        },
        {
          "output_type": "stream",
          "text": [
            "Running loss: 0.324042"
          ],
          "name": "stdout"
        },
        {
          "output_type": "stream",
          "text": [
            "INFO:wandb.run_manager:file/dir modified: /content/drive/My Drive/Colab Notebooks/master_project/evaluation/wandb/run-20200501_110843-2bb19uir/wandb-events.jsonl\n"
          ],
          "name": "stderr"
        },
        {
          "output_type": "stream",
          "text": [
            "Running loss: 0.563660"
          ],
          "name": "stdout"
        },
        {
          "output_type": "stream",
          "text": [
            "INFO:wandb.run_manager:file/dir modified: /content/drive/My Drive/Colab Notebooks/master_project/evaluation/wandb/run-20200501_110843-2bb19uir/wandb-history.jsonl\n",
            "INFO:wandb.run_manager:file/dir modified: /content/drive/My Drive/Colab Notebooks/master_project/evaluation/wandb/run-20200501_110843-2bb19uir/wandb-summary.json\n"
          ],
          "name": "stderr"
        },
        {
          "output_type": "stream",
          "text": [
            "Running loss: 0.496988"
          ],
          "name": "stdout"
        },
        {
          "output_type": "stream",
          "text": [
            "INFO:wandb.run_manager:file/dir modified: /content/drive/My Drive/Colab Notebooks/master_project/evaluation/wandb/run-20200501_110843-2bb19uir/wandb-metadata.json\n"
          ],
          "name": "stderr"
        },
        {
          "output_type": "stream",
          "text": [
            "Running loss: 0.298625"
          ],
          "name": "stdout"
        },
        {
          "output_type": "stream",
          "text": [
            "INFO:wandb.run_manager:file/dir modified: /content/drive/My Drive/Colab Notebooks/master_project/evaluation/wandb/run-20200501_110843-2bb19uir/wandb-history.jsonl\n",
            "INFO:wandb.run_manager:file/dir modified: /content/drive/My Drive/Colab Notebooks/master_project/evaluation/wandb/run-20200501_110843-2bb19uir/wandb-summary.json\n"
          ],
          "name": "stderr"
        },
        {
          "output_type": "stream",
          "text": [
            "Running loss: 0.203912"
          ],
          "name": "stdout"
        },
        {
          "output_type": "stream",
          "text": [
            "INFO:wandb.run_manager:file/dir modified: /content/drive/My Drive/Colab Notebooks/master_project/evaluation/wandb/run-20200501_110843-2bb19uir/wandb-events.jsonl\n",
            "INFO:wandb.run_manager:file/dir modified: /content/drive/My Drive/Colab Notebooks/master_project/evaluation/wandb/run-20200501_110843-2bb19uir/wandb-metadata.json\n"
          ],
          "name": "stderr"
        },
        {
          "output_type": "stream",
          "text": [
            "Running loss: 0.345717"
          ],
          "name": "stdout"
        },
        {
          "output_type": "stream",
          "text": [
            "INFO:wandb.run_manager:file/dir modified: /content/drive/My Drive/Colab Notebooks/master_project/evaluation/wandb/run-20200501_110843-2bb19uir/wandb-history.jsonl\n",
            "INFO:wandb.run_manager:file/dir modified: /content/drive/My Drive/Colab Notebooks/master_project/evaluation/wandb/run-20200501_110843-2bb19uir/wandb-summary.json\n"
          ],
          "name": "stderr"
        },
        {
          "output_type": "stream",
          "text": [
            "Running loss: 0.566757"
          ],
          "name": "stdout"
        },
        {
          "output_type": "stream",
          "text": [
            "INFO:wandb.run_manager:file/dir modified: /content/drive/My Drive/Colab Notebooks/master_project/evaluation/wandb/run-20200501_110843-2bb19uir/wandb-metadata.json\n",
            "INFO:wandb.run_manager:file/dir modified: /content/drive/My Drive/Colab Notebooks/master_project/evaluation/wandb/run-20200501_110843-2bb19uir/wandb-history.jsonl\n",
            "INFO:wandb.run_manager:file/dir modified: /content/drive/My Drive/Colab Notebooks/master_project/evaluation/wandb/run-20200501_110843-2bb19uir/wandb-summary.json\n"
          ],
          "name": "stderr"
        },
        {
          "output_type": "stream",
          "text": [
            "Running loss: 0.472984"
          ],
          "name": "stdout"
        },
        {
          "output_type": "stream",
          "text": [
            "INFO:wandb.run_manager:file/dir modified: /content/drive/My Drive/Colab Notebooks/master_project/evaluation/wandb/run-20200501_110843-2bb19uir/wandb-events.jsonl\n"
          ],
          "name": "stderr"
        },
        {
          "output_type": "stream",
          "text": [
            "Running loss: 0.769293"
          ],
          "name": "stdout"
        },
        {
          "output_type": "stream",
          "text": [
            "INFO:wandb.run_manager:file/dir modified: /content/drive/My Drive/Colab Notebooks/master_project/evaluation/wandb/run-20200501_110843-2bb19uir/wandb-metadata.json\n"
          ],
          "name": "stderr"
        },
        {
          "output_type": "stream",
          "text": [
            "\rRunning loss: 0.353071"
          ],
          "name": "stdout"
        },
        {
          "output_type": "stream",
          "text": [
            "INFO:wandb.run_manager:file/dir modified: /content/drive/My Drive/Colab Notebooks/master_project/evaluation/wandb/run-20200501_110843-2bb19uir/wandb-history.jsonl\n",
            "INFO:wandb.run_manager:file/dir modified: /content/drive/My Drive/Colab Notebooks/master_project/evaluation/wandb/run-20200501_110843-2bb19uir/wandb-summary.json\n"
          ],
          "name": "stderr"
        },
        {
          "output_type": "stream",
          "text": [
            "Running loss: 0.497702"
          ],
          "name": "stdout"
        },
        {
          "output_type": "stream",
          "text": [
            "INFO:wandb.run_manager:file/dir modified: /content/drive/My Drive/Colab Notebooks/master_project/evaluation/wandb/run-20200501_110843-2bb19uir/wandb-history.jsonl\n"
          ],
          "name": "stderr"
        },
        {
          "output_type": "stream",
          "text": [
            "Running loss: 0.192333"
          ],
          "name": "stdout"
        },
        {
          "output_type": "stream",
          "text": [
            "INFO:wandb.run_manager:file/dir modified: /content/drive/My Drive/Colab Notebooks/master_project/evaluation/wandb/run-20200501_110843-2bb19uir/wandb-metadata.json\n",
            "INFO:wandb.run_manager:file/dir modified: /content/drive/My Drive/Colab Notebooks/master_project/evaluation/wandb/run-20200501_110843-2bb19uir/wandb-history.jsonl\n",
            "INFO:wandb.run_manager:file/dir modified: /content/drive/My Drive/Colab Notebooks/master_project/evaluation/wandb/run-20200501_110843-2bb19uir/wandb-summary.json\n"
          ],
          "name": "stderr"
        },
        {
          "output_type": "stream",
          "text": [
            "Running loss: 0.426344"
          ],
          "name": "stdout"
        },
        {
          "output_type": "stream",
          "text": [
            "INFO:wandb.run_manager:file/dir modified: /content/drive/My Drive/Colab Notebooks/master_project/evaluation/wandb/run-20200501_110843-2bb19uir/wandb-events.jsonl\n"
          ],
          "name": "stderr"
        },
        {
          "output_type": "stream",
          "text": [
            "Running loss: 0.338510"
          ],
          "name": "stdout"
        },
        {
          "output_type": "stream",
          "text": [
            "INFO:wandb.run_manager:file/dir modified: /content/drive/My Drive/Colab Notebooks/master_project/evaluation/wandb/run-20200501_110843-2bb19uir/wandb-history.jsonl\n",
            "INFO:wandb.run_manager:file/dir modified: /content/drive/My Drive/Colab Notebooks/master_project/evaluation/wandb/run-20200501_110843-2bb19uir/wandb-summary.json\n"
          ],
          "name": "stderr"
        },
        {
          "output_type": "stream",
          "text": [
            "\rRunning loss: 0.357316"
          ],
          "name": "stdout"
        },
        {
          "output_type": "stream",
          "text": [
            "INFO:wandb.run_manager:file/dir modified: /content/drive/My Drive/Colab Notebooks/master_project/evaluation/wandb/run-20200501_110843-2bb19uir/wandb-metadata.json\n"
          ],
          "name": "stderr"
        },
        {
          "output_type": "stream",
          "text": [
            "Running loss: 0.251085"
          ],
          "name": "stdout"
        },
        {
          "output_type": "stream",
          "text": [
            "INFO:wandb.run_manager:file/dir modified: /content/drive/My Drive/Colab Notebooks/master_project/evaluation/wandb/run-20200501_110843-2bb19uir/wandb-history.jsonl\n",
            "INFO:wandb.run_manager:file/dir modified: /content/drive/My Drive/Colab Notebooks/master_project/evaluation/wandb/run-20200501_110843-2bb19uir/wandb-summary.json\n"
          ],
          "name": "stderr"
        },
        {
          "output_type": "stream",
          "text": [
            "Running loss: 0.225829"
          ],
          "name": "stdout"
        },
        {
          "output_type": "stream",
          "text": [
            "INFO:wandb.run_manager:file/dir modified: /content/drive/My Drive/Colab Notebooks/master_project/evaluation/wandb/run-20200501_110843-2bb19uir/wandb-metadata.json\n"
          ],
          "name": "stderr"
        },
        {
          "output_type": "stream",
          "text": [
            "Running loss: 0.391055"
          ],
          "name": "stdout"
        },
        {
          "output_type": "stream",
          "text": [
            "INFO:wandb.run_manager:file/dir modified: /content/drive/My Drive/Colab Notebooks/master_project/evaluation/wandb/run-20200501_110843-2bb19uir/wandb-events.jsonl\n"
          ],
          "name": "stderr"
        },
        {
          "output_type": "stream",
          "text": [
            "Running loss: 0.695230"
          ],
          "name": "stdout"
        },
        {
          "output_type": "stream",
          "text": [
            "INFO:wandb.run_manager:file/dir modified: /content/drive/My Drive/Colab Notebooks/master_project/evaluation/wandb/run-20200501_110843-2bb19uir/wandb-history.jsonl\n",
            "INFO:wandb.run_manager:file/dir modified: /content/drive/My Drive/Colab Notebooks/master_project/evaluation/wandb/run-20200501_110843-2bb19uir/wandb-summary.json\n",
            "INFO:wandb.run_manager:file/dir modified: /content/drive/My Drive/Colab Notebooks/master_project/evaluation/wandb/run-20200501_110843-2bb19uir/wandb-metadata.json\n",
            "INFO:wandb.run_manager:file/dir modified: /content/drive/My Drive/Colab Notebooks/master_project/evaluation/wandb/run-20200501_110843-2bb19uir/wandb-metadata.json\n",
            "INFO:wandb.run_manager:file/dir modified: /content/drive/My Drive/Colab Notebooks/master_project/evaluation/wandb/run-20200501_110843-2bb19uir/wandb-metadata.json\n",
            "INFO:wandb.run_manager:file/dir modified: /content/drive/My Drive/Colab Notebooks/master_project/evaluation/wandb/run-20200501_110843-2bb19uir/wandb-metadata.json\n",
            "INFO:wandb.run_manager:file/dir modified: /content/drive/My Drive/Colab Notebooks/master_project/evaluation/wandb/run-20200501_110843-2bb19uir/wandb-events.jsonl\n",
            "INFO:wandb.run_manager:file/dir modified: /content/drive/My Drive/Colab Notebooks/master_project/evaluation/wandb/run-20200501_110843-2bb19uir/wandb-metadata.json\n",
            "INFO:wandb.run_manager:file/dir modified: /content/drive/My Drive/Colab Notebooks/master_project/evaluation/wandb/run-20200501_110843-2bb19uir/wandb-metadata.json\n",
            "INFO:wandb.run_manager:file/dir modified: /content/drive/My Drive/Colab Notebooks/master_project/evaluation/wandb/run-20200501_110843-2bb19uir/wandb-events.jsonl\n",
            "INFO:wandb.run_manager:file/dir modified: /content/drive/My Drive/Colab Notebooks/master_project/evaluation/wandb/run-20200501_110843-2bb19uir/wandb-events.jsonl\n",
            "INFO:wandb.run_manager:file/dir modified: /content/drive/My Drive/Colab Notebooks/master_project/evaluation/wandb/run-20200501_110843-2bb19uir/wandb-metadata.json\n",
            "INFO:wandb.run_manager:file/dir modified: /content/drive/My Drive/Colab Notebooks/master_project/evaluation/wandb/run-20200501_110843-2bb19uir/wandb-metadata.json\n",
            "INFO:wandb.run_manager:file/dir modified: /content/drive/My Drive/Colab Notebooks/master_project/evaluation/wandb/run-20200501_110843-2bb19uir/wandb-events.jsonl\n",
            "INFO:wandb.run_manager:file/dir modified: /content/drive/My Drive/Colab Notebooks/master_project/evaluation/wandb/run-20200501_110843-2bb19uir/wandb-metadata.json\n",
            "INFO:wandb.run_manager:file/dir modified: /content/drive/My Drive/Colab Notebooks/master_project/evaluation/wandb/run-20200501_110843-2bb19uir/wandb-metadata.json\n",
            "INFO:wandb.run_manager:file/dir modified: /content/drive/My Drive/Colab Notebooks/master_project/evaluation/wandb/run-20200501_110843-2bb19uir/wandb-events.jsonl\n",
            "INFO:wandb.run_manager:file/dir modified: /content/drive/My Drive/Colab Notebooks/master_project/evaluation/wandb/run-20200501_110843-2bb19uir/wandb-metadata.json\n",
            "INFO:wandb.run_manager:file/dir modified: /content/drive/My Drive/Colab Notebooks/master_project/evaluation/wandb/run-20200501_110843-2bb19uir/wandb-events.jsonl\n",
            "INFO:wandb.run_manager:file/dir modified: /content/drive/My Drive/Colab Notebooks/master_project/evaluation/wandb/run-20200501_110843-2bb19uir/wandb-metadata.json\n",
            "INFO:wandb.run_manager:file/dir modified: /content/drive/My Drive/Colab Notebooks/master_project/evaluation/wandb/run-20200501_110843-2bb19uir/wandb-metadata.json\n",
            "INFO:wandb.run_manager:file/dir modified: /content/drive/My Drive/Colab Notebooks/master_project/evaluation/wandb/run-20200501_110843-2bb19uir/wandb-events.jsonl\n",
            "INFO:wandb.run_manager:file/dir modified: /content/drive/My Drive/Colab Notebooks/master_project/evaluation/wandb/run-20200501_110843-2bb19uir/wandb-metadata.json\n",
            "INFO:wandb.run_manager:file/dir modified: /content/drive/My Drive/Colab Notebooks/master_project/evaluation/wandb/run-20200501_110843-2bb19uir/wandb-metadata.json\n",
            "INFO:wandb.run_manager:file/dir modified: /content/drive/My Drive/Colab Notebooks/master_project/evaluation/wandb/run-20200501_110843-2bb19uir/wandb-events.jsonl\n",
            "INFO:wandb.run_manager:file/dir modified: /content/drive/My Drive/Colab Notebooks/master_project/evaluation/wandb/run-20200501_110843-2bb19uir/wandb-metadata.json\n",
            "INFO:wandb.run_manager:file/dir modified: /content/drive/My Drive/Colab Notebooks/master_project/evaluation/wandb/run-20200501_110843-2bb19uir/wandb-metadata.json\n",
            "INFO:wandb.run_manager:file/dir modified: /content/drive/My Drive/Colab Notebooks/master_project/evaluation/wandb/run-20200501_110843-2bb19uir/wandb-events.jsonl\n",
            "INFO:wandb.run_manager:file/dir modified: /content/drive/My Drive/Colab Notebooks/master_project/evaluation/wandb/run-20200501_110843-2bb19uir/wandb-metadata.json\n",
            "INFO:wandb.run_manager:file/dir modified: /content/drive/My Drive/Colab Notebooks/master_project/evaluation/wandb/run-20200501_110843-2bb19uir/wandb-metadata.json\n",
            "INFO:wandb.run_manager:file/dir modified: /content/drive/My Drive/Colab Notebooks/master_project/evaluation/wandb/run-20200501_110843-2bb19uir/wandb-events.jsonl\n",
            "INFO:wandb.run_manager:file/dir modified: /content/drive/My Drive/Colab Notebooks/master_project/evaluation/wandb/run-20200501_110843-2bb19uir/wandb-metadata.json\n",
            "INFO:wandb.run_manager:file/dir modified: /content/drive/My Drive/Colab Notebooks/master_project/evaluation/wandb/run-20200501_110843-2bb19uir/wandb-metadata.json\n",
            "INFO:wandb.run_manager:file/dir modified: /content/drive/My Drive/Colab Notebooks/master_project/evaluation/wandb/run-20200501_110843-2bb19uir/wandb-events.jsonl\n",
            "INFO:wandb.run_manager:file/dir modified: /content/drive/My Drive/Colab Notebooks/master_project/evaluation/wandb/run-20200501_110843-2bb19uir/wandb-metadata.json\n",
            "INFO:wandb.run_manager:file/dir modified: /content/drive/My Drive/Colab Notebooks/master_project/evaluation/wandb/run-20200501_110843-2bb19uir/wandb-metadata.json\n",
            "INFO:wandb.run_manager:file/dir modified: /content/drive/My Drive/Colab Notebooks/master_project/evaluation/wandb/run-20200501_110843-2bb19uir/wandb-events.jsonl\n",
            "INFO:wandb.run_manager:file/dir modified: /content/drive/My Drive/Colab Notebooks/master_project/evaluation/wandb/run-20200501_110843-2bb19uir/wandb-metadata.json\n",
            "INFO:wandb.run_manager:file/dir modified: /content/drive/My Drive/Colab Notebooks/master_project/evaluation/wandb/run-20200501_110843-2bb19uir/wandb-metadata.json\n",
            "INFO:wandb.run_manager:file/dir modified: /content/drive/My Drive/Colab Notebooks/master_project/evaluation/wandb/run-20200501_110843-2bb19uir/wandb-events.jsonl\n",
            "INFO:wandb.run_manager:file/dir modified: /content/drive/My Drive/Colab Notebooks/master_project/evaluation/wandb/run-20200501_110843-2bb19uir/wandb-metadata.json\n",
            "INFO:wandb.run_manager:file/dir modified: /content/drive/My Drive/Colab Notebooks/master_project/evaluation/wandb/run-20200501_110843-2bb19uir/wandb-metadata.json\n",
            "INFO:wandb.run_manager:file/dir modified: /content/drive/My Drive/Colab Notebooks/master_project/evaluation/wandb/run-20200501_110843-2bb19uir/wandb-events.jsonl\n",
            "INFO:wandb.run_manager:file/dir modified: /content/drive/My Drive/Colab Notebooks/master_project/evaluation/wandb/run-20200501_110843-2bb19uir/wandb-events.jsonl\n",
            "INFO:wandb.run_manager:file/dir modified: /content/drive/My Drive/Colab Notebooks/master_project/evaluation/wandb/run-20200501_110843-2bb19uir/wandb-metadata.json\n",
            "INFO:wandb.run_manager:file/dir modified: /content/drive/My Drive/Colab Notebooks/master_project/evaluation/wandb/run-20200501_110843-2bb19uir/wandb-events.jsonl\n",
            "INFO:wandb.run_manager:file/dir modified: /content/drive/My Drive/Colab Notebooks/master_project/evaluation/wandb/run-20200501_110843-2bb19uir/wandb-metadata.json\n",
            "INFO:wandb.run_manager:file/dir modified: /content/drive/My Drive/Colab Notebooks/master_project/evaluation/wandb/run-20200501_110843-2bb19uir/wandb-metadata.json\n",
            "INFO:wandb.run_manager:file/dir modified: /content/drive/My Drive/Colab Notebooks/master_project/evaluation/wandb/run-20200501_110843-2bb19uir/wandb-events.jsonl\n",
            "INFO:wandb.run_manager:file/dir modified: /content/drive/My Drive/Colab Notebooks/master_project/evaluation/wandb/run-20200501_110843-2bb19uir/wandb-metadata.json\n",
            "INFO:wandb.run_manager:file/dir modified: /content/drive/My Drive/Colab Notebooks/master_project/evaluation/wandb/run-20200501_110843-2bb19uir/wandb-metadata.json\n",
            "INFO:wandb.run_manager:file/dir modified: /content/drive/My Drive/Colab Notebooks/master_project/evaluation/wandb/run-20200501_110843-2bb19uir/wandb-events.jsonl\n",
            "INFO:wandb.run_manager:file/dir modified: /content/drive/My Drive/Colab Notebooks/master_project/evaluation/wandb/run-20200501_110843-2bb19uir/wandb-metadata.json\n",
            "INFO:wandb.run_manager:file/dir modified: /content/drive/My Drive/Colab Notebooks/master_project/evaluation/wandb/run-20200501_110843-2bb19uir/wandb-metadata.json\n",
            "INFO:wandb.run_manager:file/dir modified: /content/drive/My Drive/Colab Notebooks/master_project/evaluation/wandb/run-20200501_110843-2bb19uir/wandb-events.jsonl\n",
            "INFO:wandb.run_manager:file/dir modified: /content/drive/My Drive/Colab Notebooks/master_project/evaluation/wandb/run-20200501_110843-2bb19uir/wandb-metadata.json\n",
            "INFO:wandb.run_manager:file/dir modified: /content/drive/My Drive/Colab Notebooks/master_project/evaluation/wandb/run-20200501_110843-2bb19uir/wandb-metadata.json\n",
            "INFO:wandb.run_manager:file/dir modified: /content/drive/My Drive/Colab Notebooks/master_project/evaluation/wandb/run-20200501_110843-2bb19uir/wandb-events.jsonl\n",
            "INFO:wandb.run_manager:file/dir modified: /content/drive/My Drive/Colab Notebooks/master_project/evaluation/wandb/run-20200501_110843-2bb19uir/wandb-metadata.json\n",
            "INFO:wandb.run_manager:file/dir modified: /content/drive/My Drive/Colab Notebooks/master_project/evaluation/wandb/run-20200501_110843-2bb19uir/wandb-metadata.json\n",
            "INFO:wandb.run_manager:file/dir modified: /content/drive/My Drive/Colab Notebooks/master_project/evaluation/wandb/run-20200501_110843-2bb19uir/wandb-events.jsonl\n",
            "INFO:wandb.run_manager:file/dir modified: /content/drive/My Drive/Colab Notebooks/master_project/evaluation/wandb/run-20200501_110843-2bb19uir/wandb-metadata.json\n",
            "INFO:wandb.run_manager:file/dir modified: /content/drive/My Drive/Colab Notebooks/master_project/evaluation/wandb/run-20200501_110843-2bb19uir/wandb-metadata.json\n",
            "INFO:wandb.run_manager:file/dir modified: /content/drive/My Drive/Colab Notebooks/master_project/evaluation/wandb/run-20200501_110843-2bb19uir/wandb-events.jsonl\n",
            "INFO:wandb.run_manager:file/dir modified: /content/drive/My Drive/Colab Notebooks/master_project/evaluation/wandb/run-20200501_110843-2bb19uir/wandb-metadata.json\n",
            "INFO:wandb.run_manager:file/dir modified: /content/drive/My Drive/Colab Notebooks/master_project/evaluation/wandb/run-20200501_110843-2bb19uir/wandb-metadata.json\n",
            "INFO:wandb.run_manager:file/dir modified: /content/drive/My Drive/Colab Notebooks/master_project/evaluation/wandb/run-20200501_110843-2bb19uir/wandb-events.jsonl\n",
            "INFO:wandb.run_manager:file/dir modified: /content/drive/My Drive/Colab Notebooks/master_project/evaluation/wandb/run-20200501_110843-2bb19uir/wandb-metadata.json\n",
            "INFO:wandb.run_manager:file/dir modified: /content/drive/My Drive/Colab Notebooks/master_project/evaluation/wandb/run-20200501_110843-2bb19uir/wandb-events.jsonl\n",
            "INFO:wandb.run_manager:file/dir modified: /content/drive/My Drive/Colab Notebooks/master_project/evaluation/wandb/run-20200501_110843-2bb19uir/wandb-metadata.json\n",
            "INFO:wandb.run_manager:file/dir modified: /content/drive/My Drive/Colab Notebooks/master_project/evaluation/wandb/run-20200501_110843-2bb19uir/wandb-metadata.json\n",
            "INFO:wandb.run_manager:file/dir modified: /content/drive/My Drive/Colab Notebooks/master_project/evaluation/wandb/run-20200501_110843-2bb19uir/wandb-events.jsonl\n",
            "INFO:wandb.run_manager:file/dir modified: /content/drive/My Drive/Colab Notebooks/master_project/evaluation/wandb/run-20200501_110843-2bb19uir/wandb-metadata.json\n",
            "INFO:wandb.run_manager:file/dir modified: /content/drive/My Drive/Colab Notebooks/master_project/evaluation/wandb/run-20200501_110843-2bb19uir/wandb-history.jsonl\n",
            "INFO:wandb.run_manager:file/dir modified: /content/drive/My Drive/Colab Notebooks/master_project/evaluation/wandb/run-20200501_110843-2bb19uir/wandb-summary.json\n",
            "INFO:wandb.run_manager:file/dir modified: /content/drive/My Drive/Colab Notebooks/master_project/evaluation/wandb/run-20200501_110843-2bb19uir/wandb-metadata.json\n",
            "INFO:wandb.run_manager:file/dir modified: /content/drive/My Drive/Colab Notebooks/master_project/evaluation/wandb/run-20200501_110843-2bb19uir/wandb-metadata.json\n",
            "INFO:wandb.run_manager:file/dir modified: /content/drive/My Drive/Colab Notebooks/master_project/evaluation/wandb/run-20200501_110843-2bb19uir/wandb-metadata.json\n",
            "INFO:wandb.run_manager:file/dir modified: /content/drive/My Drive/Colab Notebooks/master_project/evaluation/wandb/run-20200501_110843-2bb19uir/wandb-metadata.json\n",
            "INFO:wandb.run_manager:file/dir modified: /content/drive/My Drive/Colab Notebooks/master_project/evaluation/wandb/run-20200501_110843-2bb19uir/wandb-events.jsonl\n"
          ],
          "name": "stderr"
        },
        {
          "output_type": "stream",
          "text": [
            "Running loss: 0.456124"
          ],
          "name": "stdout"
        },
        {
          "output_type": "stream",
          "text": [
            "INFO:wandb.run_manager:file/dir modified: /content/drive/My Drive/Colab Notebooks/master_project/evaluation/wandb/run-20200501_110843-2bb19uir/wandb-metadata.json\n"
          ],
          "name": "stderr"
        },
        {
          "output_type": "stream",
          "text": [
            "Running loss: 0.279543"
          ],
          "name": "stdout"
        },
        {
          "output_type": "stream",
          "text": [
            "INFO:wandb.run_manager:file/dir modified: /content/drive/My Drive/Colab Notebooks/master_project/evaluation/wandb/run-20200501_110843-2bb19uir/wandb-metadata.json\n"
          ],
          "name": "stderr"
        },
        {
          "output_type": "stream",
          "text": [
            "\rRunning loss: 0.216788"
          ],
          "name": "stdout"
        },
        {
          "output_type": "stream",
          "text": [
            "INFO:wandb.run_manager:file/dir modified: /content/drive/My Drive/Colab Notebooks/master_project/evaluation/wandb/run-20200501_110843-2bb19uir/wandb-history.jsonl\n",
            "INFO:wandb.run_manager:file/dir modified: /content/drive/My Drive/Colab Notebooks/master_project/evaluation/wandb/run-20200501_110843-2bb19uir/wandb-summary.json\n"
          ],
          "name": "stderr"
        },
        {
          "output_type": "stream",
          "text": [
            "Running loss: 0.362763"
          ],
          "name": "stdout"
        },
        {
          "output_type": "stream",
          "text": [
            "INFO:wandb.run_manager:file/dir modified: /content/drive/My Drive/Colab Notebooks/master_project/evaluation/wandb/run-20200501_110843-2bb19uir/wandb-events.jsonl\n"
          ],
          "name": "stderr"
        },
        {
          "output_type": "stream",
          "text": [
            "Running loss: 0.348677"
          ],
          "name": "stdout"
        },
        {
          "output_type": "stream",
          "text": [
            "INFO:wandb.run_manager:file/dir modified: /content/drive/My Drive/Colab Notebooks/master_project/evaluation/wandb/run-20200501_110843-2bb19uir/wandb-metadata.json\n"
          ],
          "name": "stderr"
        },
        {
          "output_type": "stream",
          "text": [
            "Running loss: 0.354275"
          ],
          "name": "stdout"
        },
        {
          "output_type": "stream",
          "text": [
            "INFO:wandb.run_manager:file/dir modified: /content/drive/My Drive/Colab Notebooks/master_project/evaluation/wandb/run-20200501_110843-2bb19uir/wandb-history.jsonl\n",
            "INFO:wandb.run_manager:file/dir modified: /content/drive/My Drive/Colab Notebooks/master_project/evaluation/wandb/run-20200501_110843-2bb19uir/wandb-summary.json\n"
          ],
          "name": "stderr"
        },
        {
          "output_type": "stream",
          "text": [
            "Running loss: 0.414117"
          ],
          "name": "stdout"
        },
        {
          "output_type": "stream",
          "text": [
            "INFO:wandb.run_manager:file/dir modified: /content/drive/My Drive/Colab Notebooks/master_project/evaluation/wandb/run-20200501_110843-2bb19uir/wandb-metadata.json\n"
          ],
          "name": "stderr"
        },
        {
          "output_type": "stream",
          "text": [
            "Running loss: 0.635632"
          ],
          "name": "stdout"
        },
        {
          "output_type": "stream",
          "text": [
            "INFO:wandb.run_manager:file/dir modified: /content/drive/My Drive/Colab Notebooks/master_project/evaluation/wandb/run-20200501_110843-2bb19uir/wandb-history.jsonl\n",
            "INFO:wandb.run_manager:file/dir modified: /content/drive/My Drive/Colab Notebooks/master_project/evaluation/wandb/run-20200501_110843-2bb19uir/wandb-summary.json\n"
          ],
          "name": "stderr"
        },
        {
          "output_type": "stream",
          "text": [
            "Running loss: 0.621081"
          ],
          "name": "stdout"
        },
        {
          "output_type": "stream",
          "text": [
            "INFO:wandb.run_manager:file/dir modified: /content/drive/My Drive/Colab Notebooks/master_project/evaluation/wandb/run-20200501_110843-2bb19uir/wandb-events.jsonl\n"
          ],
          "name": "stderr"
        },
        {
          "output_type": "stream",
          "text": [
            "Running loss: 0.329885"
          ],
          "name": "stdout"
        },
        {
          "output_type": "stream",
          "text": [
            "INFO:wandb.run_manager:file/dir modified: /content/drive/My Drive/Colab Notebooks/master_project/evaluation/wandb/run-20200501_110843-2bb19uir/wandb-metadata.json\n"
          ],
          "name": "stderr"
        },
        {
          "output_type": "stream",
          "text": [
            "\rRunning loss: 0.253514"
          ],
          "name": "stdout"
        },
        {
          "output_type": "stream",
          "text": [
            "INFO:wandb.run_manager:file/dir modified: /content/drive/My Drive/Colab Notebooks/master_project/evaluation/wandb/run-20200501_110843-2bb19uir/wandb-history.jsonl\n",
            "INFO:wandb.run_manager:file/dir modified: /content/drive/My Drive/Colab Notebooks/master_project/evaluation/wandb/run-20200501_110843-2bb19uir/wandb-summary.json\n"
          ],
          "name": "stderr"
        },
        {
          "output_type": "stream",
          "text": [
            "Running loss: 0.215395"
          ],
          "name": "stdout"
        },
        {
          "output_type": "stream",
          "text": [
            "INFO:wandb.run_manager:file/dir modified: /content/drive/My Drive/Colab Notebooks/master_project/evaluation/wandb/run-20200501_110843-2bb19uir/wandb-metadata.json\n"
          ],
          "name": "stderr"
        },
        {
          "output_type": "stream",
          "text": [
            "\rRunning loss: 0.647784"
          ],
          "name": "stdout"
        },
        {
          "output_type": "stream",
          "text": [
            "INFO:wandb.run_manager:file/dir modified: /content/drive/My Drive/Colab Notebooks/master_project/evaluation/wandb/run-20200501_110843-2bb19uir/wandb-history.jsonl\n",
            "INFO:wandb.run_manager:file/dir modified: /content/drive/My Drive/Colab Notebooks/master_project/evaluation/wandb/run-20200501_110843-2bb19uir/wandb-summary.json\n"
          ],
          "name": "stderr"
        },
        {
          "output_type": "stream",
          "text": [
            "Running loss: 0.595994"
          ],
          "name": "stdout"
        },
        {
          "output_type": "stream",
          "text": [
            "INFO:wandb.run_manager:file/dir modified: /content/drive/My Drive/Colab Notebooks/master_project/evaluation/wandb/run-20200501_110843-2bb19uir/wandb-events.jsonl\n"
          ],
          "name": "stderr"
        },
        {
          "output_type": "stream",
          "text": [
            "Running loss: 0.401910"
          ],
          "name": "stdout"
        },
        {
          "output_type": "stream",
          "text": [
            "INFO:wandb.run_manager:file/dir modified: /content/drive/My Drive/Colab Notebooks/master_project/evaluation/wandb/run-20200501_110843-2bb19uir/wandb-metadata.json\n",
            "INFO:wandb.run_manager:file/dir modified: /content/drive/My Drive/Colab Notebooks/master_project/evaluation/wandb/run-20200501_110843-2bb19uir/wandb-history.jsonl\n",
            "INFO:wandb.run_manager:file/dir modified: /content/drive/My Drive/Colab Notebooks/master_project/evaluation/wandb/run-20200501_110843-2bb19uir/wandb-summary.json\n"
          ],
          "name": "stderr"
        },
        {
          "output_type": "stream",
          "text": [
            "Running loss: 0.436401"
          ],
          "name": "stdout"
        },
        {
          "output_type": "stream",
          "text": [
            "INFO:wandb.run_manager:file/dir modified: /content/drive/My Drive/Colab Notebooks/master_project/evaluation/wandb/run-20200501_110843-2bb19uir/wandb-history.jsonl\n",
            "INFO:wandb.run_manager:file/dir modified: /content/drive/My Drive/Colab Notebooks/master_project/evaluation/wandb/run-20200501_110843-2bb19uir/wandb-summary.json\n"
          ],
          "name": "stderr"
        },
        {
          "output_type": "stream",
          "text": [
            "Running loss: 0.401695"
          ],
          "name": "stdout"
        },
        {
          "output_type": "stream",
          "text": [
            "INFO:wandb.run_manager:file/dir modified: /content/drive/My Drive/Colab Notebooks/master_project/evaluation/wandb/run-20200501_110843-2bb19uir/wandb-metadata.json\n"
          ],
          "name": "stderr"
        },
        {
          "output_type": "stream",
          "text": [
            "\rRunning loss: 0.314289"
          ],
          "name": "stdout"
        },
        {
          "output_type": "stream",
          "text": [
            "INFO:wandb.run_manager:file/dir modified: /content/drive/My Drive/Colab Notebooks/master_project/evaluation/wandb/run-20200501_110843-2bb19uir/wandb-events.jsonl\n"
          ],
          "name": "stderr"
        },
        {
          "output_type": "stream",
          "text": [
            "\rRunning loss: 0.413871"
          ],
          "name": "stdout"
        },
        {
          "output_type": "stream",
          "text": [
            "INFO:wandb.run_manager:file/dir modified: /content/drive/My Drive/Colab Notebooks/master_project/evaluation/wandb/run-20200501_110843-2bb19uir/wandb-events.jsonl\n",
            "INFO:wandb.run_manager:file/dir modified: /content/drive/My Drive/Colab Notebooks/master_project/evaluation/wandb/run-20200501_110843-2bb19uir/wandb-history.jsonl\n"
          ],
          "name": "stderr"
        },
        {
          "output_type": "stream",
          "text": [
            "Running loss: 0.508252"
          ],
          "name": "stdout"
        },
        {
          "output_type": "stream",
          "text": [
            "INFO:wandb.run_manager:file/dir modified: /content/drive/My Drive/Colab Notebooks/master_project/evaluation/wandb/run-20200501_110843-2bb19uir/wandb-history.jsonl\n",
            "INFO:wandb.run_manager:file/dir modified: /content/drive/My Drive/Colab Notebooks/master_project/evaluation/wandb/run-20200501_110843-2bb19uir/wandb-summary.json\n"
          ],
          "name": "stderr"
        },
        {
          "output_type": "stream",
          "text": [
            "Running loss: 0.319327"
          ],
          "name": "stdout"
        },
        {
          "output_type": "stream",
          "text": [
            "INFO:wandb.run_manager:file/dir modified: /content/drive/My Drive/Colab Notebooks/master_project/evaluation/wandb/run-20200501_110843-2bb19uir/wandb-metadata.json\n"
          ],
          "name": "stderr"
        },
        {
          "output_type": "stream",
          "text": [
            "Running loss: 0.322964"
          ],
          "name": "stdout"
        },
        {
          "output_type": "stream",
          "text": [
            "INFO:wandb.run_manager:file/dir modified: /content/drive/My Drive/Colab Notebooks/master_project/evaluation/wandb/run-20200501_110843-2bb19uir/wandb-history.jsonl\n",
            "INFO:wandb.run_manager:file/dir modified: /content/drive/My Drive/Colab Notebooks/master_project/evaluation/wandb/run-20200501_110843-2bb19uir/wandb-summary.json\n"
          ],
          "name": "stderr"
        },
        {
          "output_type": "stream",
          "text": [
            "Running loss: 0.617016"
          ],
          "name": "stdout"
        },
        {
          "output_type": "stream",
          "text": [
            "INFO:wandb.run_manager:file/dir modified: /content/drive/My Drive/Colab Notebooks/master_project/evaluation/wandb/run-20200501_110843-2bb19uir/wandb-events.jsonl\n"
          ],
          "name": "stderr"
        },
        {
          "output_type": "stream",
          "text": [
            "Running loss: 0.336018"
          ],
          "name": "stdout"
        },
        {
          "output_type": "stream",
          "text": [
            "INFO:wandb.run_manager:file/dir modified: /content/drive/My Drive/Colab Notebooks/master_project/evaluation/wandb/run-20200501_110843-2bb19uir/wandb-metadata.json\n"
          ],
          "name": "stderr"
        },
        {
          "output_type": "stream",
          "text": [
            "Running loss: 0.490651"
          ],
          "name": "stdout"
        },
        {
          "output_type": "stream",
          "text": [
            "INFO:wandb.run_manager:file/dir modified: /content/drive/My Drive/Colab Notebooks/master_project/evaluation/wandb/run-20200501_110843-2bb19uir/wandb-history.jsonl\n",
            "INFO:wandb.run_manager:file/dir modified: /content/drive/My Drive/Colab Notebooks/master_project/evaluation/wandb/run-20200501_110843-2bb19uir/wandb-summary.json\n",
            "INFO:wandb.run_manager:file/dir modified: /content/drive/My Drive/Colab Notebooks/master_project/evaluation/wandb/run-20200501_110843-2bb19uir/wandb-metadata.json\n",
            "INFO:wandb.run_manager:file/dir modified: /content/drive/My Drive/Colab Notebooks/master_project/evaluation/wandb/run-20200501_110843-2bb19uir/wandb-metadata.json\n",
            "INFO:wandb.run_manager:file/dir modified: /content/drive/My Drive/Colab Notebooks/master_project/evaluation/wandb/run-20200501_110843-2bb19uir/wandb-events.jsonl\n",
            "INFO:wandb.run_manager:file/dir modified: /content/drive/My Drive/Colab Notebooks/master_project/evaluation/wandb/run-20200501_110843-2bb19uir/wandb-metadata.json\n",
            "INFO:wandb.run_manager:file/dir modified: /content/drive/My Drive/Colab Notebooks/master_project/evaluation/wandb/run-20200501_110843-2bb19uir/wandb-metadata.json\n",
            "INFO:wandb.run_manager:file/dir modified: /content/drive/My Drive/Colab Notebooks/master_project/evaluation/wandb/run-20200501_110843-2bb19uir/wandb-events.jsonl\n",
            "INFO:wandb.run_manager:file/dir modified: /content/drive/My Drive/Colab Notebooks/master_project/evaluation/wandb/run-20200501_110843-2bb19uir/wandb-events.jsonl\n",
            "INFO:wandb.run_manager:file/dir modified: /content/drive/My Drive/Colab Notebooks/master_project/evaluation/wandb/run-20200501_110843-2bb19uir/wandb-metadata.json\n",
            "INFO:wandb.run_manager:file/dir modified: /content/drive/My Drive/Colab Notebooks/master_project/evaluation/wandb/run-20200501_110843-2bb19uir/wandb-events.jsonl\n",
            "INFO:wandb.run_manager:file/dir modified: /content/drive/My Drive/Colab Notebooks/master_project/evaluation/wandb/run-20200501_110843-2bb19uir/wandb-metadata.json\n",
            "INFO:wandb.run_manager:file/dir modified: /content/drive/My Drive/Colab Notebooks/master_project/evaluation/wandb/run-20200501_110843-2bb19uir/wandb-metadata.json\n",
            "INFO:wandb.run_manager:file/dir modified: /content/drive/My Drive/Colab Notebooks/master_project/evaluation/wandb/run-20200501_110843-2bb19uir/wandb-events.jsonl\n",
            "INFO:wandb.run_manager:file/dir modified: /content/drive/My Drive/Colab Notebooks/master_project/evaluation/wandb/run-20200501_110843-2bb19uir/wandb-metadata.json\n",
            "INFO:wandb.run_manager:file/dir modified: /content/drive/My Drive/Colab Notebooks/master_project/evaluation/wandb/run-20200501_110843-2bb19uir/wandb-metadata.json\n",
            "INFO:wandb.run_manager:file/dir modified: /content/drive/My Drive/Colab Notebooks/master_project/evaluation/wandb/run-20200501_110843-2bb19uir/wandb-events.jsonl\n",
            "INFO:wandb.run_manager:file/dir modified: /content/drive/My Drive/Colab Notebooks/master_project/evaluation/wandb/run-20200501_110843-2bb19uir/wandb-metadata.json\n",
            "INFO:wandb.run_manager:file/dir modified: /content/drive/My Drive/Colab Notebooks/master_project/evaluation/wandb/run-20200501_110843-2bb19uir/wandb-metadata.json\n",
            "INFO:wandb.run_manager:file/dir modified: /content/drive/My Drive/Colab Notebooks/master_project/evaluation/wandb/run-20200501_110843-2bb19uir/wandb-events.jsonl\n",
            "INFO:wandb.run_manager:file/dir modified: /content/drive/My Drive/Colab Notebooks/master_project/evaluation/wandb/run-20200501_110843-2bb19uir/wandb-metadata.json\n",
            "INFO:wandb.run_manager:file/dir modified: /content/drive/My Drive/Colab Notebooks/master_project/evaluation/wandb/run-20200501_110843-2bb19uir/wandb-metadata.json\n",
            "INFO:wandb.run_manager:file/dir modified: /content/drive/My Drive/Colab Notebooks/master_project/evaluation/wandb/run-20200501_110843-2bb19uir/wandb-events.jsonl\n",
            "INFO:wandb.run_manager:file/dir modified: /content/drive/My Drive/Colab Notebooks/master_project/evaluation/wandb/run-20200501_110843-2bb19uir/wandb-metadata.json\n",
            "INFO:wandb.run_manager:file/dir modified: /content/drive/My Drive/Colab Notebooks/master_project/evaluation/wandb/run-20200501_110843-2bb19uir/wandb-events.jsonl\n",
            "INFO:wandb.run_manager:file/dir modified: /content/drive/My Drive/Colab Notebooks/master_project/evaluation/wandb/run-20200501_110843-2bb19uir/wandb-metadata.json\n",
            "INFO:wandb.run_manager:file/dir modified: /content/drive/My Drive/Colab Notebooks/master_project/evaluation/wandb/run-20200501_110843-2bb19uir/wandb-events.jsonl\n",
            "INFO:wandb.run_manager:file/dir modified: /content/drive/My Drive/Colab Notebooks/master_project/evaluation/wandb/run-20200501_110843-2bb19uir/wandb-metadata.json\n",
            "INFO:wandb.run_manager:file/dir modified: /content/drive/My Drive/Colab Notebooks/master_project/evaluation/wandb/run-20200501_110843-2bb19uir/wandb-metadata.json\n",
            "INFO:wandb.run_manager:file/dir modified: /content/drive/My Drive/Colab Notebooks/master_project/evaluation/wandb/run-20200501_110843-2bb19uir/wandb-events.jsonl\n",
            "INFO:wandb.run_manager:file/dir modified: /content/drive/My Drive/Colab Notebooks/master_project/evaluation/wandb/run-20200501_110843-2bb19uir/wandb-metadata.json\n",
            "INFO:wandb.run_manager:file/dir modified: /content/drive/My Drive/Colab Notebooks/master_project/evaluation/wandb/run-20200501_110843-2bb19uir/wandb-metadata.json\n",
            "INFO:wandb.run_manager:file/dir modified: /content/drive/My Drive/Colab Notebooks/master_project/evaluation/wandb/run-20200501_110843-2bb19uir/wandb-events.jsonl\n",
            "INFO:wandb.run_manager:file/dir modified: /content/drive/My Drive/Colab Notebooks/master_project/evaluation/wandb/run-20200501_110843-2bb19uir/wandb-metadata.json\n",
            "INFO:wandb.run_manager:file/dir modified: /content/drive/My Drive/Colab Notebooks/master_project/evaluation/wandb/run-20200501_110843-2bb19uir/wandb-metadata.json\n",
            "INFO:wandb.run_manager:file/dir modified: /content/drive/My Drive/Colab Notebooks/master_project/evaluation/wandb/run-20200501_110843-2bb19uir/wandb-events.jsonl\n",
            "INFO:wandb.run_manager:file/dir modified: /content/drive/My Drive/Colab Notebooks/master_project/evaluation/wandb/run-20200501_110843-2bb19uir/wandb-metadata.json\n",
            "INFO:wandb.run_manager:file/dir modified: /content/drive/My Drive/Colab Notebooks/master_project/evaluation/wandb/run-20200501_110843-2bb19uir/wandb-events.jsonl\n",
            "INFO:wandb.run_manager:file/dir modified: /content/drive/My Drive/Colab Notebooks/master_project/evaluation/wandb/run-20200501_110843-2bb19uir/wandb-metadata.json\n",
            "INFO:wandb.run_manager:file/dir modified: /content/drive/My Drive/Colab Notebooks/master_project/evaluation/wandb/run-20200501_110843-2bb19uir/wandb-metadata.json\n",
            "INFO:wandb.run_manager:file/dir modified: /content/drive/My Drive/Colab Notebooks/master_project/evaluation/wandb/run-20200501_110843-2bb19uir/wandb-events.jsonl\n",
            "INFO:wandb.run_manager:file/dir modified: /content/drive/My Drive/Colab Notebooks/master_project/evaluation/wandb/run-20200501_110843-2bb19uir/wandb-metadata.json\n",
            "INFO:wandb.run_manager:file/dir modified: /content/drive/My Drive/Colab Notebooks/master_project/evaluation/wandb/run-20200501_110843-2bb19uir/wandb-metadata.json\n",
            "INFO:wandb.run_manager:file/dir modified: /content/drive/My Drive/Colab Notebooks/master_project/evaluation/wandb/run-20200501_110843-2bb19uir/wandb-events.jsonl\n",
            "INFO:wandb.run_manager:file/dir modified: /content/drive/My Drive/Colab Notebooks/master_project/evaluation/wandb/run-20200501_110843-2bb19uir/wandb-metadata.json\n",
            "INFO:wandb.run_manager:file/dir modified: /content/drive/My Drive/Colab Notebooks/master_project/evaluation/wandb/run-20200501_110843-2bb19uir/wandb-metadata.json\n",
            "INFO:wandb.run_manager:file/dir modified: /content/drive/My Drive/Colab Notebooks/master_project/evaluation/wandb/run-20200501_110843-2bb19uir/wandb-events.jsonl\n",
            "INFO:wandb.run_manager:file/dir modified: /content/drive/My Drive/Colab Notebooks/master_project/evaluation/wandb/run-20200501_110843-2bb19uir/wandb-metadata.json\n",
            "INFO:wandb.run_manager:file/dir modified: /content/drive/My Drive/Colab Notebooks/master_project/evaluation/wandb/run-20200501_110843-2bb19uir/wandb-metadata.json\n",
            "INFO:wandb.run_manager:file/dir modified: /content/drive/My Drive/Colab Notebooks/master_project/evaluation/wandb/run-20200501_110843-2bb19uir/wandb-events.jsonl\n",
            "INFO:wandb.run_manager:file/dir modified: /content/drive/My Drive/Colab Notebooks/master_project/evaluation/wandb/run-20200501_110843-2bb19uir/wandb-metadata.json\n",
            "INFO:wandb.run_manager:file/dir modified: /content/drive/My Drive/Colab Notebooks/master_project/evaluation/wandb/run-20200501_110843-2bb19uir/wandb-metadata.json\n",
            "INFO:wandb.run_manager:file/dir modified: /content/drive/My Drive/Colab Notebooks/master_project/evaluation/wandb/run-20200501_110843-2bb19uir/wandb-events.jsonl\n",
            "INFO:wandb.run_manager:file/dir modified: /content/drive/My Drive/Colab Notebooks/master_project/evaluation/wandb/run-20200501_110843-2bb19uir/wandb-metadata.json\n",
            "INFO:wandb.run_manager:file/dir modified: /content/drive/My Drive/Colab Notebooks/master_project/evaluation/wandb/run-20200501_110843-2bb19uir/wandb-metadata.json\n",
            "INFO:wandb.run_manager:file/dir modified: /content/drive/My Drive/Colab Notebooks/master_project/evaluation/wandb/run-20200501_110843-2bb19uir/wandb-events.jsonl\n",
            "INFO:wandb.run_manager:file/dir modified: /content/drive/My Drive/Colab Notebooks/master_project/evaluation/wandb/run-20200501_110843-2bb19uir/wandb-metadata.json\n",
            "INFO:wandb.run_manager:file/dir modified: /content/drive/My Drive/Colab Notebooks/master_project/evaluation/wandb/run-20200501_110843-2bb19uir/wandb-metadata.json\n",
            "INFO:wandb.run_manager:file/dir modified: /content/drive/My Drive/Colab Notebooks/master_project/evaluation/wandb/run-20200501_110843-2bb19uir/wandb-events.jsonl\n",
            "INFO:wandb.run_manager:file/dir modified: /content/drive/My Drive/Colab Notebooks/master_project/evaluation/wandb/run-20200501_110843-2bb19uir/wandb-metadata.json\n",
            "INFO:wandb.run_manager:file/dir modified: /content/drive/My Drive/Colab Notebooks/master_project/evaluation/wandb/run-20200501_110843-2bb19uir/wandb-events.jsonl\n",
            "INFO:wandb.run_manager:file/dir modified: /content/drive/My Drive/Colab Notebooks/master_project/evaluation/wandb/run-20200501_110843-2bb19uir/wandb-metadata.json\n",
            "INFO:wandb.run_manager:file/dir modified: /content/drive/My Drive/Colab Notebooks/master_project/evaluation/wandb/run-20200501_110843-2bb19uir/wandb-metadata.json\n",
            "INFO:wandb.run_manager:file/dir modified: /content/drive/My Drive/Colab Notebooks/master_project/evaluation/wandb/run-20200501_110843-2bb19uir/wandb-events.jsonl\n",
            "INFO:wandb.run_manager:file/dir modified: /content/drive/My Drive/Colab Notebooks/master_project/evaluation/wandb/run-20200501_110843-2bb19uir/wandb-metadata.json\n",
            "INFO:wandb.run_manager:file/dir modified: /content/drive/My Drive/Colab Notebooks/master_project/evaluation/wandb/run-20200501_110843-2bb19uir/wandb-metadata.json\n",
            "INFO:wandb.run_manager:file/dir modified: /content/drive/My Drive/Colab Notebooks/master_project/evaluation/wandb/run-20200501_110843-2bb19uir/wandb-events.jsonl\n",
            "INFO:wandb.run_manager:file/dir modified: /content/drive/My Drive/Colab Notebooks/master_project/evaluation/wandb/run-20200501_110843-2bb19uir/wandb-metadata.json\n",
            "INFO:wandb.run_manager:file/dir modified: /content/drive/My Drive/Colab Notebooks/master_project/evaluation/wandb/run-20200501_110843-2bb19uir/wandb-metadata.json\n",
            "INFO:simpletransformers.classification.classification_model: No improvement in eval_loss\n",
            "INFO:simpletransformers.classification.classification_model: Current step: 1\n",
            "INFO:simpletransformers.classification.classification_model: Early stopping patience: 5\n",
            "INFO:wandb.run_manager:file/dir modified: /content/drive/My Drive/Colab Notebooks/master_project/evaluation/wandb/run-20200501_110843-2bb19uir/wandb-history.jsonl\n",
            "INFO:wandb.run_manager:file/dir modified: /content/drive/My Drive/Colab Notebooks/master_project/evaluation/wandb/run-20200501_110843-2bb19uir/wandb-summary.json\n"
          ],
          "name": "stderr"
        },
        {
          "output_type": "stream",
          "text": [
            "Running loss: 0.246471"
          ],
          "name": "stdout"
        },
        {
          "output_type": "stream",
          "text": [
            "INFO:wandb.run_manager:file/dir modified: /content/drive/My Drive/Colab Notebooks/master_project/evaluation/wandb/run-20200501_110843-2bb19uir/wandb-events.jsonl\n"
          ],
          "name": "stderr"
        },
        {
          "output_type": "stream",
          "text": [
            "Running loss: 0.587972"
          ],
          "name": "stdout"
        },
        {
          "output_type": "stream",
          "text": [
            "INFO:wandb.run_manager:file/dir modified: /content/drive/My Drive/Colab Notebooks/master_project/evaluation/wandb/run-20200501_110843-2bb19uir/wandb-metadata.json\n"
          ],
          "name": "stderr"
        },
        {
          "output_type": "stream",
          "text": [
            "Running loss: 0.224922"
          ],
          "name": "stdout"
        },
        {
          "output_type": "stream",
          "text": [
            "INFO:wandb.run_manager:file/dir modified: /content/drive/My Drive/Colab Notebooks/master_project/evaluation/wandb/run-20200501_110843-2bb19uir/wandb-history.jsonl\n",
            "INFO:wandb.run_manager:file/dir modified: /content/drive/My Drive/Colab Notebooks/master_project/evaluation/wandb/run-20200501_110843-2bb19uir/wandb-summary.json\n"
          ],
          "name": "stderr"
        },
        {
          "output_type": "stream",
          "text": [
            "Running loss: 0.293974"
          ],
          "name": "stdout"
        },
        {
          "output_type": "stream",
          "text": [
            "INFO:wandb.run_manager:file/dir modified: /content/drive/My Drive/Colab Notebooks/master_project/evaluation/wandb/run-20200501_110843-2bb19uir/wandb-metadata.json\n"
          ],
          "name": "stderr"
        },
        {
          "output_type": "stream",
          "text": [
            "Running loss: 0.334186"
          ],
          "name": "stdout"
        },
        {
          "output_type": "stream",
          "text": [
            "INFO:wandb.run_manager:file/dir modified: /content/drive/My Drive/Colab Notebooks/master_project/evaluation/wandb/run-20200501_110843-2bb19uir/wandb-history.jsonl\n",
            "INFO:wandb.run_manager:file/dir modified: /content/drive/My Drive/Colab Notebooks/master_project/evaluation/wandb/run-20200501_110843-2bb19uir/wandb-summary.json\n"
          ],
          "name": "stderr"
        },
        {
          "output_type": "stream",
          "text": [
            "Running loss: 0.202437"
          ],
          "name": "stdout"
        },
        {
          "output_type": "stream",
          "text": [
            "INFO:wandb.run_manager:file/dir modified: /content/drive/My Drive/Colab Notebooks/master_project/evaluation/wandb/run-20200501_110843-2bb19uir/wandb-events.jsonl\n"
          ],
          "name": "stderr"
        },
        {
          "output_type": "stream",
          "text": [
            "Running loss: 0.611779"
          ],
          "name": "stdout"
        },
        {
          "output_type": "stream",
          "text": [
            "INFO:wandb.run_manager:file/dir modified: /content/drive/My Drive/Colab Notebooks/master_project/evaluation/wandb/run-20200501_110843-2bb19uir/wandb-metadata.json\n"
          ],
          "name": "stderr"
        },
        {
          "output_type": "stream",
          "text": [
            "Running loss: 0.426668"
          ],
          "name": "stdout"
        },
        {
          "output_type": "stream",
          "text": [
            "INFO:wandb.run_manager:file/dir modified: /content/drive/My Drive/Colab Notebooks/master_project/evaluation/wandb/run-20200501_110843-2bb19uir/wandb-history.jsonl\n",
            "INFO:wandb.run_manager:file/dir modified: /content/drive/My Drive/Colab Notebooks/master_project/evaluation/wandb/run-20200501_110843-2bb19uir/wandb-summary.json\n"
          ],
          "name": "stderr"
        },
        {
          "output_type": "stream",
          "text": [
            "Running loss: 0.304959"
          ],
          "name": "stdout"
        },
        {
          "output_type": "stream",
          "text": [
            "INFO:wandb.run_manager:file/dir modified: /content/drive/My Drive/Colab Notebooks/master_project/evaluation/wandb/run-20200501_110843-2bb19uir/wandb-metadata.json\n"
          ],
          "name": "stderr"
        },
        {
          "output_type": "stream",
          "text": [
            "\rRunning loss: 0.460380"
          ],
          "name": "stdout"
        },
        {
          "output_type": "stream",
          "text": [
            "INFO:wandb.run_manager:file/dir modified: /content/drive/My Drive/Colab Notebooks/master_project/evaluation/wandb/run-20200501_110843-2bb19uir/wandb-history.jsonl\n",
            "INFO:wandb.run_manager:file/dir modified: /content/drive/My Drive/Colab Notebooks/master_project/evaluation/wandb/run-20200501_110843-2bb19uir/wandb-summary.json\n"
          ],
          "name": "stderr"
        },
        {
          "output_type": "stream",
          "text": [
            "Running loss: 0.459035"
          ],
          "name": "stdout"
        },
        {
          "output_type": "stream",
          "text": [
            "INFO:wandb.run_manager:file/dir modified: /content/drive/My Drive/Colab Notebooks/master_project/evaluation/wandb/run-20200501_110843-2bb19uir/wandb-events.jsonl\n"
          ],
          "name": "stderr"
        },
        {
          "output_type": "stream",
          "text": [
            "Running loss: 0.466215"
          ],
          "name": "stdout"
        },
        {
          "output_type": "stream",
          "text": [
            "INFO:wandb.run_manager:file/dir modified: /content/drive/My Drive/Colab Notebooks/master_project/evaluation/wandb/run-20200501_110843-2bb19uir/wandb-metadata.json\n"
          ],
          "name": "stderr"
        },
        {
          "output_type": "stream",
          "text": [
            "\rRunning loss: 0.907700"
          ],
          "name": "stdout"
        },
        {
          "output_type": "stream",
          "text": [
            "INFO:wandb.run_manager:file/dir modified: /content/drive/My Drive/Colab Notebooks/master_project/evaluation/wandb/run-20200501_110843-2bb19uir/wandb-history.jsonl\n",
            "INFO:wandb.run_manager:file/dir modified: /content/drive/My Drive/Colab Notebooks/master_project/evaluation/wandb/run-20200501_110843-2bb19uir/wandb-summary.json\n"
          ],
          "name": "stderr"
        },
        {
          "output_type": "stream",
          "text": [
            "Running loss: 0.176625"
          ],
          "name": "stdout"
        },
        {
          "output_type": "stream",
          "text": [
            "INFO:wandb.run_manager:file/dir modified: /content/drive/My Drive/Colab Notebooks/master_project/evaluation/wandb/run-20200501_110843-2bb19uir/wandb-metadata.json\n",
            "INFO:wandb.run_manager:file/dir modified: /content/drive/My Drive/Colab Notebooks/master_project/evaluation/wandb/run-20200501_110843-2bb19uir/wandb-history.jsonl\n",
            "INFO:wandb.run_manager:file/dir modified: /content/drive/My Drive/Colab Notebooks/master_project/evaluation/wandb/run-20200501_110843-2bb19uir/wandb-summary.json\n"
          ],
          "name": "stderr"
        },
        {
          "output_type": "stream",
          "text": [
            "Running loss: 0.629201"
          ],
          "name": "stdout"
        },
        {
          "output_type": "stream",
          "text": [
            "INFO:wandb.run_manager:file/dir modified: /content/drive/My Drive/Colab Notebooks/master_project/evaluation/wandb/run-20200501_110843-2bb19uir/wandb-events.jsonl\n"
          ],
          "name": "stderr"
        },
        {
          "output_type": "stream",
          "text": [
            "Running loss: 0.292941"
          ],
          "name": "stdout"
        },
        {
          "output_type": "stream",
          "text": [
            "INFO:wandb.run_manager:file/dir modified: /content/drive/My Drive/Colab Notebooks/master_project/evaluation/wandb/run-20200501_110843-2bb19uir/wandb-metadata.json\n",
            "INFO:wandb.run_manager:file/dir modified: /content/drive/My Drive/Colab Notebooks/master_project/evaluation/wandb/run-20200501_110843-2bb19uir/wandb-history.jsonl\n",
            "INFO:wandb.run_manager:file/dir modified: /content/drive/My Drive/Colab Notebooks/master_project/evaluation/wandb/run-20200501_110843-2bb19uir/wandb-summary.json\n"
          ],
          "name": "stderr"
        },
        {
          "output_type": "stream",
          "text": [
            "Running loss: 0.602776"
          ],
          "name": "stdout"
        },
        {
          "output_type": "stream",
          "text": [
            "INFO:wandb.run_manager:file/dir modified: /content/drive/My Drive/Colab Notebooks/master_project/evaluation/wandb/run-20200501_110843-2bb19uir/wandb-history.jsonl\n",
            "INFO:wandb.run_manager:file/dir modified: /content/drive/My Drive/Colab Notebooks/master_project/evaluation/wandb/run-20200501_110843-2bb19uir/wandb-summary.json\n"
          ],
          "name": "stderr"
        },
        {
          "output_type": "stream",
          "text": [
            "Running loss: 0.445012"
          ],
          "name": "stdout"
        },
        {
          "output_type": "stream",
          "text": [
            "INFO:wandb.run_manager:file/dir modified: /content/drive/My Drive/Colab Notebooks/master_project/evaluation/wandb/run-20200501_110843-2bb19uir/wandb-metadata.json\n"
          ],
          "name": "stderr"
        },
        {
          "output_type": "stream",
          "text": [
            "Running loss: 0.366534"
          ],
          "name": "stdout"
        },
        {
          "output_type": "stream",
          "text": [
            "INFO:wandb.run_manager:file/dir modified: /content/drive/My Drive/Colab Notebooks/master_project/evaluation/wandb/run-20200501_110843-2bb19uir/wandb-events.jsonl\n"
          ],
          "name": "stderr"
        },
        {
          "output_type": "stream",
          "text": [
            "Running loss: 0.534645"
          ],
          "name": "stdout"
        },
        {
          "output_type": "stream",
          "text": [
            "INFO:wandb.run_manager:file/dir modified: /content/drive/My Drive/Colab Notebooks/master_project/evaluation/wandb/run-20200501_110843-2bb19uir/wandb-history.jsonl\n",
            "INFO:wandb.run_manager:file/dir modified: /content/drive/My Drive/Colab Notebooks/master_project/evaluation/wandb/run-20200501_110843-2bb19uir/wandb-summary.json\n"
          ],
          "name": "stderr"
        },
        {
          "output_type": "stream",
          "text": [
            "Running loss: 0.231127"
          ],
          "name": "stdout"
        },
        {
          "output_type": "stream",
          "text": [
            "INFO:wandb.run_manager:file/dir modified: /content/drive/My Drive/Colab Notebooks/master_project/evaluation/wandb/run-20200501_110843-2bb19uir/wandb-metadata.json\n"
          ],
          "name": "stderr"
        },
        {
          "output_type": "stream",
          "text": [
            "Running loss: 0.135450"
          ],
          "name": "stdout"
        },
        {
          "output_type": "stream",
          "text": [
            "INFO:wandb.run_manager:file/dir modified: /content/drive/My Drive/Colab Notebooks/master_project/evaluation/wandb/run-20200501_110843-2bb19uir/wandb-history.jsonl\n",
            "INFO:wandb.run_manager:file/dir modified: /content/drive/My Drive/Colab Notebooks/master_project/evaluation/wandb/run-20200501_110843-2bb19uir/wandb-summary.json\n",
            "INFO:wandb.run_manager:file/dir modified: /content/drive/My Drive/Colab Notebooks/master_project/evaluation/wandb/run-20200501_110843-2bb19uir/wandb-metadata.json\n",
            "INFO:wandb.run_manager:file/dir modified: /content/drive/My Drive/Colab Notebooks/master_project/evaluation/wandb/run-20200501_110843-2bb19uir/wandb-events.jsonl\n",
            "INFO:wandb.run_manager:file/dir modified: /content/drive/My Drive/Colab Notebooks/master_project/evaluation/wandb/run-20200501_110843-2bb19uir/wandb-metadata.json\n",
            "INFO:wandb.run_manager:file/dir modified: /content/drive/My Drive/Colab Notebooks/master_project/evaluation/wandb/run-20200501_110843-2bb19uir/wandb-metadata.json\n",
            "INFO:wandb.run_manager:file/dir modified: /content/drive/My Drive/Colab Notebooks/master_project/evaluation/wandb/run-20200501_110843-2bb19uir/wandb-events.jsonl\n",
            "INFO:wandb.run_manager:file/dir modified: /content/drive/My Drive/Colab Notebooks/master_project/evaluation/wandb/run-20200501_110843-2bb19uir/wandb-metadata.json\n",
            "INFO:wandb.run_manager:file/dir modified: /content/drive/My Drive/Colab Notebooks/master_project/evaluation/wandb/run-20200501_110843-2bb19uir/wandb-metadata.json\n",
            "INFO:wandb.run_manager:file/dir modified: /content/drive/My Drive/Colab Notebooks/master_project/evaluation/wandb/run-20200501_110843-2bb19uir/wandb-events.jsonl\n",
            "INFO:wandb.run_manager:file/dir modified: /content/drive/My Drive/Colab Notebooks/master_project/evaluation/wandb/run-20200501_110843-2bb19uir/wandb-metadata.json\n",
            "INFO:wandb.run_manager:file/dir modified: /content/drive/My Drive/Colab Notebooks/master_project/evaluation/wandb/run-20200501_110843-2bb19uir/wandb-events.jsonl\n",
            "INFO:wandb.run_manager:file/dir modified: /content/drive/My Drive/Colab Notebooks/master_project/evaluation/wandb/run-20200501_110843-2bb19uir/wandb-metadata.json\n",
            "INFO:wandb.run_manager:file/dir modified: /content/drive/My Drive/Colab Notebooks/master_project/evaluation/wandb/run-20200501_110843-2bb19uir/wandb-metadata.json\n",
            "INFO:wandb.run_manager:file/dir modified: /content/drive/My Drive/Colab Notebooks/master_project/evaluation/wandb/run-20200501_110843-2bb19uir/wandb-events.jsonl\n",
            "INFO:wandb.run_manager:file/dir modified: /content/drive/My Drive/Colab Notebooks/master_project/evaluation/wandb/run-20200501_110843-2bb19uir/wandb-metadata.json\n",
            "INFO:wandb.run_manager:file/dir modified: /content/drive/My Drive/Colab Notebooks/master_project/evaluation/wandb/run-20200501_110843-2bb19uir/wandb-metadata.json\n",
            "INFO:wandb.run_manager:file/dir modified: /content/drive/My Drive/Colab Notebooks/master_project/evaluation/wandb/run-20200501_110843-2bb19uir/wandb-events.jsonl\n",
            "INFO:wandb.run_manager:file/dir modified: /content/drive/My Drive/Colab Notebooks/master_project/evaluation/wandb/run-20200501_110843-2bb19uir/wandb-metadata.json\n",
            "INFO:wandb.run_manager:file/dir modified: /content/drive/My Drive/Colab Notebooks/master_project/evaluation/wandb/run-20200501_110843-2bb19uir/wandb-metadata.json\n",
            "INFO:wandb.run_manager:file/dir modified: /content/drive/My Drive/Colab Notebooks/master_project/evaluation/wandb/run-20200501_110843-2bb19uir/wandb-events.jsonl\n",
            "INFO:wandb.run_manager:file/dir modified: /content/drive/My Drive/Colab Notebooks/master_project/evaluation/wandb/run-20200501_110843-2bb19uir/wandb-metadata.json\n",
            "INFO:wandb.run_manager:file/dir modified: /content/drive/My Drive/Colab Notebooks/master_project/evaluation/wandb/run-20200501_110843-2bb19uir/wandb-metadata.json\n",
            "INFO:wandb.run_manager:file/dir modified: /content/drive/My Drive/Colab Notebooks/master_project/evaluation/wandb/run-20200501_110843-2bb19uir/wandb-events.jsonl\n",
            "INFO:wandb.run_manager:file/dir modified: /content/drive/My Drive/Colab Notebooks/master_project/evaluation/wandb/run-20200501_110843-2bb19uir/wandb-metadata.json\n",
            "INFO:wandb.run_manager:file/dir modified: /content/drive/My Drive/Colab Notebooks/master_project/evaluation/wandb/run-20200501_110843-2bb19uir/wandb-metadata.json\n",
            "INFO:wandb.run_manager:file/dir modified: /content/drive/My Drive/Colab Notebooks/master_project/evaluation/wandb/run-20200501_110843-2bb19uir/wandb-events.jsonl\n",
            "INFO:wandb.run_manager:file/dir modified: /content/drive/My Drive/Colab Notebooks/master_project/evaluation/wandb/run-20200501_110843-2bb19uir/wandb-metadata.json\n",
            "INFO:wandb.run_manager:file/dir modified: /content/drive/My Drive/Colab Notebooks/master_project/evaluation/wandb/run-20200501_110843-2bb19uir/wandb-metadata.json\n",
            "INFO:wandb.run_manager:file/dir modified: /content/drive/My Drive/Colab Notebooks/master_project/evaluation/wandb/run-20200501_110843-2bb19uir/wandb-events.jsonl\n",
            "INFO:wandb.run_manager:file/dir modified: /content/drive/My Drive/Colab Notebooks/master_project/evaluation/wandb/run-20200501_110843-2bb19uir/wandb-metadata.json\n",
            "INFO:wandb.run_manager:file/dir modified: /content/drive/My Drive/Colab Notebooks/master_project/evaluation/wandb/run-20200501_110843-2bb19uir/wandb-metadata.json\n",
            "INFO:wandb.run_manager:file/dir modified: /content/drive/My Drive/Colab Notebooks/master_project/evaluation/wandb/run-20200501_110843-2bb19uir/wandb-events.jsonl\n",
            "INFO:wandb.run_manager:file/dir modified: /content/drive/My Drive/Colab Notebooks/master_project/evaluation/wandb/run-20200501_110843-2bb19uir/wandb-metadata.json\n",
            "INFO:wandb.run_manager:file/dir modified: /content/drive/My Drive/Colab Notebooks/master_project/evaluation/wandb/run-20200501_110843-2bb19uir/wandb-metadata.json\n",
            "INFO:wandb.run_manager:file/dir modified: /content/drive/My Drive/Colab Notebooks/master_project/evaluation/wandb/run-20200501_110843-2bb19uir/wandb-events.jsonl\n",
            "INFO:wandb.run_manager:file/dir modified: /content/drive/My Drive/Colab Notebooks/master_project/evaluation/wandb/run-20200501_110843-2bb19uir/wandb-metadata.json\n",
            "INFO:wandb.run_manager:file/dir modified: /content/drive/My Drive/Colab Notebooks/master_project/evaluation/wandb/run-20200501_110843-2bb19uir/wandb-events.jsonl\n",
            "INFO:wandb.run_manager:file/dir modified: /content/drive/My Drive/Colab Notebooks/master_project/evaluation/wandb/run-20200501_110843-2bb19uir/wandb-metadata.json\n",
            "INFO:wandb.run_manager:file/dir modified: /content/drive/My Drive/Colab Notebooks/master_project/evaluation/wandb/run-20200501_110843-2bb19uir/wandb-metadata.json\n",
            "INFO:wandb.run_manager:file/dir modified: /content/drive/My Drive/Colab Notebooks/master_project/evaluation/wandb/run-20200501_110843-2bb19uir/wandb-events.jsonl\n",
            "INFO:wandb.run_manager:file/dir modified: /content/drive/My Drive/Colab Notebooks/master_project/evaluation/wandb/run-20200501_110843-2bb19uir/wandb-metadata.json\n",
            "INFO:wandb.run_manager:file/dir modified: /content/drive/My Drive/Colab Notebooks/master_project/evaluation/wandb/run-20200501_110843-2bb19uir/wandb-metadata.json\n",
            "INFO:wandb.run_manager:file/dir modified: /content/drive/My Drive/Colab Notebooks/master_project/evaluation/wandb/run-20200501_110843-2bb19uir/wandb-events.jsonl\n",
            "INFO:wandb.run_manager:file/dir modified: /content/drive/My Drive/Colab Notebooks/master_project/evaluation/wandb/run-20200501_110843-2bb19uir/wandb-metadata.json\n",
            "INFO:wandb.run_manager:file/dir modified: /content/drive/My Drive/Colab Notebooks/master_project/evaluation/wandb/run-20200501_110843-2bb19uir/wandb-metadata.json\n",
            "INFO:wandb.run_manager:file/dir modified: /content/drive/My Drive/Colab Notebooks/master_project/evaluation/wandb/run-20200501_110843-2bb19uir/wandb-events.jsonl\n",
            "INFO:wandb.run_manager:file/dir modified: /content/drive/My Drive/Colab Notebooks/master_project/evaluation/wandb/run-20200501_110843-2bb19uir/wandb-metadata.json\n",
            "INFO:wandb.run_manager:file/dir modified: /content/drive/My Drive/Colab Notebooks/master_project/evaluation/wandb/run-20200501_110843-2bb19uir/wandb-metadata.json\n",
            "INFO:wandb.run_manager:file/dir modified: /content/drive/My Drive/Colab Notebooks/master_project/evaluation/wandb/run-20200501_110843-2bb19uir/wandb-events.jsonl\n",
            "INFO:wandb.run_manager:file/dir modified: /content/drive/My Drive/Colab Notebooks/master_project/evaluation/wandb/run-20200501_110843-2bb19uir/wandb-metadata.json\n",
            "INFO:wandb.run_manager:file/dir modified: /content/drive/My Drive/Colab Notebooks/master_project/evaluation/wandb/run-20200501_110843-2bb19uir/wandb-metadata.json\n",
            "INFO:wandb.run_manager:file/dir modified: /content/drive/My Drive/Colab Notebooks/master_project/evaluation/wandb/run-20200501_110843-2bb19uir/wandb-events.jsonl\n",
            "INFO:wandb.run_manager:file/dir modified: /content/drive/My Drive/Colab Notebooks/master_project/evaluation/wandb/run-20200501_110843-2bb19uir/wandb-metadata.json\n",
            "INFO:wandb.run_manager:file/dir modified: /content/drive/My Drive/Colab Notebooks/master_project/evaluation/wandb/run-20200501_110843-2bb19uir/wandb-metadata.json\n",
            "INFO:wandb.run_manager:file/dir modified: /content/drive/My Drive/Colab Notebooks/master_project/evaluation/wandb/run-20200501_110843-2bb19uir/wandb-events.jsonl\n",
            "INFO:wandb.run_manager:file/dir modified: /content/drive/My Drive/Colab Notebooks/master_project/evaluation/wandb/run-20200501_110843-2bb19uir/wandb-metadata.json\n",
            "INFO:wandb.run_manager:file/dir modified: /content/drive/My Drive/Colab Notebooks/master_project/evaluation/wandb/run-20200501_110843-2bb19uir/wandb-metadata.json\n",
            "INFO:wandb.run_manager:file/dir modified: /content/drive/My Drive/Colab Notebooks/master_project/evaluation/wandb/run-20200501_110843-2bb19uir/wandb-events.jsonl\n",
            "INFO:wandb.run_manager:file/dir modified: /content/drive/My Drive/Colab Notebooks/master_project/evaluation/wandb/run-20200501_110843-2bb19uir/wandb-metadata.json\n",
            "INFO:wandb.run_manager:file/dir modified: /content/drive/My Drive/Colab Notebooks/master_project/evaluation/wandb/run-20200501_110843-2bb19uir/wandb-events.jsonl\n",
            "INFO:wandb.run_manager:file/dir modified: /content/drive/My Drive/Colab Notebooks/master_project/evaluation/wandb/run-20200501_110843-2bb19uir/wandb-metadata.json\n",
            "INFO:wandb.run_manager:file/dir modified: /content/drive/My Drive/Colab Notebooks/master_project/evaluation/wandb/run-20200501_110843-2bb19uir/wandb-metadata.json\n",
            "INFO:wandb.run_manager:file/dir modified: /content/drive/My Drive/Colab Notebooks/master_project/evaluation/wandb/run-20200501_110843-2bb19uir/wandb-events.jsonl\n",
            "INFO:wandb.run_manager:file/dir modified: /content/drive/My Drive/Colab Notebooks/master_project/evaluation/wandb/run-20200501_110843-2bb19uir/wandb-metadata.json\n",
            "INFO:wandb.run_manager:file/dir modified: /content/drive/My Drive/Colab Notebooks/master_project/evaluation/wandb/run-20200501_110843-2bb19uir/wandb-metadata.json\n",
            "INFO:wandb.run_manager:file/dir modified: /content/drive/My Drive/Colab Notebooks/master_project/evaluation/wandb/run-20200501_110843-2bb19uir/wandb-events.jsonl\n",
            "INFO:wandb.run_manager:file/dir modified: /content/drive/My Drive/Colab Notebooks/master_project/evaluation/wandb/run-20200501_110843-2bb19uir/wandb-metadata.json\n",
            "INFO:simpletransformers.classification.classification_model: No improvement in eval_loss\n",
            "INFO:simpletransformers.classification.classification_model: Current step: 2\n",
            "INFO:simpletransformers.classification.classification_model: Early stopping patience: 5\n"
          ],
          "name": "stderr"
        },
        {
          "output_type": "stream",
          "text": [
            "\rRunning loss: 0.141197"
          ],
          "name": "stdout"
        },
        {
          "output_type": "stream",
          "text": [
            "INFO:wandb.run_manager:file/dir modified: /content/drive/My Drive/Colab Notebooks/master_project/evaluation/wandb/run-20200501_110843-2bb19uir/wandb-history.jsonl\n",
            "INFO:wandb.run_manager:file/dir modified: /content/drive/My Drive/Colab Notebooks/master_project/evaluation/wandb/run-20200501_110843-2bb19uir/wandb-summary.json\n"
          ],
          "name": "stderr"
        },
        {
          "output_type": "stream",
          "text": [
            "Running loss: 0.435634"
          ],
          "name": "stdout"
        },
        {
          "output_type": "stream",
          "text": [
            "INFO:wandb.run_manager:file/dir modified: /content/drive/My Drive/Colab Notebooks/master_project/evaluation/wandb/run-20200501_110843-2bb19uir/wandb-metadata.json\n"
          ],
          "name": "stderr"
        },
        {
          "output_type": "stream",
          "text": [
            "Running loss: 0.459581"
          ],
          "name": "stdout"
        },
        {
          "output_type": "stream",
          "text": [
            "INFO:wandb.run_manager:file/dir modified: /content/drive/My Drive/Colab Notebooks/master_project/evaluation/wandb/run-20200501_110843-2bb19uir/wandb-history.jsonl\n",
            "INFO:wandb.run_manager:file/dir modified: /content/drive/My Drive/Colab Notebooks/master_project/evaluation/wandb/run-20200501_110843-2bb19uir/wandb-summary.json\n"
          ],
          "name": "stderr"
        },
        {
          "output_type": "stream",
          "text": [
            "Running loss: 0.362042"
          ],
          "name": "stdout"
        },
        {
          "output_type": "stream",
          "text": [
            "INFO:wandb.run_manager:file/dir modified: /content/drive/My Drive/Colab Notebooks/master_project/evaluation/wandb/run-20200501_110843-2bb19uir/wandb-events.jsonl\n"
          ],
          "name": "stderr"
        },
        {
          "output_type": "stream",
          "text": [
            "Running loss: 0.145606"
          ],
          "name": "stdout"
        },
        {
          "output_type": "stream",
          "text": [
            "INFO:wandb.run_manager:file/dir modified: /content/drive/My Drive/Colab Notebooks/master_project/evaluation/wandb/run-20200501_110843-2bb19uir/wandb-metadata.json\n"
          ],
          "name": "stderr"
        },
        {
          "output_type": "stream",
          "text": [
            "Running loss: 0.199579"
          ],
          "name": "stdout"
        },
        {
          "output_type": "stream",
          "text": [
            "INFO:wandb.run_manager:file/dir modified: /content/drive/My Drive/Colab Notebooks/master_project/evaluation/wandb/run-20200501_110843-2bb19uir/wandb-history.jsonl\n",
            "INFO:wandb.run_manager:file/dir modified: /content/drive/My Drive/Colab Notebooks/master_project/evaluation/wandb/run-20200501_110843-2bb19uir/wandb-summary.json\n"
          ],
          "name": "stderr"
        },
        {
          "output_type": "stream",
          "text": [
            "Running loss: 0.337867"
          ],
          "name": "stdout"
        },
        {
          "output_type": "stream",
          "text": [
            "INFO:wandb.run_manager:file/dir modified: /content/drive/My Drive/Colab Notebooks/master_project/evaluation/wandb/run-20200501_110843-2bb19uir/wandb-metadata.json\n"
          ],
          "name": "stderr"
        },
        {
          "output_type": "stream",
          "text": [
            "Running loss: 0.229927"
          ],
          "name": "stdout"
        },
        {
          "output_type": "stream",
          "text": [
            "INFO:wandb.run_manager:file/dir modified: /content/drive/My Drive/Colab Notebooks/master_project/evaluation/wandb/run-20200501_110843-2bb19uir/wandb-history.jsonl\n",
            "INFO:wandb.run_manager:file/dir modified: /content/drive/My Drive/Colab Notebooks/master_project/evaluation/wandb/run-20200501_110843-2bb19uir/wandb-summary.json\n"
          ],
          "name": "stderr"
        },
        {
          "output_type": "stream",
          "text": [
            "Running loss: 0.513282"
          ],
          "name": "stdout"
        },
        {
          "output_type": "stream",
          "text": [
            "INFO:wandb.run_manager:file/dir modified: /content/drive/My Drive/Colab Notebooks/master_project/evaluation/wandb/run-20200501_110843-2bb19uir/wandb-events.jsonl\n"
          ],
          "name": "stderr"
        },
        {
          "output_type": "stream",
          "text": [
            "Running loss: 0.289095"
          ],
          "name": "stdout"
        },
        {
          "output_type": "stream",
          "text": [
            "INFO:wandb.run_manager:file/dir modified: /content/drive/My Drive/Colab Notebooks/master_project/evaluation/wandb/run-20200501_110843-2bb19uir/wandb-metadata.json\n"
          ],
          "name": "stderr"
        },
        {
          "output_type": "stream",
          "text": [
            "Running loss: 0.358850"
          ],
          "name": "stdout"
        },
        {
          "output_type": "stream",
          "text": [
            "INFO:wandb.run_manager:file/dir modified: /content/drive/My Drive/Colab Notebooks/master_project/evaluation/wandb/run-20200501_110843-2bb19uir/wandb-history.jsonl\n",
            "INFO:wandb.run_manager:file/dir modified: /content/drive/My Drive/Colab Notebooks/master_project/evaluation/wandb/run-20200501_110843-2bb19uir/wandb-summary.json\n"
          ],
          "name": "stderr"
        },
        {
          "output_type": "stream",
          "text": [
            "Running loss: 0.877721"
          ],
          "name": "stdout"
        },
        {
          "output_type": "stream",
          "text": [
            "INFO:wandb.run_manager:file/dir modified: /content/drive/My Drive/Colab Notebooks/master_project/evaluation/wandb/run-20200501_110843-2bb19uir/wandb-metadata.json\n"
          ],
          "name": "stderr"
        },
        {
          "output_type": "stream",
          "text": [
            "\rRunning loss: 0.230616"
          ],
          "name": "stdout"
        },
        {
          "output_type": "stream",
          "text": [
            "INFO:wandb.run_manager:file/dir modified: /content/drive/My Drive/Colab Notebooks/master_project/evaluation/wandb/run-20200501_110843-2bb19uir/wandb-history.jsonl\n",
            "INFO:wandb.run_manager:file/dir modified: /content/drive/My Drive/Colab Notebooks/master_project/evaluation/wandb/run-20200501_110843-2bb19uir/wandb-summary.json\n"
          ],
          "name": "stderr"
        },
        {
          "output_type": "stream",
          "text": [
            "Running loss: 0.445359"
          ],
          "name": "stdout"
        },
        {
          "output_type": "stream",
          "text": [
            "INFO:wandb.run_manager:file/dir modified: /content/drive/My Drive/Colab Notebooks/master_project/evaluation/wandb/run-20200501_110843-2bb19uir/wandb-events.jsonl\n"
          ],
          "name": "stderr"
        },
        {
          "output_type": "stream",
          "text": [
            "Running loss: 0.185285"
          ],
          "name": "stdout"
        },
        {
          "output_type": "stream",
          "text": [
            "INFO:wandb.run_manager:file/dir modified: /content/drive/My Drive/Colab Notebooks/master_project/evaluation/wandb/run-20200501_110843-2bb19uir/wandb-metadata.json\n"
          ],
          "name": "stderr"
        },
        {
          "output_type": "stream",
          "text": [
            "Running loss: 0.264885"
          ],
          "name": "stdout"
        },
        {
          "output_type": "stream",
          "text": [
            "INFO:wandb.run_manager:file/dir modified: /content/drive/My Drive/Colab Notebooks/master_project/evaluation/wandb/run-20200501_110843-2bb19uir/wandb-history.jsonl\n",
            "INFO:wandb.run_manager:file/dir modified: /content/drive/My Drive/Colab Notebooks/master_project/evaluation/wandb/run-20200501_110843-2bb19uir/wandb-summary.json\n"
          ],
          "name": "stderr"
        },
        {
          "output_type": "stream",
          "text": [
            "Running loss: 0.306734"
          ],
          "name": "stdout"
        },
        {
          "output_type": "stream",
          "text": [
            "INFO:wandb.run_manager:file/dir modified: /content/drive/My Drive/Colab Notebooks/master_project/evaluation/wandb/run-20200501_110843-2bb19uir/wandb-history.jsonl\n"
          ],
          "name": "stderr"
        },
        {
          "output_type": "stream",
          "text": [
            "Running loss: 0.414974"
          ],
          "name": "stdout"
        },
        {
          "output_type": "stream",
          "text": [
            "INFO:wandb.run_manager:file/dir modified: /content/drive/My Drive/Colab Notebooks/master_project/evaluation/wandb/run-20200501_110843-2bb19uir/wandb-metadata.json\n",
            "INFO:wandb.run_manager:file/dir modified: /content/drive/My Drive/Colab Notebooks/master_project/evaluation/wandb/run-20200501_110843-2bb19uir/wandb-history.jsonl\n",
            "INFO:wandb.run_manager:file/dir modified: /content/drive/My Drive/Colab Notebooks/master_project/evaluation/wandb/run-20200501_110843-2bb19uir/wandb-summary.json\n"
          ],
          "name": "stderr"
        },
        {
          "output_type": "stream",
          "text": [
            "Running loss: 0.218175"
          ],
          "name": "stdout"
        },
        {
          "output_type": "stream",
          "text": [
            "INFO:wandb.run_manager:file/dir modified: /content/drive/My Drive/Colab Notebooks/master_project/evaluation/wandb/run-20200501_110843-2bb19uir/wandb-events.jsonl\n"
          ],
          "name": "stderr"
        },
        {
          "output_type": "stream",
          "text": [
            "Running loss: 0.290320"
          ],
          "name": "stdout"
        },
        {
          "output_type": "stream",
          "text": [
            "INFO:wandb.run_manager:file/dir modified: /content/drive/My Drive/Colab Notebooks/master_project/evaluation/wandb/run-20200501_110843-2bb19uir/wandb-history.jsonl\n",
            "INFO:wandb.run_manager:file/dir modified: /content/drive/My Drive/Colab Notebooks/master_project/evaluation/wandb/run-20200501_110843-2bb19uir/wandb-summary.json\n"
          ],
          "name": "stderr"
        },
        {
          "output_type": "stream",
          "text": [
            "\rRunning loss: 0.365884"
          ],
          "name": "stdout"
        },
        {
          "output_type": "stream",
          "text": [
            "INFO:wandb.run_manager:file/dir modified: /content/drive/My Drive/Colab Notebooks/master_project/evaluation/wandb/run-20200501_110843-2bb19uir/wandb-metadata.json\n"
          ],
          "name": "stderr"
        },
        {
          "output_type": "stream",
          "text": [
            "Running loss: 0.280934"
          ],
          "name": "stdout"
        },
        {
          "output_type": "stream",
          "text": [
            "INFO:wandb.run_manager:file/dir modified: /content/drive/My Drive/Colab Notebooks/master_project/evaluation/wandb/run-20200501_110843-2bb19uir/wandb-history.jsonl\n",
            "INFO:wandb.run_manager:file/dir modified: /content/drive/My Drive/Colab Notebooks/master_project/evaluation/wandb/run-20200501_110843-2bb19uir/wandb-summary.json\n"
          ],
          "name": "stderr"
        },
        {
          "output_type": "stream",
          "text": [
            "Running loss: 0.527997"
          ],
          "name": "stdout"
        },
        {
          "output_type": "stream",
          "text": [
            "INFO:wandb.run_manager:file/dir modified: /content/drive/My Drive/Colab Notebooks/master_project/evaluation/wandb/run-20200501_110843-2bb19uir/wandb-metadata.json\n"
          ],
          "name": "stderr"
        },
        {
          "output_type": "stream",
          "text": [
            "Running loss: 0.376061"
          ],
          "name": "stdout"
        },
        {
          "output_type": "stream",
          "text": [
            "INFO:wandb.run_manager:file/dir modified: /content/drive/My Drive/Colab Notebooks/master_project/evaluation/wandb/run-20200501_110843-2bb19uir/wandb-events.jsonl\n"
          ],
          "name": "stderr"
        },
        {
          "output_type": "stream",
          "text": [
            "Running loss: 0.458847"
          ],
          "name": "stdout"
        },
        {
          "output_type": "stream",
          "text": [
            "INFO:wandb.run_manager:file/dir modified: /content/drive/My Drive/Colab Notebooks/master_project/evaluation/wandb/run-20200501_110843-2bb19uir/wandb-history.jsonl\n",
            "INFO:wandb.run_manager:file/dir modified: /content/drive/My Drive/Colab Notebooks/master_project/evaluation/wandb/run-20200501_110843-2bb19uir/wandb-summary.json\n",
            "INFO:wandb.run_manager:file/dir modified: /content/drive/My Drive/Colab Notebooks/master_project/evaluation/wandb/run-20200501_110843-2bb19uir/wandb-metadata.json\n",
            "INFO:wandb.run_manager:file/dir modified: /content/drive/My Drive/Colab Notebooks/master_project/evaluation/wandb/run-20200501_110843-2bb19uir/wandb-metadata.json\n",
            "INFO:wandb.run_manager:file/dir modified: /content/drive/My Drive/Colab Notebooks/master_project/evaluation/wandb/run-20200501_110843-2bb19uir/wandb-events.jsonl\n",
            "INFO:wandb.run_manager:file/dir modified: /content/drive/My Drive/Colab Notebooks/master_project/evaluation/wandb/run-20200501_110843-2bb19uir/wandb-metadata.json\n",
            "INFO:wandb.run_manager:file/dir modified: /content/drive/My Drive/Colab Notebooks/master_project/evaluation/wandb/run-20200501_110843-2bb19uir/wandb-events.jsonl\n",
            "INFO:wandb.run_manager:file/dir modified: /content/drive/My Drive/Colab Notebooks/master_project/evaluation/wandb/run-20200501_110843-2bb19uir/wandb-metadata.json\n",
            "INFO:wandb.run_manager:file/dir modified: /content/drive/My Drive/Colab Notebooks/master_project/evaluation/wandb/run-20200501_110843-2bb19uir/wandb-events.jsonl\n",
            "INFO:wandb.run_manager:file/dir modified: /content/drive/My Drive/Colab Notebooks/master_project/evaluation/wandb/run-20200501_110843-2bb19uir/wandb-metadata.json\n",
            "INFO:wandb.run_manager:file/dir modified: /content/drive/My Drive/Colab Notebooks/master_project/evaluation/wandb/run-20200501_110843-2bb19uir/wandb-metadata.json\n",
            "INFO:wandb.run_manager:file/dir modified: /content/drive/My Drive/Colab Notebooks/master_project/evaluation/wandb/run-20200501_110843-2bb19uir/wandb-events.jsonl\n",
            "INFO:wandb.run_manager:file/dir modified: /content/drive/My Drive/Colab Notebooks/master_project/evaluation/wandb/run-20200501_110843-2bb19uir/wandb-metadata.json\n",
            "INFO:wandb.run_manager:file/dir modified: /content/drive/My Drive/Colab Notebooks/master_project/evaluation/wandb/run-20200501_110843-2bb19uir/wandb-metadata.json\n",
            "INFO:wandb.run_manager:file/dir modified: /content/drive/My Drive/Colab Notebooks/master_project/evaluation/wandb/run-20200501_110843-2bb19uir/wandb-events.jsonl\n",
            "INFO:wandb.run_manager:file/dir modified: /content/drive/My Drive/Colab Notebooks/master_project/evaluation/wandb/run-20200501_110843-2bb19uir/wandb-metadata.json\n",
            "INFO:wandb.run_manager:file/dir modified: /content/drive/My Drive/Colab Notebooks/master_project/evaluation/wandb/run-20200501_110843-2bb19uir/wandb-events.jsonl\n",
            "INFO:wandb.run_manager:file/dir modified: /content/drive/My Drive/Colab Notebooks/master_project/evaluation/wandb/run-20200501_110843-2bb19uir/wandb-metadata.json\n",
            "INFO:wandb.run_manager:file/dir modified: /content/drive/My Drive/Colab Notebooks/master_project/evaluation/wandb/run-20200501_110843-2bb19uir/wandb-events.jsonl\n",
            "INFO:wandb.run_manager:file/dir modified: /content/drive/My Drive/Colab Notebooks/master_project/evaluation/wandb/run-20200501_110843-2bb19uir/wandb-metadata.json\n",
            "INFO:wandb.run_manager:file/dir modified: /content/drive/My Drive/Colab Notebooks/master_project/evaluation/wandb/run-20200501_110843-2bb19uir/wandb-events.jsonl\n",
            "INFO:wandb.run_manager:file/dir modified: /content/drive/My Drive/Colab Notebooks/master_project/evaluation/wandb/run-20200501_110843-2bb19uir/wandb-metadata.json\n",
            "INFO:wandb.run_manager:file/dir modified: /content/drive/My Drive/Colab Notebooks/master_project/evaluation/wandb/run-20200501_110843-2bb19uir/wandb-metadata.json\n",
            "INFO:wandb.run_manager:file/dir modified: /content/drive/My Drive/Colab Notebooks/master_project/evaluation/wandb/run-20200501_110843-2bb19uir/wandb-events.jsonl\n",
            "INFO:wandb.run_manager:file/dir modified: /content/drive/My Drive/Colab Notebooks/master_project/evaluation/wandb/run-20200501_110843-2bb19uir/wandb-metadata.json\n",
            "INFO:wandb.run_manager:file/dir modified: /content/drive/My Drive/Colab Notebooks/master_project/evaluation/wandb/run-20200501_110843-2bb19uir/wandb-metadata.json\n",
            "INFO:wandb.run_manager:file/dir modified: /content/drive/My Drive/Colab Notebooks/master_project/evaluation/wandb/run-20200501_110843-2bb19uir/wandb-events.jsonl\n",
            "INFO:wandb.run_manager:file/dir modified: /content/drive/My Drive/Colab Notebooks/master_project/evaluation/wandb/run-20200501_110843-2bb19uir/wandb-metadata.json\n",
            "INFO:wandb.run_manager:file/dir modified: /content/drive/My Drive/Colab Notebooks/master_project/evaluation/wandb/run-20200501_110843-2bb19uir/wandb-metadata.json\n",
            "INFO:wandb.run_manager:file/dir modified: /content/drive/My Drive/Colab Notebooks/master_project/evaluation/wandb/run-20200501_110843-2bb19uir/wandb-events.jsonl\n",
            "INFO:wandb.run_manager:file/dir modified: /content/drive/My Drive/Colab Notebooks/master_project/evaluation/wandb/run-20200501_110843-2bb19uir/wandb-metadata.json\n",
            "INFO:wandb.run_manager:file/dir modified: /content/drive/My Drive/Colab Notebooks/master_project/evaluation/wandb/run-20200501_110843-2bb19uir/wandb-metadata.json\n",
            "INFO:wandb.run_manager:file/dir modified: /content/drive/My Drive/Colab Notebooks/master_project/evaluation/wandb/run-20200501_110843-2bb19uir/wandb-events.jsonl\n",
            "INFO:wandb.run_manager:file/dir modified: /content/drive/My Drive/Colab Notebooks/master_project/evaluation/wandb/run-20200501_110843-2bb19uir/wandb-metadata.json\n",
            "INFO:wandb.run_manager:file/dir modified: /content/drive/My Drive/Colab Notebooks/master_project/evaluation/wandb/run-20200501_110843-2bb19uir/wandb-metadata.json\n",
            "INFO:wandb.run_manager:file/dir modified: /content/drive/My Drive/Colab Notebooks/master_project/evaluation/wandb/run-20200501_110843-2bb19uir/wandb-events.jsonl\n",
            "INFO:wandb.run_manager:file/dir modified: /content/drive/My Drive/Colab Notebooks/master_project/evaluation/wandb/run-20200501_110843-2bb19uir/wandb-metadata.json\n",
            "INFO:wandb.run_manager:file/dir modified: /content/drive/My Drive/Colab Notebooks/master_project/evaluation/wandb/run-20200501_110843-2bb19uir/wandb-metadata.json\n",
            "INFO:wandb.run_manager:file/dir modified: /content/drive/My Drive/Colab Notebooks/master_project/evaluation/wandb/run-20200501_110843-2bb19uir/wandb-events.jsonl\n",
            "INFO:wandb.run_manager:file/dir modified: /content/drive/My Drive/Colab Notebooks/master_project/evaluation/wandb/run-20200501_110843-2bb19uir/wandb-metadata.json\n",
            "INFO:wandb.run_manager:file/dir modified: /content/drive/My Drive/Colab Notebooks/master_project/evaluation/wandb/run-20200501_110843-2bb19uir/wandb-events.jsonl\n",
            "INFO:wandb.run_manager:file/dir modified: /content/drive/My Drive/Colab Notebooks/master_project/evaluation/wandb/run-20200501_110843-2bb19uir/wandb-metadata.json\n",
            "INFO:wandb.run_manager:file/dir modified: /content/drive/My Drive/Colab Notebooks/master_project/evaluation/wandb/run-20200501_110843-2bb19uir/wandb-metadata.json\n",
            "INFO:wandb.run_manager:file/dir modified: /content/drive/My Drive/Colab Notebooks/master_project/evaluation/wandb/run-20200501_110843-2bb19uir/wandb-events.jsonl\n",
            "INFO:wandb.run_manager:file/dir modified: /content/drive/My Drive/Colab Notebooks/master_project/evaluation/wandb/run-20200501_110843-2bb19uir/wandb-metadata.json\n",
            "INFO:wandb.run_manager:file/dir modified: /content/drive/My Drive/Colab Notebooks/master_project/evaluation/wandb/run-20200501_110843-2bb19uir/wandb-metadata.json\n",
            "INFO:wandb.run_manager:file/dir modified: /content/drive/My Drive/Colab Notebooks/master_project/evaluation/wandb/run-20200501_110843-2bb19uir/wandb-events.jsonl\n",
            "INFO:wandb.run_manager:file/dir modified: /content/drive/My Drive/Colab Notebooks/master_project/evaluation/wandb/run-20200501_110843-2bb19uir/wandb-metadata.json\n",
            "INFO:wandb.run_manager:file/dir modified: /content/drive/My Drive/Colab Notebooks/master_project/evaluation/wandb/run-20200501_110843-2bb19uir/wandb-metadata.json\n",
            "INFO:wandb.run_manager:file/dir modified: /content/drive/My Drive/Colab Notebooks/master_project/evaluation/wandb/run-20200501_110843-2bb19uir/wandb-events.jsonl\n",
            "INFO:wandb.run_manager:file/dir modified: /content/drive/My Drive/Colab Notebooks/master_project/evaluation/wandb/run-20200501_110843-2bb19uir/wandb-metadata.json\n",
            "INFO:wandb.run_manager:file/dir modified: /content/drive/My Drive/Colab Notebooks/master_project/evaluation/wandb/run-20200501_110843-2bb19uir/wandb-metadata.json\n",
            "INFO:wandb.run_manager:file/dir modified: /content/drive/My Drive/Colab Notebooks/master_project/evaluation/wandb/run-20200501_110843-2bb19uir/wandb-events.jsonl\n",
            "INFO:wandb.run_manager:file/dir modified: /content/drive/My Drive/Colab Notebooks/master_project/evaluation/wandb/run-20200501_110843-2bb19uir/wandb-metadata.json\n",
            "INFO:wandb.run_manager:file/dir modified: /content/drive/My Drive/Colab Notebooks/master_project/evaluation/wandb/run-20200501_110843-2bb19uir/wandb-metadata.json\n",
            "INFO:wandb.run_manager:file/dir modified: /content/drive/My Drive/Colab Notebooks/master_project/evaluation/wandb/run-20200501_110843-2bb19uir/wandb-events.jsonl\n",
            "INFO:wandb.run_manager:file/dir modified: /content/drive/My Drive/Colab Notebooks/master_project/evaluation/wandb/run-20200501_110843-2bb19uir/wandb-metadata.json\n",
            "INFO:wandb.run_manager:file/dir modified: /content/drive/My Drive/Colab Notebooks/master_project/evaluation/wandb/run-20200501_110843-2bb19uir/wandb-metadata.json\n",
            "INFO:wandb.run_manager:file/dir modified: /content/drive/My Drive/Colab Notebooks/master_project/evaluation/wandb/run-20200501_110843-2bb19uir/wandb-events.jsonl\n",
            "INFO:wandb.run_manager:file/dir modified: /content/drive/My Drive/Colab Notebooks/master_project/evaluation/wandb/run-20200501_110843-2bb19uir/wandb-metadata.json\n",
            "INFO:wandb.run_manager:file/dir modified: /content/drive/My Drive/Colab Notebooks/master_project/evaluation/wandb/run-20200501_110843-2bb19uir/wandb-metadata.json\n",
            "INFO:wandb.run_manager:file/dir modified: /content/drive/My Drive/Colab Notebooks/master_project/evaluation/wandb/run-20200501_110843-2bb19uir/wandb-events.jsonl\n",
            "INFO:wandb.run_manager:file/dir modified: /content/drive/My Drive/Colab Notebooks/master_project/evaluation/wandb/run-20200501_110843-2bb19uir/wandb-events.jsonl\n",
            "INFO:wandb.run_manager:file/dir modified: /content/drive/My Drive/Colab Notebooks/master_project/evaluation/wandb/run-20200501_110843-2bb19uir/wandb-metadata.json\n",
            "INFO:wandb.run_manager:file/dir modified: /content/drive/My Drive/Colab Notebooks/master_project/evaluation/wandb/run-20200501_110843-2bb19uir/wandb-events.jsonl\n",
            "INFO:wandb.run_manager:file/dir modified: /content/drive/My Drive/Colab Notebooks/master_project/evaluation/wandb/run-20200501_110843-2bb19uir/wandb-metadata.json\n",
            "INFO:wandb.run_manager:file/dir modified: /content/drive/My Drive/Colab Notebooks/master_project/evaluation/wandb/run-20200501_110843-2bb19uir/wandb-metadata.json\n",
            "INFO:wandb.run_manager:file/dir modified: /content/drive/My Drive/Colab Notebooks/master_project/evaluation/wandb/run-20200501_110843-2bb19uir/wandb-events.jsonl\n",
            "INFO:wandb.run_manager:file/dir modified: /content/drive/My Drive/Colab Notebooks/master_project/evaluation/wandb/run-20200501_110843-2bb19uir/wandb-metadata.json\n",
            "INFO:wandb.run_manager:file/dir modified: /content/drive/My Drive/Colab Notebooks/master_project/evaluation/wandb/run-20200501_110843-2bb19uir/wandb-metadata.json\n",
            "INFO:wandb.run_manager:file/dir modified: /content/drive/My Drive/Colab Notebooks/master_project/evaluation/wandb/run-20200501_110843-2bb19uir/wandb-history.jsonl\n",
            "INFO:wandb.run_manager:file/dir modified: /content/drive/My Drive/Colab Notebooks/master_project/evaluation/wandb/run-20200501_110843-2bb19uir/wandb-summary.json\n",
            "INFO:wandb.run_manager:file/dir modified: /content/drive/My Drive/Colab Notebooks/master_project/evaluation/wandb/run-20200501_110843-2bb19uir/wandb-metadata.json\n",
            "INFO:wandb.run_manager:file/dir modified: /content/drive/My Drive/Colab Notebooks/master_project/evaluation/wandb/run-20200501_110843-2bb19uir/wandb-events.jsonl\n",
            "INFO:wandb.run_manager:file/dir modified: /content/drive/My Drive/Colab Notebooks/master_project/evaluation/wandb/run-20200501_110843-2bb19uir/wandb-metadata.json\n",
            "INFO:wandb.run_manager:file/dir modified: /content/drive/My Drive/Colab Notebooks/master_project/evaluation/wandb/run-20200501_110843-2bb19uir/wandb-metadata.json\n"
          ],
          "name": "stderr"
        },
        {
          "output_type": "stream",
          "text": [
            "Running loss: 0.285757"
          ],
          "name": "stdout"
        },
        {
          "output_type": "stream",
          "text": [
            "INFO:wandb.run_manager:file/dir modified: /content/drive/My Drive/Colab Notebooks/master_project/evaluation/wandb/run-20200501_110843-2bb19uir/wandb-metadata.json\n"
          ],
          "name": "stderr"
        },
        {
          "output_type": "stream",
          "text": [
            "Running loss: 0.833956"
          ],
          "name": "stdout"
        },
        {
          "output_type": "stream",
          "text": [
            "INFO:wandb.run_manager:file/dir modified: /content/drive/My Drive/Colab Notebooks/master_project/evaluation/wandb/run-20200501_110843-2bb19uir/wandb-history.jsonl\n",
            "INFO:wandb.run_manager:file/dir modified: /content/drive/My Drive/Colab Notebooks/master_project/evaluation/wandb/run-20200501_110843-2bb19uir/wandb-summary.json\n"
          ],
          "name": "stderr"
        },
        {
          "output_type": "stream",
          "text": [
            "Running loss: 0.354456"
          ],
          "name": "stdout"
        },
        {
          "output_type": "stream",
          "text": [
            "INFO:wandb.run_manager:file/dir modified: /content/drive/My Drive/Colab Notebooks/master_project/evaluation/wandb/run-20200501_110843-2bb19uir/wandb-events.jsonl\n"
          ],
          "name": "stderr"
        },
        {
          "output_type": "stream",
          "text": [
            "Running loss: 0.486928"
          ],
          "name": "stdout"
        },
        {
          "output_type": "stream",
          "text": [
            "INFO:wandb.run_manager:file/dir modified: /content/drive/My Drive/Colab Notebooks/master_project/evaluation/wandb/run-20200501_110843-2bb19uir/wandb-metadata.json\n"
          ],
          "name": "stderr"
        },
        {
          "output_type": "stream",
          "text": [
            "Running loss: 0.441787"
          ],
          "name": "stdout"
        },
        {
          "output_type": "stream",
          "text": [
            "INFO:wandb.run_manager:file/dir modified: /content/drive/My Drive/Colab Notebooks/master_project/evaluation/wandb/run-20200501_110843-2bb19uir/wandb-history.jsonl\n",
            "INFO:wandb.run_manager:file/dir modified: /content/drive/My Drive/Colab Notebooks/master_project/evaluation/wandb/run-20200501_110843-2bb19uir/wandb-summary.json\n"
          ],
          "name": "stderr"
        },
        {
          "output_type": "stream",
          "text": [
            "Running loss: 0.243501"
          ],
          "name": "stdout"
        },
        {
          "output_type": "stream",
          "text": [
            "INFO:wandb.run_manager:file/dir modified: /content/drive/My Drive/Colab Notebooks/master_project/evaluation/wandb/run-20200501_110843-2bb19uir/wandb-metadata.json\n"
          ],
          "name": "stderr"
        },
        {
          "output_type": "stream",
          "text": [
            "Running loss: 0.468903"
          ],
          "name": "stdout"
        },
        {
          "output_type": "stream",
          "text": [
            "INFO:wandb.run_manager:file/dir modified: /content/drive/My Drive/Colab Notebooks/master_project/evaluation/wandb/run-20200501_110843-2bb19uir/wandb-history.jsonl\n",
            "INFO:wandb.run_manager:file/dir modified: /content/drive/My Drive/Colab Notebooks/master_project/evaluation/wandb/run-20200501_110843-2bb19uir/wandb-summary.json\n"
          ],
          "name": "stderr"
        },
        {
          "output_type": "stream",
          "text": [
            "\rRunning loss: 0.542043"
          ],
          "name": "stdout"
        },
        {
          "output_type": "stream",
          "text": [
            "INFO:wandb.run_manager:file/dir modified: /content/drive/My Drive/Colab Notebooks/master_project/evaluation/wandb/run-20200501_110843-2bb19uir/wandb-events.jsonl\n"
          ],
          "name": "stderr"
        },
        {
          "output_type": "stream",
          "text": [
            "Running loss: 0.119618"
          ],
          "name": "stdout"
        },
        {
          "output_type": "stream",
          "text": [
            "INFO:wandb.run_manager:file/dir modified: /content/drive/My Drive/Colab Notebooks/master_project/evaluation/wandb/run-20200501_110843-2bb19uir/wandb-metadata.json\n"
          ],
          "name": "stderr"
        },
        {
          "output_type": "stream",
          "text": [
            "Running loss: 0.228762"
          ],
          "name": "stdout"
        },
        {
          "output_type": "stream",
          "text": [
            "INFO:wandb.run_manager:file/dir modified: /content/drive/My Drive/Colab Notebooks/master_project/evaluation/wandb/run-20200501_110843-2bb19uir/wandb-history.jsonl\n",
            "INFO:wandb.run_manager:file/dir modified: /content/drive/My Drive/Colab Notebooks/master_project/evaluation/wandb/run-20200501_110843-2bb19uir/wandb-summary.json\n"
          ],
          "name": "stderr"
        },
        {
          "output_type": "stream",
          "text": [
            "Running loss: 0.509208"
          ],
          "name": "stdout"
        },
        {
          "output_type": "stream",
          "text": [
            "INFO:wandb.run_manager:file/dir modified: /content/drive/My Drive/Colab Notebooks/master_project/evaluation/wandb/run-20200501_110843-2bb19uir/wandb-metadata.json\n"
          ],
          "name": "stderr"
        },
        {
          "output_type": "stream",
          "text": [
            "Running loss: 0.257701"
          ],
          "name": "stdout"
        },
        {
          "output_type": "stream",
          "text": [
            "INFO:wandb.run_manager:file/dir modified: /content/drive/My Drive/Colab Notebooks/master_project/evaluation/wandb/run-20200501_110843-2bb19uir/wandb-events.jsonl\n"
          ],
          "name": "stderr"
        },
        {
          "output_type": "stream",
          "text": [
            "\rRunning loss: 0.589660"
          ],
          "name": "stdout"
        },
        {
          "output_type": "stream",
          "text": [
            "INFO:wandb.run_manager:file/dir modified: /content/drive/My Drive/Colab Notebooks/master_project/evaluation/wandb/run-20200501_110843-2bb19uir/wandb-history.jsonl\n",
            "INFO:wandb.run_manager:file/dir modified: /content/drive/My Drive/Colab Notebooks/master_project/evaluation/wandb/run-20200501_110843-2bb19uir/wandb-summary.json\n"
          ],
          "name": "stderr"
        },
        {
          "output_type": "stream",
          "text": [
            "Running loss: 0.331511"
          ],
          "name": "stdout"
        },
        {
          "output_type": "stream",
          "text": [
            "INFO:wandb.run_manager:file/dir modified: /content/drive/My Drive/Colab Notebooks/master_project/evaluation/wandb/run-20200501_110843-2bb19uir/wandb-metadata.json\n"
          ],
          "name": "stderr"
        },
        {
          "output_type": "stream",
          "text": [
            "Running loss: 0.288954"
          ],
          "name": "stdout"
        },
        {
          "output_type": "stream",
          "text": [
            "INFO:wandb.run_manager:file/dir modified: /content/drive/My Drive/Colab Notebooks/master_project/evaluation/wandb/run-20200501_110843-2bb19uir/wandb-history.jsonl\n",
            "INFO:wandb.run_manager:file/dir modified: /content/drive/My Drive/Colab Notebooks/master_project/evaluation/wandb/run-20200501_110843-2bb19uir/wandb-summary.json\n"
          ],
          "name": "stderr"
        },
        {
          "output_type": "stream",
          "text": [
            "Running loss: 0.267325"
          ],
          "name": "stdout"
        },
        {
          "output_type": "stream",
          "text": [
            "INFO:wandb.run_manager:file/dir modified: /content/drive/My Drive/Colab Notebooks/master_project/evaluation/wandb/run-20200501_110843-2bb19uir/wandb-metadata.json\n"
          ],
          "name": "stderr"
        },
        {
          "output_type": "stream",
          "text": [
            "Running loss: 0.496911"
          ],
          "name": "stdout"
        },
        {
          "output_type": "stream",
          "text": [
            "INFO:wandb.run_manager:file/dir modified: /content/drive/My Drive/Colab Notebooks/master_project/evaluation/wandb/run-20200501_110843-2bb19uir/wandb-events.jsonl\n"
          ],
          "name": "stderr"
        },
        {
          "output_type": "stream",
          "text": [
            "\rRunning loss: 0.560665"
          ],
          "name": "stdout"
        },
        {
          "output_type": "stream",
          "text": [
            "INFO:wandb.run_manager:file/dir modified: /content/drive/My Drive/Colab Notebooks/master_project/evaluation/wandb/run-20200501_110843-2bb19uir/wandb-history.jsonl\n",
            "INFO:wandb.run_manager:file/dir modified: /content/drive/My Drive/Colab Notebooks/master_project/evaluation/wandb/run-20200501_110843-2bb19uir/wandb-summary.json\n"
          ],
          "name": "stderr"
        },
        {
          "output_type": "stream",
          "text": [
            "Running loss: 0.616051"
          ],
          "name": "stdout"
        },
        {
          "output_type": "stream",
          "text": [
            "INFO:wandb.run_manager:file/dir modified: /content/drive/My Drive/Colab Notebooks/master_project/evaluation/wandb/run-20200501_110843-2bb19uir/wandb-metadata.json\n"
          ],
          "name": "stderr"
        },
        {
          "output_type": "stream",
          "text": [
            "Running loss: 0.478036"
          ],
          "name": "stdout"
        },
        {
          "output_type": "stream",
          "text": [
            "INFO:wandb.run_manager:file/dir modified: /content/drive/My Drive/Colab Notebooks/master_project/evaluation/wandb/run-20200501_110843-2bb19uir/wandb-history.jsonl\n",
            "INFO:wandb.run_manager:file/dir modified: /content/drive/My Drive/Colab Notebooks/master_project/evaluation/wandb/run-20200501_110843-2bb19uir/wandb-summary.json\n"
          ],
          "name": "stderr"
        },
        {
          "output_type": "stream",
          "text": [
            "Running loss: 0.382712"
          ],
          "name": "stdout"
        },
        {
          "output_type": "stream",
          "text": [
            "INFO:wandb.run_manager:file/dir modified: /content/drive/My Drive/Colab Notebooks/master_project/evaluation/wandb/run-20200501_110843-2bb19uir/wandb-metadata.json\n"
          ],
          "name": "stderr"
        },
        {
          "output_type": "stream",
          "text": [
            "Running loss: 0.320617"
          ],
          "name": "stdout"
        },
        {
          "output_type": "stream",
          "text": [
            "INFO:wandb.run_manager:file/dir modified: /content/drive/My Drive/Colab Notebooks/master_project/evaluation/wandb/run-20200501_110843-2bb19uir/wandb-events.jsonl\n"
          ],
          "name": "stderr"
        },
        {
          "output_type": "stream",
          "text": [
            "\rRunning loss: 0.353791"
          ],
          "name": "stdout"
        },
        {
          "output_type": "stream",
          "text": [
            "INFO:wandb.run_manager:file/dir modified: /content/drive/My Drive/Colab Notebooks/master_project/evaluation/wandb/run-20200501_110843-2bb19uir/wandb-history.jsonl\n",
            "INFO:wandb.run_manager:file/dir modified: /content/drive/My Drive/Colab Notebooks/master_project/evaluation/wandb/run-20200501_110843-2bb19uir/wandb-summary.json\n"
          ],
          "name": "stderr"
        },
        {
          "output_type": "stream",
          "text": [
            "Running loss: 0.187815"
          ],
          "name": "stdout"
        },
        {
          "output_type": "stream",
          "text": [
            "INFO:wandb.run_manager:file/dir modified: /content/drive/My Drive/Colab Notebooks/master_project/evaluation/wandb/run-20200501_110843-2bb19uir/wandb-metadata.json\n"
          ],
          "name": "stderr"
        },
        {
          "output_type": "stream",
          "text": [
            "Running loss: 0.290385"
          ],
          "name": "stdout"
        },
        {
          "output_type": "stream",
          "text": [
            "INFO:wandb.run_manager:file/dir modified: /content/drive/My Drive/Colab Notebooks/master_project/evaluation/wandb/run-20200501_110843-2bb19uir/wandb-history.jsonl\n",
            "INFO:wandb.run_manager:file/dir modified: /content/drive/My Drive/Colab Notebooks/master_project/evaluation/wandb/run-20200501_110843-2bb19uir/wandb-summary.json\n",
            "INFO:wandb.run_manager:file/dir modified: /content/drive/My Drive/Colab Notebooks/master_project/evaluation/wandb/run-20200501_110843-2bb19uir/wandb-metadata.json\n",
            "INFO:wandb.run_manager:file/dir modified: /content/drive/My Drive/Colab Notebooks/master_project/evaluation/wandb/run-20200501_110843-2bb19uir/wandb-events.jsonl\n",
            "INFO:wandb.run_manager:file/dir modified: /content/drive/My Drive/Colab Notebooks/master_project/evaluation/wandb/run-20200501_110843-2bb19uir/wandb-metadata.json\n",
            "INFO:wandb.run_manager:file/dir modified: /content/drive/My Drive/Colab Notebooks/master_project/evaluation/wandb/run-20200501_110843-2bb19uir/wandb-metadata.json\n",
            "INFO:wandb.run_manager:file/dir modified: /content/drive/My Drive/Colab Notebooks/master_project/evaluation/wandb/run-20200501_110843-2bb19uir/wandb-events.jsonl\n",
            "INFO:wandb.run_manager:file/dir modified: /content/drive/My Drive/Colab Notebooks/master_project/evaluation/wandb/run-20200501_110843-2bb19uir/wandb-metadata.json\n",
            "INFO:wandb.run_manager:file/dir modified: /content/drive/My Drive/Colab Notebooks/master_project/evaluation/wandb/run-20200501_110843-2bb19uir/wandb-metadata.json\n",
            "INFO:wandb.run_manager:file/dir modified: /content/drive/My Drive/Colab Notebooks/master_project/evaluation/wandb/run-20200501_110843-2bb19uir/wandb-events.jsonl\n",
            "INFO:wandb.run_manager:file/dir modified: /content/drive/My Drive/Colab Notebooks/master_project/evaluation/wandb/run-20200501_110843-2bb19uir/wandb-metadata.json\n",
            "INFO:wandb.run_manager:file/dir modified: /content/drive/My Drive/Colab Notebooks/master_project/evaluation/wandb/run-20200501_110843-2bb19uir/wandb-metadata.json\n",
            "INFO:wandb.run_manager:file/dir modified: /content/drive/My Drive/Colab Notebooks/master_project/evaluation/wandb/run-20200501_110843-2bb19uir/wandb-events.jsonl\n",
            "INFO:wandb.run_manager:file/dir modified: /content/drive/My Drive/Colab Notebooks/master_project/evaluation/wandb/run-20200501_110843-2bb19uir/wandb-metadata.json\n",
            "INFO:wandb.run_manager:file/dir modified: /content/drive/My Drive/Colab Notebooks/master_project/evaluation/wandb/run-20200501_110843-2bb19uir/wandb-events.jsonl\n",
            "INFO:wandb.run_manager:file/dir modified: /content/drive/My Drive/Colab Notebooks/master_project/evaluation/wandb/run-20200501_110843-2bb19uir/wandb-metadata.json\n",
            "INFO:wandb.run_manager:file/dir modified: /content/drive/My Drive/Colab Notebooks/master_project/evaluation/wandb/run-20200501_110843-2bb19uir/wandb-metadata.json\n",
            "INFO:wandb.run_manager:file/dir modified: /content/drive/My Drive/Colab Notebooks/master_project/evaluation/wandb/run-20200501_110843-2bb19uir/wandb-events.jsonl\n",
            "INFO:wandb.run_manager:file/dir modified: /content/drive/My Drive/Colab Notebooks/master_project/evaluation/wandb/run-20200501_110843-2bb19uir/wandb-metadata.json\n",
            "INFO:wandb.run_manager:file/dir modified: /content/drive/My Drive/Colab Notebooks/master_project/evaluation/wandb/run-20200501_110843-2bb19uir/wandb-metadata.json\n",
            "INFO:wandb.run_manager:file/dir modified: /content/drive/My Drive/Colab Notebooks/master_project/evaluation/wandb/run-20200501_110843-2bb19uir/wandb-events.jsonl\n",
            "INFO:wandb.run_manager:file/dir modified: /content/drive/My Drive/Colab Notebooks/master_project/evaluation/wandb/run-20200501_110843-2bb19uir/wandb-events.jsonl\n",
            "INFO:wandb.run_manager:file/dir modified: /content/drive/My Drive/Colab Notebooks/master_project/evaluation/wandb/run-20200501_110843-2bb19uir/wandb-metadata.json\n",
            "INFO:wandb.run_manager:file/dir modified: /content/drive/My Drive/Colab Notebooks/master_project/evaluation/wandb/run-20200501_110843-2bb19uir/wandb-metadata.json\n",
            "INFO:wandb.run_manager:file/dir modified: /content/drive/My Drive/Colab Notebooks/master_project/evaluation/wandb/run-20200501_110843-2bb19uir/wandb-events.jsonl\n",
            "INFO:wandb.run_manager:file/dir modified: /content/drive/My Drive/Colab Notebooks/master_project/evaluation/wandb/run-20200501_110843-2bb19uir/wandb-metadata.json\n",
            "INFO:wandb.run_manager:file/dir modified: /content/drive/My Drive/Colab Notebooks/master_project/evaluation/wandb/run-20200501_110843-2bb19uir/wandb-metadata.json\n",
            "INFO:wandb.run_manager:file/dir modified: /content/drive/My Drive/Colab Notebooks/master_project/evaluation/wandb/run-20200501_110843-2bb19uir/wandb-events.jsonl\n",
            "INFO:wandb.run_manager:file/dir modified: /content/drive/My Drive/Colab Notebooks/master_project/evaluation/wandb/run-20200501_110843-2bb19uir/wandb-metadata.json\n",
            "INFO:wandb.run_manager:file/dir modified: /content/drive/My Drive/Colab Notebooks/master_project/evaluation/wandb/run-20200501_110843-2bb19uir/wandb-metadata.json\n",
            "INFO:wandb.run_manager:file/dir modified: /content/drive/My Drive/Colab Notebooks/master_project/evaluation/wandb/run-20200501_110843-2bb19uir/wandb-events.jsonl\n",
            "INFO:wandb.run_manager:file/dir modified: /content/drive/My Drive/Colab Notebooks/master_project/evaluation/wandb/run-20200501_110843-2bb19uir/wandb-metadata.json\n",
            "INFO:wandb.run_manager:file/dir modified: /content/drive/My Drive/Colab Notebooks/master_project/evaluation/wandb/run-20200501_110843-2bb19uir/wandb-metadata.json\n",
            "INFO:wandb.run_manager:file/dir modified: /content/drive/My Drive/Colab Notebooks/master_project/evaluation/wandb/run-20200501_110843-2bb19uir/wandb-events.jsonl\n",
            "INFO:wandb.run_manager:file/dir modified: /content/drive/My Drive/Colab Notebooks/master_project/evaluation/wandb/run-20200501_110843-2bb19uir/wandb-metadata.json\n",
            "INFO:wandb.run_manager:file/dir modified: /content/drive/My Drive/Colab Notebooks/master_project/evaluation/wandb/run-20200501_110843-2bb19uir/wandb-metadata.json\n",
            "INFO:wandb.run_manager:file/dir modified: /content/drive/My Drive/Colab Notebooks/master_project/evaluation/wandb/run-20200501_110843-2bb19uir/wandb-events.jsonl\n",
            "INFO:wandb.run_manager:file/dir modified: /content/drive/My Drive/Colab Notebooks/master_project/evaluation/wandb/run-20200501_110843-2bb19uir/wandb-metadata.json\n",
            "INFO:wandb.run_manager:file/dir modified: /content/drive/My Drive/Colab Notebooks/master_project/evaluation/wandb/run-20200501_110843-2bb19uir/wandb-events.jsonl\n",
            "INFO:wandb.run_manager:file/dir modified: /content/drive/My Drive/Colab Notebooks/master_project/evaluation/wandb/run-20200501_110843-2bb19uir/wandb-metadata.json\n",
            "INFO:wandb.run_manager:file/dir modified: /content/drive/My Drive/Colab Notebooks/master_project/evaluation/wandb/run-20200501_110843-2bb19uir/wandb-metadata.json\n",
            "INFO:wandb.run_manager:file/dir modified: /content/drive/My Drive/Colab Notebooks/master_project/evaluation/wandb/run-20200501_110843-2bb19uir/wandb-events.jsonl\n",
            "INFO:wandb.run_manager:file/dir modified: /content/drive/My Drive/Colab Notebooks/master_project/evaluation/wandb/run-20200501_110843-2bb19uir/wandb-metadata.json\n",
            "INFO:wandb.run_manager:file/dir modified: /content/drive/My Drive/Colab Notebooks/master_project/evaluation/wandb/run-20200501_110843-2bb19uir/wandb-metadata.json\n",
            "INFO:wandb.run_manager:file/dir modified: /content/drive/My Drive/Colab Notebooks/master_project/evaluation/wandb/run-20200501_110843-2bb19uir/wandb-events.jsonl\n",
            "INFO:wandb.run_manager:file/dir modified: /content/drive/My Drive/Colab Notebooks/master_project/evaluation/wandb/run-20200501_110843-2bb19uir/wandb-metadata.json\n",
            "INFO:wandb.run_manager:file/dir modified: /content/drive/My Drive/Colab Notebooks/master_project/evaluation/wandb/run-20200501_110843-2bb19uir/wandb-metadata.json\n",
            "INFO:wandb.run_manager:file/dir modified: /content/drive/My Drive/Colab Notebooks/master_project/evaluation/wandb/run-20200501_110843-2bb19uir/wandb-events.jsonl\n",
            "INFO:wandb.run_manager:file/dir modified: /content/drive/My Drive/Colab Notebooks/master_project/evaluation/wandb/run-20200501_110843-2bb19uir/wandb-metadata.json\n",
            "INFO:wandb.run_manager:file/dir modified: /content/drive/My Drive/Colab Notebooks/master_project/evaluation/wandb/run-20200501_110843-2bb19uir/wandb-metadata.json\n",
            "INFO:wandb.run_manager:file/dir modified: /content/drive/My Drive/Colab Notebooks/master_project/evaluation/wandb/run-20200501_110843-2bb19uir/wandb-events.jsonl\n",
            "INFO:wandb.run_manager:file/dir modified: /content/drive/My Drive/Colab Notebooks/master_project/evaluation/wandb/run-20200501_110843-2bb19uir/wandb-metadata.json\n",
            "INFO:wandb.run_manager:file/dir modified: /content/drive/My Drive/Colab Notebooks/master_project/evaluation/wandb/run-20200501_110843-2bb19uir/wandb-metadata.json\n",
            "INFO:wandb.run_manager:file/dir modified: /content/drive/My Drive/Colab Notebooks/master_project/evaluation/wandb/run-20200501_110843-2bb19uir/wandb-events.jsonl\n",
            "INFO:wandb.run_manager:file/dir modified: /content/drive/My Drive/Colab Notebooks/master_project/evaluation/wandb/run-20200501_110843-2bb19uir/wandb-metadata.json\n",
            "INFO:wandb.run_manager:file/dir modified: /content/drive/My Drive/Colab Notebooks/master_project/evaluation/wandb/run-20200501_110843-2bb19uir/wandb-metadata.json\n",
            "INFO:wandb.run_manager:file/dir modified: /content/drive/My Drive/Colab Notebooks/master_project/evaluation/wandb/run-20200501_110843-2bb19uir/wandb-events.jsonl\n",
            "INFO:wandb.run_manager:file/dir modified: /content/drive/My Drive/Colab Notebooks/master_project/evaluation/wandb/run-20200501_110843-2bb19uir/wandb-metadata.json\n",
            "INFO:wandb.run_manager:file/dir modified: /content/drive/My Drive/Colab Notebooks/master_project/evaluation/wandb/run-20200501_110843-2bb19uir/wandb-metadata.json\n",
            "INFO:wandb.run_manager:file/dir modified: /content/drive/My Drive/Colab Notebooks/master_project/evaluation/wandb/run-20200501_110843-2bb19uir/wandb-events.jsonl\n",
            "INFO:wandb.run_manager:file/dir modified: /content/drive/My Drive/Colab Notebooks/master_project/evaluation/wandb/run-20200501_110843-2bb19uir/wandb-metadata.json\n",
            "INFO:wandb.run_manager:file/dir modified: /content/drive/My Drive/Colab Notebooks/master_project/evaluation/wandb/run-20200501_110843-2bb19uir/wandb-metadata.json\n",
            "INFO:wandb.run_manager:file/dir modified: /content/drive/My Drive/Colab Notebooks/master_project/evaluation/wandb/run-20200501_110843-2bb19uir/wandb-events.jsonl\n",
            "INFO:wandb.run_manager:file/dir modified: /content/drive/My Drive/Colab Notebooks/master_project/evaluation/wandb/run-20200501_110843-2bb19uir/wandb-metadata.json\n",
            "INFO:wandb.run_manager:file/dir modified: /content/drive/My Drive/Colab Notebooks/master_project/evaluation/wandb/run-20200501_110843-2bb19uir/wandb-events.jsonl\n",
            "INFO:wandb.run_manager:file/dir modified: /content/drive/My Drive/Colab Notebooks/master_project/evaluation/wandb/run-20200501_110843-2bb19uir/wandb-metadata.json\n",
            "INFO:wandb.run_manager:file/dir modified: /content/drive/My Drive/Colab Notebooks/master_project/evaluation/wandb/run-20200501_110843-2bb19uir/wandb-metadata.json\n",
            "INFO:simpletransformers.classification.classification_model: No improvement in eval_loss\n",
            "INFO:simpletransformers.classification.classification_model: Current step: 1\n",
            "INFO:simpletransformers.classification.classification_model: Early stopping patience: 5\n"
          ],
          "name": "stderr"
        },
        {
          "output_type": "stream",
          "text": [
            "\rRunning loss: 0.499911"
          ],
          "name": "stdout"
        },
        {
          "output_type": "stream",
          "text": [
            "INFO:wandb.run_manager:file/dir modified: /content/drive/My Drive/Colab Notebooks/master_project/evaluation/wandb/run-20200501_110843-2bb19uir/wandb-history.jsonl\n",
            "INFO:wandb.run_manager:file/dir modified: /content/drive/My Drive/Colab Notebooks/master_project/evaluation/wandb/run-20200501_110843-2bb19uir/wandb-summary.json\n"
          ],
          "name": "stderr"
        },
        {
          "output_type": "stream",
          "text": [
            "\rRunning loss: 0.097437"
          ],
          "name": "stdout"
        },
        {
          "output_type": "stream",
          "text": [
            "INFO:wandb.run_manager:file/dir modified: /content/drive/My Drive/Colab Notebooks/master_project/evaluation/wandb/run-20200501_110843-2bb19uir/wandb-events.jsonl\n"
          ],
          "name": "stderr"
        },
        {
          "output_type": "stream",
          "text": [
            "Running loss: 0.292202"
          ],
          "name": "stdout"
        },
        {
          "output_type": "stream",
          "text": [
            "INFO:wandb.run_manager:file/dir modified: /content/drive/My Drive/Colab Notebooks/master_project/evaluation/wandb/run-20200501_110843-2bb19uir/wandb-metadata.json\n"
          ],
          "name": "stderr"
        },
        {
          "output_type": "stream",
          "text": [
            "Running loss: 0.447458"
          ],
          "name": "stdout"
        },
        {
          "output_type": "stream",
          "text": [
            "INFO:wandb.run_manager:file/dir modified: /content/drive/My Drive/Colab Notebooks/master_project/evaluation/wandb/run-20200501_110843-2bb19uir/wandb-history.jsonl\n",
            "INFO:wandb.run_manager:file/dir modified: /content/drive/My Drive/Colab Notebooks/master_project/evaluation/wandb/run-20200501_110843-2bb19uir/wandb-summary.json\n"
          ],
          "name": "stderr"
        },
        {
          "output_type": "stream",
          "text": [
            "Running loss: 0.453818"
          ],
          "name": "stdout"
        },
        {
          "output_type": "stream",
          "text": [
            "INFO:wandb.run_manager:file/dir modified: /content/drive/My Drive/Colab Notebooks/master_project/evaluation/wandb/run-20200501_110843-2bb19uir/wandb-metadata.json\n"
          ],
          "name": "stderr"
        },
        {
          "output_type": "stream",
          "text": [
            "Running loss: 0.307254"
          ],
          "name": "stdout"
        },
        {
          "output_type": "stream",
          "text": [
            "INFO:wandb.run_manager:file/dir modified: /content/drive/My Drive/Colab Notebooks/master_project/evaluation/wandb/run-20200501_110843-2bb19uir/wandb-history.jsonl\n",
            "INFO:wandb.run_manager:file/dir modified: /content/drive/My Drive/Colab Notebooks/master_project/evaluation/wandb/run-20200501_110843-2bb19uir/wandb-summary.json\n"
          ],
          "name": "stderr"
        },
        {
          "output_type": "stream",
          "text": [
            "\rRunning loss: 0.345046"
          ],
          "name": "stdout"
        },
        {
          "output_type": "stream",
          "text": [
            "INFO:wandb.run_manager:file/dir modified: /content/drive/My Drive/Colab Notebooks/master_project/evaluation/wandb/run-20200501_110843-2bb19uir/wandb-events.jsonl\n"
          ],
          "name": "stderr"
        },
        {
          "output_type": "stream",
          "text": [
            "Running loss: 0.162874"
          ],
          "name": "stdout"
        },
        {
          "output_type": "stream",
          "text": [
            "INFO:wandb.run_manager:file/dir modified: /content/drive/My Drive/Colab Notebooks/master_project/evaluation/wandb/run-20200501_110843-2bb19uir/wandb-metadata.json\n"
          ],
          "name": "stderr"
        },
        {
          "output_type": "stream",
          "text": [
            "Running loss: 0.274282"
          ],
          "name": "stdout"
        },
        {
          "output_type": "stream",
          "text": [
            "INFO:wandb.run_manager:file/dir modified: /content/drive/My Drive/Colab Notebooks/master_project/evaluation/wandb/run-20200501_110843-2bb19uir/wandb-history.jsonl\n",
            "INFO:wandb.run_manager:file/dir modified: /content/drive/My Drive/Colab Notebooks/master_project/evaluation/wandb/run-20200501_110843-2bb19uir/wandb-summary.json\n"
          ],
          "name": "stderr"
        },
        {
          "output_type": "stream",
          "text": [
            "Running loss: 0.504417"
          ],
          "name": "stdout"
        },
        {
          "output_type": "stream",
          "text": [
            "INFO:wandb.run_manager:file/dir modified: /content/drive/My Drive/Colab Notebooks/master_project/evaluation/wandb/run-20200501_110843-2bb19uir/wandb-metadata.json\n"
          ],
          "name": "stderr"
        },
        {
          "output_type": "stream",
          "text": [
            "Running loss: 0.485342"
          ],
          "name": "stdout"
        },
        {
          "output_type": "stream",
          "text": [
            "INFO:wandb.run_manager:file/dir modified: /content/drive/My Drive/Colab Notebooks/master_project/evaluation/wandb/run-20200501_110843-2bb19uir/wandb-history.jsonl\n",
            "INFO:wandb.run_manager:file/dir modified: /content/drive/My Drive/Colab Notebooks/master_project/evaluation/wandb/run-20200501_110843-2bb19uir/wandb-summary.json\n"
          ],
          "name": "stderr"
        },
        {
          "output_type": "stream",
          "text": [
            "Running loss: 0.552037"
          ],
          "name": "stdout"
        },
        {
          "output_type": "stream",
          "text": [
            "INFO:wandb.run_manager:file/dir modified: /content/drive/My Drive/Colab Notebooks/master_project/evaluation/wandb/run-20200501_110843-2bb19uir/wandb-events.jsonl\n"
          ],
          "name": "stderr"
        },
        {
          "output_type": "stream",
          "text": [
            "Running loss: 0.247858"
          ],
          "name": "stdout"
        },
        {
          "output_type": "stream",
          "text": [
            "INFO:wandb.run_manager:file/dir modified: /content/drive/My Drive/Colab Notebooks/master_project/evaluation/wandb/run-20200501_110843-2bb19uir/wandb-metadata.json\n"
          ],
          "name": "stderr"
        },
        {
          "output_type": "stream",
          "text": [
            "Running loss: 0.810811"
          ],
          "name": "stdout"
        },
        {
          "output_type": "stream",
          "text": [
            "INFO:wandb.run_manager:file/dir modified: /content/drive/My Drive/Colab Notebooks/master_project/evaluation/wandb/run-20200501_110843-2bb19uir/wandb-history.jsonl\n",
            "INFO:wandb.run_manager:file/dir modified: /content/drive/My Drive/Colab Notebooks/master_project/evaluation/wandb/run-20200501_110843-2bb19uir/wandb-summary.json\n"
          ],
          "name": "stderr"
        },
        {
          "output_type": "stream",
          "text": [
            "Running loss: 0.321376"
          ],
          "name": "stdout"
        },
        {
          "output_type": "stream",
          "text": [
            "INFO:wandb.run_manager:file/dir modified: /content/drive/My Drive/Colab Notebooks/master_project/evaluation/wandb/run-20200501_110843-2bb19uir/wandb-metadata.json\n"
          ],
          "name": "stderr"
        },
        {
          "output_type": "stream",
          "text": [
            "Running loss: 0.495143"
          ],
          "name": "stdout"
        },
        {
          "output_type": "stream",
          "text": [
            "INFO:wandb.run_manager:file/dir modified: /content/drive/My Drive/Colab Notebooks/master_project/evaluation/wandb/run-20200501_110843-2bb19uir/wandb-history.jsonl\n",
            "INFO:wandb.run_manager:file/dir modified: /content/drive/My Drive/Colab Notebooks/master_project/evaluation/wandb/run-20200501_110843-2bb19uir/wandb-summary.json\n"
          ],
          "name": "stderr"
        },
        {
          "output_type": "stream",
          "text": [
            "\rRunning loss: 0.693497"
          ],
          "name": "stdout"
        },
        {
          "output_type": "stream",
          "text": [
            "INFO:wandb.run_manager:file/dir modified: /content/drive/My Drive/Colab Notebooks/master_project/evaluation/wandb/run-20200501_110843-2bb19uir/wandb-events.jsonl\n"
          ],
          "name": "stderr"
        },
        {
          "output_type": "stream",
          "text": [
            "Running loss: 0.176467"
          ],
          "name": "stdout"
        },
        {
          "output_type": "stream",
          "text": [
            "INFO:wandb.run_manager:file/dir modified: /content/drive/My Drive/Colab Notebooks/master_project/evaluation/wandb/run-20200501_110843-2bb19uir/wandb-history.jsonl\n"
          ],
          "name": "stderr"
        },
        {
          "output_type": "stream",
          "text": [
            "Running loss: 0.359083"
          ],
          "name": "stdout"
        },
        {
          "output_type": "stream",
          "text": [
            "INFO:wandb.run_manager:file/dir modified: /content/drive/My Drive/Colab Notebooks/master_project/evaluation/wandb/run-20200501_110843-2bb19uir/wandb-metadata.json\n"
          ],
          "name": "stderr"
        },
        {
          "output_type": "stream",
          "text": [
            "Running loss: 0.682410"
          ],
          "name": "stdout"
        },
        {
          "output_type": "stream",
          "text": [
            "INFO:wandb.run_manager:file/dir modified: /content/drive/My Drive/Colab Notebooks/master_project/evaluation/wandb/run-20200501_110843-2bb19uir/wandb-history.jsonl\n",
            "INFO:wandb.run_manager:file/dir modified: /content/drive/My Drive/Colab Notebooks/master_project/evaluation/wandb/run-20200501_110843-2bb19uir/wandb-summary.json\n"
          ],
          "name": "stderr"
        },
        {
          "output_type": "stream",
          "text": [
            "Running loss: 0.180174"
          ],
          "name": "stdout"
        },
        {
          "output_type": "stream",
          "text": [
            "INFO:wandb.run_manager:file/dir modified: /content/drive/My Drive/Colab Notebooks/master_project/evaluation/wandb/run-20200501_110843-2bb19uir/wandb-metadata.json\n"
          ],
          "name": "stderr"
        },
        {
          "output_type": "stream",
          "text": [
            "Running loss: 0.380305"
          ],
          "name": "stdout"
        },
        {
          "output_type": "stream",
          "text": [
            "INFO:wandb.run_manager:file/dir modified: /content/drive/My Drive/Colab Notebooks/master_project/evaluation/wandb/run-20200501_110843-2bb19uir/wandb-history.jsonl\n",
            "INFO:wandb.run_manager:file/dir modified: /content/drive/My Drive/Colab Notebooks/master_project/evaluation/wandb/run-20200501_110843-2bb19uir/wandb-summary.json\n"
          ],
          "name": "stderr"
        },
        {
          "output_type": "stream",
          "text": [
            "Running loss: 0.480142"
          ],
          "name": "stdout"
        },
        {
          "output_type": "stream",
          "text": [
            "INFO:wandb.run_manager:file/dir modified: /content/drive/My Drive/Colab Notebooks/master_project/evaluation/wandb/run-20200501_110843-2bb19uir/wandb-events.jsonl\n"
          ],
          "name": "stderr"
        },
        {
          "output_type": "stream",
          "text": [
            "Running loss: 0.178534"
          ],
          "name": "stdout"
        },
        {
          "output_type": "stream",
          "text": [
            "INFO:wandb.run_manager:file/dir modified: /content/drive/My Drive/Colab Notebooks/master_project/evaluation/wandb/run-20200501_110843-2bb19uir/wandb-metadata.json\n"
          ],
          "name": "stderr"
        },
        {
          "output_type": "stream",
          "text": [
            "Running loss: 0.380282"
          ],
          "name": "stdout"
        },
        {
          "output_type": "stream",
          "text": [
            "INFO:wandb.run_manager:file/dir modified: /content/drive/My Drive/Colab Notebooks/master_project/evaluation/wandb/run-20200501_110843-2bb19uir/wandb-history.jsonl\n",
            "INFO:wandb.run_manager:file/dir modified: /content/drive/My Drive/Colab Notebooks/master_project/evaluation/wandb/run-20200501_110843-2bb19uir/wandb-summary.json\n"
          ],
          "name": "stderr"
        },
        {
          "output_type": "stream",
          "text": [
            "Running loss: 0.533595"
          ],
          "name": "stdout"
        },
        {
          "output_type": "stream",
          "text": [
            "INFO:wandb.run_manager:file/dir modified: /content/drive/My Drive/Colab Notebooks/master_project/evaluation/wandb/run-20200501_110843-2bb19uir/wandb-metadata.json\n"
          ],
          "name": "stderr"
        },
        {
          "output_type": "stream",
          "text": [
            "Running loss: 0.204646"
          ],
          "name": "stdout"
        },
        {
          "output_type": "stream",
          "text": [
            "INFO:wandb.run_manager:file/dir modified: /content/drive/My Drive/Colab Notebooks/master_project/evaluation/wandb/run-20200501_110843-2bb19uir/wandb-events.jsonl\n",
            "INFO:wandb.run_manager:file/dir modified: /content/drive/My Drive/Colab Notebooks/master_project/evaluation/wandb/run-20200501_110843-2bb19uir/wandb-history.jsonl\n",
            "INFO:wandb.run_manager:file/dir modified: /content/drive/My Drive/Colab Notebooks/master_project/evaluation/wandb/run-20200501_110843-2bb19uir/wandb-summary.json\n",
            "INFO:wandb.run_manager:file/dir modified: /content/drive/My Drive/Colab Notebooks/master_project/evaluation/wandb/run-20200501_110843-2bb19uir/wandb-metadata.json\n",
            "INFO:wandb.run_manager:file/dir modified: /content/drive/My Drive/Colab Notebooks/master_project/evaluation/wandb/run-20200501_110843-2bb19uir/wandb-metadata.json\n",
            "INFO:wandb.run_manager:file/dir modified: /content/drive/My Drive/Colab Notebooks/master_project/evaluation/wandb/run-20200501_110843-2bb19uir/wandb-metadata.json\n",
            "INFO:wandb.run_manager:file/dir modified: /content/drive/My Drive/Colab Notebooks/master_project/evaluation/wandb/run-20200501_110843-2bb19uir/wandb-metadata.json\n",
            "INFO:wandb.run_manager:file/dir modified: /content/drive/My Drive/Colab Notebooks/master_project/evaluation/wandb/run-20200501_110843-2bb19uir/wandb-events.jsonl\n",
            "INFO:wandb.run_manager:file/dir modified: /content/drive/My Drive/Colab Notebooks/master_project/evaluation/wandb/run-20200501_110843-2bb19uir/wandb-metadata.json\n",
            "INFO:wandb.run_manager:file/dir modified: /content/drive/My Drive/Colab Notebooks/master_project/evaluation/wandb/run-20200501_110843-2bb19uir/wandb-metadata.json\n",
            "INFO:wandb.run_manager:file/dir modified: /content/drive/My Drive/Colab Notebooks/master_project/evaluation/wandb/run-20200501_110843-2bb19uir/wandb-events.jsonl\n",
            "INFO:wandb.run_manager:file/dir modified: /content/drive/My Drive/Colab Notebooks/master_project/evaluation/wandb/run-20200501_110843-2bb19uir/wandb-metadata.json\n",
            "INFO:wandb.run_manager:file/dir modified: /content/drive/My Drive/Colab Notebooks/master_project/evaluation/wandb/run-20200501_110843-2bb19uir/wandb-metadata.json\n",
            "INFO:wandb.run_manager:file/dir modified: /content/drive/My Drive/Colab Notebooks/master_project/evaluation/wandb/run-20200501_110843-2bb19uir/wandb-events.jsonl\n",
            "INFO:wandb.run_manager:file/dir modified: /content/drive/My Drive/Colab Notebooks/master_project/evaluation/wandb/run-20200501_110843-2bb19uir/wandb-metadata.json\n",
            "INFO:wandb.run_manager:file/dir modified: /content/drive/My Drive/Colab Notebooks/master_project/evaluation/wandb/run-20200501_110843-2bb19uir/wandb-metadata.json\n",
            "INFO:wandb.run_manager:file/dir modified: /content/drive/My Drive/Colab Notebooks/master_project/evaluation/wandb/run-20200501_110843-2bb19uir/wandb-events.jsonl\n",
            "INFO:wandb.run_manager:file/dir modified: /content/drive/My Drive/Colab Notebooks/master_project/evaluation/wandb/run-20200501_110843-2bb19uir/wandb-metadata.json\n",
            "INFO:wandb.run_manager:file/dir modified: /content/drive/My Drive/Colab Notebooks/master_project/evaluation/wandb/run-20200501_110843-2bb19uir/wandb-metadata.json\n",
            "INFO:wandb.run_manager:file/dir modified: /content/drive/My Drive/Colab Notebooks/master_project/evaluation/wandb/run-20200501_110843-2bb19uir/wandb-events.jsonl\n",
            "INFO:wandb.run_manager:file/dir modified: /content/drive/My Drive/Colab Notebooks/master_project/evaluation/wandb/run-20200501_110843-2bb19uir/wandb-metadata.json\n",
            "INFO:wandb.run_manager:file/dir modified: /content/drive/My Drive/Colab Notebooks/master_project/evaluation/wandb/run-20200501_110843-2bb19uir/wandb-metadata.json\n",
            "INFO:wandb.run_manager:file/dir modified: /content/drive/My Drive/Colab Notebooks/master_project/evaluation/wandb/run-20200501_110843-2bb19uir/wandb-events.jsonl\n",
            "INFO:wandb.run_manager:file/dir modified: /content/drive/My Drive/Colab Notebooks/master_project/evaluation/wandb/run-20200501_110843-2bb19uir/wandb-metadata.json\n",
            "INFO:wandb.run_manager:file/dir modified: /content/drive/My Drive/Colab Notebooks/master_project/evaluation/wandb/run-20200501_110843-2bb19uir/wandb-metadata.json\n",
            "INFO:wandb.run_manager:file/dir modified: /content/drive/My Drive/Colab Notebooks/master_project/evaluation/wandb/run-20200501_110843-2bb19uir/wandb-events.jsonl\n",
            "INFO:wandb.run_manager:file/dir modified: /content/drive/My Drive/Colab Notebooks/master_project/evaluation/wandb/run-20200501_110843-2bb19uir/wandb-metadata.json\n",
            "INFO:wandb.run_manager:file/dir modified: /content/drive/My Drive/Colab Notebooks/master_project/evaluation/wandb/run-20200501_110843-2bb19uir/wandb-events.jsonl\n",
            "INFO:wandb.run_manager:file/dir modified: /content/drive/My Drive/Colab Notebooks/master_project/evaluation/wandb/run-20200501_110843-2bb19uir/wandb-metadata.json\n",
            "INFO:wandb.run_manager:file/dir modified: /content/drive/My Drive/Colab Notebooks/master_project/evaluation/wandb/run-20200501_110843-2bb19uir/wandb-metadata.json\n",
            "INFO:wandb.run_manager:file/dir modified: /content/drive/My Drive/Colab Notebooks/master_project/evaluation/wandb/run-20200501_110843-2bb19uir/wandb-events.jsonl\n",
            "INFO:wandb.run_manager:file/dir modified: /content/drive/My Drive/Colab Notebooks/master_project/evaluation/wandb/run-20200501_110843-2bb19uir/wandb-metadata.json\n",
            "INFO:wandb.run_manager:file/dir modified: /content/drive/My Drive/Colab Notebooks/master_project/evaluation/wandb/run-20200501_110843-2bb19uir/wandb-events.jsonl\n",
            "INFO:wandb.run_manager:file/dir modified: /content/drive/My Drive/Colab Notebooks/master_project/evaluation/wandb/run-20200501_110843-2bb19uir/wandb-metadata.json\n",
            "INFO:wandb.run_manager:file/dir modified: /content/drive/My Drive/Colab Notebooks/master_project/evaluation/wandb/run-20200501_110843-2bb19uir/wandb-events.jsonl\n",
            "INFO:wandb.run_manager:file/dir modified: /content/drive/My Drive/Colab Notebooks/master_project/evaluation/wandb/run-20200501_110843-2bb19uir/wandb-metadata.json\n",
            "INFO:wandb.run_manager:file/dir modified: /content/drive/My Drive/Colab Notebooks/master_project/evaluation/wandb/run-20200501_110843-2bb19uir/wandb-metadata.json\n",
            "INFO:wandb.run_manager:file/dir modified: /content/drive/My Drive/Colab Notebooks/master_project/evaluation/wandb/run-20200501_110843-2bb19uir/wandb-events.jsonl\n",
            "INFO:wandb.run_manager:file/dir modified: /content/drive/My Drive/Colab Notebooks/master_project/evaluation/wandb/run-20200501_110843-2bb19uir/wandb-metadata.json\n",
            "INFO:wandb.run_manager:file/dir modified: /content/drive/My Drive/Colab Notebooks/master_project/evaluation/wandb/run-20200501_110843-2bb19uir/wandb-metadata.json\n",
            "INFO:wandb.run_manager:file/dir modified: /content/drive/My Drive/Colab Notebooks/master_project/evaluation/wandb/run-20200501_110843-2bb19uir/wandb-events.jsonl\n",
            "INFO:wandb.run_manager:file/dir modified: /content/drive/My Drive/Colab Notebooks/master_project/evaluation/wandb/run-20200501_110843-2bb19uir/wandb-metadata.json\n",
            "INFO:wandb.run_manager:file/dir modified: /content/drive/My Drive/Colab Notebooks/master_project/evaluation/wandb/run-20200501_110843-2bb19uir/wandb-metadata.json\n",
            "INFO:wandb.run_manager:file/dir modified: /content/drive/My Drive/Colab Notebooks/master_project/evaluation/wandb/run-20200501_110843-2bb19uir/wandb-events.jsonl\n",
            "INFO:wandb.run_manager:file/dir modified: /content/drive/My Drive/Colab Notebooks/master_project/evaluation/wandb/run-20200501_110843-2bb19uir/wandb-metadata.json\n",
            "INFO:wandb.run_manager:file/dir modified: /content/drive/My Drive/Colab Notebooks/master_project/evaluation/wandb/run-20200501_110843-2bb19uir/wandb-metadata.json\n",
            "INFO:wandb.run_manager:file/dir modified: /content/drive/My Drive/Colab Notebooks/master_project/evaluation/wandb/run-20200501_110843-2bb19uir/wandb-events.jsonl\n",
            "INFO:wandb.run_manager:file/dir modified: /content/drive/My Drive/Colab Notebooks/master_project/evaluation/wandb/run-20200501_110843-2bb19uir/wandb-metadata.json\n",
            "INFO:wandb.run_manager:file/dir modified: /content/drive/My Drive/Colab Notebooks/master_project/evaluation/wandb/run-20200501_110843-2bb19uir/wandb-metadata.json\n",
            "INFO:wandb.run_manager:file/dir modified: /content/drive/My Drive/Colab Notebooks/master_project/evaluation/wandb/run-20200501_110843-2bb19uir/wandb-events.jsonl\n",
            "INFO:wandb.run_manager:file/dir modified: /content/drive/My Drive/Colab Notebooks/master_project/evaluation/wandb/run-20200501_110843-2bb19uir/wandb-metadata.json\n",
            "INFO:wandb.run_manager:file/dir modified: /content/drive/My Drive/Colab Notebooks/master_project/evaluation/wandb/run-20200501_110843-2bb19uir/wandb-events.jsonl\n",
            "INFO:wandb.run_manager:file/dir modified: /content/drive/My Drive/Colab Notebooks/master_project/evaluation/wandb/run-20200501_110843-2bb19uir/wandb-metadata.json\n",
            "INFO:wandb.run_manager:file/dir modified: /content/drive/My Drive/Colab Notebooks/master_project/evaluation/wandb/run-20200501_110843-2bb19uir/wandb-metadata.json\n",
            "INFO:wandb.run_manager:file/dir modified: /content/drive/My Drive/Colab Notebooks/master_project/evaluation/wandb/run-20200501_110843-2bb19uir/wandb-events.jsonl\n",
            "INFO:wandb.run_manager:file/dir modified: /content/drive/My Drive/Colab Notebooks/master_project/evaluation/wandb/run-20200501_110843-2bb19uir/wandb-metadata.json\n",
            "INFO:wandb.run_manager:file/dir modified: /content/drive/My Drive/Colab Notebooks/master_project/evaluation/wandb/run-20200501_110843-2bb19uir/wandb-metadata.json\n",
            "INFO:wandb.run_manager:file/dir modified: /content/drive/My Drive/Colab Notebooks/master_project/evaluation/wandb/run-20200501_110843-2bb19uir/wandb-events.jsonl\n",
            "INFO:wandb.run_manager:file/dir modified: /content/drive/My Drive/Colab Notebooks/master_project/evaluation/wandb/run-20200501_110843-2bb19uir/wandb-metadata.json\n",
            "INFO:wandb.run_manager:file/dir modified: /content/drive/My Drive/Colab Notebooks/master_project/evaluation/wandb/run-20200501_110843-2bb19uir/wandb-metadata.json\n",
            "INFO:wandb.run_manager:file/dir modified: /content/drive/My Drive/Colab Notebooks/master_project/evaluation/wandb/run-20200501_110843-2bb19uir/wandb-events.jsonl\n",
            "INFO:wandb.run_manager:file/dir modified: /content/drive/My Drive/Colab Notebooks/master_project/evaluation/wandb/run-20200501_110843-2bb19uir/wandb-metadata.json\n",
            "INFO:wandb.run_manager:file/dir modified: /content/drive/My Drive/Colab Notebooks/master_project/evaluation/wandb/run-20200501_110843-2bb19uir/wandb-metadata.json\n",
            "INFO:wandb.run_manager:file/dir modified: /content/drive/My Drive/Colab Notebooks/master_project/evaluation/wandb/run-20200501_110843-2bb19uir/wandb-events.jsonl\n",
            "INFO:wandb.run_manager:file/dir modified: /content/drive/My Drive/Colab Notebooks/master_project/evaluation/wandb/run-20200501_110843-2bb19uir/wandb-metadata.json\n",
            "INFO:wandb.run_manager:file/dir modified: /content/drive/My Drive/Colab Notebooks/master_project/evaluation/wandb/run-20200501_110843-2bb19uir/wandb-metadata.json\n",
            "INFO:wandb.run_manager:file/dir modified: /content/drive/My Drive/Colab Notebooks/master_project/evaluation/wandb/run-20200501_110843-2bb19uir/wandb-events.jsonl\n",
            "INFO:wandb.run_manager:file/dir modified: /content/drive/My Drive/Colab Notebooks/master_project/evaluation/wandb/run-20200501_110843-2bb19uir/wandb-metadata.json\n",
            "INFO:wandb.run_manager:file/dir modified: /content/drive/My Drive/Colab Notebooks/master_project/evaluation/wandb/run-20200501_110843-2bb19uir/wandb-metadata.json\n",
            "INFO:wandb.run_manager:file/dir modified: /content/drive/My Drive/Colab Notebooks/master_project/evaluation/wandb/run-20200501_110843-2bb19uir/wandb-events.jsonl\n",
            "INFO:wandb.run_manager:file/dir modified: /content/drive/My Drive/Colab Notebooks/master_project/evaluation/wandb/run-20200501_110843-2bb19uir/wandb-metadata.json\n",
            "INFO:wandb.run_manager:file/dir modified: /content/drive/My Drive/Colab Notebooks/master_project/evaluation/wandb/run-20200501_110843-2bb19uir/wandb-metadata.json\n",
            "INFO:wandb.run_manager:file/dir modified: /content/drive/My Drive/Colab Notebooks/master_project/evaluation/wandb/run-20200501_110843-2bb19uir/wandb-events.jsonl\n",
            "INFO:simpletransformers.classification.classification_model: No improvement in eval_loss\n",
            "INFO:simpletransformers.classification.classification_model: Current step: 2\n",
            "INFO:simpletransformers.classification.classification_model: Early stopping patience: 5\n",
            "INFO:wandb.run_manager:file/dir modified: /content/drive/My Drive/Colab Notebooks/master_project/evaluation/wandb/run-20200501_110843-2bb19uir/wandb-history.jsonl\n",
            "INFO:wandb.run_manager:file/dir modified: /content/drive/My Drive/Colab Notebooks/master_project/evaluation/wandb/run-20200501_110843-2bb19uir/wandb-summary.json\n"
          ],
          "name": "stderr"
        },
        {
          "output_type": "stream",
          "text": [
            "Running loss: 0.183835"
          ],
          "name": "stdout"
        },
        {
          "output_type": "stream",
          "text": [
            "INFO:wandb.run_manager:file/dir modified: /content/drive/My Drive/Colab Notebooks/master_project/evaluation/wandb/run-20200501_110843-2bb19uir/wandb-metadata.json\n"
          ],
          "name": "stderr"
        },
        {
          "output_type": "stream",
          "text": [
            "Running loss: 0.398357"
          ],
          "name": "stdout"
        },
        {
          "output_type": "stream",
          "text": [
            "INFO:wandb.run_manager:file/dir modified: /content/drive/My Drive/Colab Notebooks/master_project/evaluation/wandb/run-20200501_110843-2bb19uir/wandb-history.jsonl\n",
            "INFO:wandb.run_manager:file/dir modified: /content/drive/My Drive/Colab Notebooks/master_project/evaluation/wandb/run-20200501_110843-2bb19uir/wandb-summary.json\n"
          ],
          "name": "stderr"
        },
        {
          "output_type": "stream",
          "text": [
            "Running loss: 0.502695"
          ],
          "name": "stdout"
        },
        {
          "output_type": "stream",
          "text": [
            "INFO:wandb.run_manager:file/dir modified: /content/drive/My Drive/Colab Notebooks/master_project/evaluation/wandb/run-20200501_110843-2bb19uir/wandb-metadata.json\n"
          ],
          "name": "stderr"
        },
        {
          "output_type": "stream",
          "text": [
            "\rRunning loss: 0.329171"
          ],
          "name": "stdout"
        },
        {
          "output_type": "stream",
          "text": [
            "INFO:wandb.run_manager:file/dir modified: /content/drive/My Drive/Colab Notebooks/master_project/evaluation/wandb/run-20200501_110843-2bb19uir/wandb-events.jsonl\n"
          ],
          "name": "stderr"
        },
        {
          "output_type": "stream",
          "text": [
            "Running loss: 0.055493"
          ],
          "name": "stdout"
        },
        {
          "output_type": "stream",
          "text": [
            "INFO:wandb.run_manager:file/dir modified: /content/drive/My Drive/Colab Notebooks/master_project/evaluation/wandb/run-20200501_110843-2bb19uir/wandb-history.jsonl\n",
            "INFO:wandb.run_manager:file/dir modified: /content/drive/My Drive/Colab Notebooks/master_project/evaluation/wandb/run-20200501_110843-2bb19uir/wandb-summary.json\n"
          ],
          "name": "stderr"
        },
        {
          "output_type": "stream",
          "text": [
            "Running loss: 0.487710"
          ],
          "name": "stdout"
        },
        {
          "output_type": "stream",
          "text": [
            "INFO:wandb.run_manager:file/dir modified: /content/drive/My Drive/Colab Notebooks/master_project/evaluation/wandb/run-20200501_110843-2bb19uir/wandb-events.jsonl\n"
          ],
          "name": "stderr"
        },
        {
          "output_type": "stream",
          "text": [
            "Running loss: 0.445184"
          ],
          "name": "stdout"
        },
        {
          "output_type": "stream",
          "text": [
            "INFO:wandb.run_manager:file/dir modified: /content/drive/My Drive/Colab Notebooks/master_project/evaluation/wandb/run-20200501_110843-2bb19uir/wandb-metadata.json\n"
          ],
          "name": "stderr"
        },
        {
          "output_type": "stream",
          "text": [
            "Running loss: 0.417713"
          ],
          "name": "stdout"
        },
        {
          "output_type": "stream",
          "text": [
            "INFO:wandb.run_manager:file/dir modified: /content/drive/My Drive/Colab Notebooks/master_project/evaluation/wandb/run-20200501_110843-2bb19uir/wandb-history.jsonl\n",
            "INFO:wandb.run_manager:file/dir modified: /content/drive/My Drive/Colab Notebooks/master_project/evaluation/wandb/run-20200501_110843-2bb19uir/wandb-summary.json\n"
          ],
          "name": "stderr"
        },
        {
          "output_type": "stream",
          "text": [
            "Running loss: 0.265728"
          ],
          "name": "stdout"
        },
        {
          "output_type": "stream",
          "text": [
            "INFO:wandb.run_manager:file/dir modified: /content/drive/My Drive/Colab Notebooks/master_project/evaluation/wandb/run-20200501_110843-2bb19uir/wandb-events.jsonl\n"
          ],
          "name": "stderr"
        },
        {
          "output_type": "stream",
          "text": [
            "\rRunning loss: 0.263970"
          ],
          "name": "stdout"
        },
        {
          "output_type": "stream",
          "text": [
            "INFO:wandb.run_manager:file/dir modified: /content/drive/My Drive/Colab Notebooks/master_project/evaluation/wandb/run-20200501_110843-2bb19uir/wandb-metadata.json\n"
          ],
          "name": "stderr"
        },
        {
          "output_type": "stream",
          "text": [
            "Running loss: 0.137107"
          ],
          "name": "stdout"
        },
        {
          "output_type": "stream",
          "text": [
            "INFO:wandb.run_manager:file/dir modified: /content/drive/My Drive/Colab Notebooks/master_project/evaluation/wandb/run-20200501_110843-2bb19uir/wandb-history.jsonl\n",
            "INFO:wandb.run_manager:file/dir modified: /content/drive/My Drive/Colab Notebooks/master_project/evaluation/wandb/run-20200501_110843-2bb19uir/wandb-summary.json\n"
          ],
          "name": "stderr"
        },
        {
          "output_type": "stream",
          "text": [
            "Running loss: 0.460054"
          ],
          "name": "stdout"
        },
        {
          "output_type": "stream",
          "text": [
            "INFO:wandb.run_manager:file/dir modified: /content/drive/My Drive/Colab Notebooks/master_project/evaluation/wandb/run-20200501_110843-2bb19uir/wandb-metadata.json\n"
          ],
          "name": "stderr"
        },
        {
          "output_type": "stream",
          "text": [
            "Running loss: 0.498263"
          ],
          "name": "stdout"
        },
        {
          "output_type": "stream",
          "text": [
            "INFO:wandb.run_manager:file/dir modified: /content/drive/My Drive/Colab Notebooks/master_project/evaluation/wandb/run-20200501_110843-2bb19uir/wandb-history.jsonl\n",
            "INFO:wandb.run_manager:file/dir modified: /content/drive/My Drive/Colab Notebooks/master_project/evaluation/wandb/run-20200501_110843-2bb19uir/wandb-summary.json\n"
          ],
          "name": "stderr"
        },
        {
          "output_type": "stream",
          "text": [
            "Running loss: 0.229472"
          ],
          "name": "stdout"
        },
        {
          "output_type": "stream",
          "text": [
            "INFO:wandb.run_manager:file/dir modified: /content/drive/My Drive/Colab Notebooks/master_project/evaluation/wandb/run-20200501_110843-2bb19uir/wandb-events.jsonl\n"
          ],
          "name": "stderr"
        },
        {
          "output_type": "stream",
          "text": [
            "Running loss: 0.178284"
          ],
          "name": "stdout"
        },
        {
          "output_type": "stream",
          "text": [
            "INFO:wandb.run_manager:file/dir modified: /content/drive/My Drive/Colab Notebooks/master_project/evaluation/wandb/run-20200501_110843-2bb19uir/wandb-metadata.json\n"
          ],
          "name": "stderr"
        },
        {
          "output_type": "stream",
          "text": [
            "Running loss: 0.292325"
          ],
          "name": "stdout"
        },
        {
          "output_type": "stream",
          "text": [
            "INFO:wandb.run_manager:file/dir modified: /content/drive/My Drive/Colab Notebooks/master_project/evaluation/wandb/run-20200501_110843-2bb19uir/wandb-history.jsonl\n",
            "INFO:wandb.run_manager:file/dir modified: /content/drive/My Drive/Colab Notebooks/master_project/evaluation/wandb/run-20200501_110843-2bb19uir/wandb-summary.json\n"
          ],
          "name": "stderr"
        },
        {
          "output_type": "stream",
          "text": [
            "Running loss: 0.337849"
          ],
          "name": "stdout"
        },
        {
          "output_type": "stream",
          "text": [
            "INFO:wandb.run_manager:file/dir modified: /content/drive/My Drive/Colab Notebooks/master_project/evaluation/wandb/run-20200501_110843-2bb19uir/wandb-metadata.json\n"
          ],
          "name": "stderr"
        },
        {
          "output_type": "stream",
          "text": [
            "\rRunning loss: 0.581396"
          ],
          "name": "stdout"
        },
        {
          "output_type": "stream",
          "text": [
            "INFO:wandb.run_manager:file/dir modified: /content/drive/My Drive/Colab Notebooks/master_project/evaluation/wandb/run-20200501_110843-2bb19uir/wandb-history.jsonl\n",
            "INFO:wandb.run_manager:file/dir modified: /content/drive/My Drive/Colab Notebooks/master_project/evaluation/wandb/run-20200501_110843-2bb19uir/wandb-summary.json\n"
          ],
          "name": "stderr"
        },
        {
          "output_type": "stream",
          "text": [
            "Running loss: 0.256261"
          ],
          "name": "stdout"
        },
        {
          "output_type": "stream",
          "text": [
            "INFO:wandb.run_manager:file/dir modified: /content/drive/My Drive/Colab Notebooks/master_project/evaluation/wandb/run-20200501_110843-2bb19uir/wandb-events.jsonl\n"
          ],
          "name": "stderr"
        },
        {
          "output_type": "stream",
          "text": [
            "Running loss: 0.333237"
          ],
          "name": "stdout"
        },
        {
          "output_type": "stream",
          "text": [
            "INFO:wandb.run_manager:file/dir modified: /content/drive/My Drive/Colab Notebooks/master_project/evaluation/wandb/run-20200501_110843-2bb19uir/wandb-history.jsonl\n"
          ],
          "name": "stderr"
        },
        {
          "output_type": "stream",
          "text": [
            "Running loss: 0.570506"
          ],
          "name": "stdout"
        },
        {
          "output_type": "stream",
          "text": [
            "INFO:wandb.run_manager:file/dir modified: /content/drive/My Drive/Colab Notebooks/master_project/evaluation/wandb/run-20200501_110843-2bb19uir/wandb-history.jsonl\n",
            "INFO:wandb.run_manager:file/dir modified: /content/drive/My Drive/Colab Notebooks/master_project/evaluation/wandb/run-20200501_110843-2bb19uir/wandb-summary.json\n"
          ],
          "name": "stderr"
        },
        {
          "output_type": "stream",
          "text": [
            "\rRunning loss: 0.302420"
          ],
          "name": "stdout"
        },
        {
          "output_type": "stream",
          "text": [
            "INFO:wandb.run_manager:file/dir modified: /content/drive/My Drive/Colab Notebooks/master_project/evaluation/wandb/run-20200501_110843-2bb19uir/wandb-metadata.json\n"
          ],
          "name": "stderr"
        },
        {
          "output_type": "stream",
          "text": [
            "Running loss: 0.454955"
          ],
          "name": "stdout"
        },
        {
          "output_type": "stream",
          "text": [
            "INFO:wandb.run_manager:file/dir modified: /content/drive/My Drive/Colab Notebooks/master_project/evaluation/wandb/run-20200501_110843-2bb19uir/wandb-history.jsonl\n",
            "INFO:wandb.run_manager:file/dir modified: /content/drive/My Drive/Colab Notebooks/master_project/evaluation/wandb/run-20200501_110843-2bb19uir/wandb-summary.json\n"
          ],
          "name": "stderr"
        },
        {
          "output_type": "stream",
          "text": [
            "Running loss: 0.200552"
          ],
          "name": "stdout"
        },
        {
          "output_type": "stream",
          "text": [
            "INFO:wandb.run_manager:file/dir modified: /content/drive/My Drive/Colab Notebooks/master_project/evaluation/wandb/run-20200501_110843-2bb19uir/wandb-metadata.json\n"
          ],
          "name": "stderr"
        },
        {
          "output_type": "stream",
          "text": [
            "Running loss: 0.360102"
          ],
          "name": "stdout"
        },
        {
          "output_type": "stream",
          "text": [
            "INFO:wandb.run_manager:file/dir modified: /content/drive/My Drive/Colab Notebooks/master_project/evaluation/wandb/run-20200501_110843-2bb19uir/wandb-events.jsonl\n"
          ],
          "name": "stderr"
        },
        {
          "output_type": "stream",
          "text": [
            "Running loss: 0.246597"
          ],
          "name": "stdout"
        },
        {
          "output_type": "stream",
          "text": [
            "INFO:wandb.run_manager:file/dir modified: /content/drive/My Drive/Colab Notebooks/master_project/evaluation/wandb/run-20200501_110843-2bb19uir/wandb-history.jsonl\n",
            "INFO:wandb.run_manager:file/dir modified: /content/drive/My Drive/Colab Notebooks/master_project/evaluation/wandb/run-20200501_110843-2bb19uir/wandb-summary.json\n",
            "INFO:wandb.run_manager:file/dir modified: /content/drive/My Drive/Colab Notebooks/master_project/evaluation/wandb/run-20200501_110843-2bb19uir/wandb-metadata.json\n",
            "INFO:wandb.run_manager:file/dir modified: /content/drive/My Drive/Colab Notebooks/master_project/evaluation/wandb/run-20200501_110843-2bb19uir/wandb-metadata.json\n",
            "INFO:wandb.run_manager:file/dir modified: /content/drive/My Drive/Colab Notebooks/master_project/evaluation/wandb/run-20200501_110843-2bb19uir/wandb-events.jsonl\n",
            "INFO:wandb.run_manager:file/dir modified: /content/drive/My Drive/Colab Notebooks/master_project/evaluation/wandb/run-20200501_110843-2bb19uir/wandb-metadata.json\n",
            "INFO:wandb.run_manager:file/dir modified: /content/drive/My Drive/Colab Notebooks/master_project/evaluation/wandb/run-20200501_110843-2bb19uir/wandb-events.jsonl\n",
            "INFO:wandb.run_manager:file/dir modified: /content/drive/My Drive/Colab Notebooks/master_project/evaluation/wandb/run-20200501_110843-2bb19uir/wandb-metadata.json\n",
            "INFO:wandb.run_manager:file/dir modified: /content/drive/My Drive/Colab Notebooks/master_project/evaluation/wandb/run-20200501_110843-2bb19uir/wandb-events.jsonl\n",
            "INFO:wandb.run_manager:file/dir modified: /content/drive/My Drive/Colab Notebooks/master_project/evaluation/wandb/run-20200501_110843-2bb19uir/wandb-metadata.json\n",
            "INFO:wandb.run_manager:file/dir modified: /content/drive/My Drive/Colab Notebooks/master_project/evaluation/wandb/run-20200501_110843-2bb19uir/wandb-metadata.json\n",
            "INFO:wandb.run_manager:file/dir modified: /content/drive/My Drive/Colab Notebooks/master_project/evaluation/wandb/run-20200501_110843-2bb19uir/wandb-events.jsonl\n",
            "INFO:wandb.run_manager:file/dir modified: /content/drive/My Drive/Colab Notebooks/master_project/evaluation/wandb/run-20200501_110843-2bb19uir/wandb-metadata.json\n",
            "INFO:wandb.run_manager:file/dir modified: /content/drive/My Drive/Colab Notebooks/master_project/evaluation/wandb/run-20200501_110843-2bb19uir/wandb-metadata.json\n",
            "INFO:wandb.run_manager:file/dir modified: /content/drive/My Drive/Colab Notebooks/master_project/evaluation/wandb/run-20200501_110843-2bb19uir/wandb-events.jsonl\n",
            "INFO:wandb.run_manager:file/dir modified: /content/drive/My Drive/Colab Notebooks/master_project/evaluation/wandb/run-20200501_110843-2bb19uir/wandb-metadata.json\n",
            "INFO:wandb.run_manager:file/dir modified: /content/drive/My Drive/Colab Notebooks/master_project/evaluation/wandb/run-20200501_110843-2bb19uir/wandb-metadata.json\n",
            "INFO:wandb.run_manager:file/dir modified: /content/drive/My Drive/Colab Notebooks/master_project/evaluation/wandb/run-20200501_110843-2bb19uir/wandb-events.jsonl\n",
            "INFO:wandb.run_manager:file/dir modified: /content/drive/My Drive/Colab Notebooks/master_project/evaluation/wandb/run-20200501_110843-2bb19uir/wandb-metadata.json\n",
            "INFO:wandb.run_manager:file/dir modified: /content/drive/My Drive/Colab Notebooks/master_project/evaluation/wandb/run-20200501_110843-2bb19uir/wandb-metadata.json\n",
            "INFO:wandb.run_manager:file/dir modified: /content/drive/My Drive/Colab Notebooks/master_project/evaluation/wandb/run-20200501_110843-2bb19uir/wandb-events.jsonl\n",
            "INFO:wandb.run_manager:file/dir modified: /content/drive/My Drive/Colab Notebooks/master_project/evaluation/wandb/run-20200501_110843-2bb19uir/wandb-metadata.json\n",
            "INFO:wandb.run_manager:file/dir modified: /content/drive/My Drive/Colab Notebooks/master_project/evaluation/wandb/run-20200501_110843-2bb19uir/wandb-events.jsonl\n",
            "INFO:wandb.run_manager:file/dir modified: /content/drive/My Drive/Colab Notebooks/master_project/evaluation/wandb/run-20200501_110843-2bb19uir/wandb-metadata.json\n",
            "INFO:wandb.run_manager:file/dir modified: /content/drive/My Drive/Colab Notebooks/master_project/evaluation/wandb/run-20200501_110843-2bb19uir/wandb-metadata.json\n",
            "INFO:wandb.run_manager:file/dir modified: /content/drive/My Drive/Colab Notebooks/master_project/evaluation/wandb/run-20200501_110843-2bb19uir/wandb-events.jsonl\n",
            "INFO:wandb.run_manager:file/dir modified: /content/drive/My Drive/Colab Notebooks/master_project/evaluation/wandb/run-20200501_110843-2bb19uir/wandb-metadata.json\n",
            "INFO:wandb.run_manager:file/dir modified: /content/drive/My Drive/Colab Notebooks/master_project/evaluation/wandb/run-20200501_110843-2bb19uir/wandb-metadata.json\n",
            "INFO:wandb.run_manager:file/dir modified: /content/drive/My Drive/Colab Notebooks/master_project/evaluation/wandb/run-20200501_110843-2bb19uir/wandb-events.jsonl\n",
            "INFO:wandb.run_manager:file/dir modified: /content/drive/My Drive/Colab Notebooks/master_project/evaluation/wandb/run-20200501_110843-2bb19uir/wandb-metadata.json\n",
            "INFO:wandb.run_manager:file/dir modified: /content/drive/My Drive/Colab Notebooks/master_project/evaluation/wandb/run-20200501_110843-2bb19uir/wandb-metadata.json\n",
            "INFO:wandb.run_manager:file/dir modified: /content/drive/My Drive/Colab Notebooks/master_project/evaluation/wandb/run-20200501_110843-2bb19uir/wandb-events.jsonl\n",
            "INFO:wandb.run_manager:file/dir modified: /content/drive/My Drive/Colab Notebooks/master_project/evaluation/wandb/run-20200501_110843-2bb19uir/wandb-metadata.json\n",
            "INFO:wandb.run_manager:file/dir modified: /content/drive/My Drive/Colab Notebooks/master_project/evaluation/wandb/run-20200501_110843-2bb19uir/wandb-metadata.json\n",
            "INFO:wandb.run_manager:file/dir modified: /content/drive/My Drive/Colab Notebooks/master_project/evaluation/wandb/run-20200501_110843-2bb19uir/wandb-events.jsonl\n",
            "INFO:wandb.run_manager:file/dir modified: /content/drive/My Drive/Colab Notebooks/master_project/evaluation/wandb/run-20200501_110843-2bb19uir/wandb-events.jsonl\n",
            "INFO:wandb.run_manager:file/dir modified: /content/drive/My Drive/Colab Notebooks/master_project/evaluation/wandb/run-20200501_110843-2bb19uir/wandb-metadata.json\n",
            "INFO:wandb.run_manager:file/dir modified: /content/drive/My Drive/Colab Notebooks/master_project/evaluation/wandb/run-20200501_110843-2bb19uir/wandb-metadata.json\n",
            "INFO:wandb.run_manager:file/dir modified: /content/drive/My Drive/Colab Notebooks/master_project/evaluation/wandb/run-20200501_110843-2bb19uir/wandb-events.jsonl\n",
            "INFO:wandb.run_manager:file/dir modified: /content/drive/My Drive/Colab Notebooks/master_project/evaluation/wandb/run-20200501_110843-2bb19uir/wandb-metadata.json\n",
            "INFO:wandb.run_manager:file/dir modified: /content/drive/My Drive/Colab Notebooks/master_project/evaluation/wandb/run-20200501_110843-2bb19uir/wandb-metadata.json\n",
            "INFO:wandb.run_manager:file/dir modified: /content/drive/My Drive/Colab Notebooks/master_project/evaluation/wandb/run-20200501_110843-2bb19uir/wandb-events.jsonl\n",
            "INFO:wandb.run_manager:file/dir modified: /content/drive/My Drive/Colab Notebooks/master_project/evaluation/wandb/run-20200501_110843-2bb19uir/wandb-metadata.json\n",
            "INFO:wandb.run_manager:file/dir modified: /content/drive/My Drive/Colab Notebooks/master_project/evaluation/wandb/run-20200501_110843-2bb19uir/wandb-metadata.json\n",
            "INFO:wandb.run_manager:file/dir modified: /content/drive/My Drive/Colab Notebooks/master_project/evaluation/wandb/run-20200501_110843-2bb19uir/wandb-events.jsonl\n",
            "INFO:wandb.run_manager:file/dir modified: /content/drive/My Drive/Colab Notebooks/master_project/evaluation/wandb/run-20200501_110843-2bb19uir/wandb-metadata.json\n",
            "INFO:wandb.run_manager:file/dir modified: /content/drive/My Drive/Colab Notebooks/master_project/evaluation/wandb/run-20200501_110843-2bb19uir/wandb-metadata.json\n",
            "INFO:wandb.run_manager:file/dir modified: /content/drive/My Drive/Colab Notebooks/master_project/evaluation/wandb/run-20200501_110843-2bb19uir/wandb-events.jsonl\n",
            "INFO:wandb.run_manager:file/dir modified: /content/drive/My Drive/Colab Notebooks/master_project/evaluation/wandb/run-20200501_110843-2bb19uir/wandb-metadata.json\n",
            "INFO:wandb.run_manager:file/dir modified: /content/drive/My Drive/Colab Notebooks/master_project/evaluation/wandb/run-20200501_110843-2bb19uir/wandb-events.jsonl\n",
            "INFO:wandb.run_manager:file/dir modified: /content/drive/My Drive/Colab Notebooks/master_project/evaluation/wandb/run-20200501_110843-2bb19uir/wandb-metadata.json\n",
            "INFO:wandb.run_manager:file/dir modified: /content/drive/My Drive/Colab Notebooks/master_project/evaluation/wandb/run-20200501_110843-2bb19uir/wandb-metadata.json\n",
            "INFO:wandb.run_manager:file/dir modified: /content/drive/My Drive/Colab Notebooks/master_project/evaluation/wandb/run-20200501_110843-2bb19uir/wandb-events.jsonl\n",
            "INFO:wandb.run_manager:file/dir modified: /content/drive/My Drive/Colab Notebooks/master_project/evaluation/wandb/run-20200501_110843-2bb19uir/wandb-metadata.json\n",
            "INFO:wandb.run_manager:file/dir modified: /content/drive/My Drive/Colab Notebooks/master_project/evaluation/wandb/run-20200501_110843-2bb19uir/wandb-metadata.json\n",
            "INFO:wandb.run_manager:file/dir modified: /content/drive/My Drive/Colab Notebooks/master_project/evaluation/wandb/run-20200501_110843-2bb19uir/wandb-events.jsonl\n",
            "INFO:wandb.run_manager:file/dir modified: /content/drive/My Drive/Colab Notebooks/master_project/evaluation/wandb/run-20200501_110843-2bb19uir/wandb-metadata.json\n",
            "INFO:wandb.run_manager:file/dir modified: /content/drive/My Drive/Colab Notebooks/master_project/evaluation/wandb/run-20200501_110843-2bb19uir/wandb-metadata.json\n",
            "INFO:wandb.run_manager:file/dir modified: /content/drive/My Drive/Colab Notebooks/master_project/evaluation/wandb/run-20200501_110843-2bb19uir/wandb-events.jsonl\n",
            "INFO:wandb.run_manager:file/dir modified: /content/drive/My Drive/Colab Notebooks/master_project/evaluation/wandb/run-20200501_110843-2bb19uir/wandb-metadata.json\n",
            "INFO:wandb.run_manager:file/dir modified: /content/drive/My Drive/Colab Notebooks/master_project/evaluation/wandb/run-20200501_110843-2bb19uir/wandb-metadata.json\n",
            "INFO:wandb.run_manager:file/dir modified: /content/drive/My Drive/Colab Notebooks/master_project/evaluation/wandb/run-20200501_110843-2bb19uir/wandb-events.jsonl\n",
            "INFO:wandb.run_manager:file/dir modified: /content/drive/My Drive/Colab Notebooks/master_project/evaluation/wandb/run-20200501_110843-2bb19uir/wandb-metadata.json\n",
            "INFO:wandb.run_manager:file/dir modified: /content/drive/My Drive/Colab Notebooks/master_project/evaluation/wandb/run-20200501_110843-2bb19uir/wandb-metadata.json\n",
            "INFO:wandb.run_manager:file/dir modified: /content/drive/My Drive/Colab Notebooks/master_project/evaluation/wandb/run-20200501_110843-2bb19uir/wandb-events.jsonl\n",
            "INFO:wandb.run_manager:file/dir modified: /content/drive/My Drive/Colab Notebooks/master_project/evaluation/wandb/run-20200501_110843-2bb19uir/wandb-metadata.json\n",
            "INFO:wandb.run_manager:file/dir modified: /content/drive/My Drive/Colab Notebooks/master_project/evaluation/wandb/run-20200501_110843-2bb19uir/wandb-metadata.json\n",
            "INFO:wandb.run_manager:file/dir modified: /content/drive/My Drive/Colab Notebooks/master_project/evaluation/wandb/run-20200501_110843-2bb19uir/wandb-events.jsonl\n",
            "INFO:wandb.run_manager:file/dir modified: /content/drive/My Drive/Colab Notebooks/master_project/evaluation/wandb/run-20200501_110843-2bb19uir/wandb-metadata.json\n",
            "INFO:simpletransformers.classification.classification_model: No improvement in eval_loss\n",
            "INFO:simpletransformers.classification.classification_model: Current step: 3\n",
            "INFO:simpletransformers.classification.classification_model: Early stopping patience: 5\n",
            "INFO:wandb.run_manager:file/dir modified: /content/drive/My Drive/Colab Notebooks/master_project/evaluation/wandb/run-20200501_110843-2bb19uir/wandb-history.jsonl\n",
            "INFO:wandb.run_manager:file/dir modified: /content/drive/My Drive/Colab Notebooks/master_project/evaluation/wandb/run-20200501_110843-2bb19uir/wandb-summary.json\n"
          ],
          "name": "stderr"
        },
        {
          "output_type": "stream",
          "text": [
            "Running loss: 0.627965Gradient overflow.  Skipping step, loss scaler 0 reducing loss scale to 4096.0\n",
            "Running loss: 0.451095"
          ],
          "name": "stdout"
        },
        {
          "output_type": "stream",
          "text": [
            "INFO:wandb.run_manager:file/dir modified: /content/drive/My Drive/Colab Notebooks/master_project/evaluation/wandb/run-20200501_110843-2bb19uir/wandb-metadata.json\n"
          ],
          "name": "stderr"
        },
        {
          "output_type": "stream",
          "text": [
            "Running loss: 0.441663"
          ],
          "name": "stdout"
        },
        {
          "output_type": "stream",
          "text": [
            "INFO:wandb.run_manager:file/dir modified: /content/drive/My Drive/Colab Notebooks/master_project/evaluation/wandb/run-20200501_110843-2bb19uir/wandb-events.jsonl\n"
          ],
          "name": "stderr"
        },
        {
          "output_type": "stream",
          "text": [
            "Running loss: 0.112112"
          ],
          "name": "stdout"
        },
        {
          "output_type": "stream",
          "text": [
            "INFO:wandb.run_manager:file/dir modified: /content/drive/My Drive/Colab Notebooks/master_project/evaluation/wandb/run-20200501_110843-2bb19uir/wandb-history.jsonl\n",
            "INFO:wandb.run_manager:file/dir modified: /content/drive/My Drive/Colab Notebooks/master_project/evaluation/wandb/run-20200501_110843-2bb19uir/wandb-summary.json\n"
          ],
          "name": "stderr"
        },
        {
          "output_type": "stream",
          "text": [
            "Running loss: 0.357720"
          ],
          "name": "stdout"
        },
        {
          "output_type": "stream",
          "text": [
            "INFO:wandb.run_manager:file/dir modified: /content/drive/My Drive/Colab Notebooks/master_project/evaluation/wandb/run-20200501_110843-2bb19uir/wandb-metadata.json\n"
          ],
          "name": "stderr"
        },
        {
          "output_type": "stream",
          "text": [
            "Running loss: 0.315409"
          ],
          "name": "stdout"
        },
        {
          "output_type": "stream",
          "text": [
            "INFO:wandb.run_manager:file/dir modified: /content/drive/My Drive/Colab Notebooks/master_project/evaluation/wandb/run-20200501_110843-2bb19uir/wandb-history.jsonl\n",
            "INFO:wandb.run_manager:file/dir modified: /content/drive/My Drive/Colab Notebooks/master_project/evaluation/wandb/run-20200501_110843-2bb19uir/wandb-summary.json\n"
          ],
          "name": "stderr"
        },
        {
          "output_type": "stream",
          "text": [
            "Running loss: 0.282860"
          ],
          "name": "stdout"
        },
        {
          "output_type": "stream",
          "text": [
            "INFO:wandb.run_manager:file/dir modified: /content/drive/My Drive/Colab Notebooks/master_project/evaluation/wandb/run-20200501_110843-2bb19uir/wandb-metadata.json\n"
          ],
          "name": "stderr"
        },
        {
          "output_type": "stream",
          "text": [
            "Running loss: 0.696674"
          ],
          "name": "stdout"
        },
        {
          "output_type": "stream",
          "text": [
            "INFO:wandb.run_manager:file/dir modified: /content/drive/My Drive/Colab Notebooks/master_project/evaluation/wandb/run-20200501_110843-2bb19uir/wandb-events.jsonl\n"
          ],
          "name": "stderr"
        },
        {
          "output_type": "stream",
          "text": [
            "Running loss: 0.071691"
          ],
          "name": "stdout"
        },
        {
          "output_type": "stream",
          "text": [
            "INFO:wandb.run_manager:file/dir modified: /content/drive/My Drive/Colab Notebooks/master_project/evaluation/wandb/run-20200501_110843-2bb19uir/wandb-history.jsonl\n",
            "INFO:wandb.run_manager:file/dir modified: /content/drive/My Drive/Colab Notebooks/master_project/evaluation/wandb/run-20200501_110843-2bb19uir/wandb-summary.json\n"
          ],
          "name": "stderr"
        },
        {
          "output_type": "stream",
          "text": [
            "Running loss: 0.524658"
          ],
          "name": "stdout"
        },
        {
          "output_type": "stream",
          "text": [
            "INFO:wandb.run_manager:file/dir modified: /content/drive/My Drive/Colab Notebooks/master_project/evaluation/wandb/run-20200501_110843-2bb19uir/wandb-metadata.json\n"
          ],
          "name": "stderr"
        },
        {
          "output_type": "stream",
          "text": [
            "Running loss: 0.570438"
          ],
          "name": "stdout"
        },
        {
          "output_type": "stream",
          "text": [
            "INFO:wandb.run_manager:file/dir modified: /content/drive/My Drive/Colab Notebooks/master_project/evaluation/wandb/run-20200501_110843-2bb19uir/wandb-history.jsonl\n",
            "INFO:wandb.run_manager:file/dir modified: /content/drive/My Drive/Colab Notebooks/master_project/evaluation/wandb/run-20200501_110843-2bb19uir/wandb-summary.json\n"
          ],
          "name": "stderr"
        },
        {
          "output_type": "stream",
          "text": [
            "Running loss: 0.280428"
          ],
          "name": "stdout"
        },
        {
          "output_type": "stream",
          "text": [
            "INFO:wandb.run_manager:file/dir modified: /content/drive/My Drive/Colab Notebooks/master_project/evaluation/wandb/run-20200501_110843-2bb19uir/wandb-events.jsonl\n"
          ],
          "name": "stderr"
        },
        {
          "output_type": "stream",
          "text": [
            "\rRunning loss: 0.477727"
          ],
          "name": "stdout"
        },
        {
          "output_type": "stream",
          "text": [
            "INFO:wandb.run_manager:file/dir modified: /content/drive/My Drive/Colab Notebooks/master_project/evaluation/wandb/run-20200501_110843-2bb19uir/wandb-metadata.json\n"
          ],
          "name": "stderr"
        },
        {
          "output_type": "stream",
          "text": [
            "Running loss: 0.293271"
          ],
          "name": "stdout"
        },
        {
          "output_type": "stream",
          "text": [
            "INFO:wandb.run_manager:file/dir modified: /content/drive/My Drive/Colab Notebooks/master_project/evaluation/wandb/run-20200501_110843-2bb19uir/wandb-history.jsonl\n",
            "INFO:wandb.run_manager:file/dir modified: /content/drive/My Drive/Colab Notebooks/master_project/evaluation/wandb/run-20200501_110843-2bb19uir/wandb-summary.json\n"
          ],
          "name": "stderr"
        },
        {
          "output_type": "stream",
          "text": [
            "Running loss: 0.301701"
          ],
          "name": "stdout"
        },
        {
          "output_type": "stream",
          "text": [
            "INFO:wandb.run_manager:file/dir modified: /content/drive/My Drive/Colab Notebooks/master_project/evaluation/wandb/run-20200501_110843-2bb19uir/wandb-metadata.json\n"
          ],
          "name": "stderr"
        },
        {
          "output_type": "stream",
          "text": [
            "Running loss: 0.265752"
          ],
          "name": "stdout"
        },
        {
          "output_type": "stream",
          "text": [
            "INFO:wandb.run_manager:file/dir modified: /content/drive/My Drive/Colab Notebooks/master_project/evaluation/wandb/run-20200501_110843-2bb19uir/wandb-history.jsonl\n",
            "INFO:wandb.run_manager:file/dir modified: /content/drive/My Drive/Colab Notebooks/master_project/evaluation/wandb/run-20200501_110843-2bb19uir/wandb-summary.json\n"
          ],
          "name": "stderr"
        },
        {
          "output_type": "stream",
          "text": [
            "Running loss: 0.527121"
          ],
          "name": "stdout"
        },
        {
          "output_type": "stream",
          "text": [
            "INFO:wandb.run_manager:file/dir modified: /content/drive/My Drive/Colab Notebooks/master_project/evaluation/wandb/run-20200501_110843-2bb19uir/wandb-events.jsonl\n"
          ],
          "name": "stderr"
        },
        {
          "output_type": "stream",
          "text": [
            "Running loss: 0.088133"
          ],
          "name": "stdout"
        },
        {
          "output_type": "stream",
          "text": [
            "INFO:wandb.run_manager:file/dir modified: /content/drive/My Drive/Colab Notebooks/master_project/evaluation/wandb/run-20200501_110843-2bb19uir/wandb-metadata.json\n"
          ],
          "name": "stderr"
        },
        {
          "output_type": "stream",
          "text": [
            "\rRunning loss: 0.392796"
          ],
          "name": "stdout"
        },
        {
          "output_type": "stream",
          "text": [
            "INFO:wandb.run_manager:file/dir modified: /content/drive/My Drive/Colab Notebooks/master_project/evaluation/wandb/run-20200501_110843-2bb19uir/wandb-history.jsonl\n",
            "INFO:wandb.run_manager:file/dir modified: /content/drive/My Drive/Colab Notebooks/master_project/evaluation/wandb/run-20200501_110843-2bb19uir/wandb-summary.json\n"
          ],
          "name": "stderr"
        },
        {
          "output_type": "stream",
          "text": [
            "Running loss: 0.282509"
          ],
          "name": "stdout"
        },
        {
          "output_type": "stream",
          "text": [
            "INFO:wandb.run_manager:file/dir modified: /content/drive/My Drive/Colab Notebooks/master_project/evaluation/wandb/run-20200501_110843-2bb19uir/wandb-metadata.json\n",
            "INFO:wandb.run_manager:file/dir modified: /content/drive/My Drive/Colab Notebooks/master_project/evaluation/wandb/run-20200501_110843-2bb19uir/wandb-history.jsonl\n",
            "INFO:wandb.run_manager:file/dir modified: /content/drive/My Drive/Colab Notebooks/master_project/evaluation/wandb/run-20200501_110843-2bb19uir/wandb-summary.json\n"
          ],
          "name": "stderr"
        },
        {
          "output_type": "stream",
          "text": [
            "Running loss: 0.442751"
          ],
          "name": "stdout"
        },
        {
          "output_type": "stream",
          "text": [
            "INFO:wandb.run_manager:file/dir modified: /content/drive/My Drive/Colab Notebooks/master_project/evaluation/wandb/run-20200501_110843-2bb19uir/wandb-history.jsonl\n"
          ],
          "name": "stderr"
        },
        {
          "output_type": "stream",
          "text": [
            "Running loss: 0.116935"
          ],
          "name": "stdout"
        },
        {
          "output_type": "stream",
          "text": [
            "INFO:wandb.run_manager:file/dir modified: /content/drive/My Drive/Colab Notebooks/master_project/evaluation/wandb/run-20200501_110843-2bb19uir/wandb-events.jsonl\n"
          ],
          "name": "stderr"
        },
        {
          "output_type": "stream",
          "text": [
            "Running loss: 0.309848"
          ],
          "name": "stdout"
        },
        {
          "output_type": "stream",
          "text": [
            "INFO:wandb.run_manager:file/dir modified: /content/drive/My Drive/Colab Notebooks/master_project/evaluation/wandb/run-20200501_110843-2bb19uir/wandb-history.jsonl\n",
            "INFO:wandb.run_manager:file/dir modified: /content/drive/My Drive/Colab Notebooks/master_project/evaluation/wandb/run-20200501_110843-2bb19uir/wandb-summary.json\n"
          ],
          "name": "stderr"
        },
        {
          "output_type": "stream",
          "text": [
            "Running loss: 0.431207"
          ],
          "name": "stdout"
        },
        {
          "output_type": "stream",
          "text": [
            "INFO:wandb.run_manager:file/dir modified: /content/drive/My Drive/Colab Notebooks/master_project/evaluation/wandb/run-20200501_110843-2bb19uir/wandb-metadata.json\n"
          ],
          "name": "stderr"
        },
        {
          "output_type": "stream",
          "text": [
            "Running loss: 0.676674"
          ],
          "name": "stdout"
        },
        {
          "output_type": "stream",
          "text": [
            "INFO:wandb.run_manager:file/dir modified: /content/drive/My Drive/Colab Notebooks/master_project/evaluation/wandb/run-20200501_110843-2bb19uir/wandb-metadata.json\n",
            "INFO:wandb.run_manager:file/dir modified: /content/drive/My Drive/Colab Notebooks/master_project/evaluation/wandb/run-20200501_110843-2bb19uir/wandb-history.jsonl\n",
            "INFO:wandb.run_manager:file/dir modified: /content/drive/My Drive/Colab Notebooks/master_project/evaluation/wandb/run-20200501_110843-2bb19uir/wandb-summary.json\n",
            "INFO:wandb.run_manager:file/dir modified: /content/drive/My Drive/Colab Notebooks/master_project/evaluation/wandb/run-20200501_110843-2bb19uir/wandb-events.jsonl\n",
            "INFO:wandb.run_manager:file/dir modified: /content/drive/My Drive/Colab Notebooks/master_project/evaluation/wandb/run-20200501_110843-2bb19uir/wandb-metadata.json\n",
            "INFO:wandb.run_manager:file/dir modified: /content/drive/My Drive/Colab Notebooks/master_project/evaluation/wandb/run-20200501_110843-2bb19uir/wandb-metadata.json\n",
            "INFO:wandb.run_manager:file/dir modified: /content/drive/My Drive/Colab Notebooks/master_project/evaluation/wandb/run-20200501_110843-2bb19uir/wandb-events.jsonl\n",
            "INFO:wandb.run_manager:file/dir modified: /content/drive/My Drive/Colab Notebooks/master_project/evaluation/wandb/run-20200501_110843-2bb19uir/wandb-metadata.json\n",
            "INFO:wandb.run_manager:file/dir modified: /content/drive/My Drive/Colab Notebooks/master_project/evaluation/wandb/run-20200501_110843-2bb19uir/wandb-metadata.json\n",
            "INFO:wandb.run_manager:file/dir modified: /content/drive/My Drive/Colab Notebooks/master_project/evaluation/wandb/run-20200501_110843-2bb19uir/wandb-events.jsonl\n",
            "INFO:wandb.run_manager:file/dir modified: /content/drive/My Drive/Colab Notebooks/master_project/evaluation/wandb/run-20200501_110843-2bb19uir/wandb-metadata.json\n",
            "INFO:wandb.run_manager:file/dir modified: /content/drive/My Drive/Colab Notebooks/master_project/evaluation/wandb/run-20200501_110843-2bb19uir/wandb-metadata.json\n",
            "INFO:wandb.run_manager:file/dir modified: /content/drive/My Drive/Colab Notebooks/master_project/evaluation/wandb/run-20200501_110843-2bb19uir/wandb-events.jsonl\n",
            "INFO:wandb.run_manager:file/dir modified: /content/drive/My Drive/Colab Notebooks/master_project/evaluation/wandb/run-20200501_110843-2bb19uir/wandb-metadata.json\n",
            "INFO:wandb.run_manager:file/dir modified: /content/drive/My Drive/Colab Notebooks/master_project/evaluation/wandb/run-20200501_110843-2bb19uir/wandb-metadata.json\n",
            "INFO:wandb.run_manager:file/dir modified: /content/drive/My Drive/Colab Notebooks/master_project/evaluation/wandb/run-20200501_110843-2bb19uir/wandb-events.jsonl\n",
            "INFO:wandb.run_manager:file/dir modified: /content/drive/My Drive/Colab Notebooks/master_project/evaluation/wandb/run-20200501_110843-2bb19uir/wandb-metadata.json\n",
            "INFO:wandb.run_manager:file/dir modified: /content/drive/My Drive/Colab Notebooks/master_project/evaluation/wandb/run-20200501_110843-2bb19uir/wandb-metadata.json\n",
            "INFO:wandb.run_manager:file/dir modified: /content/drive/My Drive/Colab Notebooks/master_project/evaluation/wandb/run-20200501_110843-2bb19uir/wandb-events.jsonl\n",
            "INFO:wandb.run_manager:file/dir modified: /content/drive/My Drive/Colab Notebooks/master_project/evaluation/wandb/run-20200501_110843-2bb19uir/wandb-metadata.json\n",
            "INFO:wandb.run_manager:file/dir modified: /content/drive/My Drive/Colab Notebooks/master_project/evaluation/wandb/run-20200501_110843-2bb19uir/wandb-metadata.json\n",
            "INFO:wandb.run_manager:file/dir modified: /content/drive/My Drive/Colab Notebooks/master_project/evaluation/wandb/run-20200501_110843-2bb19uir/wandb-events.jsonl\n",
            "INFO:wandb.run_manager:file/dir modified: /content/drive/My Drive/Colab Notebooks/master_project/evaluation/wandb/run-20200501_110843-2bb19uir/wandb-metadata.json\n",
            "INFO:wandb.run_manager:file/dir modified: /content/drive/My Drive/Colab Notebooks/master_project/evaluation/wandb/run-20200501_110843-2bb19uir/wandb-metadata.json\n",
            "INFO:wandb.run_manager:file/dir modified: /content/drive/My Drive/Colab Notebooks/master_project/evaluation/wandb/run-20200501_110843-2bb19uir/wandb-events.jsonl\n",
            "INFO:wandb.run_manager:file/dir modified: /content/drive/My Drive/Colab Notebooks/master_project/evaluation/wandb/run-20200501_110843-2bb19uir/wandb-metadata.json\n",
            "INFO:wandb.run_manager:file/dir modified: /content/drive/My Drive/Colab Notebooks/master_project/evaluation/wandb/run-20200501_110843-2bb19uir/wandb-events.jsonl\n",
            "INFO:wandb.run_manager:file/dir modified: /content/drive/My Drive/Colab Notebooks/master_project/evaluation/wandb/run-20200501_110843-2bb19uir/wandb-metadata.json\n",
            "INFO:wandb.run_manager:file/dir modified: /content/drive/My Drive/Colab Notebooks/master_project/evaluation/wandb/run-20200501_110843-2bb19uir/wandb-metadata.json\n",
            "INFO:wandb.run_manager:file/dir modified: /content/drive/My Drive/Colab Notebooks/master_project/evaluation/wandb/run-20200501_110843-2bb19uir/wandb-events.jsonl\n",
            "INFO:wandb.run_manager:file/dir modified: /content/drive/My Drive/Colab Notebooks/master_project/evaluation/wandb/run-20200501_110843-2bb19uir/wandb-metadata.json\n",
            "INFO:wandb.run_manager:file/dir modified: /content/drive/My Drive/Colab Notebooks/master_project/evaluation/wandb/run-20200501_110843-2bb19uir/wandb-metadata.json\n",
            "INFO:wandb.run_manager:file/dir modified: /content/drive/My Drive/Colab Notebooks/master_project/evaluation/wandb/run-20200501_110843-2bb19uir/wandb-events.jsonl\n",
            "INFO:wandb.run_manager:file/dir modified: /content/drive/My Drive/Colab Notebooks/master_project/evaluation/wandb/run-20200501_110843-2bb19uir/wandb-metadata.json\n",
            "INFO:wandb.run_manager:file/dir modified: /content/drive/My Drive/Colab Notebooks/master_project/evaluation/wandb/run-20200501_110843-2bb19uir/wandb-metadata.json\n",
            "INFO:wandb.run_manager:file/dir modified: /content/drive/My Drive/Colab Notebooks/master_project/evaluation/wandb/run-20200501_110843-2bb19uir/wandb-events.jsonl\n",
            "INFO:wandb.run_manager:file/dir modified: /content/drive/My Drive/Colab Notebooks/master_project/evaluation/wandb/run-20200501_110843-2bb19uir/wandb-metadata.json\n",
            "INFO:wandb.run_manager:file/dir modified: /content/drive/My Drive/Colab Notebooks/master_project/evaluation/wandb/run-20200501_110843-2bb19uir/wandb-metadata.json\n",
            "INFO:wandb.run_manager:file/dir modified: /content/drive/My Drive/Colab Notebooks/master_project/evaluation/wandb/run-20200501_110843-2bb19uir/wandb-events.jsonl\n",
            "INFO:wandb.run_manager:file/dir modified: /content/drive/My Drive/Colab Notebooks/master_project/evaluation/wandb/run-20200501_110843-2bb19uir/wandb-metadata.json\n",
            "INFO:wandb.run_manager:file/dir modified: /content/drive/My Drive/Colab Notebooks/master_project/evaluation/wandb/run-20200501_110843-2bb19uir/wandb-metadata.json\n",
            "INFO:wandb.run_manager:file/dir modified: /content/drive/My Drive/Colab Notebooks/master_project/evaluation/wandb/run-20200501_110843-2bb19uir/wandb-events.jsonl\n",
            "INFO:wandb.run_manager:file/dir modified: /content/drive/My Drive/Colab Notebooks/master_project/evaluation/wandb/run-20200501_110843-2bb19uir/wandb-metadata.json\n",
            "INFO:wandb.run_manager:file/dir modified: /content/drive/My Drive/Colab Notebooks/master_project/evaluation/wandb/run-20200501_110843-2bb19uir/wandb-metadata.json\n",
            "INFO:wandb.run_manager:file/dir modified: /content/drive/My Drive/Colab Notebooks/master_project/evaluation/wandb/run-20200501_110843-2bb19uir/wandb-events.jsonl\n",
            "INFO:wandb.run_manager:file/dir modified: /content/drive/My Drive/Colab Notebooks/master_project/evaluation/wandb/run-20200501_110843-2bb19uir/wandb-events.jsonl\n",
            "INFO:wandb.run_manager:file/dir modified: /content/drive/My Drive/Colab Notebooks/master_project/evaluation/wandb/run-20200501_110843-2bb19uir/wandb-metadata.json\n",
            "INFO:wandb.run_manager:file/dir modified: /content/drive/My Drive/Colab Notebooks/master_project/evaluation/wandb/run-20200501_110843-2bb19uir/wandb-metadata.json\n",
            "INFO:wandb.run_manager:file/dir modified: /content/drive/My Drive/Colab Notebooks/master_project/evaluation/wandb/run-20200501_110843-2bb19uir/wandb-events.jsonl\n",
            "INFO:wandb.run_manager:file/dir modified: /content/drive/My Drive/Colab Notebooks/master_project/evaluation/wandb/run-20200501_110843-2bb19uir/wandb-metadata.json\n",
            "INFO:wandb.run_manager:file/dir modified: /content/drive/My Drive/Colab Notebooks/master_project/evaluation/wandb/run-20200501_110843-2bb19uir/wandb-events.jsonl\n",
            "INFO:wandb.run_manager:file/dir modified: /content/drive/My Drive/Colab Notebooks/master_project/evaluation/wandb/run-20200501_110843-2bb19uir/wandb-metadata.json\n",
            "INFO:wandb.run_manager:file/dir modified: /content/drive/My Drive/Colab Notebooks/master_project/evaluation/wandb/run-20200501_110843-2bb19uir/wandb-metadata.json\n",
            "INFO:wandb.run_manager:file/dir modified: /content/drive/My Drive/Colab Notebooks/master_project/evaluation/wandb/run-20200501_110843-2bb19uir/wandb-events.jsonl\n",
            "INFO:wandb.run_manager:file/dir modified: /content/drive/My Drive/Colab Notebooks/master_project/evaluation/wandb/run-20200501_110843-2bb19uir/wandb-metadata.json\n",
            "INFO:wandb.run_manager:file/dir modified: /content/drive/My Drive/Colab Notebooks/master_project/evaluation/wandb/run-20200501_110843-2bb19uir/wandb-metadata.json\n",
            "INFO:wandb.run_manager:file/dir modified: /content/drive/My Drive/Colab Notebooks/master_project/evaluation/wandb/run-20200501_110843-2bb19uir/wandb-events.jsonl\n",
            "INFO:wandb.run_manager:file/dir modified: /content/drive/My Drive/Colab Notebooks/master_project/evaluation/wandb/run-20200501_110843-2bb19uir/wandb-metadata.json\n",
            "INFO:wandb.run_manager:file/dir modified: /content/drive/My Drive/Colab Notebooks/master_project/evaluation/wandb/run-20200501_110843-2bb19uir/wandb-metadata.json\n",
            "INFO:wandb.run_manager:file/dir modified: /content/drive/My Drive/Colab Notebooks/master_project/evaluation/wandb/run-20200501_110843-2bb19uir/wandb-events.jsonl\n",
            "INFO:wandb.run_manager:file/dir modified: /content/drive/My Drive/Colab Notebooks/master_project/evaluation/wandb/run-20200501_110843-2bb19uir/wandb-metadata.json\n",
            "INFO:wandb.run_manager:file/dir modified: /content/drive/My Drive/Colab Notebooks/master_project/evaluation/wandb/run-20200501_110843-2bb19uir/wandb-metadata.json\n",
            "INFO:wandb.run_manager:file/dir modified: /content/drive/My Drive/Colab Notebooks/master_project/evaluation/wandb/run-20200501_110843-2bb19uir/wandb-events.jsonl\n",
            "INFO:wandb.run_manager:file/dir modified: /content/drive/My Drive/Colab Notebooks/master_project/evaluation/wandb/run-20200501_110843-2bb19uir/wandb-metadata.json\n",
            "INFO:wandb.run_manager:file/dir modified: /content/drive/My Drive/Colab Notebooks/master_project/evaluation/wandb/run-20200501_110843-2bb19uir/wandb-metadata.json\n",
            "INFO:wandb.run_manager:file/dir modified: /content/drive/My Drive/Colab Notebooks/master_project/evaluation/wandb/run-20200501_110843-2bb19uir/wandb-events.jsonl\n",
            "INFO:wandb.run_manager:file/dir modified: /content/drive/My Drive/Colab Notebooks/master_project/evaluation/wandb/run-20200501_110843-2bb19uir/wandb-events.jsonl\n",
            "INFO:wandb.run_manager:file/dir modified: /content/drive/My Drive/Colab Notebooks/master_project/evaluation/wandb/run-20200501_110843-2bb19uir/wandb-metadata.json\n",
            "INFO:wandb.run_manager:file/dir modified: /content/drive/My Drive/Colab Notebooks/master_project/evaluation/wandb/run-20200501_110843-2bb19uir/wandb-metadata.json\n",
            "INFO:wandb.run_manager:file/dir modified: /content/drive/My Drive/Colab Notebooks/master_project/evaluation/wandb/run-20200501_110843-2bb19uir/wandb-events.jsonl\n",
            "INFO:simpletransformers.classification.classification_model: No improvement in eval_loss\n",
            "INFO:simpletransformers.classification.classification_model: Current step: 4\n",
            "INFO:simpletransformers.classification.classification_model: Early stopping patience: 5\n",
            "INFO:wandb.run_manager:file/dir modified: /content/drive/My Drive/Colab Notebooks/master_project/evaluation/wandb/run-20200501_110843-2bb19uir/wandb-history.jsonl\n"
          ],
          "name": "stderr"
        },
        {
          "output_type": "stream",
          "text": [
            "\rRunning loss: 0.212238"
          ],
          "name": "stdout"
        },
        {
          "output_type": "stream",
          "text": [
            "INFO:wandb.run_manager:file/dir modified: /content/drive/My Drive/Colab Notebooks/master_project/evaluation/wandb/run-20200501_110843-2bb19uir/wandb-summary.json\n"
          ],
          "name": "stderr"
        },
        {
          "output_type": "stream",
          "text": [
            "Running loss: 0.475401"
          ],
          "name": "stdout"
        },
        {
          "output_type": "stream",
          "text": [
            "INFO:wandb.run_manager:file/dir modified: /content/drive/My Drive/Colab Notebooks/master_project/evaluation/wandb/run-20200501_110843-2bb19uir/wandb-metadata.json\n"
          ],
          "name": "stderr"
        },
        {
          "output_type": "stream",
          "text": [
            "Running loss: 0.344116"
          ],
          "name": "stdout"
        },
        {
          "output_type": "stream",
          "text": [
            "INFO:wandb.run_manager:file/dir modified: /content/drive/My Drive/Colab Notebooks/master_project/evaluation/wandb/run-20200501_110843-2bb19uir/wandb-history.jsonl\n",
            "INFO:wandb.run_manager:file/dir modified: /content/drive/My Drive/Colab Notebooks/master_project/evaluation/wandb/run-20200501_110843-2bb19uir/wandb-summary.json\n"
          ],
          "name": "stderr"
        },
        {
          "output_type": "stream",
          "text": [
            "Running loss: 0.258482"
          ],
          "name": "stdout"
        },
        {
          "output_type": "stream",
          "text": [
            "INFO:wandb.run_manager:file/dir modified: /content/drive/My Drive/Colab Notebooks/master_project/evaluation/wandb/run-20200501_110843-2bb19uir/wandb-metadata.json\n"
          ],
          "name": "stderr"
        },
        {
          "output_type": "stream",
          "text": [
            "Running loss: 0.272014"
          ],
          "name": "stdout"
        },
        {
          "output_type": "stream",
          "text": [
            "INFO:wandb.run_manager:file/dir modified: /content/drive/My Drive/Colab Notebooks/master_project/evaluation/wandb/run-20200501_110843-2bb19uir/wandb-events.jsonl\n"
          ],
          "name": "stderr"
        },
        {
          "output_type": "stream",
          "text": [
            "Running loss: 0.139254"
          ],
          "name": "stdout"
        },
        {
          "output_type": "stream",
          "text": [
            "INFO:wandb.run_manager:file/dir modified: /content/drive/My Drive/Colab Notebooks/master_project/evaluation/wandb/run-20200501_110843-2bb19uir/wandb-history.jsonl\n",
            "INFO:wandb.run_manager:file/dir modified: /content/drive/My Drive/Colab Notebooks/master_project/evaluation/wandb/run-20200501_110843-2bb19uir/wandb-summary.json\n"
          ],
          "name": "stderr"
        },
        {
          "output_type": "stream",
          "text": [
            "Running loss: 0.418577"
          ],
          "name": "stdout"
        },
        {
          "output_type": "stream",
          "text": [
            "INFO:wandb.run_manager:file/dir modified: /content/drive/My Drive/Colab Notebooks/master_project/evaluation/wandb/run-20200501_110843-2bb19uir/wandb-metadata.json\n"
          ],
          "name": "stderr"
        },
        {
          "output_type": "stream",
          "text": [
            "Running loss: 0.795453"
          ],
          "name": "stdout"
        },
        {
          "output_type": "stream",
          "text": [
            "INFO:wandb.run_manager:file/dir modified: /content/drive/My Drive/Colab Notebooks/master_project/evaluation/wandb/run-20200501_110843-2bb19uir/wandb-history.jsonl\n",
            "INFO:wandb.run_manager:file/dir modified: /content/drive/My Drive/Colab Notebooks/master_project/evaluation/wandb/run-20200501_110843-2bb19uir/wandb-summary.json\n"
          ],
          "name": "stderr"
        },
        {
          "output_type": "stream",
          "text": [
            "Running loss: 0.271390"
          ],
          "name": "stdout"
        },
        {
          "output_type": "stream",
          "text": [
            "INFO:wandb.run_manager:file/dir modified: /content/drive/My Drive/Colab Notebooks/master_project/evaluation/wandb/run-20200501_110843-2bb19uir/wandb-metadata.json\n"
          ],
          "name": "stderr"
        },
        {
          "output_type": "stream",
          "text": [
            "\rRunning loss: 0.266777"
          ],
          "name": "stdout"
        },
        {
          "output_type": "stream",
          "text": [
            "INFO:wandb.run_manager:file/dir modified: /content/drive/My Drive/Colab Notebooks/master_project/evaluation/wandb/run-20200501_110843-2bb19uir/wandb-events.jsonl\n"
          ],
          "name": "stderr"
        },
        {
          "output_type": "stream",
          "text": [
            "Running loss: 0.396464"
          ],
          "name": "stdout"
        },
        {
          "output_type": "stream",
          "text": [
            "INFO:wandb.run_manager:file/dir modified: /content/drive/My Drive/Colab Notebooks/master_project/evaluation/wandb/run-20200501_110843-2bb19uir/wandb-history.jsonl\n",
            "INFO:wandb.run_manager:file/dir modified: /content/drive/My Drive/Colab Notebooks/master_project/evaluation/wandb/run-20200501_110843-2bb19uir/wandb-summary.json\n"
          ],
          "name": "stderr"
        },
        {
          "output_type": "stream",
          "text": [
            "Running loss: 0.287360"
          ],
          "name": "stdout"
        },
        {
          "output_type": "stream",
          "text": [
            "INFO:wandb.run_manager:file/dir modified: /content/drive/My Drive/Colab Notebooks/master_project/evaluation/wandb/run-20200501_110843-2bb19uir/wandb-metadata.json\n"
          ],
          "name": "stderr"
        },
        {
          "output_type": "stream",
          "text": [
            "Running loss: 0.228559"
          ],
          "name": "stdout"
        },
        {
          "output_type": "stream",
          "text": [
            "INFO:wandb.run_manager:file/dir modified: /content/drive/My Drive/Colab Notebooks/master_project/evaluation/wandb/run-20200501_110843-2bb19uir/wandb-history.jsonl\n",
            "INFO:wandb.run_manager:file/dir modified: /content/drive/My Drive/Colab Notebooks/master_project/evaluation/wandb/run-20200501_110843-2bb19uir/wandb-summary.json\n"
          ],
          "name": "stderr"
        },
        {
          "output_type": "stream",
          "text": [
            "Running loss: 0.384614"
          ],
          "name": "stdout"
        },
        {
          "output_type": "stream",
          "text": [
            "INFO:wandb.run_manager:file/dir modified: /content/drive/My Drive/Colab Notebooks/master_project/evaluation/wandb/run-20200501_110843-2bb19uir/wandb-events.jsonl\n"
          ],
          "name": "stderr"
        },
        {
          "output_type": "stream",
          "text": [
            "\rRunning loss: 0.273161"
          ],
          "name": "stdout"
        },
        {
          "output_type": "stream",
          "text": [
            "INFO:wandb.run_manager:file/dir modified: /content/drive/My Drive/Colab Notebooks/master_project/evaluation/wandb/run-20200501_110843-2bb19uir/wandb-metadata.json\n"
          ],
          "name": "stderr"
        },
        {
          "output_type": "stream",
          "text": [
            "Running loss: 0.290775"
          ],
          "name": "stdout"
        },
        {
          "output_type": "stream",
          "text": [
            "INFO:wandb.run_manager:file/dir modified: /content/drive/My Drive/Colab Notebooks/master_project/evaluation/wandb/run-20200501_110843-2bb19uir/wandb-history.jsonl\n",
            "INFO:wandb.run_manager:file/dir modified: /content/drive/My Drive/Colab Notebooks/master_project/evaluation/wandb/run-20200501_110843-2bb19uir/wandb-summary.json\n"
          ],
          "name": "stderr"
        },
        {
          "output_type": "stream",
          "text": [
            "Running loss: 0.078059"
          ],
          "name": "stdout"
        },
        {
          "output_type": "stream",
          "text": [
            "INFO:wandb.run_manager:file/dir modified: /content/drive/My Drive/Colab Notebooks/master_project/evaluation/wandb/run-20200501_110843-2bb19uir/wandb-metadata.json\n"
          ],
          "name": "stderr"
        },
        {
          "output_type": "stream",
          "text": [
            "Running loss: 0.249054"
          ],
          "name": "stdout"
        },
        {
          "output_type": "stream",
          "text": [
            "INFO:wandb.run_manager:file/dir modified: /content/drive/My Drive/Colab Notebooks/master_project/evaluation/wandb/run-20200501_110843-2bb19uir/wandb-history.jsonl\n",
            "INFO:wandb.run_manager:file/dir modified: /content/drive/My Drive/Colab Notebooks/master_project/evaluation/wandb/run-20200501_110843-2bb19uir/wandb-summary.json\n"
          ],
          "name": "stderr"
        },
        {
          "output_type": "stream",
          "text": [
            "Running loss: 0.502002"
          ],
          "name": "stdout"
        },
        {
          "output_type": "stream",
          "text": [
            "INFO:wandb.run_manager:file/dir modified: /content/drive/My Drive/Colab Notebooks/master_project/evaluation/wandb/run-20200501_110843-2bb19uir/wandb-events.jsonl\n"
          ],
          "name": "stderr"
        },
        {
          "output_type": "stream",
          "text": [
            "Running loss: 0.240152"
          ],
          "name": "stdout"
        },
        {
          "output_type": "stream",
          "text": [
            "INFO:wandb.run_manager:file/dir modified: /content/drive/My Drive/Colab Notebooks/master_project/evaluation/wandb/run-20200501_110843-2bb19uir/wandb-metadata.json\n"
          ],
          "name": "stderr"
        },
        {
          "output_type": "stream",
          "text": [
            "\rRunning loss: 0.274175"
          ],
          "name": "stdout"
        },
        {
          "output_type": "stream",
          "text": [
            "INFO:wandb.run_manager:file/dir modified: /content/drive/My Drive/Colab Notebooks/master_project/evaluation/wandb/run-20200501_110843-2bb19uir/wandb-history.jsonl\n",
            "INFO:wandb.run_manager:file/dir modified: /content/drive/My Drive/Colab Notebooks/master_project/evaluation/wandb/run-20200501_110843-2bb19uir/wandb-summary.json\n"
          ],
          "name": "stderr"
        },
        {
          "output_type": "stream",
          "text": [
            "Running loss: 0.418908"
          ],
          "name": "stdout"
        },
        {
          "output_type": "stream",
          "text": [
            "INFO:wandb.run_manager:file/dir modified: /content/drive/My Drive/Colab Notebooks/master_project/evaluation/wandb/run-20200501_110843-2bb19uir/wandb-history.jsonl\n",
            "INFO:wandb.run_manager:file/dir modified: /content/drive/My Drive/Colab Notebooks/master_project/evaluation/wandb/run-20200501_110843-2bb19uir/wandb-summary.json\n"
          ],
          "name": "stderr"
        },
        {
          "output_type": "stream",
          "text": [
            "\rRunning loss: 0.200756"
          ],
          "name": "stdout"
        },
        {
          "output_type": "stream",
          "text": [
            "INFO:wandb.run_manager:file/dir modified: /content/drive/My Drive/Colab Notebooks/master_project/evaluation/wandb/run-20200501_110843-2bb19uir/wandb-metadata.json\n"
          ],
          "name": "stderr"
        },
        {
          "output_type": "stream",
          "text": [
            "Running loss: 0.534485"
          ],
          "name": "stdout"
        },
        {
          "output_type": "stream",
          "text": [
            "INFO:wandb.run_manager:file/dir modified: /content/drive/My Drive/Colab Notebooks/master_project/evaluation/wandb/run-20200501_110843-2bb19uir/wandb-events.jsonl\n"
          ],
          "name": "stderr"
        },
        {
          "output_type": "stream",
          "text": [
            "Running loss: 0.263402"
          ],
          "name": "stdout"
        },
        {
          "output_type": "stream",
          "text": [
            "INFO:wandb.run_manager:file/dir modified: /content/drive/My Drive/Colab Notebooks/master_project/evaluation/wandb/run-20200501_110843-2bb19uir/wandb-metadata.json\n",
            "INFO:wandb.run_manager:file/dir modified: /content/drive/My Drive/Colab Notebooks/master_project/evaluation/wandb/run-20200501_110843-2bb19uir/wandb-history.jsonl\n",
            "INFO:wandb.run_manager:file/dir modified: /content/drive/My Drive/Colab Notebooks/master_project/evaluation/wandb/run-20200501_110843-2bb19uir/wandb-summary.json\n",
            "INFO:wandb.run_manager:file/dir modified: /content/drive/My Drive/Colab Notebooks/master_project/evaluation/wandb/run-20200501_110843-2bb19uir/wandb-metadata.json\n",
            "INFO:wandb.run_manager:file/dir modified: /content/drive/My Drive/Colab Notebooks/master_project/evaluation/wandb/run-20200501_110843-2bb19uir/wandb-events.jsonl\n",
            "INFO:wandb.run_manager:file/dir modified: /content/drive/My Drive/Colab Notebooks/master_project/evaluation/wandb/run-20200501_110843-2bb19uir/wandb-metadata.json\n",
            "INFO:wandb.run_manager:file/dir modified: /content/drive/My Drive/Colab Notebooks/master_project/evaluation/wandb/run-20200501_110843-2bb19uir/wandb-metadata.json\n",
            "INFO:wandb.run_manager:file/dir modified: /content/drive/My Drive/Colab Notebooks/master_project/evaluation/wandb/run-20200501_110843-2bb19uir/wandb-events.jsonl\n",
            "INFO:wandb.run_manager:file/dir modified: /content/drive/My Drive/Colab Notebooks/master_project/evaluation/wandb/run-20200501_110843-2bb19uir/wandb-metadata.json\n",
            "INFO:wandb.run_manager:file/dir modified: /content/drive/My Drive/Colab Notebooks/master_project/evaluation/wandb/run-20200501_110843-2bb19uir/wandb-metadata.json\n",
            "INFO:wandb.run_manager:file/dir modified: /content/drive/My Drive/Colab Notebooks/master_project/evaluation/wandb/run-20200501_110843-2bb19uir/wandb-events.jsonl\n",
            "INFO:wandb.run_manager:file/dir modified: /content/drive/My Drive/Colab Notebooks/master_project/evaluation/wandb/run-20200501_110843-2bb19uir/wandb-metadata.json\n",
            "INFO:wandb.run_manager:file/dir modified: /content/drive/My Drive/Colab Notebooks/master_project/evaluation/wandb/run-20200501_110843-2bb19uir/wandb-metadata.json\n",
            "INFO:wandb.run_manager:file/dir modified: /content/drive/My Drive/Colab Notebooks/master_project/evaluation/wandb/run-20200501_110843-2bb19uir/wandb-events.jsonl\n",
            "INFO:wandb.run_manager:file/dir modified: /content/drive/My Drive/Colab Notebooks/master_project/evaluation/wandb/run-20200501_110843-2bb19uir/wandb-metadata.json\n",
            "INFO:wandb.run_manager:file/dir modified: /content/drive/My Drive/Colab Notebooks/master_project/evaluation/wandb/run-20200501_110843-2bb19uir/wandb-metadata.json\n",
            "INFO:wandb.run_manager:file/dir modified: /content/drive/My Drive/Colab Notebooks/master_project/evaluation/wandb/run-20200501_110843-2bb19uir/wandb-events.jsonl\n",
            "INFO:wandb.run_manager:file/dir modified: /content/drive/My Drive/Colab Notebooks/master_project/evaluation/wandb/run-20200501_110843-2bb19uir/wandb-metadata.json\n",
            "INFO:wandb.run_manager:file/dir modified: /content/drive/My Drive/Colab Notebooks/master_project/evaluation/wandb/run-20200501_110843-2bb19uir/wandb-metadata.json\n",
            "INFO:wandb.run_manager:file/dir modified: /content/drive/My Drive/Colab Notebooks/master_project/evaluation/wandb/run-20200501_110843-2bb19uir/wandb-events.jsonl\n",
            "INFO:wandb.run_manager:file/dir modified: /content/drive/My Drive/Colab Notebooks/master_project/evaluation/wandb/run-20200501_110843-2bb19uir/wandb-metadata.json\n",
            "INFO:wandb.run_manager:file/dir modified: /content/drive/My Drive/Colab Notebooks/master_project/evaluation/wandb/run-20200501_110843-2bb19uir/wandb-metadata.json\n",
            "INFO:wandb.run_manager:file/dir modified: /content/drive/My Drive/Colab Notebooks/master_project/evaluation/wandb/run-20200501_110843-2bb19uir/wandb-events.jsonl\n",
            "INFO:wandb.run_manager:file/dir modified: /content/drive/My Drive/Colab Notebooks/master_project/evaluation/wandb/run-20200501_110843-2bb19uir/wandb-metadata.json\n",
            "INFO:wandb.run_manager:file/dir modified: /content/drive/My Drive/Colab Notebooks/master_project/evaluation/wandb/run-20200501_110843-2bb19uir/wandb-metadata.json\n",
            "INFO:wandb.run_manager:file/dir modified: /content/drive/My Drive/Colab Notebooks/master_project/evaluation/wandb/run-20200501_110843-2bb19uir/wandb-events.jsonl\n",
            "INFO:wandb.run_manager:file/dir modified: /content/drive/My Drive/Colab Notebooks/master_project/evaluation/wandb/run-20200501_110843-2bb19uir/wandb-metadata.json\n",
            "INFO:wandb.run_manager:file/dir modified: /content/drive/My Drive/Colab Notebooks/master_project/evaluation/wandb/run-20200501_110843-2bb19uir/wandb-events.jsonl\n",
            "INFO:wandb.run_manager:file/dir modified: /content/drive/My Drive/Colab Notebooks/master_project/evaluation/wandb/run-20200501_110843-2bb19uir/wandb-metadata.json\n",
            "INFO:wandb.run_manager:file/dir modified: /content/drive/My Drive/Colab Notebooks/master_project/evaluation/wandb/run-20200501_110843-2bb19uir/wandb-events.jsonl\n",
            "INFO:wandb.run_manager:file/dir modified: /content/drive/My Drive/Colab Notebooks/master_project/evaluation/wandb/run-20200501_110843-2bb19uir/wandb-metadata.json\n",
            "INFO:wandb.run_manager:file/dir modified: /content/drive/My Drive/Colab Notebooks/master_project/evaluation/wandb/run-20200501_110843-2bb19uir/wandb-events.jsonl\n",
            "INFO:wandb.run_manager:file/dir modified: /content/drive/My Drive/Colab Notebooks/master_project/evaluation/wandb/run-20200501_110843-2bb19uir/wandb-metadata.json\n",
            "INFO:wandb.run_manager:file/dir modified: /content/drive/My Drive/Colab Notebooks/master_project/evaluation/wandb/run-20200501_110843-2bb19uir/wandb-metadata.json\n",
            "INFO:wandb.run_manager:file/dir modified: /content/drive/My Drive/Colab Notebooks/master_project/evaluation/wandb/run-20200501_110843-2bb19uir/wandb-events.jsonl\n",
            "INFO:wandb.run_manager:file/dir modified: /content/drive/My Drive/Colab Notebooks/master_project/evaluation/wandb/run-20200501_110843-2bb19uir/wandb-metadata.json\n",
            "INFO:wandb.run_manager:file/dir modified: /content/drive/My Drive/Colab Notebooks/master_project/evaluation/wandb/run-20200501_110843-2bb19uir/wandb-metadata.json\n",
            "INFO:wandb.run_manager:file/dir modified: /content/drive/My Drive/Colab Notebooks/master_project/evaluation/wandb/run-20200501_110843-2bb19uir/wandb-events.jsonl\n",
            "INFO:wandb.run_manager:file/dir modified: /content/drive/My Drive/Colab Notebooks/master_project/evaluation/wandb/run-20200501_110843-2bb19uir/wandb-metadata.json\n",
            "INFO:wandb.run_manager:file/dir modified: /content/drive/My Drive/Colab Notebooks/master_project/evaluation/wandb/run-20200501_110843-2bb19uir/wandb-metadata.json\n",
            "INFO:wandb.run_manager:file/dir modified: /content/drive/My Drive/Colab Notebooks/master_project/evaluation/wandb/run-20200501_110843-2bb19uir/wandb-events.jsonl\n",
            "INFO:wandb.run_manager:file/dir modified: /content/drive/My Drive/Colab Notebooks/master_project/evaluation/wandb/run-20200501_110843-2bb19uir/wandb-metadata.json\n",
            "INFO:wandb.run_manager:file/dir modified: /content/drive/My Drive/Colab Notebooks/master_project/evaluation/wandb/run-20200501_110843-2bb19uir/wandb-metadata.json\n",
            "INFO:wandb.run_manager:file/dir modified: /content/drive/My Drive/Colab Notebooks/master_project/evaluation/wandb/run-20200501_110843-2bb19uir/wandb-events.jsonl\n",
            "INFO:wandb.run_manager:file/dir modified: /content/drive/My Drive/Colab Notebooks/master_project/evaluation/wandb/run-20200501_110843-2bb19uir/wandb-metadata.json\n",
            "INFO:wandb.run_manager:file/dir modified: /content/drive/My Drive/Colab Notebooks/master_project/evaluation/wandb/run-20200501_110843-2bb19uir/wandb-metadata.json\n",
            "INFO:wandb.run_manager:file/dir modified: /content/drive/My Drive/Colab Notebooks/master_project/evaluation/wandb/run-20200501_110843-2bb19uir/wandb-events.jsonl\n",
            "INFO:wandb.run_manager:file/dir modified: /content/drive/My Drive/Colab Notebooks/master_project/evaluation/wandb/run-20200501_110843-2bb19uir/wandb-metadata.json\n",
            "INFO:wandb.run_manager:file/dir modified: /content/drive/My Drive/Colab Notebooks/master_project/evaluation/wandb/run-20200501_110843-2bb19uir/wandb-metadata.json\n",
            "INFO:wandb.run_manager:file/dir modified: /content/drive/My Drive/Colab Notebooks/master_project/evaluation/wandb/run-20200501_110843-2bb19uir/wandb-events.jsonl\n",
            "INFO:wandb.run_manager:file/dir modified: /content/drive/My Drive/Colab Notebooks/master_project/evaluation/wandb/run-20200501_110843-2bb19uir/wandb-metadata.json\n",
            "INFO:wandb.run_manager:file/dir modified: /content/drive/My Drive/Colab Notebooks/master_project/evaluation/wandb/run-20200501_110843-2bb19uir/wandb-events.jsonl\n",
            "INFO:wandb.run_manager:file/dir modified: /content/drive/My Drive/Colab Notebooks/master_project/evaluation/wandb/run-20200501_110843-2bb19uir/wandb-metadata.json\n",
            "INFO:wandb.run_manager:file/dir modified: /content/drive/My Drive/Colab Notebooks/master_project/evaluation/wandb/run-20200501_110843-2bb19uir/wandb-metadata.json\n",
            "INFO:wandb.run_manager:file/dir modified: /content/drive/My Drive/Colab Notebooks/master_project/evaluation/wandb/run-20200501_110843-2bb19uir/wandb-events.jsonl\n",
            "INFO:wandb.run_manager:file/dir modified: /content/drive/My Drive/Colab Notebooks/master_project/evaluation/wandb/run-20200501_110843-2bb19uir/wandb-metadata.json\n",
            "INFO:wandb.run_manager:file/dir modified: /content/drive/My Drive/Colab Notebooks/master_project/evaluation/wandb/run-20200501_110843-2bb19uir/wandb-metadata.json\n",
            "INFO:wandb.run_manager:file/dir modified: /content/drive/My Drive/Colab Notebooks/master_project/evaluation/wandb/run-20200501_110843-2bb19uir/wandb-events.jsonl\n",
            "INFO:wandb.run_manager:file/dir modified: /content/drive/My Drive/Colab Notebooks/master_project/evaluation/wandb/run-20200501_110843-2bb19uir/wandb-metadata.json\n",
            "INFO:wandb.run_manager:file/dir modified: /content/drive/My Drive/Colab Notebooks/master_project/evaluation/wandb/run-20200501_110843-2bb19uir/wandb-metadata.json\n",
            "INFO:wandb.run_manager:file/dir modified: /content/drive/My Drive/Colab Notebooks/master_project/evaluation/wandb/run-20200501_110843-2bb19uir/wandb-events.jsonl\n",
            "INFO:wandb.run_manager:file/dir modified: /content/drive/My Drive/Colab Notebooks/master_project/evaluation/wandb/run-20200501_110843-2bb19uir/wandb-metadata.json\n",
            "INFO:wandb.run_manager:file/dir modified: /content/drive/My Drive/Colab Notebooks/master_project/evaluation/wandb/run-20200501_110843-2bb19uir/wandb-metadata.json\n",
            "INFO:wandb.run_manager:file/dir modified: /content/drive/My Drive/Colab Notebooks/master_project/evaluation/wandb/run-20200501_110843-2bb19uir/wandb-events.jsonl\n",
            "INFO:wandb.run_manager:file/dir modified: /content/drive/My Drive/Colab Notebooks/master_project/evaluation/wandb/run-20200501_110843-2bb19uir/wandb-metadata.json\n",
            "INFO:wandb.run_manager:file/dir modified: /content/drive/My Drive/Colab Notebooks/master_project/evaluation/wandb/run-20200501_110843-2bb19uir/wandb-metadata.json\n",
            "INFO:wandb.run_manager:file/dir modified: /content/drive/My Drive/Colab Notebooks/master_project/evaluation/wandb/run-20200501_110843-2bb19uir/wandb-events.jsonl\n",
            "INFO:wandb.run_manager:file/dir modified: /content/drive/My Drive/Colab Notebooks/master_project/evaluation/wandb/run-20200501_110843-2bb19uir/wandb-metadata.json\n",
            "INFO:simpletransformers.classification.classification_model: No improvement in eval_loss\n",
            "INFO:simpletransformers.classification.classification_model: Current step: 5\n",
            "INFO:simpletransformers.classification.classification_model: Early stopping patience: 5\n"
          ],
          "name": "stderr"
        },
        {
          "output_type": "stream",
          "text": [
            "\rRunning loss: 0.737638"
          ],
          "name": "stdout"
        },
        {
          "output_type": "stream",
          "text": [
            "INFO:wandb.run_manager:file/dir modified: /content/drive/My Drive/Colab Notebooks/master_project/evaluation/wandb/run-20200501_110843-2bb19uir/wandb-history.jsonl\n",
            "INFO:wandb.run_manager:file/dir modified: /content/drive/My Drive/Colab Notebooks/master_project/evaluation/wandb/run-20200501_110843-2bb19uir/wandb-summary.json\n"
          ],
          "name": "stderr"
        },
        {
          "output_type": "stream",
          "text": [
            "Running loss: 0.432948"
          ],
          "name": "stdout"
        },
        {
          "output_type": "stream",
          "text": [
            "INFO:wandb.run_manager:file/dir modified: /content/drive/My Drive/Colab Notebooks/master_project/evaluation/wandb/run-20200501_110843-2bb19uir/wandb-metadata.json\n"
          ],
          "name": "stderr"
        },
        {
          "output_type": "stream",
          "text": [
            "Running loss: 0.301280"
          ],
          "name": "stdout"
        },
        {
          "output_type": "stream",
          "text": [
            "INFO:wandb.run_manager:file/dir modified: /content/drive/My Drive/Colab Notebooks/master_project/evaluation/wandb/run-20200501_110843-2bb19uir/wandb-events.jsonl\n"
          ],
          "name": "stderr"
        },
        {
          "output_type": "stream",
          "text": [
            "Running loss: 0.322432"
          ],
          "name": "stdout"
        },
        {
          "output_type": "stream",
          "text": [
            "INFO:wandb.run_manager:file/dir modified: /content/drive/My Drive/Colab Notebooks/master_project/evaluation/wandb/run-20200501_110843-2bb19uir/wandb-history.jsonl\n",
            "INFO:wandb.run_manager:file/dir modified: /content/drive/My Drive/Colab Notebooks/master_project/evaluation/wandb/run-20200501_110843-2bb19uir/wandb-summary.json\n"
          ],
          "name": "stderr"
        },
        {
          "output_type": "stream",
          "text": [
            "Running loss: 0.472394"
          ],
          "name": "stdout"
        },
        {
          "output_type": "stream",
          "text": [
            "INFO:wandb.run_manager:file/dir modified: /content/drive/My Drive/Colab Notebooks/master_project/evaluation/wandb/run-20200501_110843-2bb19uir/wandb-metadata.json\n"
          ],
          "name": "stderr"
        },
        {
          "output_type": "stream",
          "text": [
            "Running loss: 0.163768"
          ],
          "name": "stdout"
        },
        {
          "output_type": "stream",
          "text": [
            "INFO:wandb.run_manager:file/dir modified: /content/drive/My Drive/Colab Notebooks/master_project/evaluation/wandb/run-20200501_110843-2bb19uir/wandb-history.jsonl\n",
            "INFO:wandb.run_manager:file/dir modified: /content/drive/My Drive/Colab Notebooks/master_project/evaluation/wandb/run-20200501_110843-2bb19uir/wandb-summary.json\n"
          ],
          "name": "stderr"
        },
        {
          "output_type": "stream",
          "text": [
            "Running loss: 0.414860"
          ],
          "name": "stdout"
        },
        {
          "output_type": "stream",
          "text": [
            "INFO:wandb.run_manager:file/dir modified: /content/drive/My Drive/Colab Notebooks/master_project/evaluation/wandb/run-20200501_110843-2bb19uir/wandb-metadata.json\n"
          ],
          "name": "stderr"
        },
        {
          "output_type": "stream",
          "text": [
            "Running loss: 0.587863"
          ],
          "name": "stdout"
        },
        {
          "output_type": "stream",
          "text": [
            "INFO:wandb.run_manager:file/dir modified: /content/drive/My Drive/Colab Notebooks/master_project/evaluation/wandb/run-20200501_110843-2bb19uir/wandb-events.jsonl\n"
          ],
          "name": "stderr"
        },
        {
          "output_type": "stream",
          "text": [
            "Running loss: 0.091482"
          ],
          "name": "stdout"
        },
        {
          "output_type": "stream",
          "text": [
            "INFO:wandb.run_manager:file/dir modified: /content/drive/My Drive/Colab Notebooks/master_project/evaluation/wandb/run-20200501_110843-2bb19uir/wandb-history.jsonl\n",
            "INFO:wandb.run_manager:file/dir modified: /content/drive/My Drive/Colab Notebooks/master_project/evaluation/wandb/run-20200501_110843-2bb19uir/wandb-summary.json\n"
          ],
          "name": "stderr"
        },
        {
          "output_type": "stream",
          "text": [
            "Running loss: 0.298773"
          ],
          "name": "stdout"
        },
        {
          "output_type": "stream",
          "text": [
            "INFO:wandb.run_manager:file/dir modified: /content/drive/My Drive/Colab Notebooks/master_project/evaluation/wandb/run-20200501_110843-2bb19uir/wandb-metadata.json\n"
          ],
          "name": "stderr"
        },
        {
          "output_type": "stream",
          "text": [
            "\rRunning loss: 0.327155"
          ],
          "name": "stdout"
        },
        {
          "output_type": "stream",
          "text": [
            "INFO:wandb.run_manager:file/dir modified: /content/drive/My Drive/Colab Notebooks/master_project/evaluation/wandb/run-20200501_110843-2bb19uir/wandb-events.jsonl\n"
          ],
          "name": "stderr"
        },
        {
          "output_type": "stream",
          "text": [
            "Running loss: 0.233360"
          ],
          "name": "stdout"
        },
        {
          "output_type": "stream",
          "text": [
            "INFO:wandb.run_manager:file/dir modified: /content/drive/My Drive/Colab Notebooks/master_project/evaluation/wandb/run-20200501_110843-2bb19uir/wandb-history.jsonl\n",
            "INFO:wandb.run_manager:file/dir modified: /content/drive/My Drive/Colab Notebooks/master_project/evaluation/wandb/run-20200501_110843-2bb19uir/wandb-summary.json\n"
          ],
          "name": "stderr"
        },
        {
          "output_type": "stream",
          "text": [
            "\rRunning loss: 0.300360"
          ],
          "name": "stdout"
        },
        {
          "output_type": "stream",
          "text": [
            "INFO:wandb.run_manager:file/dir modified: /content/drive/My Drive/Colab Notebooks/master_project/evaluation/wandb/run-20200501_110843-2bb19uir/wandb-summary.json\n"
          ],
          "name": "stderr"
        },
        {
          "output_type": "stream",
          "text": [
            "Running loss: 0.212300"
          ],
          "name": "stdout"
        },
        {
          "output_type": "stream",
          "text": [
            "INFO:wandb.run_manager:file/dir modified: /content/drive/My Drive/Colab Notebooks/master_project/evaluation/wandb/run-20200501_110843-2bb19uir/wandb-metadata.json\n"
          ],
          "name": "stderr"
        },
        {
          "output_type": "stream",
          "text": [
            "Running loss: 0.367494"
          ],
          "name": "stdout"
        },
        {
          "output_type": "stream",
          "text": [
            "INFO:wandb.run_manager:file/dir modified: /content/drive/My Drive/Colab Notebooks/master_project/evaluation/wandb/run-20200501_110843-2bb19uir/wandb-events.jsonl\n"
          ],
          "name": "stderr"
        },
        {
          "output_type": "stream",
          "text": [
            "Running loss: 0.365042"
          ],
          "name": "stdout"
        },
        {
          "output_type": "stream",
          "text": [
            "INFO:wandb.run_manager:file/dir modified: /content/drive/My Drive/Colab Notebooks/master_project/evaluation/wandb/run-20200501_110843-2bb19uir/wandb-history.jsonl\n",
            "INFO:wandb.run_manager:file/dir modified: /content/drive/My Drive/Colab Notebooks/master_project/evaluation/wandb/run-20200501_110843-2bb19uir/wandb-summary.json\n"
          ],
          "name": "stderr"
        },
        {
          "output_type": "stream",
          "text": [
            "Running loss: 0.396367"
          ],
          "name": "stdout"
        },
        {
          "output_type": "stream",
          "text": [
            "INFO:wandb.run_manager:file/dir modified: /content/drive/My Drive/Colab Notebooks/master_project/evaluation/wandb/run-20200501_110843-2bb19uir/wandb-metadata.json\n"
          ],
          "name": "stderr"
        },
        {
          "output_type": "stream",
          "text": [
            "Running loss: 0.183188"
          ],
          "name": "stdout"
        },
        {
          "output_type": "stream",
          "text": [
            "INFO:wandb.run_manager:file/dir modified: /content/drive/My Drive/Colab Notebooks/master_project/evaluation/wandb/run-20200501_110843-2bb19uir/wandb-history.jsonl\n",
            "INFO:wandb.run_manager:file/dir modified: /content/drive/My Drive/Colab Notebooks/master_project/evaluation/wandb/run-20200501_110843-2bb19uir/wandb-summary.json\n"
          ],
          "name": "stderr"
        },
        {
          "output_type": "stream",
          "text": [
            "Running loss: 0.280761"
          ],
          "name": "stdout"
        },
        {
          "output_type": "stream",
          "text": [
            "INFO:wandb.run_manager:file/dir modified: /content/drive/My Drive/Colab Notebooks/master_project/evaluation/wandb/run-20200501_110843-2bb19uir/wandb-history.jsonl\n"
          ],
          "name": "stderr"
        },
        {
          "output_type": "stream",
          "text": [
            "Running loss: 0.355299"
          ],
          "name": "stdout"
        },
        {
          "output_type": "stream",
          "text": [
            "INFO:wandb.run_manager:file/dir modified: /content/drive/My Drive/Colab Notebooks/master_project/evaluation/wandb/run-20200501_110843-2bb19uir/wandb-events.jsonl\n"
          ],
          "name": "stderr"
        },
        {
          "output_type": "stream",
          "text": [
            "Running loss: 0.180564"
          ],
          "name": "stdout"
        },
        {
          "output_type": "stream",
          "text": [
            "INFO:wandb.run_manager:file/dir modified: /content/drive/My Drive/Colab Notebooks/master_project/evaluation/wandb/run-20200501_110843-2bb19uir/wandb-metadata.json\n"
          ],
          "name": "stderr"
        },
        {
          "output_type": "stream",
          "text": [
            "Running loss: 0.372983"
          ],
          "name": "stdout"
        },
        {
          "output_type": "stream",
          "text": [
            "INFO:wandb.run_manager:file/dir modified: /content/drive/My Drive/Colab Notebooks/master_project/evaluation/wandb/run-20200501_110843-2bb19uir/wandb-history.jsonl\n",
            "INFO:wandb.run_manager:file/dir modified: /content/drive/My Drive/Colab Notebooks/master_project/evaluation/wandb/run-20200501_110843-2bb19uir/wandb-summary.json\n"
          ],
          "name": "stderr"
        },
        {
          "output_type": "stream",
          "text": [
            "Running loss: 0.433011"
          ],
          "name": "stdout"
        },
        {
          "output_type": "stream",
          "text": [
            "INFO:wandb.run_manager:file/dir modified: /content/drive/My Drive/Colab Notebooks/master_project/evaluation/wandb/run-20200501_110843-2bb19uir/wandb-metadata.json\n",
            "INFO:wandb.run_manager:file/dir modified: /content/drive/My Drive/Colab Notebooks/master_project/evaluation/wandb/run-20200501_110843-2bb19uir/wandb-history.jsonl\n",
            "INFO:wandb.run_manager:file/dir modified: /content/drive/My Drive/Colab Notebooks/master_project/evaluation/wandb/run-20200501_110843-2bb19uir/wandb-summary.json\n"
          ],
          "name": "stderr"
        },
        {
          "output_type": "stream",
          "text": [
            "Running loss: 0.447544"
          ],
          "name": "stdout"
        },
        {
          "output_type": "stream",
          "text": [
            "INFO:wandb.run_manager:file/dir modified: /content/drive/My Drive/Colab Notebooks/master_project/evaluation/wandb/run-20200501_110843-2bb19uir/wandb-events.jsonl\n"
          ],
          "name": "stderr"
        },
        {
          "output_type": "stream",
          "text": [
            "Running loss: 0.259897"
          ],
          "name": "stdout"
        },
        {
          "output_type": "stream",
          "text": [
            "INFO:wandb.run_manager:file/dir modified: /content/drive/My Drive/Colab Notebooks/master_project/evaluation/wandb/run-20200501_110843-2bb19uir/wandb-history.jsonl\n",
            "INFO:wandb.run_manager:file/dir modified: /content/drive/My Drive/Colab Notebooks/master_project/evaluation/wandb/run-20200501_110843-2bb19uir/wandb-summary.json\n"
          ],
          "name": "stderr"
        },
        {
          "output_type": "stream",
          "text": [
            "\rRunning loss: 0.300806"
          ],
          "name": "stdout"
        },
        {
          "output_type": "stream",
          "text": [
            "INFO:wandb.run_manager:file/dir modified: /content/drive/My Drive/Colab Notebooks/master_project/evaluation/wandb/run-20200501_110843-2bb19uir/wandb-metadata.json\n"
          ],
          "name": "stderr"
        },
        {
          "output_type": "stream",
          "text": [
            "Running loss: 0.258670"
          ],
          "name": "stdout"
        },
        {
          "output_type": "stream",
          "text": [
            "INFO:wandb.run_manager:file/dir modified: /content/drive/My Drive/Colab Notebooks/master_project/evaluation/wandb/run-20200501_110843-2bb19uir/wandb-metadata.json\n",
            "INFO:wandb.run_manager:file/dir modified: /content/drive/My Drive/Colab Notebooks/master_project/evaluation/wandb/run-20200501_110843-2bb19uir/wandb-metadata.json\n",
            "INFO:wandb.run_manager:file/dir modified: /content/drive/My Drive/Colab Notebooks/master_project/evaluation/wandb/run-20200501_110843-2bb19uir/wandb-history.jsonl\n",
            "INFO:wandb.run_manager:file/dir modified: /content/drive/My Drive/Colab Notebooks/master_project/evaluation/wandb/run-20200501_110843-2bb19uir/wandb-summary.json\n",
            "INFO:wandb.run_manager:file/dir modified: /content/drive/My Drive/Colab Notebooks/master_project/evaluation/wandb/run-20200501_110843-2bb19uir/wandb-events.jsonl\n",
            "INFO:wandb.run_manager:file/dir modified: /content/drive/My Drive/Colab Notebooks/master_project/evaluation/wandb/run-20200501_110843-2bb19uir/wandb-metadata.json\n",
            "INFO:wandb.run_manager:file/dir modified: /content/drive/My Drive/Colab Notebooks/master_project/evaluation/wandb/run-20200501_110843-2bb19uir/wandb-metadata.json\n",
            "INFO:wandb.run_manager:file/dir modified: /content/drive/My Drive/Colab Notebooks/master_project/evaluation/wandb/run-20200501_110843-2bb19uir/wandb-events.jsonl\n",
            "INFO:wandb.run_manager:file/dir modified: /content/drive/My Drive/Colab Notebooks/master_project/evaluation/wandb/run-20200501_110843-2bb19uir/wandb-metadata.json\n",
            "INFO:wandb.run_manager:file/dir modified: /content/drive/My Drive/Colab Notebooks/master_project/evaluation/wandb/run-20200501_110843-2bb19uir/wandb-metadata.json\n",
            "INFO:wandb.run_manager:file/dir modified: /content/drive/My Drive/Colab Notebooks/master_project/evaluation/wandb/run-20200501_110843-2bb19uir/wandb-events.jsonl\n",
            "INFO:wandb.run_manager:file/dir modified: /content/drive/My Drive/Colab Notebooks/master_project/evaluation/wandb/run-20200501_110843-2bb19uir/wandb-metadata.json\n",
            "INFO:wandb.run_manager:file/dir modified: /content/drive/My Drive/Colab Notebooks/master_project/evaluation/wandb/run-20200501_110843-2bb19uir/wandb-metadata.json\n",
            "INFO:wandb.run_manager:file/dir modified: /content/drive/My Drive/Colab Notebooks/master_project/evaluation/wandb/run-20200501_110843-2bb19uir/wandb-events.jsonl\n",
            "INFO:wandb.run_manager:file/dir modified: /content/drive/My Drive/Colab Notebooks/master_project/evaluation/wandb/run-20200501_110843-2bb19uir/wandb-metadata.json\n",
            "INFO:wandb.run_manager:file/dir modified: /content/drive/My Drive/Colab Notebooks/master_project/evaluation/wandb/run-20200501_110843-2bb19uir/wandb-metadata.json\n",
            "INFO:wandb.run_manager:file/dir modified: /content/drive/My Drive/Colab Notebooks/master_project/evaluation/wandb/run-20200501_110843-2bb19uir/wandb-events.jsonl\n",
            "INFO:wandb.run_manager:file/dir modified: /content/drive/My Drive/Colab Notebooks/master_project/evaluation/wandb/run-20200501_110843-2bb19uir/wandb-metadata.json\n",
            "INFO:wandb.run_manager:file/dir modified: /content/drive/My Drive/Colab Notebooks/master_project/evaluation/wandb/run-20200501_110843-2bb19uir/wandb-events.jsonl\n",
            "INFO:wandb.run_manager:file/dir modified: /content/drive/My Drive/Colab Notebooks/master_project/evaluation/wandb/run-20200501_110843-2bb19uir/wandb-metadata.json\n",
            "INFO:wandb.run_manager:file/dir modified: /content/drive/My Drive/Colab Notebooks/master_project/evaluation/wandb/run-20200501_110843-2bb19uir/wandb-events.jsonl\n",
            "INFO:wandb.run_manager:file/dir modified: /content/drive/My Drive/Colab Notebooks/master_project/evaluation/wandb/run-20200501_110843-2bb19uir/wandb-metadata.json\n",
            "INFO:wandb.run_manager:file/dir modified: /content/drive/My Drive/Colab Notebooks/master_project/evaluation/wandb/run-20200501_110843-2bb19uir/wandb-metadata.json\n",
            "INFO:wandb.run_manager:file/dir modified: /content/drive/My Drive/Colab Notebooks/master_project/evaluation/wandb/run-20200501_110843-2bb19uir/wandb-events.jsonl\n",
            "INFO:wandb.run_manager:file/dir modified: /content/drive/My Drive/Colab Notebooks/master_project/evaluation/wandb/run-20200501_110843-2bb19uir/wandb-metadata.json\n",
            "INFO:wandb.run_manager:file/dir modified: /content/drive/My Drive/Colab Notebooks/master_project/evaluation/wandb/run-20200501_110843-2bb19uir/wandb-metadata.json\n",
            "INFO:wandb.run_manager:file/dir modified: /content/drive/My Drive/Colab Notebooks/master_project/evaluation/wandb/run-20200501_110843-2bb19uir/wandb-events.jsonl\n",
            "INFO:wandb.run_manager:file/dir modified: /content/drive/My Drive/Colab Notebooks/master_project/evaluation/wandb/run-20200501_110843-2bb19uir/wandb-metadata.json\n",
            "INFO:wandb.run_manager:file/dir modified: /content/drive/My Drive/Colab Notebooks/master_project/evaluation/wandb/run-20200501_110843-2bb19uir/wandb-metadata.json\n",
            "INFO:wandb.run_manager:file/dir modified: /content/drive/My Drive/Colab Notebooks/master_project/evaluation/wandb/run-20200501_110843-2bb19uir/wandb-events.jsonl\n",
            "INFO:wandb.run_manager:file/dir modified: /content/drive/My Drive/Colab Notebooks/master_project/evaluation/wandb/run-20200501_110843-2bb19uir/wandb-metadata.json\n",
            "INFO:wandb.run_manager:file/dir modified: /content/drive/My Drive/Colab Notebooks/master_project/evaluation/wandb/run-20200501_110843-2bb19uir/wandb-metadata.json\n",
            "INFO:wandb.run_manager:file/dir modified: /content/drive/My Drive/Colab Notebooks/master_project/evaluation/wandb/run-20200501_110843-2bb19uir/wandb-events.jsonl\n",
            "INFO:wandb.run_manager:file/dir modified: /content/drive/My Drive/Colab Notebooks/master_project/evaluation/wandb/run-20200501_110843-2bb19uir/wandb-metadata.json\n",
            "INFO:wandb.run_manager:file/dir modified: /content/drive/My Drive/Colab Notebooks/master_project/evaluation/wandb/run-20200501_110843-2bb19uir/wandb-events.jsonl\n",
            "INFO:wandb.run_manager:file/dir modified: /content/drive/My Drive/Colab Notebooks/master_project/evaluation/wandb/run-20200501_110843-2bb19uir/wandb-metadata.json\n",
            "INFO:wandb.run_manager:file/dir modified: /content/drive/My Drive/Colab Notebooks/master_project/evaluation/wandb/run-20200501_110843-2bb19uir/wandb-metadata.json\n",
            "INFO:wandb.run_manager:file/dir modified: /content/drive/My Drive/Colab Notebooks/master_project/evaluation/wandb/run-20200501_110843-2bb19uir/wandb-events.jsonl\n",
            "INFO:wandb.run_manager:file/dir modified: /content/drive/My Drive/Colab Notebooks/master_project/evaluation/wandb/run-20200501_110843-2bb19uir/wandb-metadata.json\n",
            "INFO:wandb.run_manager:file/dir modified: /content/drive/My Drive/Colab Notebooks/master_project/evaluation/wandb/run-20200501_110843-2bb19uir/wandb-metadata.json\n",
            "INFO:wandb.run_manager:file/dir modified: /content/drive/My Drive/Colab Notebooks/master_project/evaluation/wandb/run-20200501_110843-2bb19uir/wandb-events.jsonl\n",
            "INFO:wandb.run_manager:file/dir modified: /content/drive/My Drive/Colab Notebooks/master_project/evaluation/wandb/run-20200501_110843-2bb19uir/wandb-metadata.json\n",
            "INFO:wandb.run_manager:file/dir modified: /content/drive/My Drive/Colab Notebooks/master_project/evaluation/wandb/run-20200501_110843-2bb19uir/wandb-metadata.json\n",
            "INFO:wandb.run_manager:file/dir modified: /content/drive/My Drive/Colab Notebooks/master_project/evaluation/wandb/run-20200501_110843-2bb19uir/wandb-events.jsonl\n",
            "INFO:wandb.run_manager:file/dir modified: /content/drive/My Drive/Colab Notebooks/master_project/evaluation/wandb/run-20200501_110843-2bb19uir/wandb-metadata.json\n",
            "INFO:wandb.run_manager:file/dir modified: /content/drive/My Drive/Colab Notebooks/master_project/evaluation/wandb/run-20200501_110843-2bb19uir/wandb-metadata.json\n",
            "INFO:wandb.run_manager:file/dir modified: /content/drive/My Drive/Colab Notebooks/master_project/evaluation/wandb/run-20200501_110843-2bb19uir/wandb-events.jsonl\n",
            "INFO:wandb.run_manager:file/dir modified: /content/drive/My Drive/Colab Notebooks/master_project/evaluation/wandb/run-20200501_110843-2bb19uir/wandb-metadata.json\n",
            "INFO:wandb.run_manager:file/dir modified: /content/drive/My Drive/Colab Notebooks/master_project/evaluation/wandb/run-20200501_110843-2bb19uir/wandb-metadata.json\n",
            "INFO:wandb.run_manager:file/dir modified: /content/drive/My Drive/Colab Notebooks/master_project/evaluation/wandb/run-20200501_110843-2bb19uir/wandb-events.jsonl\n",
            "INFO:wandb.run_manager:file/dir modified: /content/drive/My Drive/Colab Notebooks/master_project/evaluation/wandb/run-20200501_110843-2bb19uir/wandb-metadata.json\n",
            "INFO:wandb.run_manager:file/dir modified: /content/drive/My Drive/Colab Notebooks/master_project/evaluation/wandb/run-20200501_110843-2bb19uir/wandb-metadata.json\n",
            "INFO:wandb.run_manager:file/dir modified: /content/drive/My Drive/Colab Notebooks/master_project/evaluation/wandb/run-20200501_110843-2bb19uir/wandb-events.jsonl\n",
            "INFO:wandb.run_manager:file/dir modified: /content/drive/My Drive/Colab Notebooks/master_project/evaluation/wandb/run-20200501_110843-2bb19uir/wandb-metadata.json\n",
            "INFO:wandb.run_manager:file/dir modified: /content/drive/My Drive/Colab Notebooks/master_project/evaluation/wandb/run-20200501_110843-2bb19uir/wandb-metadata.json\n",
            "INFO:wandb.run_manager:file/dir modified: /content/drive/My Drive/Colab Notebooks/master_project/evaluation/wandb/run-20200501_110843-2bb19uir/wandb-events.jsonl\n",
            "INFO:wandb.run_manager:file/dir modified: /content/drive/My Drive/Colab Notebooks/master_project/evaluation/wandb/run-20200501_110843-2bb19uir/wandb-metadata.json\n",
            "INFO:wandb.run_manager:file/dir modified: /content/drive/My Drive/Colab Notebooks/master_project/evaluation/wandb/run-20200501_110843-2bb19uir/wandb-events.jsonl\n",
            "INFO:wandb.run_manager:file/dir modified: /content/drive/My Drive/Colab Notebooks/master_project/evaluation/wandb/run-20200501_110843-2bb19uir/wandb-metadata.json\n",
            "INFO:wandb.run_manager:file/dir modified: /content/drive/My Drive/Colab Notebooks/master_project/evaluation/wandb/run-20200501_110843-2bb19uir/wandb-metadata.json\n",
            "INFO:wandb.run_manager:file/dir modified: /content/drive/My Drive/Colab Notebooks/master_project/evaluation/wandb/run-20200501_110843-2bb19uir/wandb-events.jsonl\n",
            "INFO:wandb.run_manager:file/dir modified: /content/drive/My Drive/Colab Notebooks/master_project/evaluation/wandb/run-20200501_110843-2bb19uir/wandb-metadata.json\n",
            "INFO:wandb.run_manager:file/dir modified: /content/drive/My Drive/Colab Notebooks/master_project/evaluation/wandb/run-20200501_110843-2bb19uir/wandb-events.jsonl\n",
            "INFO:wandb.run_manager:file/dir modified: /content/drive/My Drive/Colab Notebooks/master_project/evaluation/wandb/run-20200501_110843-2bb19uir/wandb-metadata.json\n",
            "INFO:wandb.run_manager:file/dir modified: /content/drive/My Drive/Colab Notebooks/master_project/evaluation/wandb/run-20200501_110843-2bb19uir/wandb-events.jsonl\n",
            "INFO:wandb.run_manager:file/dir modified: /content/drive/My Drive/Colab Notebooks/master_project/evaluation/wandb/run-20200501_110843-2bb19uir/wandb-metadata.json\n",
            "INFO:wandb.run_manager:file/dir modified: /content/drive/My Drive/Colab Notebooks/master_project/evaluation/wandb/run-20200501_110843-2bb19uir/wandb-metadata.json\n",
            "INFO:wandb.run_manager:file/dir modified: /content/drive/My Drive/Colab Notebooks/master_project/evaluation/wandb/run-20200501_110843-2bb19uir/wandb-events.jsonl\n",
            "INFO:wandb.run_manager:file/dir modified: /content/drive/My Drive/Colab Notebooks/master_project/evaluation/wandb/run-20200501_110843-2bb19uir/wandb-metadata.json\n",
            "INFO:wandb.run_manager:file/dir modified: /content/drive/My Drive/Colab Notebooks/master_project/evaluation/wandb/run-20200501_110843-2bb19uir/wandb-metadata.json\n",
            "INFO:wandb.run_manager:file/dir modified: /content/drive/My Drive/Colab Notebooks/master_project/evaluation/wandb/run-20200501_110843-2bb19uir/wandb-events.jsonl\n",
            "INFO:simpletransformers.classification.classification_model: Patience of 5 steps reached\n",
            "INFO:simpletransformers.classification.classification_model: Training terminated.\n"
          ],
          "name": "stderr"
        },
        {
          "output_type": "stream",
          "text": [
            "\n"
          ],
          "name": "stdout"
        },
        {
          "output_type": "stream",
          "text": [
            "INFO:wandb.run_manager:file/dir modified: /content/drive/My Drive/Colab Notebooks/master_project/evaluation/wandb/run-20200501_110843-2bb19uir/wandb-history.jsonl\n",
            "INFO:wandb.run_manager:file/dir modified: /content/drive/My Drive/Colab Notebooks/master_project/evaluation/wandb/run-20200501_110843-2bb19uir/wandb-summary.json\n",
            "INFO:simpletransformers.classification.classification_model: Training of roberta model complete. Saved to outputs/roberta_roberta-large_10.\n",
            "INFO:wandb.run_manager:shutting down system stats and metadata service\n",
            "INFO:wandb.run_manager:stopping streaming files and file change observer\n",
            "INFO:wandb.run_manager:file/dir modified: /content/drive/My Drive/Colab Notebooks/master_project/evaluation/wandb/run-20200501_110843-2bb19uir/wandb-events.jsonl\n",
            "INFO:wandb.run_manager:file/dir modified: /content/drive/My Drive/Colab Notebooks/master_project/evaluation/wandb/run-20200501_110843-2bb19uir/wandb-metadata.json\n"
          ],
          "name": "stderr"
        }
      ]
    },
    {
      "cell_type": "code",
      "metadata": {
        "id": "VxrrQEBGOzCW",
        "outputId": "c0bbe66f-b802-495c-cb75-9d441a34e313",
        "colab": {
          "base_uri": "https://localhost:8080/",
          "height": 149,
          "referenced_widgets": [
            "cfac099e9cad459e80bf99b342599297",
            "ad761d4452524792a21e46e9091ebd5a",
            "6e3b65f22d3c413caad3f3d5973cee90",
            "213103fcf24b4b2c87e82f829674a33e",
            "ba5613b9ca7e47719448630eeec8fe7d",
            "56e81b11220644fcb94c7f9fe6a1336d",
            "864362fc46664b779c0c13e22f7b4114",
            "4be14970b5904dad9430946244c7e80b",
            "664b8ec8482e4ce88b3dd8fb35163702",
            "136c8ea2a509459ebc9da2ec0620736e",
            "97148b312ca04f3da54ea3fa1e01bf2b",
            "d0ff9767a4b046b1a0162c84e2b8a495",
            "f6e4b1a868e94296a7a5314c2cad4a83",
            "68e56a9559c94fa8a32b8da7d269226c",
            "33101fd084054784bbf1c4e9238f8d2d",
            "a2a3adccfbdf451eb7ef368ec55cfcc2"
          ]
        }
      },
      "source": [
        "# Evaluate the model\n",
        "result, model_outputs, wrong_predictions = model.eval_model(df_val)"
      ],
      "execution_count": null,
      "outputs": [
        {
          "output_type": "stream",
          "text": [
            "INFO:simpletransformers.classification.classification_model: Converting to features started. Cache is not used.\n"
          ],
          "name": "stderr"
        },
        {
          "output_type": "display_data",
          "data": {
            "application/vnd.jupyter.widget-view+json": {
              "model_id": "cfac099e9cad459e80bf99b342599297",
              "version_minor": 0,
              "version_major": 2
            },
            "text/plain": [
              "HBox(children=(IntProgress(value=0, max=50000), HTML(value='')))"
            ]
          },
          "metadata": {
            "tags": []
          }
        },
        {
          "output_type": "stream",
          "text": [
            "\n"
          ],
          "name": "stdout"
        },
        {
          "output_type": "display_data",
          "data": {
            "application/vnd.jupyter.widget-view+json": {
              "model_id": "664b8ec8482e4ce88b3dd8fb35163702",
              "version_minor": 0,
              "version_major": 2
            },
            "text/plain": [
              "HBox(children=(IntProgress(value=0, max=3125), HTML(value='')))"
            ]
          },
          "metadata": {
            "tags": []
          }
        },
        {
          "output_type": "stream",
          "text": [
            "INFO:simpletransformers.classification.classification_model:{'mcc': 0.6917844134983688, 'tp': 21209, 'tn': 21075, 'fp': 4255, 'fn': 3461, 'eval_loss': 0.3711551065671444}\n"
          ],
          "name": "stderr"
        },
        {
          "output_type": "stream",
          "text": [
            "\n"
          ],
          "name": "stdout"
        }
      ]
    },
    {
      "cell_type": "code",
      "metadata": {
        "id": "HG8e7v3BpMrB"
      },
      "source": [
        "y_pred = np.array([np.argmax(probability) for probability in model_outputs])"
      ],
      "execution_count": null,
      "outputs": []
    },
    {
      "cell_type": "code",
      "metadata": {
        "id": "Wu9wA1RnQKWu"
      },
      "source": [
        "with open(\"outputs/\" + model_type + \"_\" + model_name + \"_\" + str(epochs) +\"/results_\" + model_type + \"_\" + model_name + \"_\" + str(epochs) + \".txt\", \"w\") as f:\n",
        "    for line in y_pred:\n",
        "        f.write(str(line) + \"\\n\")"
      ],
      "execution_count": null,
      "outputs": []
    },
    {
      "cell_type": "code",
      "metadata": {
        "id": "vQAe78zTpjYh",
        "outputId": "a135d67f-383f-4730-9ec2-ba4192b96164",
        "colab": {
          "base_uri": "https://localhost:8080/"
        }
      },
      "source": [
        "target_names = ['negative', 'positive']\n",
        "print(classification_report(y_val, y_pred, target_names=target_names))"
      ],
      "execution_count": null,
      "outputs": [
        {
          "output_type": "stream",
          "text": [
            "              precision    recall  f1-score   support\n",
            "\n",
            "    negative       0.86      0.83      0.85     25330\n",
            "    positive       0.83      0.86      0.85     24670\n",
            "\n",
            "    accuracy                           0.85     50000\n",
            "   macro avg       0.85      0.85      0.85     50000\n",
            "weighted avg       0.85      0.85      0.85     50000\n",
            "\n"
          ],
          "name": "stdout"
        }
      ]
    },
    {
      "cell_type": "code",
      "metadata": {
        "id": "VR0XNLG4prhY"
      },
      "source": [
        "#predictions, raw_outputs = model.predict(['Some arbitary sentence']"
      ],
      "execution_count": null,
      "outputs": []
    }
  ]
}